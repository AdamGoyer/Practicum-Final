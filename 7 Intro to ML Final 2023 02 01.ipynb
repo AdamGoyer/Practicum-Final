{
 "cells": [
  {
   "cell_type": "markdown",
   "metadata": {},
   "source": [
    "<div class=\"alert alert-success\">\n",
    "<b>Reviewer's comment V4</b>\n",
    "\n",
    "Thanks for taking the time to improve the project! Now it is accepted, and you can move on to the next sprint. Keep up the good work! :)\n",
    "\n",
    "</div>"
   ]
  },
  {
   "cell_type": "markdown",
   "metadata": {},
   "source": [
    "# Sprint 7. Introduction to Machine Learning"
   ]
  },
  {
   "cell_type": "markdown",
   "metadata": {},
   "source": [
    "## Project description\n",
    "Mobile carrier Megaline has found out that many of their subscribers use legacy plans. They want to develop a model that would analyze subscribers' behavior and recommend one of Megaline's newer plans: Smart or Ultra.\n",
    "You have access to behavior data about subscribers who have already switched to the new plans (from the project for the Statistical Data Analysis course). For this classification task, you need to develop a model that will pick the right plan. Since you’ve already performed the data preprocessing step, you can move straight to creating the model.\n",
    "Develop a model with the highest possible accuracy. In this project, the threshold for accuracy is 0.75. Check the accuracy using the test dataset."
   ]
  },
  {
   "cell_type": "markdown",
   "metadata": {},
   "source": []
  },
  {
   "cell_type": "code",
   "execution_count": 1,
   "metadata": {},
   "outputs": [],
   "source": [
    "# Load Common libraries\n",
    "import os\n",
    "import pandas as pd\n",
    "import numpy as np\n",
    "# Matplotlib and Seaborn for plotting\n",
    "import matplotlib.pyplot as plt\n",
    "# fastai\n",
    "#from fastai.tabular import *\n",
    "#from fastai.tabular.all import *\n",
    "# Sklearn\n",
    "from sklearn.model_selection import train_test_split\n",
    "from sklearn.linear_model import LinearRegression\t\n",
    "from sklearn.metrics import mean_squared_error\n",
    "from sklearn.model_selection import GridSearchCV\n",
    "from sklearn.linear_model import LogisticRegression\n",
    "from sklearn.ensemble import RandomForestClassifier\n",
    "from sklearn.tree import DecisionTreeClassifier\n",
    "from sklearn.neighbors import KNeighborsClassifier\n",
    "from sklearn.metrics import plot_confusion_matrix, plot_roc_curve, plot_precision_recall_curve\n",
    "\n"
   ]
  },
  {
   "cell_type": "markdown",
   "metadata": {},
   "source": [
    "# Step 1: Download the data and save it locally\n",
    "Open and look through the data file. Path to the file:datasets/users_behavior.csv Download dataset"
   ]
  },
  {
   "cell_type": "code",
   "execution_count": 2,
   "metadata": {},
   "outputs": [
    {
     "data": {
      "text/html": [
       "<div>\n",
       "<style scoped>\n",
       "    .dataframe tbody tr th:only-of-type {\n",
       "        vertical-align: middle;\n",
       "    }\n",
       "\n",
       "    .dataframe tbody tr th {\n",
       "        vertical-align: top;\n",
       "    }\n",
       "\n",
       "    .dataframe thead th {\n",
       "        text-align: right;\n",
       "    }\n",
       "</style>\n",
       "<table border=\"1\" class=\"dataframe\">\n",
       "  <thead>\n",
       "    <tr style=\"text-align: right;\">\n",
       "      <th></th>\n",
       "      <th>calls</th>\n",
       "      <th>minutes</th>\n",
       "      <th>messages</th>\n",
       "      <th>mb_used</th>\n",
       "      <th>is_ultra</th>\n",
       "    </tr>\n",
       "  </thead>\n",
       "  <tbody>\n",
       "    <tr>\n",
       "      <th>0</th>\n",
       "      <td>40.0</td>\n",
       "      <td>311.90</td>\n",
       "      <td>83.0</td>\n",
       "      <td>19915.42</td>\n",
       "      <td>0</td>\n",
       "    </tr>\n",
       "    <tr>\n",
       "      <th>1</th>\n",
       "      <td>85.0</td>\n",
       "      <td>516.75</td>\n",
       "      <td>56.0</td>\n",
       "      <td>22696.96</td>\n",
       "      <td>0</td>\n",
       "    </tr>\n",
       "    <tr>\n",
       "      <th>2</th>\n",
       "      <td>77.0</td>\n",
       "      <td>467.66</td>\n",
       "      <td>86.0</td>\n",
       "      <td>21060.45</td>\n",
       "      <td>0</td>\n",
       "    </tr>\n",
       "    <tr>\n",
       "      <th>3</th>\n",
       "      <td>106.0</td>\n",
       "      <td>745.53</td>\n",
       "      <td>81.0</td>\n",
       "      <td>8437.39</td>\n",
       "      <td>1</td>\n",
       "    </tr>\n",
       "    <tr>\n",
       "      <th>4</th>\n",
       "      <td>66.0</td>\n",
       "      <td>418.74</td>\n",
       "      <td>1.0</td>\n",
       "      <td>14502.75</td>\n",
       "      <td>0</td>\n",
       "    </tr>\n",
       "  </tbody>\n",
       "</table>\n",
       "</div>"
      ],
      "text/plain": [
       "   calls  minutes  messages   mb_used  is_ultra\n",
       "0   40.0   311.90      83.0  19915.42         0\n",
       "1   85.0   516.75      56.0  22696.96         0\n",
       "2   77.0   467.66      86.0  21060.45         0\n",
       "3  106.0   745.53      81.0   8437.39         1\n",
       "4   66.0   418.74       1.0  14502.75         0"
      ]
     },
     "execution_count": 2,
     "metadata": {},
     "output_type": "execute_result"
    }
   ],
   "source": [
    "try:\n",
    "    df = pd.read_csv('https://code.s3.yandex.net//datasets/users_behavior.csv')\n",
    "except:\n",
    "    df= pd.read_csv('https://code.s3.yandex.net//datasets/users_behavior.csv')\n",
    "df.head()\n",
    "\n",
    "\n"
   ]
  },
  {
   "cell_type": "markdown",
   "metadata": {},
   "source": [
    "## Data description\n",
    "Every observation in the dataset contains monthly behavior information about one user. The information given is as follows:\n",
    "* сalls — number of calls, <br>\n",
    "* minutes — total call duration in minutes, <br>\n",
    "* messages — number of text messages, <br>\n",
    "* mb_used — Internet traffic used in MB, <br>\n",
    "* is_ultra — plan for the current month (Ultra - 1, Smart - 0). <br>"
   ]
  },
  {
   "cell_type": "markdown",
   "metadata": {},
   "source": [
    "# Step 2: Preprocess the data\n",
    "Split the source data into a training set, a validation set, and a test set."
   ]
  },
  {
   "cell_type": "code",
   "execution_count": 3,
   "metadata": {},
   "outputs": [],
   "source": [
    "# The Header and data types look correct. \n",
    "\n",
    "# df.head()\n",
    "# df.info()"
   ]
  },
  {
   "cell_type": "code",
   "execution_count": 4,
   "metadata": {},
   "outputs": [],
   "source": [
    "# Split source data into training and test sets\n",
    "X_train, X_test, y_train, y_test = train_test_split(df[['calls', 'minutes', 'messages', 'mb_used']], df['is_ultra'], test_size=0.2, random_state=42)\n",
    "\n",
    "# Split the training set into a training and validation set\n",
    "X_train, X_val, y_train, y_val = train_test_split(X_train, y_train, test_size=0.2, random_state=42)\n"
   ]
  },
  {
   "cell_type": "markdown",
   "metadata": {},
   "source": [
    "In this example, X and y are the source data, test_size is the proportion of the data that should be in the test set, and random_state is the seed for the random number generator used to split the data. <br>\n",
    "The Header and data types look correct and ready for pre-processing and loading into the data loader"
   ]
  },
  {
   "cell_type": "markdown",
   "metadata": {},
   "source": [
    "<div class=\"alert alert-success\">\n",
    "<b>Reviewer's comment V3</b>\n",
    "\n",
    "The data was split into train, validation and test sets. The proportions are reasonable\n",
    "\n",
    "</div>"
   ]
  },
  {
   "cell_type": "markdown",
   "metadata": {},
   "source": [
    "# Step 3: Investigate the quality of different models by changing hyperparameters. Briefly describe the findings of the study."
   ]
  },
  {
   "cell_type": "code",
   "execution_count": 5,
   "metadata": {},
   "outputs": [
    {
     "data": {
      "text/plain": [
       "GridSearchCV(cv=5, estimator=LogisticRegression(solver='liblinear'),\n",
       "             param_grid={'C': [0.1, 1, 10], 'penalty': ['l1', 'l2']})"
      ]
     },
     "execution_count": 5,
     "metadata": {},
     "output_type": "execute_result"
    }
   ],
   "source": [
    "# Define the hyperparameters and their possible values\n",
    "param_grid = {'C': [0.1, 1, 10], 'penalty': ['l1', 'l2']}\n",
    "# param_grid = {'C': [0.1, 1, 10], 'penalty': ['l2']}\n",
    "\n",
    "\n",
    "# Create a logistic regression model\n",
    "# logistic = LogisticRegression()\n",
    "logistic = LogisticRegression(solver='liblinear')\n",
    "\n",
    "# Create a GridSearchCV object\n",
    "grid_search = GridSearchCV(logistic, param_grid, cv=5)\n",
    "\n",
    "# Fit the grid search object to the data\n",
    "grid_search.fit(X_train, y_train)\n"
   ]
  },
  {
   "cell_type": "markdown",
   "metadata": {},
   "source": [
    "In this example, I'm using a logistic regression model and the grid search is trying different values of the C and penalty hyperparameters. <br>\n",
    "The cv parameter is the number of folds in a (Stratified)KFold or an iterable providing train/test indices."
   ]
  },
  {
   "cell_type": "code",
   "execution_count": 6,
   "metadata": {},
   "outputs": [],
   "source": [
    "clf = RandomForestClassifier()\n",
    "param_grid = { \n",
    "    'n_estimators': [200, 500],\n",
    "    'max_features': ['auto', 'sqrt', 'log2'],\n",
    "    'max_depth' : [4,5,6,7,8],\n",
    "    'criterion' :['gini', 'entropy']\n",
    "}\n"
   ]
  },
  {
   "cell_type": "code",
   "execution_count": 7,
   "metadata": {},
   "outputs": [
    {
     "data": {
      "text/plain": [
       "GridSearchCV(cv=5, estimator=RandomForestClassifier(),\n",
       "             param_grid={'max_depth': [None, 5, 10],\n",
       "                         'n_estimators': [10, 50, 100]})"
      ]
     },
     "execution_count": 7,
     "metadata": {},
     "output_type": "execute_result"
    }
   ],
   "source": [
    "# Define the hyperparameters and their possible values for RandomForestClassifier\n",
    "param_grid_rf = {'n_estimators': [10, 50, 100], 'max_depth': [None, 5, 10]}\n",
    "\n",
    "# Create a RandomForestClassifier model\n",
    "rf = RandomForestClassifier()\n",
    "\n",
    "# Create a GridSearchCV object\n",
    "grid_search_rf = GridSearchCV(rf, param_grid_rf, cv=5)\n",
    "\n",
    "# Fit the grid search object to the data\n",
    "grid_search_rf.fit(X_train, y_train)"
   ]
  },
  {
   "cell_type": "markdown",
   "metadata": {},
   "source": [
    "This code is similar to the previous example, but it's using different models and different hyperparameters.\n",
    "Here, in the first block of code I'm using RandomForestClassifier and trying different values of the n_estimators and max_depth hyperparameters."
   ]
  },
  {
   "cell_type": "code",
   "execution_count": 8,
   "metadata": {},
   "outputs": [
    {
     "data": {
      "text/plain": [
       "GridSearchCV(cv=5, estimator=DecisionTreeClassifier(),\n",
       "             param_grid={'max_depth': [None, 5, 10],\n",
       "                         'min_samples_split': [2, 5]})"
      ]
     },
     "execution_count": 8,
     "metadata": {},
     "output_type": "execute_result"
    }
   ],
   "source": [
    "# Define the hyperparameters and their possible values for DecisionTreeClassifier\n",
    "param_grid_dt = {'max_depth': [None, 5, 10], 'min_samples_split': [2, 5]}\n",
    "\n",
    "# Create a DecisionTreeClassifier model\n",
    "dt = DecisionTreeClassifier()\n",
    "\n",
    "# Create a GridSearchCV object\n",
    "grid_search_dt = GridSearchCV(dt, param_grid_dt, cv=5)\n",
    "\n",
    "# Fit the grid search object to the data\n",
    "grid_search_dt.fit(X_train, y_train)"
   ]
  },
  {
   "cell_type": "markdown",
   "metadata": {},
   "source": [
    " In the second block of code I'm using DecisionTreeClassifier and trying different values of the max_depth and min_samples_split hyperparameters."
   ]
  },
  {
   "cell_type": "code",
   "execution_count": 9,
   "metadata": {},
   "outputs": [
    {
     "data": {
      "text/plain": [
       "GridSearchCV(cv=5, estimator=KNeighborsClassifier(),\n",
       "             param_grid={'n_neighbors': [3, 5, 7],\n",
       "                         'weights': ['uniform', 'distance']})"
      ]
     },
     "execution_count": 9,
     "metadata": {},
     "output_type": "execute_result"
    }
   ],
   "source": [
    "# Define the hyperparameters and their possible values for KNeighborsClassifier\n",
    "param_grid_knn = {'n_neighbors': [3, 5, 7], 'weights': ['uniform', 'distance']}\n",
    "\n",
    "# Create a KNeighborsClassifier model\n",
    "knn = KNeighborsClassifier()\n",
    "\n",
    "# Create a GridSearchCV object\n",
    "grid_search_knn = GridSearchCV(knn, param_grid_knn, cv=5)\n",
    "\n",
    "# Fit the grid search object to the data\n",
    "grid_search_knn.fit(X_train, y_train)"
   ]
  },
  {
   "cell_type": "markdown",
   "metadata": {},
   "source": [
    "And in the last block of code, I'm using KNeighborsClassifier and trying different values of the n_neighbors and weights hyperparameters."
   ]
  },
  {
   "cell_type": "code",
   "execution_count": 10,
   "metadata": {},
   "outputs": [
    {
     "name": "stdout",
     "output_type": "stream",
     "text": [
      "Best parameters for RandomForestClassifier: {'max_depth': 10, 'n_estimators': 50}\n",
      "Best score for RandomForestClassifier: 0.8049831101032291\n",
      "Best parameters for DecisionTreeClassifier: {'max_depth': 5, 'min_samples_split': 5}\n",
      "Best score for DecisionTreeClassifier: 0.7811518200930716\n",
      "Best parameters for KNeighborsClassifier: {'n_neighbors': 7, 'weights': 'uniform'}\n",
      "Best score for KNeighborsClassifier: 0.7461247726360051\n"
     ]
    }
   ],
   "source": [
    "# RandomForestClassifier\n",
    "print(f'Best parameters for RandomForestClassifier: {grid_search_rf.best_params_}')\n",
    "print(f'Best score for RandomForestClassifier: {grid_search_rf.best_score_}')\n",
    "\n",
    "# DecisionTreeClassifier\n",
    "print(f'Best parameters for DecisionTreeClassifier: {grid_search_dt.best_params_}')\n",
    "print(f'Best score for DecisionTreeClassifier: {grid_search_dt.best_score_}')\n",
    "\n",
    "# KNeighborsClassifier\n",
    "print(f'Best parameters for KNeighborsClassifier: {grid_search_knn.best_params_}')\n",
    "print(f'Best score for KNeighborsClassifier: {grid_search_knn.best_score_}')\n"
   ]
  },
  {
   "cell_type": "markdown",
   "metadata": {},
   "source": [
    "The best_params_ attribute returns a dictionary containing the best combination of hyperparameters found by the grid search.\n",
    "The best_score_ attribute returns the best mean cross-validated score achieved by the grid search."
   ]
  },
  {
   "cell_type": "markdown",
   "metadata": {},
   "source": [
    "<div class=\"alert alert-success\">\n",
    "<b>Reviewer's comment V3</b>\n",
    "\n",
    "Great, you tried a couple of different models and did some hyperparameter tuning. It's cool that you used cross-validation!\n",
    "\n",
    "</div>"
   ]
  },
  {
   "cell_type": "markdown",
   "metadata": {},
   "source": [
    "# Step 4. Check the quality of the model using the test set."
   ]
  },
  {
   "cell_type": "markdown",
   "metadata": {},
   "source": [
    "## 4.1 Random Forest Classifier"
   ]
  },
  {
   "cell_type": "code",
   "execution_count": 11,
   "metadata": {},
   "outputs": [
    {
     "name": "stdout",
     "output_type": "stream",
     "text": [
      "Accuracy: 0.820\n",
      "Precision: 0.795\n",
      "Recall: 0.516\n",
      "F1-score: 0.626\n",
      "ROC-AUC: 0.835\n"
     ]
    }
   ],
   "source": [
    "# Use the best parameters found by the grid search to create a new RandomForestClassifier model\n",
    "best_rf = RandomForestClassifier(**grid_search_rf.best_params_)\n",
    "\n",
    "# Fit the best model to the entire training set\n",
    "best_rf.fit(X_train, y_train)\n",
    "\n",
    "# Make predictions on the test set\n",
    "y_pred_test = best_rf.predict(X_test)\n",
    "\n",
    "# Create a prediction for ROC-AUC using probability instead of a binary call (predict_proba)\n",
    "y_pred_proba = best_rf.predict_proba(X_test)[:, 1]\n",
    "\n",
    "# Compute accuracy, precision, recall, F1-score, and ROC-AUC\n",
    "from sklearn.metrics import accuracy_score, precision_score, recall_score, f1_score, roc_auc_score\n",
    "\n",
    "acc = accuracy_score(y_test, y_pred_test)\n",
    "prec = precision_score(y_test, y_pred_test)\n",
    "rec = recall_score(y_test, y_pred_test)\n",
    "f1 = f1_score(y_test, y_pred_test)\n",
    "#roc_auc = roc_auc_score(y_test, y_pred_test)\n",
    "# Update ROC-AUC using probability instead of a binary call (predict_proba)\n",
    "roc_auc = roc_auc_score(y_test, y_pred_proba)\n",
    "\n",
    "\n",
    "print(f'Accuracy: {acc:.3f}')\n",
    "print(f'Precision: {prec:.3f}')\n",
    "print(f'Recall: {rec:.3f}')\n",
    "print(f'F1-score: {f1:.3f}')\n",
    "print(f'ROC-AUC: {roc_auc:.3f}')\n"
   ]
  },
  {
   "cell_type": "markdown",
   "metadata": {},
   "source": [
    "This code uses the best parameters found by the grid search to create a new RandomForestClassifier model, fit it to the entire training set, make predictions on the test set, and then compute various evaluation metrics such as accuracy, precision, recall, F1-score, and ROC-AUC."
   ]
  },
  {
   "cell_type": "code",
   "execution_count": 12,
   "metadata": {},
   "outputs": [
    {
     "data": {
      "image/png": "[encoded data removed]",
      "text/plain": [
       "<Figure size 864x864 with 4 Axes>"
      ]
     },
     "metadata": {
      "needs_background": "light"
     },
     "output_type": "display_data"
    }
   ],
   "source": [
    "# Create a figure with 3 rows and 1 columns\n",
    "fig, ax = plt.subplots(3, 1, figsize=(12, 12))\n",
    "\n",
    "# Plot the confusion matrix on the first subplot\n",
    "plot_confusion_matrix(best_rf, X_test, y_test, cmap='Blues', ax=ax[0])\n",
    "ax[0].set_title(\"Confusion Matrix for Random Forest\")\n",
    "\n",
    "# Plot the ROC-curve on the second subplot\n",
    "plot_roc_curve(best_rf, X_test, y_test, ax=ax[1])\n",
    "ax[1].set_title(\"ROC Curve for Random Forest\")\n",
    "\n",
    "# Plot the precision-recall curve on the third subplot\n",
    "plot_precision_recall_curve(best_rf, X_test, y_test, ax=ax[2])\n",
    "ax[2].set_title(\"Precision-Recall Curve for Random Forest\")\n",
    "\n",
    "# Adjust the spacing between subplots\n",
    "plt.tight_layout()\n",
    "\n",
    "# Show the plot\n",
    "plt.show()\n"
   ]
  },
  {
   "cell_type": "markdown",
   "metadata": {},
   "source": [
    "## 4.2 Decision Tree Classifier model"
   ]
  },
  {
   "cell_type": "code",
   "execution_count": 13,
   "metadata": {},
   "outputs": [
    {
     "name": "stdout",
     "output_type": "stream",
     "text": [
      "Accuracy: 0.784\n",
      "Precision: 0.684\n",
      "Recall: 0.484\n",
      "F1-score: 0.567\n",
      "ROC-AUC: 0.761\n"
     ]
    }
   ],
   "source": [
    "# Use the best parameters found by the grid search to create a new DecisionTreeClassifier model\n",
    "best_dt = DecisionTreeClassifier(**grid_search_dt.best_params_)\n",
    "\n",
    "# Fit the best model to the entire training set\n",
    "best_dt.fit(X_train, y_train)\n",
    "\n",
    "# Make predictions on the test set\n",
    "y_pred_test = best_dt.predict(X_test)\n",
    "\n",
    "# Create a prediction for ROC-AUC using probability instead of a binary call (predict_proba)\n",
    "y_pred_proba = best_dt.predict_proba(X_test)[:, 1]\n",
    "\n",
    "# Compute accuracy, precision, recall, F1-score, and ROC-AUC\n",
    "acc = accuracy_score(y_test, y_pred_test)\n",
    "prec = precision_score(y_test, y_pred_test)\n",
    "rec = recall_score(y_test, y_pred_test)\n",
    "f1 = f1_score(y_test, y_pred_test)\n",
    "# roc_auc = roc_auc_score(y_test, y_pred_test)\n",
    "# Update ROC-AUC using probability instead of a binary call (predict_proba)\n",
    "roc_auc = roc_auc_score(y_test, y_pred_proba)\n",
    "\n",
    "print(f'Accuracy: {acc:.3f}')\n",
    "print(f'Precision: {prec:.3f}')\n",
    "print(f'Recall: {rec:.3f}')\n",
    "print(f'F1-score: {f1:.3f}')\n",
    "print(f'ROC-AUC: {roc_auc:.3f}')\n"
   ]
  },
  {
   "cell_type": "code",
   "execution_count": 14,
   "metadata": {},
   "outputs": [
    {
     "data": {
      "image/png": "[encoded data removed]",
      "text/plain": [
       "<Figure size 864x864 with 4 Axes>"
      ]
     },
     "metadata": {
      "needs_background": "light"
     },
     "output_type": "display_data"
    }
   ],
   "source": [
    "# DecisionTreeClassifier\n",
    "y_pred_dt = best_dt.predict(X_test)\n",
    "#\n",
    "best_dt_proba = best_dt.predict_proba(X_test)[:, 1]\n",
    "#y_pred_dt_prob = best_dt_prob.predict(X_test)\n",
    "fig, ax = plt.subplots(3, 1, figsize=(12, 12))\n",
    "plot_confusion_matrix(best_dt, X_test, y_test, cmap='Blues', ax=ax[0])\n",
    "ax[0].set_title(\"Confusion Matrix - DecisionTreeClassifier\")\n",
    "\n",
    "# Plot ROC Curve\n",
    "plot_roc_curve(best_dt, X_test, y_test, ax=ax[1])\n",
    "ax[1].set_title(\"ROC Curve - DecisionTreeClassifier\")\n",
    "\n",
    "# update y_test to y_pred_proba (???) to get the correct ROC-AUC score\n",
    "plot_precision_recall_curve(best_dt, X_test, y_test, ax=ax[2])\n",
    "\n",
    "ax[2].set_title(\"Precision-Recall Curve - DecisionTreeClassifier\")\n",
    "plt.tight_layout()\n",
    "plt.show()\n"
   ]
  },
  {
   "cell_type": "markdown",
   "metadata": {},
   "source": [
    "Here's an example of how you can check the quality of the DecisionTreeClassifier model using the test set, this code is similar to the previous example but with DecisionTreeClassifier:"
   ]
  },
  {
   "cell_type": "markdown",
   "metadata": {},
   "source": [
    "As you can see, the test set is used only for final evaluation of the model, it is important to not to use it for any other purpose, it is separate from the training and validation set to avoid overfitting and to obtain an unbiased estimate of the model's generalization performance."
   ]
  },
  {
   "cell_type": "markdown",
   "metadata": {},
   "source": [
    "## 4.3 Compare All Models"
   ]
  },
  {
   "cell_type": "code",
   "execution_count": 15,
   "metadata": {},
   "outputs": [
    {
     "data": {
      "image/png": "[encoded data removed]",
      "text/plain": [
       "<Figure size 432x288 with 1 Axes>"
      ]
     },
     "metadata": {
      "needs_background": "light"
     },
     "output_type": "display_data"
    },
    {
     "name": "stdout",
     "output_type": "stream",
     "text": [
      "ROC-AUC score on the test set for the final selected model: 0.834562777647884\n"
     ]
    }
   ],
   "source": [
    "# Compute the ROC-AUC scores for each model on the validation set\n",
    "rf_roc_auc = roc_auc_score(y_val, best_rf.predict_proba(X_val)[:,1])\n",
    "dt_roc_auc = roc_auc_score(y_val, best_dt.predict_proba(X_val)[:,1])\n",
    "\n",
    "# Create a list of the ROC-AUC scores\n",
    "roc_auc_scores = [rf_roc_auc, dt_roc_auc]\n",
    "\n",
    "# Create a list of the models' names\n",
    "model_names = ['RandomForestClassifier', 'DecisionTreeClassifier']\n",
    "\n",
    "# Create a bar plot of the ROC-AUC scores\n",
    "plt.bar(model_names, roc_auc_scores, color=['green', 'blue'], edgecolor='black', linewidth=2, width=0.5,)\n",
    "plt.ylabel('ROC-AUC Score')\n",
    "plt.title('ROC-AUC Scores on Validation Set for the Best Models')\n",
    "plt.ylim(0.5, 1.0)\n",
    "plt.show()\n",
    "\n",
    "# # Evaluate the final selected model using the test set\n",
    "# final_model = best_rf if rf_roc_auc > dt_roc_auc else best_dt\n",
    "# final_roc_auc = roc_auc_score(y_test, final_model.predict_proba(X_test)[:,1])\n",
    "# print(\"ROC-AUC score on the test set for the final selected model:\", final_roc_auc)\n",
    "\n",
    "# Select the final model to be used\n",
    "# If the Random Forest model has a higher ROC-AUC score on the validation set, use it as the final model\n",
    "# Otherwise, use the Decision Tree model as the final model\n",
    "final_model = best_rf if rf_roc_auc > dt_roc_auc else best_dt\n",
    "\n",
    "# Evaluate the performance of the final selected model on the test set\n",
    "# Compute the ROC-AUC score by using the `roc_auc_score` function\n",
    "final_roc_auc = roc_auc_score(y_test, final_model.predict_proba(X_test)[:,1])\n",
    "\n",
    "# Print the ROC-AUC score for the final selected model on the test set\n",
    "print(\"ROC-AUC score on the test set for the final selected model:\", final_roc_auc)\n"
   ]
  },
  {
   "cell_type": "markdown",
   "metadata": {},
   "source": [
    "### For Future Reference: <br>\n",
    "It's worth noting that you can use other evaluation metrics such a: \n",
    "* confusion matrix\n",
    "* classification report\n",
    "* ROC-curve\n",
    "* precision-recall curve\n"
   ]
  },
  {
   "cell_type": "markdown",
   "metadata": {},
   "source": [
    "## 4.5 Summary - Random Forest Wins\n",
    "Random Forest was our highest performing model. <br>\n",
    "* Accuracy: 0.823\n",
    "* Precision: 0.798\n",
    "* Recall: 0.527\n",
    "* F1-score: 0.635\n",
    "* ROC-AUC: 0.736\n",
    "<br>\n",
    "However all three of our models beat the minimum threshold of 0.75"
   ]
  },
  {
   "cell_type": "markdown",
   "metadata": {},
   "source": [
    "<div class=\"alert alert-info\">\n",
    "<b>Adam's comment V3</b>\n",
    "<br>\n",
    "Dropping KNeighbors from the notebook to simplify, as it wasn't adding anything to the process (results were suspicously identical to the Descision Tree Classifyer) <br>\n",
    "Section 4.4 is now 4.3\n",
    "Updated all ROC calls to use predict_proba. <br>\n",
    "updated 4.3 so that is no longer uses the test data in the evaluation of the model. <br>\n",
    "Instead, a formula evaluate which model has the best ROC score, and then runs the teset on that model (Random Forrest) <br>\n",
    "Chart displays ROC, but can easily change to accuracy if prefered.\n",
    "\n",
    "\n",
    "</div>"
   ]
  },
  {
   "cell_type": "markdown",
   "metadata": {},
   "source": [
    "<div class=\"alert alert-success\">\n",
    "<b>Reviewer's comment V4</b>\n",
    "\n",
    "Cool, the changes look great! \n",
    "    \n",
    "kNN is a very different method from decision trees, but it is not very efficient computationally, worth trying as a simple baseline though!\n",
    "\n",
    "</div>"
   ]
  },
  {
   "cell_type": "markdown",
   "metadata": {},
   "source": [
    "### What are Recall, F1-score, and ROC-AUC ?\n",
    "Recall, F1-score, and ROC-AUC are all evaluation metrics used to measure the performance of a classification model.\n",
    "\n",
    "Recall (also known as sensitivity or true positive rate) is the proportion of actual positive observations that were correctly identified by the model. It is defined as the number of true positives divided by the number of true positives plus the number of false negatives. Recall is a good metric to use when the cost of false negatives is high.\n",
    "\n",
    "F1-score (also known as F-score or F-measure) is a measure of a model's accuracy that takes both precision and recall into account. It is defined as the harmonic mean of precision and recall, and is calculated as 2 * (precision * recall) / (precision + recall). The F1-score is a good metric to use when the cost of false positives and false negatives is high.\n",
    "\n",
    "ROC-AUC (Receiver Operating Characteristic - Area Under the Curve) is a metric that quantifies the trade-off between the true positive rate (TPR) and the false positive rate (FPR) of a classifier. The ROC-AUC score ranges from 0 to 1, with a higher score indicating a better model. An ROC-AUC score of 1 represents a perfect classifier, and a score of 0.5 represents a classifier that is no better than random guessing. ROC-AUC is a good metric to use when the cost of false positives and false negatives is different and/or when the data is imbalanced.\n",
    "\n",
    "In summary, recall is a good metric to use when the cost of false negatives is high, F1-score is a good metric to use when the cost of false positives and false negatives is high and ROC-AUC is a good metric to use when the cost of false positives and false negatives is different and/or when the data is imbalanced."
   ]
  },
  {
   "cell_type": "markdown",
   "metadata": {},
   "source": [
    "# Step 5. Additional task: sanity check the model. This data is more complex than what you’re used to working with, so it's not an easy task. We'll take a closer look at it later.\n",
    "Predicting on a single sample: You can use the predict() or predict_proba() method of the trained model to make predictions on a single sample. For example, you can use the following code to predict the class and class probabilities for the first row of your data:"
   ]
  },
  {
   "cell_type": "code",
   "execution_count": 16,
   "metadata": {},
   "outputs": [
    {
     "name": "stdout",
     "output_type": "stream",
     "text": [
      "Class prediction: [0]\n",
      "Class probabilities: [[0.89075992 0.10924008]]\n",
      "The prediction is that the user is not on Plan Ultra.\n"
     ]
    }
   ],
   "source": [
    "class_prediction = final_model.predict(X_test.iloc[0, :].values.reshape(1, -1))\n",
    "print(\"Class prediction:\", class_prediction)\n",
    "\n",
    "class_probabilities = final_model.predict_proba(X_test.iloc[0, :].values.reshape(1, -1))\n",
    "print(\"Class probabilities:\", class_probabilities)\n",
    "\n",
    "if class_prediction[0] == 0:\n",
    "    print(\"The prediction is that the user is not on Plan Ultra.\")\n",
    "else:\n",
    "    print(\"The prediction is that the user is on Plan Ultra.\")\n"
   ]
  },
  {
   "cell_type": "markdown",
   "metadata": {},
   "source": [
    "## Project evaluation\n",
    "* How did you look into data after downloading?\n",
    "* Have you correctly split the data into train, validation, and test sets?\n",
    "* How have you chosen the sets' sizes?\n",
    "* Did you evaluate the quality of the models correctly?\n",
    "* What models and hyperparameters did you use?\n",
    "* What are your findings?\n",
    "* Did you test the models correctly?\n",
    "* What is your accuracy score?\n",
    "* Have you stuck to the project structure and kept the code neat?"
   ]
  }
 ],
 "metadata": {
  "kernelspec": {
   "display_name": "Python 3 (ipykernel)",
   "language": "python",
   "name": "python3"
  },
  "language_info": {
   "codemirror_mode": {
    "name": "ipython",
    "version": 3
   },
   "file_extension": ".py",
   "mimetype": "text/x-python",
   "name": "python",
   "nbconvert_exporter": "python",
   "pygments_lexer": "ipython3",
   "version": "3.9.5"
  },
  "toc": {
   "base_numbering": 1,
   "nav_menu": {},
   "number_sections": true,
   "sideBar": true,
   "skip_h1_title": true,
   "title_cell": "Table of Contents",
   "title_sidebar": "Contents",
   "toc_cell": false,
   "toc_position": {},
   "toc_section_display": true,
   "toc_window_display": false
  },
  "vscode": {
   "interpreter": {
    "hash": "ee2acf17696e022703a304c9cc2028b187948ca514c1a7cfe3ada4aba7a20c97"
   }
  }
 },
 "nbformat": 4,
 "nbformat_minor": 2
}
