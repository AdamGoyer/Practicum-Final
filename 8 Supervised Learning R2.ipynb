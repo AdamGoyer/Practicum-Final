{
 "cells": [
  {
   "cell_type": "markdown",
   "metadata": {},
   "source": [
    "<div class=\"alert alert-success\">\n",
    "<b>Reviewer's comment V2</b>\n",
    "\n",
    "Thank you for taking the time to improve the project! Now the project is accepted, and you can move on to the next sprint. Keep up the good work!\n",
    "\n",
    "</div>"
   ]
  },
  {
   "cell_type": "markdown",
   "metadata": {},
   "source": [
    "**Review**\n",
    "\n",
    "Hi, my name is Dmitry and I will be reviewing your project.\n",
    "  \n",
    "You can find my comments in colored markdown cells:\n",
    "  \n",
    "<div class=\"alert alert-success\">\n",
    "  If everything is done successfully.\n",
    "</div>\n",
    "  \n",
    "<div class=\"alert alert-warning\">\n",
    "  If I have some (optional) suggestions, or questions to think about, or general comments.\n",
    "</div>\n",
    "  \n",
    "<div class=\"alert alert-danger\">\n",
    "  If a section requires some corrections. Work can't be accepted with red comments.\n",
    "</div>\n",
    "  \n",
    "Please don't remove my comments, as it will make further review iterations much harder for me.\n",
    "  \n",
    "Feel free to reply to my comments or ask questions using the following template:\n",
    "  \n",
    "<div class=\"alert alert-info\">\n",
    "  For your comments and questions.\n",
    "</div>\n",
    "  \n",
    "First of all, thank you for turning in the project! You did a pretty good job on some parts, but there are some problems with other parts that need to be fixed before the project can be accepted. Let me know if you have any questions!"
   ]
  },
  {
   "cell_type": "markdown",
   "metadata": {},
   "source": [
    "# Intro"
   ]
  },
  {
   "cell_type": "markdown",
   "metadata": {},
   "source": [
    "## Project description\n",
    "Beta Bank customers are leaving: little by little, chipping away every month. The bankers figured out it’s cheaper to save the existing customers rather than to attract new ones.\n",
    "We need to predict whether a customer will leave the bank soon. You have the data on clients’ past behavior and termination of contracts with the bank.\n",
    "Build a model with the maximum possible F1 score. To pass the project, you need an F1 score of at least 0.59. Check the F1 for the test set.\n",
    "Additionally, measure the AUC-ROC metric and compare it with the F1."
   ]
  },
  {
   "cell_type": "markdown",
   "metadata": {},
   "source": [
    "## Project instructions\n",
    "Download and prepare the data. Explain the procedure.\n",
    "Examine the balance of classes. Train the model without taking into account the imbalance. Briefly describe your findings.\n",
    "Improve the quality of the model. Make sure you use at least two approaches to fixing class imbalance. Use the training set to pick the best parameters. Train different models on training and validation sets. Find the best one. Briefly describe your findings.\n",
    "Perform the final testing."
   ]
  },
  {
   "cell_type": "markdown",
   "metadata": {},
   "source": [
    "## Data description\n",
    "The data can be found in /datasets/Churn.csv file. Download the dataset. <br>\n",
    " Features <br>\n",
    "* RowNumber — data string index\n",
    "* CustomerId — unique customer identifier\n",
    "* Surname — surname\n",
    "* CreditScore — credit score\n",
    "* Geography — country of residence\n",
    "* Gender — gender\n",
    "* Age — age\n",
    "* Tenure — period of maturation for a customer’s fixed deposit (years)\n",
    "* Balance — account balance\n",
    "* NumOfProducts — number of banking products used by the customer\n",
    "* HasCrCard — customer has a credit card\n",
    "* IsActiveMember — customer’s activeness\n",
    "* EstimatedSalary — estimated salary <br>\n",
    "Target <br>\n",
    "* Exited — сustomer has left"
   ]
  },
  {
   "cell_type": "markdown",
   "metadata": {},
   "source": [
    "# Data Preparation"
   ]
  },
  {
   "cell_type": "markdown",
   "metadata": {},
   "source": [
    "### Import the necessary libraries"
   ]
  },
  {
   "cell_type": "markdown",
   "metadata": {},
   "source": [
    "<div class=\"alert alert-warning\">\n",
    "<b>Reviewer's comment</b>\n",
    "\n",
    "Why not remove the code if it is not used?\n",
    "\n",
    "</div>"
   ]
  },
  {
   "cell_type": "markdown",
   "metadata": {},
   "source": [
    "<div class=\"alert alert-info\">\n",
    "Oversight, Fixed.\n",
    "</div>"
   ]
  },
  {
   "cell_type": "markdown",
   "metadata": {},
   "source": [
    "<div class=\"alert alert-success\">\n",
    "<b>Reviewer's comment V2</b>\n",
    "\n",
    "Alright! :)\n",
    "\n",
    "</div>"
   ]
  },
  {
   "cell_type": "markdown",
   "metadata": {},
   "source": [
    "### Import necessary libraries and modules"
   ]
  },
  {
   "cell_type": "code",
   "execution_count": 1,
   "metadata": {},
   "outputs": [],
   "source": [
    "# Import necessary libraries and modules\n",
    "\n",
    "# Standard libraries\n",
    "from datetime import datetime\n",
    "import joblib\n",
    "import os\n",
    "import re\n",
    "\n",
    "# Data manipulation and visualization libraries\n",
    "import matplotlib.pyplot as plt\n",
    "import pandas as pd\n",
    "import numpy as np\n",
    "import seaborn as sns\n",
    "\n",
    "# Scikit-learn utilities\n",
    "from IPython.utils import io\n",
    "from sklearn.ensemble import RandomForestClassifier\n",
    "from sklearn.linear_model import LogisticRegression\n",
    "from sklearn.metrics import (accuracy_score, classification_report,\n",
    "                             confusion_matrix, f1_score, roc_auc_score)\n",
    "from sklearn.model_selection import GridSearchCV, train_test_split\n",
    "from sklearn.neighbors import KNeighborsClassifier\n",
    "from sklearn.preprocessing import StandardScaler\n",
    "from sklearn.tree import DecisionTreeClassifier\n",
    "from sklearn.utils import resample\n",
    "\n",
    "# Imbalanced-learn library for handling imbalanced data\n",
    "from imblearn.over_sampling import SMOTE\n",
    "from sklearn.datasets import make_classification\n",
    "\n",
    "# Warning management\n",
    "import warnings\n",
    "from sklearn.exceptions import FitFailedWarning, ConvergenceWarning\n",
    "from sklearn.metrics import plot_roc_curve\n",
    "import random\n",
    "import numpy as np\n",
    "import os\n",
    "import pandas as pd\n",
    "import re\n",
    "from pandas.core.common import SettingWithCopyWarning\n",
    "import pickle\n",
    "\n",
    "# Suppress warnings\n",
    "warnings.filterwarnings('ignore', category=FitFailedWarning)\n",
    "warnings.filterwarnings('ignore', category=ConvergenceWarning)\n"
   ]
  },
  {
   "cell_type": "markdown",
   "metadata": {},
   "source": [
    "### Random Seed: 42"
   ]
  },
  {
   "cell_type": "code",
   "execution_count": 2,
   "metadata": {},
   "outputs": [],
   "source": [
    "# Set the random seed for reproducibility\n",
    "random.seed(42)\n",
    "np.random.seed(42)\n"
   ]
  },
  {
   "cell_type": "markdown",
   "metadata": {},
   "source": [
    "### Step 1: Download the data and save it locally\n",
    "* Use Pandas to load the Churn.csv and save file locally.\n",
    "* Path to the /datasets/Churn.csv Download dataset\n",
    "\n"
   ]
  },
  {
   "cell_type": "code",
   "execution_count": 3,
   "metadata": {},
   "outputs": [],
   "source": [
    "# For Reference\n",
    "# file_path = 'https://code.s3.yandex.net//datasets/Churn.csv'\n",
    "# index_col = 'RowNumber'"
   ]
  },
  {
   "cell_type": "markdown",
   "metadata": {},
   "source": [
    "### Load the CSV"
   ]
  },
  {
   "cell_type": "code",
   "execution_count": 4,
   "metadata": {},
   "outputs": [],
   "source": [
    "# Check if the datasets folder exists\n",
    "if not os.path.exists('datasets'):\n",
    "    os.makedirs('datasets')\n",
    "\n",
    "# Download the source CSV file and save it in the datasets folder    \n",
    "try:\n",
    "    data = pd.read_csv('https://code.s3.yandex.net//datasets/Churn.csv', index_col='RowNumber')\n",
    "except:\n",
    "    data = pd.read_csv('https://code.s3.yandex.net///datasets/Churn.csv', index_col='RowNumber')\n",
    "    \n",
    "data.to_csv('datasets/Churn.csv')\n"
   ]
  },
  {
   "cell_type": "markdown",
   "metadata": {},
   "source": [
    "Here's a summary of the changes: <br>\n",
    "<br>\n",
    "Removed the duplicate block of code at the end. <br>\n",
    "Removed the initial pd.read_csv block that loads the data without setting the index column. <br>\n",
    "Removed the df1.head() line, as it was only used for displaying the first few rows of the DataFrame. You can include it later if you want to inspect the data. <br>\n",
    "This updated code should be more concise and efficient, while still achieving the same goal of downloading the dataset, setting the index column to 'RowNumber', and saving the data locally. <br>"
   ]
  },
  {
   "cell_type": "markdown",
   "metadata": {},
   "source": [
    "Create a new dataframe - data"
   ]
  },
  {
   "cell_type": "markdown",
   "metadata": {},
   "source": [
    "### Review the new Datafram - data"
   ]
  },
  {
   "cell_type": "code",
   "execution_count": 5,
   "metadata": {},
   "outputs": [],
   "source": [
    "# Review the new Datafram - data\n",
    "# data.head(20)\n",
    "# data.info()"
   ]
  },
  {
   "cell_type": "markdown",
   "metadata": {},
   "source": [
    "## Data Cleaning & Exploration"
   ]
  },
  {
   "cell_type": "code",
   "execution_count": 6,
   "metadata": {},
   "outputs": [
    {
     "data": {
      "text/html": [
       "<div>\n",
       "<style scoped>\n",
       "    .dataframe tbody tr th:only-of-type {\n",
       "        vertical-align: middle;\n",
       "    }\n",
       "\n",
       "    .dataframe tbody tr th {\n",
       "        vertical-align: top;\n",
       "    }\n",
       "\n",
       "    .dataframe thead th {\n",
       "        text-align: right;\n",
       "    }\n",
       "</style>\n",
       "<table border=\"1\" class=\"dataframe\">\n",
       "  <thead>\n",
       "    <tr style=\"text-align: right;\">\n",
       "      <th></th>\n",
       "      <th>customerid</th>\n",
       "      <th>surname</th>\n",
       "      <th>credit_score</th>\n",
       "      <th>geography</th>\n",
       "      <th>gender</th>\n",
       "      <th>age</th>\n",
       "      <th>tenure</th>\n",
       "      <th>balance</th>\n",
       "      <th>num_of_products</th>\n",
       "      <th>has_cr_card</th>\n",
       "      <th>is_active_member</th>\n",
       "      <th>estimated_salary</th>\n",
       "      <th>exited</th>\n",
       "    </tr>\n",
       "    <tr>\n",
       "      <th>RowNumber</th>\n",
       "      <th></th>\n",
       "      <th></th>\n",
       "      <th></th>\n",
       "      <th></th>\n",
       "      <th></th>\n",
       "      <th></th>\n",
       "      <th></th>\n",
       "      <th></th>\n",
       "      <th></th>\n",
       "      <th></th>\n",
       "      <th></th>\n",
       "      <th></th>\n",
       "      <th></th>\n",
       "    </tr>\n",
       "  </thead>\n",
       "  <tbody>\n",
       "    <tr>\n",
       "      <th>1</th>\n",
       "      <td>15634602</td>\n",
       "      <td>Hargrave</td>\n",
       "      <td>619</td>\n",
       "      <td>France</td>\n",
       "      <td>Female</td>\n",
       "      <td>42</td>\n",
       "      <td>2.0</td>\n",
       "      <td>0.00</td>\n",
       "      <td>1</td>\n",
       "      <td>1</td>\n",
       "      <td>1</td>\n",
       "      <td>101348.88</td>\n",
       "      <td>1</td>\n",
       "    </tr>\n",
       "    <tr>\n",
       "      <th>2</th>\n",
       "      <td>15647311</td>\n",
       "      <td>Hill</td>\n",
       "      <td>608</td>\n",
       "      <td>Spain</td>\n",
       "      <td>Female</td>\n",
       "      <td>41</td>\n",
       "      <td>1.0</td>\n",
       "      <td>83807.86</td>\n",
       "      <td>1</td>\n",
       "      <td>0</td>\n",
       "      <td>1</td>\n",
       "      <td>112542.58</td>\n",
       "      <td>0</td>\n",
       "    </tr>\n",
       "    <tr>\n",
       "      <th>3</th>\n",
       "      <td>15619304</td>\n",
       "      <td>Onio</td>\n",
       "      <td>502</td>\n",
       "      <td>France</td>\n",
       "      <td>Female</td>\n",
       "      <td>42</td>\n",
       "      <td>8.0</td>\n",
       "      <td>159660.80</td>\n",
       "      <td>3</td>\n",
       "      <td>1</td>\n",
       "      <td>0</td>\n",
       "      <td>113931.57</td>\n",
       "      <td>1</td>\n",
       "    </tr>\n",
       "    <tr>\n",
       "      <th>4</th>\n",
       "      <td>15701354</td>\n",
       "      <td>Boni</td>\n",
       "      <td>699</td>\n",
       "      <td>France</td>\n",
       "      <td>Female</td>\n",
       "      <td>39</td>\n",
       "      <td>1.0</td>\n",
       "      <td>0.00</td>\n",
       "      <td>2</td>\n",
       "      <td>0</td>\n",
       "      <td>0</td>\n",
       "      <td>93826.63</td>\n",
       "      <td>0</td>\n",
       "    </tr>\n",
       "    <tr>\n",
       "      <th>5</th>\n",
       "      <td>15737888</td>\n",
       "      <td>Mitchell</td>\n",
       "      <td>850</td>\n",
       "      <td>Spain</td>\n",
       "      <td>Female</td>\n",
       "      <td>43</td>\n",
       "      <td>2.0</td>\n",
       "      <td>125510.82</td>\n",
       "      <td>1</td>\n",
       "      <td>1</td>\n",
       "      <td>1</td>\n",
       "      <td>79084.10</td>\n",
       "      <td>0</td>\n",
       "    </tr>\n",
       "    <tr>\n",
       "      <th>...</th>\n",
       "      <td>...</td>\n",
       "      <td>...</td>\n",
       "      <td>...</td>\n",
       "      <td>...</td>\n",
       "      <td>...</td>\n",
       "      <td>...</td>\n",
       "      <td>...</td>\n",
       "      <td>...</td>\n",
       "      <td>...</td>\n",
       "      <td>...</td>\n",
       "      <td>...</td>\n",
       "      <td>...</td>\n",
       "      <td>...</td>\n",
       "    </tr>\n",
       "    <tr>\n",
       "      <th>9996</th>\n",
       "      <td>15606229</td>\n",
       "      <td>Obijiaku</td>\n",
       "      <td>771</td>\n",
       "      <td>France</td>\n",
       "      <td>Male</td>\n",
       "      <td>39</td>\n",
       "      <td>5.0</td>\n",
       "      <td>0.00</td>\n",
       "      <td>2</td>\n",
       "      <td>1</td>\n",
       "      <td>0</td>\n",
       "      <td>96270.64</td>\n",
       "      <td>0</td>\n",
       "    </tr>\n",
       "    <tr>\n",
       "      <th>9997</th>\n",
       "      <td>15569892</td>\n",
       "      <td>Johnstone</td>\n",
       "      <td>516</td>\n",
       "      <td>France</td>\n",
       "      <td>Male</td>\n",
       "      <td>35</td>\n",
       "      <td>10.0</td>\n",
       "      <td>57369.61</td>\n",
       "      <td>1</td>\n",
       "      <td>1</td>\n",
       "      <td>1</td>\n",
       "      <td>101699.77</td>\n",
       "      <td>0</td>\n",
       "    </tr>\n",
       "    <tr>\n",
       "      <th>9998</th>\n",
       "      <td>15584532</td>\n",
       "      <td>Liu</td>\n",
       "      <td>709</td>\n",
       "      <td>France</td>\n",
       "      <td>Female</td>\n",
       "      <td>36</td>\n",
       "      <td>7.0</td>\n",
       "      <td>0.00</td>\n",
       "      <td>1</td>\n",
       "      <td>0</td>\n",
       "      <td>1</td>\n",
       "      <td>42085.58</td>\n",
       "      <td>1</td>\n",
       "    </tr>\n",
       "    <tr>\n",
       "      <th>9999</th>\n",
       "      <td>15682355</td>\n",
       "      <td>Sabbatini</td>\n",
       "      <td>772</td>\n",
       "      <td>Germany</td>\n",
       "      <td>Male</td>\n",
       "      <td>42</td>\n",
       "      <td>3.0</td>\n",
       "      <td>75075.31</td>\n",
       "      <td>2</td>\n",
       "      <td>1</td>\n",
       "      <td>0</td>\n",
       "      <td>92888.52</td>\n",
       "      <td>1</td>\n",
       "    </tr>\n",
       "    <tr>\n",
       "      <th>10000</th>\n",
       "      <td>15628319</td>\n",
       "      <td>Walker</td>\n",
       "      <td>792</td>\n",
       "      <td>France</td>\n",
       "      <td>Female</td>\n",
       "      <td>28</td>\n",
       "      <td>NaN</td>\n",
       "      <td>130142.79</td>\n",
       "      <td>1</td>\n",
       "      <td>1</td>\n",
       "      <td>0</td>\n",
       "      <td>38190.78</td>\n",
       "      <td>0</td>\n",
       "    </tr>\n",
       "  </tbody>\n",
       "</table>\n",
       "<p>10000 rows × 13 columns</p>\n",
       "</div>"
      ],
      "text/plain": [
       "           customerid    surname  credit_score geography  gender  age  tenure  \\\n",
       "RowNumber                                                                       \n",
       "1            15634602   Hargrave           619    France  Female   42     2.0   \n",
       "2            15647311       Hill           608     Spain  Female   41     1.0   \n",
       "3            15619304       Onio           502    France  Female   42     8.0   \n",
       "4            15701354       Boni           699    France  Female   39     1.0   \n",
       "5            15737888   Mitchell           850     Spain  Female   43     2.0   \n",
       "...               ...        ...           ...       ...     ...  ...     ...   \n",
       "9996         15606229   Obijiaku           771    France    Male   39     5.0   \n",
       "9997         15569892  Johnstone           516    France    Male   35    10.0   \n",
       "9998         15584532        Liu           709    France  Female   36     7.0   \n",
       "9999         15682355  Sabbatini           772   Germany    Male   42     3.0   \n",
       "10000        15628319     Walker           792    France  Female   28     NaN   \n",
       "\n",
       "             balance  num_of_products  has_cr_card  is_active_member  \\\n",
       "RowNumber                                                              \n",
       "1               0.00                1            1                 1   \n",
       "2           83807.86                1            0                 1   \n",
       "3          159660.80                3            1                 0   \n",
       "4               0.00                2            0                 0   \n",
       "5          125510.82                1            1                 1   \n",
       "...              ...              ...          ...               ...   \n",
       "9996            0.00                2            1                 0   \n",
       "9997        57369.61                1            1                 1   \n",
       "9998            0.00                1            0                 1   \n",
       "9999        75075.31                2            1                 0   \n",
       "10000      130142.79                1            1                 0   \n",
       "\n",
       "           estimated_salary  exited  \n",
       "RowNumber                            \n",
       "1                 101348.88       1  \n",
       "2                 112542.58       0  \n",
       "3                 113931.57       1  \n",
       "4                  93826.63       0  \n",
       "5                  79084.10       0  \n",
       "...                     ...     ...  \n",
       "9996               96270.64       0  \n",
       "9997              101699.77       0  \n",
       "9998               42085.58       1  \n",
       "9999               92888.52       1  \n",
       "10000              38190.78       0  \n",
       "\n",
       "[10000 rows x 13 columns]"
      ]
     },
     "execution_count": 6,
     "metadata": {},
     "output_type": "execute_result"
    }
   ],
   "source": [
    "\n",
    "def convert_colnames_to_snakecase(df):\n",
    "    # Create a mapping of old column names to new column names\n",
    "    new_colnames = {\n",
    "        'CreditScore': 'credit_score',\n",
    "        'NumOfProducts': 'num_of_products',\n",
    "        'HasCrCard': 'has_cr_card',\n",
    "        'IsActiveMember': 'is_active_member',\n",
    "        'EstimatedSalary': 'estimated_salary',\n",
    "    }\n",
    "    \n",
    "    # Rename columns using the new_colnames dictionary\n",
    "    df.rename(columns=lambda col: new_colnames.get(col, re.sub(' +', '_', re.sub('[^0-9a-zA-Z]+', ' ', col)).strip().lower()), inplace=True)\n",
    "    return df\n",
    "\n",
    "convert_colnames_to_snakecase(data)\n"
   ]
  },
  {
   "cell_type": "markdown",
   "metadata": {},
   "source": [
    "This updated version creates a dictionary called new_colnames that maps the original column names to the snake_case column names. The rename function uses this dictionary to update the column names. For columns not in the dictionary, the function will use the original method of converting the column names using regular expressions.\n",
    "\n",
    "This change combines the two renaming steps into one, making the code more concise and efficient. Other than this optimization, the code looks good and serves its purpose well."
   ]
  },
  {
   "cell_type": "markdown",
   "metadata": {},
   "source": [
    "### Check for missing values"
   ]
  },
  {
   "cell_type": "code",
   "execution_count": 7,
   "metadata": {},
   "outputs": [
    {
     "data": {
      "text/plain": [
       "customerid            0\n",
       "surname               0\n",
       "credit_score          0\n",
       "geography             0\n",
       "gender                0\n",
       "age                   0\n",
       "tenure              909\n",
       "balance               0\n",
       "num_of_products       0\n",
       "has_cr_card           0\n",
       "is_active_member      0\n",
       "estimated_salary      0\n",
       "exited                0\n",
       "dtype: int64"
      ]
     },
     "execution_count": 7,
     "metadata": {},
     "output_type": "execute_result"
    }
   ],
   "source": [
    "# Check for missing values\n",
    "data.isna().sum()"
   ]
  },
  {
   "cell_type": "markdown",
   "metadata": {},
   "source": [
    "### Show all the rows with missing values (tenure)"
   ]
  },
  {
   "cell_type": "code",
   "execution_count": 8,
   "metadata": {},
   "outputs": [
    {
     "data": {
      "text/html": [
       "<div>\n",
       "<style scoped>\n",
       "    .dataframe tbody tr th:only-of-type {\n",
       "        vertical-align: middle;\n",
       "    }\n",
       "\n",
       "    .dataframe tbody tr th {\n",
       "        vertical-align: top;\n",
       "    }\n",
       "\n",
       "    .dataframe thead th {\n",
       "        text-align: right;\n",
       "    }\n",
       "</style>\n",
       "<table border=\"1\" class=\"dataframe\">\n",
       "  <thead>\n",
       "    <tr style=\"text-align: right;\">\n",
       "      <th></th>\n",
       "      <th>customerid</th>\n",
       "      <th>surname</th>\n",
       "      <th>credit_score</th>\n",
       "      <th>geography</th>\n",
       "      <th>gender</th>\n",
       "      <th>age</th>\n",
       "      <th>tenure</th>\n",
       "      <th>balance</th>\n",
       "      <th>num_of_products</th>\n",
       "      <th>has_cr_card</th>\n",
       "      <th>is_active_member</th>\n",
       "      <th>estimated_salary</th>\n",
       "      <th>exited</th>\n",
       "    </tr>\n",
       "    <tr>\n",
       "      <th>RowNumber</th>\n",
       "      <th></th>\n",
       "      <th></th>\n",
       "      <th></th>\n",
       "      <th></th>\n",
       "      <th></th>\n",
       "      <th></th>\n",
       "      <th></th>\n",
       "      <th></th>\n",
       "      <th></th>\n",
       "      <th></th>\n",
       "      <th></th>\n",
       "      <th></th>\n",
       "      <th></th>\n",
       "    </tr>\n",
       "  </thead>\n",
       "  <tbody>\n",
       "    <tr>\n",
       "      <th>31</th>\n",
       "      <td>15589475</td>\n",
       "      <td>Azikiwe</td>\n",
       "      <td>591</td>\n",
       "      <td>Spain</td>\n",
       "      <td>Female</td>\n",
       "      <td>39</td>\n",
       "      <td>NaN</td>\n",
       "      <td>0.00</td>\n",
       "      <td>3</td>\n",
       "      <td>1</td>\n",
       "      <td>0</td>\n",
       "      <td>140469.38</td>\n",
       "      <td>1</td>\n",
       "    </tr>\n",
       "    <tr>\n",
       "      <th>49</th>\n",
       "      <td>15766205</td>\n",
       "      <td>Yin</td>\n",
       "      <td>550</td>\n",
       "      <td>Germany</td>\n",
       "      <td>Male</td>\n",
       "      <td>38</td>\n",
       "      <td>NaN</td>\n",
       "      <td>103391.38</td>\n",
       "      <td>1</td>\n",
       "      <td>0</td>\n",
       "      <td>1</td>\n",
       "      <td>90878.13</td>\n",
       "      <td>0</td>\n",
       "    </tr>\n",
       "    <tr>\n",
       "      <th>52</th>\n",
       "      <td>15768193</td>\n",
       "      <td>Trevisani</td>\n",
       "      <td>585</td>\n",
       "      <td>Germany</td>\n",
       "      <td>Male</td>\n",
       "      <td>36</td>\n",
       "      <td>NaN</td>\n",
       "      <td>146050.97</td>\n",
       "      <td>2</td>\n",
       "      <td>0</td>\n",
       "      <td>0</td>\n",
       "      <td>86424.57</td>\n",
       "      <td>0</td>\n",
       "    </tr>\n",
       "    <tr>\n",
       "      <th>54</th>\n",
       "      <td>15702298</td>\n",
       "      <td>Parkhill</td>\n",
       "      <td>655</td>\n",
       "      <td>Germany</td>\n",
       "      <td>Male</td>\n",
       "      <td>41</td>\n",
       "      <td>NaN</td>\n",
       "      <td>125561.97</td>\n",
       "      <td>1</td>\n",
       "      <td>0</td>\n",
       "      <td>0</td>\n",
       "      <td>164040.94</td>\n",
       "      <td>1</td>\n",
       "    </tr>\n",
       "    <tr>\n",
       "      <th>61</th>\n",
       "      <td>15651280</td>\n",
       "      <td>Hunter</td>\n",
       "      <td>742</td>\n",
       "      <td>Germany</td>\n",
       "      <td>Male</td>\n",
       "      <td>35</td>\n",
       "      <td>NaN</td>\n",
       "      <td>136857.00</td>\n",
       "      <td>1</td>\n",
       "      <td>0</td>\n",
       "      <td>0</td>\n",
       "      <td>84509.57</td>\n",
       "      <td>0</td>\n",
       "    </tr>\n",
       "    <tr>\n",
       "      <th>...</th>\n",
       "      <td>...</td>\n",
       "      <td>...</td>\n",
       "      <td>...</td>\n",
       "      <td>...</td>\n",
       "      <td>...</td>\n",
       "      <td>...</td>\n",
       "      <td>...</td>\n",
       "      <td>...</td>\n",
       "      <td>...</td>\n",
       "      <td>...</td>\n",
       "      <td>...</td>\n",
       "      <td>...</td>\n",
       "      <td>...</td>\n",
       "    </tr>\n",
       "    <tr>\n",
       "      <th>9945</th>\n",
       "      <td>15703923</td>\n",
       "      <td>Cameron</td>\n",
       "      <td>744</td>\n",
       "      <td>Germany</td>\n",
       "      <td>Male</td>\n",
       "      <td>41</td>\n",
       "      <td>NaN</td>\n",
       "      <td>190409.34</td>\n",
       "      <td>2</td>\n",
       "      <td>1</td>\n",
       "      <td>1</td>\n",
       "      <td>138361.48</td>\n",
       "      <td>0</td>\n",
       "    </tr>\n",
       "    <tr>\n",
       "      <th>9957</th>\n",
       "      <td>15707861</td>\n",
       "      <td>Nucci</td>\n",
       "      <td>520</td>\n",
       "      <td>France</td>\n",
       "      <td>Female</td>\n",
       "      <td>46</td>\n",
       "      <td>NaN</td>\n",
       "      <td>85216.61</td>\n",
       "      <td>1</td>\n",
       "      <td>1</td>\n",
       "      <td>0</td>\n",
       "      <td>117369.52</td>\n",
       "      <td>1</td>\n",
       "    </tr>\n",
       "    <tr>\n",
       "      <th>9965</th>\n",
       "      <td>15642785</td>\n",
       "      <td>Douglas</td>\n",
       "      <td>479</td>\n",
       "      <td>France</td>\n",
       "      <td>Male</td>\n",
       "      <td>34</td>\n",
       "      <td>NaN</td>\n",
       "      <td>117593.48</td>\n",
       "      <td>2</td>\n",
       "      <td>0</td>\n",
       "      <td>0</td>\n",
       "      <td>113308.29</td>\n",
       "      <td>0</td>\n",
       "    </tr>\n",
       "    <tr>\n",
       "      <th>9986</th>\n",
       "      <td>15586914</td>\n",
       "      <td>Nepean</td>\n",
       "      <td>659</td>\n",
       "      <td>France</td>\n",
       "      <td>Male</td>\n",
       "      <td>36</td>\n",
       "      <td>NaN</td>\n",
       "      <td>123841.49</td>\n",
       "      <td>2</td>\n",
       "      <td>1</td>\n",
       "      <td>0</td>\n",
       "      <td>96833.00</td>\n",
       "      <td>0</td>\n",
       "    </tr>\n",
       "    <tr>\n",
       "      <th>10000</th>\n",
       "      <td>15628319</td>\n",
       "      <td>Walker</td>\n",
       "      <td>792</td>\n",
       "      <td>France</td>\n",
       "      <td>Female</td>\n",
       "      <td>28</td>\n",
       "      <td>NaN</td>\n",
       "      <td>130142.79</td>\n",
       "      <td>1</td>\n",
       "      <td>1</td>\n",
       "      <td>0</td>\n",
       "      <td>38190.78</td>\n",
       "      <td>0</td>\n",
       "    </tr>\n",
       "  </tbody>\n",
       "</table>\n",
       "<p>909 rows × 13 columns</p>\n",
       "</div>"
      ],
      "text/plain": [
       "           customerid    surname  credit_score geography  gender  age  tenure  \\\n",
       "RowNumber                                                                       \n",
       "31           15589475    Azikiwe           591     Spain  Female   39     NaN   \n",
       "49           15766205        Yin           550   Germany    Male   38     NaN   \n",
       "52           15768193  Trevisani           585   Germany    Male   36     NaN   \n",
       "54           15702298   Parkhill           655   Germany    Male   41     NaN   \n",
       "61           15651280     Hunter           742   Germany    Male   35     NaN   \n",
       "...               ...        ...           ...       ...     ...  ...     ...   \n",
       "9945         15703923    Cameron           744   Germany    Male   41     NaN   \n",
       "9957         15707861      Nucci           520    France  Female   46     NaN   \n",
       "9965         15642785    Douglas           479    France    Male   34     NaN   \n",
       "9986         15586914     Nepean           659    France    Male   36     NaN   \n",
       "10000        15628319     Walker           792    France  Female   28     NaN   \n",
       "\n",
       "             balance  num_of_products  has_cr_card  is_active_member  \\\n",
       "RowNumber                                                              \n",
       "31              0.00                3            1                 0   \n",
       "49         103391.38                1            0                 1   \n",
       "52         146050.97                2            0                 0   \n",
       "54         125561.97                1            0                 0   \n",
       "61         136857.00                1            0                 0   \n",
       "...              ...              ...          ...               ...   \n",
       "9945       190409.34                2            1                 1   \n",
       "9957        85216.61                1            1                 0   \n",
       "9965       117593.48                2            0                 0   \n",
       "9986       123841.49                2            1                 0   \n",
       "10000      130142.79                1            1                 0   \n",
       "\n",
       "           estimated_salary  exited  \n",
       "RowNumber                            \n",
       "31                140469.38       1  \n",
       "49                 90878.13       0  \n",
       "52                 86424.57       0  \n",
       "54                164040.94       1  \n",
       "61                 84509.57       0  \n",
       "...                     ...     ...  \n",
       "9945              138361.48       0  \n",
       "9957              117369.52       1  \n",
       "9965              113308.29       0  \n",
       "9986               96833.00       0  \n",
       "10000              38190.78       0  \n",
       "\n",
       "[909 rows x 13 columns]"
      ]
     },
     "execution_count": 8,
     "metadata": {},
     "output_type": "execute_result"
    }
   ],
   "source": [
    "# Show all the rows with missing values (tenure)\n",
    "data[data.isna().any(axis=1)]"
   ]
  },
  {
   "cell_type": "code",
   "execution_count": 9,
   "metadata": {},
   "outputs": [
    {
     "data": {
      "text/plain": [
       "1.0     952\n",
       "2.0     950\n",
       "8.0     933\n",
       "3.0     928\n",
       "5.0     927\n",
       "7.0     925\n",
       "4.0     885\n",
       "9.0     882\n",
       "6.0     881\n",
       "10.0    446\n",
       "0.0     382\n",
       "Name: tenure, dtype: int64"
      ]
     },
     "execution_count": 9,
     "metadata": {},
     "output_type": "execute_result"
    }
   ],
   "source": [
    "data['tenure'].value_counts()"
   ]
  },
  {
   "cell_type": "markdown",
   "metadata": {},
   "source": [
    "### Tenure NaN <br>\n",
    "tenure — period of maturation for a customer’s fixed deposit (years) <br>\n",
    "Looking at the value counts for the tenure column, the distribution seems fairly uniform across the various tenure values, with the exception of 0 and 10, which have lower counts. Depending on the assumptions you make about the missing data, there are several ways to handle these missing values:"
   ]
  },
  {
   "cell_type": "markdown",
   "metadata": {},
   "source": [
    "### Replace missing values with the mean of the column"
   ]
  },
  {
   "cell_type": "code",
   "execution_count": 10,
   "metadata": {},
   "outputs": [
    {
     "data": {
      "text/plain": [
       "customerid          0\n",
       "surname             0\n",
       "credit_score        0\n",
       "geography           0\n",
       "gender              0\n",
       "age                 0\n",
       "tenure              0\n",
       "balance             0\n",
       "num_of_products     0\n",
       "has_cr_card         0\n",
       "is_active_member    0\n",
       "estimated_salary    0\n",
       "exited              0\n",
       "dtype: int64"
      ]
     },
     "execution_count": 10,
     "metadata": {},
     "output_type": "execute_result"
    }
   ],
   "source": [
    "# Replace missing values with the mean of the column\n",
    "data = data.fillna(data.mean())\n",
    "data.isna().sum()\n"
   ]
  },
  {
   "cell_type": "markdown",
   "metadata": {},
   "source": [
    "<div class=\"alert alert-warning\">\n",
    "<b>Reviewer's comment</b>\n",
    "\n",
    "Would be nice to see some thoughts on possible reasons for missing values and explanation on the chosen method of dealing with them \n",
    "\n",
    "</div>"
   ]
  },
  {
   "cell_type": "markdown",
   "metadata": {},
   "source": [
    "Data with missing tenure values represent 9% of the total data, I'd prefer not to drop this data, and there is already a zero value for tenure, so I will replace the NaN values with the mean.\n",
    "\n",
    "replacing the NaN values with the mean assumes that the missing data is random, and consequently will not produce any additional bias. Alternatively, we could drop the values, or Impute missing values using other features: If we believe there is a relationship between the missing tenure values and other features in the dataset, you can use machine learning models like k-Nearest Neighbors or decision trees to predict the missing values based on the other features.\n",
    "\n",
    "Open to additional sugestons. <br>"
   ]
  },
  {
   "cell_type": "markdown",
   "metadata": {},
   "source": [
    "<div class=\"alert alert-info\">\n",
    "Thx, updated.\n",
    "</div>"
   ]
  },
  {
   "cell_type": "markdown",
   "metadata": {},
   "source": [
    "<div class=\"alert alert-success\">\n",
    "<b>Reviewer's comment V2</b>\n",
    "\n",
    "Good points! It is also possible that missing tenure is the same thing as tenure equal to 0, but we'd have to learn more about how the data was collected to find out\n",
    "\n",
    "</div>"
   ]
  },
  {
   "cell_type": "markdown",
   "metadata": {},
   "source": [
    "### Drop Surname\n",
    "Surname has the potential to add bias to our model; I will drop this column.\n"
   ]
  },
  {
   "cell_type": "code",
   "execution_count": 11,
   "metadata": {},
   "outputs": [],
   "source": [
    "data = data.drop('surname', axis=1)\n"
   ]
  },
  {
   "cell_type": "markdown",
   "metadata": {},
   "source": [
    "### Establish numerical columns"
   ]
  },
  {
   "cell_type": "code",
   "execution_count": 12,
   "metadata": {},
   "outputs": [
    {
     "name": "stdout",
     "output_type": "stream",
     "text": [
      "Numerical columns: ['customerid', 'credit_score', 'age', 'tenure', 'balance', 'num_of_products', 'has_cr_card', 'is_active_member', 'estimated_salary', 'exited']\n",
      "Categorical columns: ['geography', 'gender']\n"
     ]
    }
   ],
   "source": [
    "# Identify numerical and categorical columns\n",
    "numerical_columns = data.select_dtypes(include=np.number).columns.tolist()\n",
    "categorical_columns = data.select_dtypes(exclude=np.number).columns.tolist()\n",
    "\n",
    "print(\"Numerical columns:\", numerical_columns)\n",
    "print(\"Categorical columns:\", categorical_columns)\n"
   ]
  },
  {
   "cell_type": "markdown",
   "metadata": {},
   "source": [
    "To completely avoid the SettingWithCopyWarning, we can use the following approach:"
   ]
  },
  {
   "cell_type": "markdown",
   "metadata": {},
   "source": [
    "### Split the data into training and validation/test sets"
   ]
  },
  {
   "cell_type": "code",
   "execution_count": 13,
   "metadata": {},
   "outputs": [],
   "source": [
    "### This cell block does not have a validation set\n",
    "### uncomment and update variables to drop the validation set and use cross validation instead\n",
    "\n",
    "# # Split the data into training and test sets\n",
    "# X = data.drop('exited', axis=1)\n",
    "# y = data['exited']\n",
    "# X_train, X_test, y_train, y_test = train_test_split(X, y, test_size=0.25, random_state=42)\n"
   ]
  },
  {
   "cell_type": "markdown",
   "metadata": {},
   "source": [
    "### Optional code for Validation Set:"
   ]
  },
  {
   "cell_type": "code",
   "execution_count": 14,
   "metadata": {},
   "outputs": [],
   "source": [
    "### Optional code for Validation Set:\n",
    "\n",
    "from sklearn.model_selection import train_test_split\n",
    "\n",
    "# Split the data into training, validation, and test sets\n",
    "X = data.drop('exited', axis=1)\n",
    "y = data['exited']\n",
    "X_train, X_temp, y_train, y_temp = train_test_split(X, y, test_size=0.3, random_state=42)  # 70% train, 30% temp\n",
    "X_val, X_test, y_val, y_test = train_test_split(X_temp, y_temp, test_size=0.5, random_state=42)  # 15% validation, 15% test\n",
    "\n"
   ]
  },
  {
   "cell_type": "markdown",
   "metadata": {},
   "source": [
    "### Normalize the numerical variables in the training set"
   ]
  },
  {
   "cell_type": "code",
   "execution_count": 15,
   "metadata": {},
   "outputs": [],
   "source": [
    "# Normalize the numerical variables in the training set\n",
    "numerical_columns = ['credit_score', 'age', 'tenure', 'balance', 'num_of_products', 'has_cr_card', 'is_active_member', 'estimated_salary']\n",
    "scaler = StandardScaler()"
   ]
  },
  {
   "cell_type": "markdown",
   "metadata": {},
   "source": [
    "### Instead of updating the X_train and X_test directly, create new DataFrames"
   ]
  },
  {
   "cell_type": "code",
   "execution_count": 16,
   "metadata": {},
   "outputs": [],
   "source": [
    "# Instead of updating the X_train and X_test directly, create new DataFrames\n",
    "X_train_scaled = X_train.copy()\n",
    "X_train_scaled.loc[:, numerical_columns] = scaler.fit_transform(X_train[numerical_columns])\n",
    "\n",
    "X_test_scaled = X_test.copy()\n",
    "X_test_scaled.loc[:, numerical_columns] = scaler.transform(X_test[numerical_columns])"
   ]
  },
  {
   "cell_type": "markdown",
   "metadata": {},
   "source": [
    "<div class=\"alert alert-danger\">\n",
    "<s><b>Reviewer's comment</b>\n",
    "\n",
    "If we apply scaling before splitting the data, it's possible for data leakage to occur (because the scaler, which is evidently a part of the model, is fit using all data, including validation/test data, which we're not allowed to see)\n",
    "\n",
    "</div>"
   ]
  },
  {
   "cell_type": "markdown",
   "metadata": {},
   "source": [
    "<div class=\"alert alert-info\">\n",
    "Good point, <br>\n",
    "split the data first, then scale.\n",
    "</div>"
   ]
  },
  {
   "cell_type": "markdown",
   "metadata": {},
   "source": [
    "<div class=\"alert alert-success\">\n",
    "<b>Reviewer's comment V2</b>\n",
    "\n",
    "Great!\n",
    "\n",
    "</div>"
   ]
  },
  {
   "cell_type": "markdown",
   "metadata": {},
   "source": [
    "### One-hot encode the categorical variables"
   ]
  },
  {
   "cell_type": "code",
   "execution_count": 17,
   "metadata": {},
   "outputs": [],
   "source": [
    "# One-hot encode the categorical variables\n",
    "data = pd.get_dummies(data, columns=['geography', 'gender'], drop_first=True, prefix=['geo', 'gender'])"
   ]
  },
  {
   "cell_type": "markdown",
   "metadata": {},
   "source": [
    "### One-hot encode the categorical variables"
   ]
  },
  {
   "cell_type": "code",
   "execution_count": 18,
   "metadata": {},
   "outputs": [],
   "source": [
    "# One-hot encode the categorical variables\n",
    "X_train_encoded = pd.get_dummies(X_train_scaled, columns=['geography', 'gender'], drop_first=True, prefix=['geo', 'gender'])\n",
    "X_test_encoded = pd.get_dummies(X_test_scaled, columns=['geography', 'gender'], drop_first=True, prefix=['geo', 'gender'])\n"
   ]
  },
  {
   "cell_type": "markdown",
   "metadata": {},
   "source": [
    "### Print value counts for the one-hot encoded columns"
   ]
  },
  {
   "cell_type": "code",
   "execution_count": 19,
   "metadata": {},
   "outputs": [
    {
     "name": "stdout",
     "output_type": "stream",
     "text": [
      "0    7491\n",
      "1    2509\n",
      "Name: geo_Germany, dtype: int64\n",
      "0    7523\n",
      "1    2477\n",
      "Name: geo_Spain, dtype: int64\n",
      "1    5457\n",
      "0    4543\n",
      "Name: gender_Male, dtype: int64\n"
     ]
    }
   ],
   "source": [
    "# Print value counts for the one-hot encoded columns\n",
    "# Uncomment the following line to print value counts for 'geo_Germany'\n",
    "print(data['geo_Germany'].value_counts())\n",
    "\n",
    "# Print value counts for 'geo_Spain' and 'gender_Male'\n",
    "print(data['geo_Spain'].value_counts())\n",
    "print(data['gender_Male'].value_counts())\n"
   ]
  },
  {
   "cell_type": "markdown",
   "metadata": {},
   "source": [
    "* For 'geo_Germany', there are 2,509 instances with a value of 1 (meaning the customer is from Germany) and 7,491 instances with a value of 0 (meaning the customer is not from Germany). <br>\n",
    "* For 'geo_Spain', there are 2,477 instances with a value of 1 (meaning the customer is from Spain) and 7,523 instances with a value of 0 (meaning the customer is not from Spain). <br>\n",
    "* For 'gender_Male', there are 5,457 instances with a value of 1 (meaning the customer is male) and 4,543 instances with a value of 0 (meaning the customer is not male, i.e., female). <br>"
   ]
  },
  {
   "cell_type": "markdown",
   "metadata": {},
   "source": [
    "<div class=\"alert alert-danger\">\n",
    "<s><b>Reviewer's comment</b>\n",
    "\n",
    "If you use `pd.get_dummies` to one-hot encode categorical features it's important to set `drop_first=True` parameter, otherwise we're adding linearly dependent columns to the data, which can create [problems](https://en.wikipedia.org/wiki/Multicollinearity) for the models\n",
    "\n",
    "</div>"
   ]
  },
  {
   "cell_type": "markdown",
   "metadata": {},
   "source": [
    "<div class=\"alert alert-info\">\n",
    "updated drop_first=True\n",
    "</div>"
   ]
  },
  {
   "cell_type": "markdown",
   "metadata": {},
   "source": [
    "<div class=\"alert alert-success\">\n",
    "<b>Reviewer's comment V2</b>\n",
    "\n",
    "Good!\n",
    "\n",
    "</div>"
   ]
  },
  {
   "cell_type": "markdown",
   "metadata": {},
   "source": [
    "# Examine the balance of classes \n",
    "Train the model without taking into account the imbalance. Briefly describe your findings.\n",
    "Let's examine the class balance in the target variable y. Then we can train a model without considering the imbalance and discuss the findings.\n",
    "To check the class balance, you can use the value_counts() method on the target variable y."
   ]
  },
  {
   "cell_type": "markdown",
   "metadata": {},
   "source": [
    "<div class=\"alert alert-danger\">\n",
    "<s><b>Reviewer's comment</b>\n",
    "\n",
    "Please check how many examples of each class there are\n",
    "\n",
    "</div>"
   ]
  },
  {
   "cell_type": "code",
   "execution_count": 20,
   "metadata": {},
   "outputs": [
    {
     "name": "stdout",
     "output_type": "stream",
     "text": [
      "0    7963\n",
      "1    2037\n",
      "Name: exited, dtype: int64\n"
     ]
    }
   ],
   "source": [
    "print(y.value_counts())"
   ]
  },
  {
   "cell_type": "markdown",
   "metadata": {},
   "source": [
    "### Examine the balance of classes"
   ]
  },
  {
   "cell_type": "code",
   "execution_count": 21,
   "metadata": {},
   "outputs": [
    {
     "name": "stdout",
     "output_type": "stream",
     "text": [
      "Class counts:\n",
      " 0    7963\n",
      "1    2037\n",
      "Name: exited, dtype: int64\n",
      "Class proportions:\n",
      " 0    0.7963\n",
      "1    0.2037\n",
      "Name: exited, dtype: float64\n"
     ]
    }
   ],
   "source": [
    "# Examine the balance of classes\n",
    "class_counts = y.value_counts()\n",
    "print(\"Class counts:\\n\", class_counts)\n",
    "print(\"Class proportions:\\n\", class_counts / len(y))\n"
   ]
  },
  {
   "cell_type": "code",
   "execution_count": 22,
   "metadata": {},
   "outputs": [
    {
     "data": {
      "image/png": "[encoded data removed]",
      "text/plain": [
       "<Figure size 432x288 with 1 Axes>"
      ]
     },
     "metadata": {
      "needs_background": "light"
     },
     "output_type": "display_data"
    }
   ],
   "source": [
    "import matplotlib.pyplot as plt\n",
    "\n",
    "# Define class labels\n",
    "class_labels = {0: 'Not Exited', 1: 'Exited'}\n",
    "\n",
    "# Plot the class distribution\n",
    "fig, ax = plt.subplots()\n",
    "y.value_counts().plot(kind='bar', ax=ax)\n",
    "ax.set_title('Class Distribution')\n",
    "ax.set_xlabel('Class')\n",
    "ax.set_ylabel('Count')\n",
    "plt.xticks([0, 1], [class_labels[0], class_labels[1]], rotation=0)\n",
    "\n",
    "plt.show()\n"
   ]
  },
  {
   "cell_type": "markdown",
   "metadata": {},
   "source": [
    "As the above chart shows, the number of customers who have Not Exited is much higher than the number of customers who have Exited. This is an example of an imbalanced dataset. <br>\n",
    "<br>\n",
    "It's also the opposite problem of Silicon Valley Bank's dataset, where the number of customers who have Exited is much higher than the number of customers who have Not Exited. <br> # Joke"
   ]
  },
  {
   "cell_type": "markdown",
   "metadata": {},
   "source": [
    "<div class=\"alert alert-success\">\n",
    "<b>Reviewer's comment V2</b>\n",
    "\n",
    "Excellent! \n",
    "    \n",
    "> It's also the opposite problem of Silicon Valley Bank's dataset, where the number of customers who have Exited is much higher than the number of customers who have Not Exited.\n",
    "    \n",
    "Haha, yeah :)\n",
    "\n",
    "</div>"
   ]
  },
  {
   "cell_type": "code",
   "execution_count": 23,
   "metadata": {},
   "outputs": [
    {
     "name": "stdout",
     "output_type": "stream",
     "text": [
      "              precision    recall  f1-score   support\n",
      "\n",
      "           0       0.80      1.00      0.89      1200\n",
      "           1       0.00      0.00      0.00       300\n",
      "\n",
      "    accuracy                           0.80      1500\n",
      "   macro avg       0.40      0.50      0.44      1500\n",
      "weighted avg       0.64      0.80      0.71      1500\n",
      "\n"
     ]
    },
    {
     "name": "stderr",
     "output_type": "stream",
     "text": [
      "/Users/adamgoyer/opt/anaconda3/lib/python3.8/site-packages/sklearn/metrics/_classification.py:1245: UndefinedMetricWarning: Precision and F-score are ill-defined and being set to 0.0 in labels with no predicted samples. Use `zero_division` parameter to control this behavior.\n",
      "  _warn_prf(average, modifier, msg_start, len(result))\n",
      "/Users/adamgoyer/opt/anaconda3/lib/python3.8/site-packages/sklearn/metrics/_classification.py:1245: UndefinedMetricWarning: Precision and F-score are ill-defined and being set to 0.0 in labels with no predicted samples. Use `zero_division` parameter to control this behavior.\n",
      "  _warn_prf(average, modifier, msg_start, len(result))\n",
      "/Users/adamgoyer/opt/anaconda3/lib/python3.8/site-packages/sklearn/metrics/_classification.py:1245: UndefinedMetricWarning: Precision and F-score are ill-defined and being set to 0.0 in labels with no predicted samples. Use `zero_division` parameter to control this behavior.\n",
      "  _warn_prf(average, modifier, msg_start, len(result))\n"
     ]
    }
   ],
   "source": [
    "from sklearn.linear_model import LogisticRegression\n",
    "from sklearn.metrics import classification_report\n",
    "\n",
    "# Train the logistic regression model\n",
    "lr = LogisticRegression(random_state=42)\n",
    "lr.fit(X_train_encoded, y_train)\n",
    "\n",
    "# Make predictions on the validation set\n",
    "y_pred = lr.predict(X_test_encoded)\n",
    "\n",
    "# Print classification report\n",
    "print(classification_report(y_test, y_pred))\n",
    "\n",
    "# Uncomment the print function below to:\n",
    "# Suppress UndefinedMetricWarning\n",
    "# and the precision, recall, and F1-score for the minority class will be set to 1 (or the value you provided for zero_division) when there are no predicted samples.\n",
    "\n",
    "# Print classification report with zero_division set to 1\n",
    "# print(classification_report(y_test, y_pred, zero_division=1))\n"
   ]
  },
  {
   "cell_type": "markdown",
   "metadata": {},
   "source": [
    "The classification report shows that the Logistic Regression model is not performing well for the minority class (class 1, 'Exited'). The precision, recall, and F1-score for class 1 are all 0, which indicates that the model is unable to correctly identify any positive cases in the imbalanced dataset. This is likely because the model is biased towards the majority class (class 0, 'Not Exited'), which is expected when dealing with imbalanced data."
   ]
  },
  {
   "cell_type": "markdown",
   "metadata": {},
   "source": [
    "<div class=\"alert alert-success\">\n",
    "<b>Reviewer's comment</b>\n",
    "\n",
    "The data was split into train, validation and test sets\n",
    "\n",
    "</div>"
   ]
  },
  {
   "cell_type": "markdown",
   "metadata": {},
   "source": [
    "### Train the random forest classifier"
   ]
  },
  {
   "cell_type": "code",
   "execution_count": 24,
   "metadata": {},
   "outputs": [
    {
     "data": {
      "text/plain": [
       "RandomForestClassifier()"
      ]
     },
     "execution_count": 24,
     "metadata": {},
     "output_type": "execute_result"
    }
   ],
   "source": [
    "### Train the random forest classifier\n",
    "rf = RandomForestClassifier()\n",
    "rf.fit(X_train_encoded, y_train)\n"
   ]
  },
  {
   "cell_type": "markdown",
   "metadata": {},
   "source": [
    "### Get predicted probabilities"
   ]
  },
  {
   "cell_type": "code",
   "execution_count": 25,
   "metadata": {},
   "outputs": [],
   "source": [
    "# Get predicted probabilities\n",
    "y_pred_proba = rf.predict_proba(X_test_encoded)[:, 1]"
   ]
  },
  {
   "cell_type": "markdown",
   "metadata": {},
   "source": [
    "### Get binary predictions"
   ]
  },
  {
   "cell_type": "code",
   "execution_count": 26,
   "metadata": {},
   "outputs": [],
   "source": [
    "# Get binary predictions\n",
    "y_pred = rf.predict(X_test_encoded)"
   ]
  },
  {
   "cell_type": "markdown",
   "metadata": {},
   "source": [
    "### Make predictions on the test set"
   ]
  },
  {
   "cell_type": "code",
   "execution_count": 27,
   "metadata": {},
   "outputs": [
    {
     "name": "stdout",
     "output_type": "stream",
     "text": [
      "Accuracy: 0.866\n",
      "F1 Score: 0.5872689938398358\n",
      "ROC AUC Score: 0.8657930555555555\n"
     ]
    }
   ],
   "source": [
    "# Print the results\n",
    "print(\"Accuracy:\", accuracy_score(y_test, y_pred))\n",
    "print(\"F1 Score:\", f1_score(y_test, y_pred))\n",
    "print(\"ROC AUC Score:\", roc_auc_score(y_test, y_pred_proba))"
   ]
  },
  {
   "cell_type": "markdown",
   "metadata": {},
   "source": [
    "<div class=\"alert alert-danger\">\n",
    "<s><b>Reviewer's comment</b>\n",
    "\n",
    "There is a small problem with ROC-AUC calculation throughout the project. To calculate ROC-AUC we need 'probabilities' (method `predict_proba`, not binary predictions (method `predict`) which are used for F1 score and accuracy. The reason is that the ROC curve is constructed by varying the threshold of assigning positive class between 0 and 1. For binary predictions the threshold is predefined, so ROC-AUC calculated this way will underestimate the true ROC-AUC.\n",
    "\n",
    "</div>"
   ]
  },
  {
   "cell_type": "markdown",
   "metadata": {},
   "source": [
    "<div class=\"alert alert-info\">\n",
    "The ROC-AUC score is now calculated using the predict_proba method\n",
    "</div>"
   ]
  },
  {
   "cell_type": "markdown",
   "metadata": {},
   "source": [
    "<div class=\"alert alert-success\">\n",
    "<b>Reviewer's comment V2</b>\n",
    "\n",
    "Excellent!\n",
    "\n",
    "</div>"
   ]
  },
  {
   "cell_type": "markdown",
   "metadata": {},
   "source": [
    "To visualize the results, you can use matplotlib to plot a confusion matrix, which shows the number of true and false positives and negatives. This can give you a better understanding of the performance of your model, as well as any areas where it may be misclassifying instances. To plot a confusion matrix, you can use the following code:"
   ]
  },
  {
   "cell_type": "markdown",
   "metadata": {},
   "source": [
    "### Get the confusion matrix and classification report"
   ]
  },
  {
   "cell_type": "code",
   "execution_count": 28,
   "metadata": {},
   "outputs": [
    {
     "name": "stdout",
     "output_type": "stream",
     "text": [
      "Confusion Matrix:\n",
      "[[1156   44]\n",
      " [ 157  143]]\n",
      "Classification Report:\n",
      "              precision    recall  f1-score   support\n",
      "\n",
      "           0       0.88      0.96      0.92      1200\n",
      "           1       0.76      0.48      0.59       300\n",
      "\n",
      "    accuracy                           0.87      1500\n",
      "   macro avg       0.82      0.72      0.75      1500\n",
      "weighted avg       0.86      0.87      0.85      1500\n",
      "\n",
      "ROC AUC Score: 0.8657930555555555\n"
     ]
    }
   ],
   "source": [
    "from sklearn.metrics import confusion_matrix, classification_report\n",
    "\n",
    "# Get predicted probabilities\n",
    "y_pred_proba = rf.predict_proba(X_test_encoded)[:, 1]\n",
    "\n",
    "# Get binary predictions\n",
    "y_pred = rf.predict(X_test_encoded)\n",
    "\n",
    "# Get the confusion matrix and classification report\n",
    "cm = confusion_matrix(y_test, y_pred)\n",
    "cr = classification_report(y_test, y_pred)\n",
    "\n",
    "print(\"Confusion Matrix:\")\n",
    "print(cm)\n",
    "print(\"Classification Report:\")\n",
    "print(cr)\n",
    "print(\"ROC AUC Score:\", roc_auc_score(y_test, y_pred_proba))\n"
   ]
  },
  {
   "cell_type": "code",
   "execution_count": 29,
   "metadata": {},
   "outputs": [
    {
     "data": {
      "image/png": "[encoded data removed]",
      "text/plain": [
       "<Figure size 432x288 with 2 Axes>"
      ]
     },
     "metadata": {
      "needs_background": "light"
     },
     "output_type": "display_data"
    }
   ],
   "source": [
    "y_pred = rf.predict(X_test_encoded)\n",
    "cm = confusion_matrix(y_test, y_pred)\n",
    "\n",
    "sns.heatmap(cm, annot=True, fmt='d')\n",
    "plt.title(f\"Confusion Matrix\\nROC AUC Score: {roc_auc_score(y_test, y_pred_proba):.2f}\")\n",
    "plt.xlabel(\"Predicted Label\")\n",
    "plt.ylabel(\"True Label\")\n",
    "plt.show()\n"
   ]
  },
  {
   "cell_type": "markdown",
   "metadata": {},
   "source": [
    "# Imbalanced Outputs Summary\n",
    "In this section, we have analyzed the performance of a RandomForest classifier on a dataset with imbalanced classes. The results are as follows:\n",
    "\n",
    "## Confusion Matrix \n",
    "The confusion matrix indicates that the classifier is more accurate in predicting the majority class (0) than the minority class (1). Out of 2003 instances of class 0, the model correctly predicted 1932 of them, while it misclassified 71 instances. On the other hand, out of 497 instances of class 1, the model correctly predicted only 233 of them, misclassifying 264 instances.\n",
    "\n",
    "## Classification Report:\n",
    "The classification report shows that the model has a higher precision, recall, and f1-score for class 0 than for class 1. This is a common issue when dealing with imbalanced datasets. The classifier tends to perform better on the majority class, while it struggles to correctly classify the minority class.\n",
    "\n",
    "ROC AUC Score: 0.8665377185730458\n",
    "\n",
    "The ROC AUC score, which measures the classifier's ability to distinguish between positive and negative classes, is 0.87. This value suggests that the model has a good overall performance in terms of ranking the instances by their probability of belonging to the positive class. However, the imbalanced outputs may still be problematic, and further techniques (such as resampling or using different evaluation metrics) may be necessary to improve the performance on the minority class.\n",
    "\n",
    "## Comparison with Logistic Regression\n",
    "In addition to the RandomForest classifier, we also trained a Logistic Regression model on the dataset. The results for the Logistic Regression model are as follows:\n",
    "\n",
    "              precision    recall  f1-score   support\n",
    "\n",
    "           0       0.80      1.00      0.89      2003\n",
    "           1       0.00      0.00      0.00       497\n",
    "\n",
    "    accuracy                           0.80      2500\n",
    "   macro avg       0.40      0.50      0.44      2500\n",
    "weighted avg       0.64      0.80      0.71      2500\n",
    "\n",
    "The Logistic Regression model shows even more severe issues with the imbalanced dataset. The model fails to correctly classify any instance from the minority class (1), resulting in a precision, recall, and f1-score of 0 for this class. For the majority class (0), the model has a precision of 0.80, a recall of 1.00, and an f1-score of 0.89.\n",
    "\n",
    "The overall accuracy of the Logistic Regression model is 0.80, which is slightly lower than the accuracy of the RandomForest classifier (0.87). Moreover, the macro-average f1-score of the Logistic Regression model is considerably lower (0.44) compared to the RandomForest classifier (0.75), indicating that the RandomForest model is more balanced in terms of its performance on both classes.\n",
    "\n",
    "As we did not calculate the ROC AUC score for the Logistic Regression model, we cannot directly compare the performance of the two models based on this metric. However, considering the other metrics, it is clear that the RandomForest classifier outperforms the Logistic Regression model on the imbalanced dataset, particularly in handling the minority class."
   ]
  },
  {
   "cell_type": "markdown",
   "metadata": {},
   "source": [
    "<div class=\"alert alert-success\">\n",
    "<b>Reviewer's comment</b>\n",
    "\n",
    "Ok, great, you trained a model without taking the imbalance into account first\n",
    "\n",
    "</div>"
   ]
  },
  {
   "cell_type": "markdown",
   "metadata": {},
   "source": [
    "# Normalize the numerical variables / Fix the Class Imbalance\n",
    "## Option 1: Smote & RF\n",
    "In this section, we address the class imbalance problem using the Synthetic Minority Over-sampling Technique (SMOTE). SMOTE is a popular technique used to balance imbalanced datasets by generating synthetic samples for the minority class. By creating new instances of the minority class, SMOTE enables classifiers to better learn the characteristics of this class, thus improving their performance."
   ]
  },
  {
   "cell_type": "code",
   "execution_count": 30,
   "metadata": {},
   "outputs": [
    {
     "name": "stdout",
     "output_type": "stream",
     "text": [
      "Class distribution before SMOTE: 0.20757142857142857\n",
      "Class distribution after SMOTE: 0.5\n"
     ]
    }
   ],
   "source": [
    "# Instantiate SMOTE\n",
    "smote = SMOTE()\n",
    "\n",
    "# Fit and apply SMOTE to the encoded training set\n",
    "X_train_resampled, y_train_resampled = smote.fit_resample(X_train_encoded, y_train)\n",
    "\n",
    "# Print the class distribution before and after SMOTE\n",
    "print(\"Class distribution before SMOTE:\", y_train.sum() / len(y_train))\n",
    "print(\"Class distribution after SMOTE:\", y_train_resampled.sum() / len(y_train_resampled))\n"
   ]
  },
  {
   "cell_type": "markdown",
   "metadata": {},
   "source": [
    "<div class=\"alert alert-danger\">\n",
    "<s><b>Reviewer's comment</b>\n",
    "\n",
    "Applying resampling to the whole dataset and then making a new split into train and test is not appropriate:\n",
    "    \n",
    "1. We can end up with the same examples in both train and test\n",
    "2. The resulting test set score is no longer representative of how the model will perform on the real world data (which is imbalanced), only how it would perform in the perfect world where the data is balanced. In other words, the test set score will be overly optimistic, and we can't trust this result.\n",
    "    \n",
    "Remember that any resampling technique should only be applied to the train set. The point is to help the model better learn about the underrepresented class.\n",
    "\n",
    "</div>"
   ]
  },
  {
   "cell_type": "markdown",
   "metadata": {},
   "source": [
    "<div class=\"alert alert-info\">\n",
    "Good point, <br>\n",
    "Updated the code to apply resampling to the train set only.\n",
    "</div>"
   ]
  },
  {
   "cell_type": "markdown",
   "metadata": {},
   "source": [
    "<div class=\"alert alert-success\">\n",
    "<b>Reviewer's comment V2</b>\n",
    "\n",
    "Good!\n",
    "\n",
    "</div>"
   ]
  },
  {
   "cell_type": "markdown",
   "metadata": {},
   "source": [
    "### Run the model again with the resampled data"
   ]
  },
  {
   "cell_type": "code",
   "execution_count": 31,
   "metadata": {},
   "outputs": [
    {
     "name": "stdout",
     "output_type": "stream",
     "text": [
      "Test Accuracy: 0.8533333333333334\n",
      "Test F1 Score: 0.5833333333333333\n",
      "Test ROC AUC Score: 0.8548708333333332\n"
     ]
    }
   ],
   "source": [
    "# Train your model using the resampled training set\n",
    "rf = RandomForestClassifier()\n",
    "rf.fit(X_train_resampled, y_train_resampled)\n",
    "\n",
    "# Evaluate your model using the original test set\n",
    "y_test_pred = rf.predict(X_test_encoded)\n",
    "print(\"Test Accuracy:\", accuracy_score(y_test, y_test_pred))\n",
    "print(\"Test F1 Score:\", f1_score(y_test, y_test_pred))\n",
    "print(\"Test ROC AUC Score:\", roc_auc_score(y_test, rf.predict_proba(X_test_encoded)[:, 1]))\n"
   ]
  },
  {
   "cell_type": "markdown",
   "metadata": {},
   "source": [
    "Validation Accuracy: 82.88%\n",
    "Test Accuracy: 85.44%\n",
    "The accuracy of your model has improved after applying SMOTE, but keep in mind that accuracy alone may not be the best metric when dealing with imbalanced datasets, as it can be misleading.\n",
    "\n",
    "Validation F1 Score: 0.566\n",
    "Test F1 Score: 0.588\n",
    "The F1 score, which is the harmonic mean of precision and recall, gives you a better sense of your model's performance on the minority class. The F1 scores on both validation and test sets have improved after using SMOTE, but there might still be room for improvement.\n",
    "\n",
    "Validation ROC AUC Score: 0.833\n",
    "Test ROC AUC Score: 0.845\n",
    "The ROC AUC score is a useful metric for evaluating the performance of classification models on imbalanced datasets. The scores have also improved after using SMOTE, but you might still explore other techniques for further improvement.\n",
    "\n",
    "Overall, the model's performance has significantly improved after using SMOTE to address the class imbalance in the training data."
   ]
  },
  {
   "cell_type": "markdown",
   "metadata": {},
   "source": [
    "<div class=\"alert alert-danger\">\n",
    "<s><b>Reviewer's comment</b>\n",
    "\n",
    "Here the train/test variables with original distribution are overwritten with resampled data which interferes with the results of the models with class weights applied and so on\n",
    "\n",
    "</div>"
   ]
  },
  {
   "cell_type": "markdown",
   "metadata": {},
   "source": [
    "<div class=\"alert alert-info\">\n",
    "Thank you, <br>\n",
    "I beleive I've fixed the error as sugested, but would appreciate a confirmation.\n",
    "</div>"
   ]
  },
  {
   "cell_type": "markdown",
   "metadata": {},
   "source": [
    "<div class=\"alert alert-success\">\n",
    "<b>Reviewer's comment V2</b>\n",
    "\n",
    "Yep, as you're now using a different variable name for resampled data, the issue is indeed gone!\n",
    "\n",
    "</div>"
   ]
  },
  {
   "cell_type": "markdown",
   "metadata": {},
   "source": [
    "In this code, we calculate the performance metrics (accuracy, F1 score, and ROC AUC score) for a model that was trained on resampled data using SMOTE. Then, we print the performance metrics and plot the confusion matrix for the test set predictions (y_test, y_test_pred)."
   ]
  },
  {
   "cell_type": "code",
   "execution_count": 32,
   "metadata": {},
   "outputs": [
    {
     "name": "stdout",
     "output_type": "stream",
     "text": [
      "Accuracy: 0.8533333333333334\n",
      "F1 Score: 0.5833333333333333\n",
      "ROC AUC Score: 0.8548708333333332\n"
     ]
    },
    {
     "data": {
      "image/png": "[encoded data removed]",
      "text/plain": [
       "<Figure size 432x288 with 2 Axes>"
      ]
     },
     "metadata": {
      "needs_background": "light"
     },
     "output_type": "display_data"
    }
   ],
   "source": [
    "from sklearn.metrics import accuracy_score, f1_score, roc_auc_score, confusion_matrix\n",
    "import seaborn as sns\n",
    "import matplotlib.pyplot as plt\n",
    "\n",
    "# Calculate the performance metrics\n",
    "accuracy = accuracy_score(y_test, y_test_pred)\n",
    "f1 = f1_score(y_test, y_test_pred)\n",
    "roc_auc = roc_auc_score(y_test, rf.predict_proba(X_test_encoded)[:, 1])  # Use X_test_encoded for ROC AUC\n",
    "\n",
    "# Print the performance metrics\n",
    "print(\"Accuracy:\", accuracy)\n",
    "print(\"F1 Score:\", f1)\n",
    "print(\"ROC AUC Score:\", roc_auc)\n",
    "\n",
    "# Get the confusion matrix\n",
    "cm = confusion_matrix(y_test, y_test_pred)\n",
    "\n",
    "# Plot the confusion matrix\n",
    "sns.heatmap(cm, annot=True, fmt='d', cmap='Blues')\n",
    "plt.title(\"Confusion Matrix\")\n",
    "plt.xlabel(\"Predicted Label\")\n",
    "plt.ylabel(\"True Label\")\n",
    "plt.show()\n"
   ]
  },
  {
   "cell_type": "markdown",
   "metadata": {},
   "source": [
    "This block of code performs hyperparameter optimization for the RandomForestClassifier using RandomizedSearchCV. It defines the parameter space to search, instantiates the classifier, and creates a RandomizedSearchCV object with the specified settings. Then, it fits the RandomizedSearchCV object to the resampled training data (using SMOTE). Finally, it prints the best parameters and the best score (ROC AUC) found during the search."
   ]
  },
  {
   "cell_type": "code",
   "execution_count": 33,
   "metadata": {},
   "outputs": [
    {
     "name": "stdout",
     "output_type": "stream",
     "text": [
      "Best Parameters: {'bootstrap': False, 'max_depth': 21, 'min_samples_leaf': 2, 'min_samples_split': 27, 'n_estimators': 272}\n",
      "Best Score: 0.954139690992297\n"
     ]
    }
   ],
   "source": [
    "from sklearn.model_selection import RandomizedSearchCV\n",
    "from sklearn.ensemble import RandomForestClassifier\n",
    "from scipy.stats import randint\n",
    "\n",
    "# Define the parameter space\n",
    "param_dist = {\n",
    "    'n_estimators': randint(100, 500),\n",
    "    'max_depth': randint(1, 50),\n",
    "    'min_samples_split': randint(2, 50),\n",
    "    'min_samples_leaf': randint(1, 50),\n",
    "    'bootstrap': [True, False],\n",
    "}\n",
    "\n",
    "# Instantiate the classifier\n",
    "rf = RandomForestClassifier()\n",
    "\n",
    "# Create the RandomizedSearchCV object\n",
    "random_search = RandomizedSearchCV(\n",
    "    rf, param_distributions=param_dist, n_iter=100, cv=5, scoring='roc_auc', n_jobs=-1, random_state=12345\n",
    ")\n",
    "\n",
    "# Fit the RandomizedSearchCV object to the training data\n",
    "random_search.fit(X_train_resampled, y_train_resampled)\n",
    "\n",
    "# Get the best parameters and the best score\n",
    "best_params = random_search.best_params_\n",
    "best_score = random_search.best_score_\n",
    "\n",
    "print(\"Best Parameters:\", best_params)\n",
    "print(\"Best Score:\", best_score)\n"
   ]
  },
  {
   "cell_type": "markdown",
   "metadata": {},
   "source": [
    "This block of code is used to make predictions on the test set using the best Random Forest model obtained from the hyperparameter optimization process (RandomizedSearchCV). "
   ]
  },
  {
   "cell_type": "code",
   "execution_count": 34,
   "metadata": {},
   "outputs": [
    {
     "data": {
      "text/plain": [
       "RandomForestClassifier(bootstrap=False, max_depth=21, min_samples_leaf=2,\n",
       "                       min_samples_split=27, n_estimators=272)"
      ]
     },
     "execution_count": 34,
     "metadata": {},
     "output_type": "execute_result"
    }
   ],
   "source": [
    "# Instantiate the best RandomForest model with the optimal hyperparameters\n",
    "best_rf = RandomForestClassifier(**best_params)\n",
    "\n",
    "# Fit the best RandomForest model to the resampled training data\n",
    "best_rf.fit(X_train_resampled, y_train_resampled)\n"
   ]
  },
  {
   "cell_type": "code",
   "execution_count": 35,
   "metadata": {},
   "outputs": [],
   "source": [
    "# Predict the probabilities and the class labels for the test set using the best Random Forest model\n",
    "y_pred_proba_best_rf = best_rf.predict_proba(X_test_encoded)[:, 1]\n",
    "y_pred_best_rf = best_rf.predict(X_test_encoded)\n"
   ]
  },
  {
   "cell_type": "markdown",
   "metadata": {},
   "source": [
    "This block of code evaluates the performance of the best Random Forest model obtained from the hyperparameter optimization process (RandomizedSearchCV) on the test set. The code does the following:"
   ]
  },
  {
   "cell_type": "code",
   "execution_count": 36,
   "metadata": {},
   "outputs": [
    {
     "name": "stdout",
     "output_type": "stream",
     "text": [
      "Accuracy: 0.8573333333333333\n",
      "F1 Score: 0.5962264150943396\n",
      "ROC AUC Score: 0.8551194444444444\n"
     ]
    },
    {
     "data": {
      "image/png": "[encoded data removed]",
      "text/plain": [
       "<Figure size 432x288 with 2 Axes>"
      ]
     },
     "metadata": {
      "needs_background": "light"
     },
     "output_type": "display_data"
    }
   ],
   "source": [
    "from sklearn.metrics import accuracy_score, f1_score, roc_auc_score, confusion_matrix\n",
    "import seaborn as sns\n",
    "import matplotlib.pyplot as plt\n",
    "\n",
    "# Calculate the performance metrics\n",
    "accuracy = accuracy_score(y_test, y_pred_best_rf)\n",
    "f1 = f1_score(y_test, y_pred_best_rf)\n",
    "roc_auc = roc_auc_score(y_test, y_pred_proba_best_rf)  # Changed from y_pred_best_rf to y_pred_proba_best_rf for ROC AUC Score\n",
    "\n",
    "# Print the performance metrics\n",
    "print(\"Accuracy:\", accuracy)\n",
    "print(\"F1 Score:\", f1)\n",
    "print(\"ROC AUC Score:\", roc_auc)\n",
    "\n",
    "# Get the confusion matrix\n",
    "cm = confusion_matrix(y_test, y_pred_best_rf)\n",
    "\n",
    "# Plot the confusion matrix\n",
    "sns.heatmap(cm, annot=True, fmt='d', cmap='Blues')\n",
    "plt.title(\"Confusion Matrix\")\n",
    "plt.xlabel(\"Predicted Label\")\n",
    "plt.ylabel(\"True Label\")\n",
    "plt.show()\n"
   ]
  },
  {
   "cell_type": "markdown",
   "metadata": {},
   "source": [
    "### The results\n",
    "The results show that the best combination of hyperparameters for the RandomForestClassifier, according to RandomizedSearchCV, are:\n",
    "\n",
    "* bootstrap: False\n",
    "* max_depth: 30\n",
    "* min_samples_leaf: 2\n",
    "* min_samples_split: 27\n",
    "* n_estimators: 292\n",
    "The best ROC AUC score achieved using this combination of hyperparameters is approximately 0.9555, which is an improvement over the previous models we've trained.\n",
    "\n",
    "We have used these optimized hyperparameters to train a RandomForestClassifier on the resampled data and evaluated its performance on the test set. The performance metrics for the optimized model are as follows:\n",
    "\n",
    "Accuracy: 0.8576\n",
    "F1 Score: 0.5955\n",
    "ROC AUC Score: 0.8484\n",
    "These results demonstrate that the optimized RandomForest model performs better on the resampled data (after applying SMOTE) compared to the previous models."
   ]
  },
  {
   "cell_type": "markdown",
   "metadata": {},
   "source": [
    "This block of code trains a RandomForestClassifier with the best hyperparameters found using RandomizedSearchCV. The model is trained on the resampled training data (created using SMOTE), which helps to address class imbalance.\n",
    "\n",
    "The trained model is then used to predict probabilities and class labels for the test set. Evaluation metrics (Accuracy, F1 Score, and ROC AUC Score) are calculated using these predictions and the true labels of the test set. Finally, the results are printed.\n",
    "\n",
    "This helps you to understand the performance of the optimized RandomForest model on the test set, providing insight into how well it generalizes to unseen data."
   ]
  },
  {
   "cell_type": "markdown",
   "metadata": {},
   "source": [
    "Summary of results from Option 1: Smote and Random Forest Classifier <br>\n",
    "<br>\n",
    "Before SMOTE, our results were: <br>\n",
    "* Accuracy: 0.8660 <br>\n",
    "* F1 Score: 0.5818 <br>\n",
    "* ROC AUC Score: 0.8665 <br>\n",
    "<br>\n",
    "With SMOTE, our results changed: <br>\n",
    "* Accuracy: 0.8548 (decreased compared to the initial model) <br>\n",
    "* F1 Score: 0.5851 (increased compared to the initial model) <br>\n",
    "* ROC AUC Score: 0.8439 (decreased compared to the initial model) <br>\n",
    "<br>\n",
    "After hyperparameter optimization, the results changed as follows: <br>\n",
    "* Test Accuracy: 0.8576 (increased compared to the SMOTE model) <br>\n",
    "* Test F1 Score: 0.5955 (increased compared to the SMOTE model) <br>\n",
    "* Test ROC AUC Score: 0.8484 (increased compared to the SMOTE model) <br>\n",
    "<br>\n",
    "Using SMOTE, the test F1 score increased compared to the initial model, while the accuracy and ROC AUC score slightly decreased. The performance metrics further increased after hyperparameter optimization, indicating better overall performance in terms of the trade-off between true positive rate and false positive rate."
   ]
  },
  {
   "cell_type": "markdown",
   "metadata": {},
   "source": [
    "<div class=\"alert alert-danger\">\n",
    "<s><b>Reviewer's comment</b>\n",
    "\n",
    "Please check the results after fixing the problem above\n",
    "\n",
    "</div>"
   ]
  },
  {
   "cell_type": "markdown",
   "metadata": {},
   "source": [
    "<div class=\"alert alert-info\">\n",
    "Thank you, <br>\n",
    "I beleive I've fixed the error(s) as sugested, but would appreciate a confirmation.\n",
    "</div>"
   ]
  },
  {
   "cell_type": "markdown",
   "metadata": {},
   "source": [
    "<div class=\"alert alert-warning\">\n",
    "<b>Reviewer's comment V2</b>\n",
    "\n",
    "Yep! Note that using resampled data for cross-validation is also problematic (for similar reason to resampling the whole dataset before splitting it into train/validation/test): in some folds the same examples can appear both in train and validation subsets, which can result in overly optimistic cross-validation scores. Not sure if you're familiar with the procedure of cross-validation, there's a nice overview [here](https://scikit-learn.org/stable/modules/cross_validation.html) and [here](https://machinelearningmastery.com/k-fold-cross-validation/) in case you haven't learned it yet or need a refresher.\n",
    "\n",
    "</div>"
   ]
  },
  {
   "cell_type": "markdown",
   "metadata": {},
   "source": [
    "# Option 2: Penalize Algorithms (Cost-Sensitive Training)\n",
    "Penalize Algorithms (Cost-Sensitive Training) is another technique that can be used to address class imbalance in machine learning datasets. The basic idea behind cost-sensitive training is to adjust the cost function of the machine learning algorithm to give higher penalties to misclassifications of the minority class. By doing so, the model is encouraged to pay more attention to the minority class during training and improve its ability to correctly classify instances from this class."
   ]
  },
  {
   "cell_type": "markdown",
   "metadata": {},
   "source": [
    "### Option 2: RandomForestClassifier with Class Weight Balancing"
   ]
  },
  {
   "cell_type": "code",
   "execution_count": 37,
   "metadata": {},
   "outputs": [],
   "source": [
    "X_val_scaled = X_val.copy()\n",
    "X_val_scaled.loc[:, numerical_columns] = scaler.transform(X_val[numerical_columns])\n",
    "X_val_encoded = pd.get_dummies(X_val_scaled, columns=['geography', 'gender'], drop_first=True, prefix=['geo', 'gender'])\n"
   ]
  },
  {
   "cell_type": "code",
   "execution_count": 38,
   "metadata": {},
   "outputs": [
    {
     "data": {
      "text/plain": [
       "RandomForestClassifier(class_weight='balanced', random_state=42)"
      ]
     },
     "execution_count": 38,
     "metadata": {},
     "output_type": "execute_result"
    }
   ],
   "source": [
    "from sklearn.ensemble import RandomForestClassifier\n",
    "\n",
    "# Define the RandomForestClassifier model with class_weight='balanced'\n",
    "rf_balanced = RandomForestClassifier(class_weight='balanced', random_state=42)\n",
    "\n",
    "# Fit the model to the training data\n",
    "rf_balanced.fit(X_train_encoded, y_train)\n"
   ]
  },
  {
   "cell_type": "code",
   "execution_count": 39,
   "metadata": {},
   "outputs": [
    {
     "name": "stdout",
     "output_type": "stream",
     "text": [
      "Validation Accuracy: 0.8753333333333333\n",
      "Validation F1 Score: 0.5797752808988763\n",
      "Validation ROC AUC Score: 0.8499394806338029\n"
     ]
    }
   ],
   "source": [
    "# Predict the probabilities and the class labels for the validation set\n",
    "y_pred_proba_rf_balanced = rf_balanced.predict_proba(X_val_encoded)[:, 1]\n",
    "y_pred_rf_balanced = rf_balanced.predict(X_val_encoded)\n",
    "\n",
    "# Calculate the evaluation metrics\n",
    "accuracy_rf_balanced = accuracy_score(y_val, y_pred_rf_balanced)\n",
    "f1_rf_balanced = f1_score(y_val, y_pred_rf_balanced)\n",
    "roc_auc_rf_balanced = roc_auc_score(y_val, y_pred_proba_rf_balanced)\n",
    "\n",
    "# Print the results\n",
    "print(\"Validation Accuracy:\", accuracy_rf_balanced)\n",
    "print(\"Validation F1 Score:\", f1_rf_balanced)\n",
    "print(\"Validation ROC AUC Score:\", roc_auc_rf_balanced)\n"
   ]
  },
  {
   "cell_type": "markdown",
   "metadata": {},
   "source": [
    "These results indicate that the RandomForestClassifier with class_weight=\"balanced\" performs better on the validation set compared to the previous results without balancing the class weights. The accuracy, F1 Score, and ROC AUC Score have all improved. This suggests that the model is better at handling the imbalanced dataset when the class_weight parameter is set to \"balanced\"."
   ]
  },
  {
   "cell_type": "markdown",
   "metadata": {},
   "source": [
    "<div class=\"alert alert-warning\">\n",
    "<b>Reviewer's comment</b>\n",
    "\n",
    "While you correctly applied class weights for logistic regression, this model was never trained without any balancing techniques, so it's impossible to find out how balancing affected it.\n",
    "\n",
    "</div>"
   ]
  },
  {
   "cell_type": "markdown",
   "metadata": {},
   "source": [
    "<div class=\"alert alert-info\">\n",
    "ahhh, good point, <br>\n",
    "Thank you, that's instuctive.\n",
    "I've updated the code to include the initial model without SMOTE, and re-run random forest with balaned weights instead of logistic regression. <br>\n",
    "I will leave the logistic regression model in the notebook for temporary reference, but will not include it in the summary.\n",
    "</div>"
   ]
  },
  {
   "cell_type": "markdown",
   "metadata": {},
   "source": [
    "<div class=\"alert alert-success\">\n",
    "<b>Reviewer's comment V2</b>\n",
    "\n",
    "Ok, although in my experience balancing affects logistic regression more than random forest :)\n",
    "\n",
    "</div>"
   ]
  },
  {
   "cell_type": "markdown",
   "metadata": {},
   "source": [
    "### Hyperparameter Optimization for RandomForestClassifier with Balanced Class Weights Using RandomizedSearchCV"
   ]
  },
  {
   "cell_type": "code",
   "execution_count": 40,
   "metadata": {},
   "outputs": [
    {
     "name": "stdout",
     "output_type": "stream",
     "text": [
      "Best hyperparameters: {'bootstrap': True, 'class_weight': 'balanced', 'max_depth': 29, 'max_features': 'auto', 'min_samples_leaf': 5, 'min_samples_split': 6, 'n_estimators': 860}\n",
      "Validation Accuracy: 0.8546666666666667\n",
      "Validation F1 Score: 0.6093189964157707\n",
      "Validation ROC AUC Score: 0.8598325148257968\n"
     ]
    }
   ],
   "source": [
    "# Import the necessary libraries\n",
    "from sklearn.model_selection import RandomizedSearchCV\n",
    "from scipy.stats import randint\n",
    "\n",
    "# Define the hyperparameter search space\n",
    "param_dist = {\n",
    "    'n_estimators': randint(100, 1000),\n",
    "    'max_depth': randint(1, 50),\n",
    "    'min_samples_split': randint(2, 10),\n",
    "    'min_samples_leaf': randint(1, 10),\n",
    "    'max_features': ['auto', 'sqrt', 'log2'],\n",
    "    'bootstrap': [True, False],\n",
    "    'class_weight': [\"balanced\"]\n",
    "}\n",
    "\n",
    "# Create a RandomForestClassifier instance\n",
    "rf = RandomForestClassifier(random_state=42)\n",
    "\n",
    "# Set up the RandomizedSearchCV\n",
    "random_search = RandomizedSearchCV(rf, param_distributions=param_dist, n_iter=100, cv=5, scoring='f1', n_jobs=-1, random_state=42)\n",
    "\n",
    "# Fit the random search model on the training data\n",
    "random_search.fit(X_train_encoded, y_train)\n",
    "\n",
    "# Print the best hyperparameters\n",
    "print(\"Best hyperparameters:\", random_search.best_params_)\n",
    "\n",
    "# Evaluate the best model on the validation set\n",
    "best_rf = random_search.best_estimator_\n",
    "y_pred_val = best_rf.predict(X_val_encoded)\n",
    "y_pred_proba_val = best_rf.predict_proba(X_val_encoded)[:, 1]\n",
    "\n",
    "accuracy_val = accuracy_score(y_val, y_pred_val)\n",
    "f1_val = f1_score(y_val, y_pred_val)\n",
    "roc_auc_val = roc_auc_score(y_val, y_pred_proba_val)\n",
    "\n",
    "print(\"Validation Accuracy:\", accuracy_val)\n",
    "print(\"Validation F1 Score:\", f1_val)\n",
    "print(\"Validation ROC AUC Score:\", roc_auc_val)\n"
   ]
  },
  {
   "cell_type": "markdown",
   "metadata": {},
   "source": [
    "This code will train the RandomForestClassifier with the best hyperparameters found by RandomizedSearchCV, and then it will make predictions and calculate the evaluation metrics for the test set. Finally, it will print the results."
   ]
  },
  {
   "cell_type": "code",
   "execution_count": 41,
   "metadata": {},
   "outputs": [
    {
     "name": "stdout",
     "output_type": "stream",
     "text": [
      "Test Accuracy: 0.8533333333333334\n",
      "Test F1 Score: 0.6333333333333333\n",
      "Test ROC AUC Score: 0.870486111111111\n"
     ]
    }
   ],
   "source": [
    "# Instantiate the RandomForestClassifier with the best hyperparameters\n",
    "best_rf_balanced = RandomForestClassifier(random_state=42, **random_search.best_params_)\n",
    "\n",
    "# Fit the model on the training data\n",
    "best_rf_balanced.fit(X_train_encoded, y_train)\n",
    "\n",
    "# Predict the probabilities and the class labels for the test set\n",
    "y_pred_proba_best_rf_balanced = best_rf_balanced.predict_proba(X_test_encoded)[:, 1]\n",
    "y_pred_best_rf_balanced = best_rf_balanced.predict(X_test_encoded)\n",
    "\n",
    "# Calculate the evaluation metrics\n",
    "accuracy_best_rf_balanced = accuracy_score(y_test, y_pred_best_rf_balanced)\n",
    "f1_best_rf_balanced = f1_score(y_test, y_pred_best_rf_balanced)\n",
    "roc_auc_best_rf_balanced = roc_auc_score(y_test, y_pred_proba_best_rf_balanced)\n",
    "\n",
    "# Print the results\n",
    "print(\"Test Accuracy:\", accuracy_best_rf_balanced)\n",
    "print(\"Test F1 Score:\", f1_best_rf_balanced)\n",
    "print(\"Test ROC AUC Score:\", roc_auc_best_rf_balanced)\n"
   ]
  },
  {
   "cell_type": "markdown",
   "metadata": {},
   "source": [
    "# Summary of Option 2: Penalize Algorithms (Cost-Sensitive Training)\n",
    "In this section, we utilized the cost-sensitive training approach by assigning the class_weight parameter as \"balanced\" in the RandomForestClassifier. This method adjusts the cost function of the machine learning algorithm to give higher penalties to misclassifications of the minority class, encouraging the model to pay more attention to the minority class during training.\n",
    "\n",
    "Here are the results for the model with class_weight set to \"balanced\":\n",
    "\n",
    "Validation Accuracy: 0.8753\n",
    "Validation F1 Score: 0.5798\n",
    "Validation ROC AUC Score: 0.8499\n",
    "\n",
    "Compared to the initial model without SMOTE, the model with class_weight set to \"balanced\" has a higher F1 score, but the improvement is not as significant as the SMOTE-based model. The ROC AUC score also improved compared to the initial model, but it's lower than the score obtained with the SMOTE-based model. The confusion matrix shows that the model is still misclassifying a significant number of minority class instances.\n",
    "\n",
    "In summary, penalizing the algorithm using cost-sensitive training did improve the model's performance to some extent, but the results are not as good as those achieved with the SMOTE-based model."
   ]
  },
  {
   "cell_type": "code",
   "execution_count": 42,
   "metadata": {},
   "outputs": [
    {
     "data": {
      "image/png": "[encoded data removed]",
      "text/plain": [
       "<Figure size 432x432 with 2 Axes>"
      ]
     },
     "metadata": {
      "needs_background": "light"
     },
     "output_type": "display_data"
    },
    {
     "data": {
      "image/png": "[encoded data removed]",
      "text/plain": [
       "<Figure size 576x432 with 1 Axes>"
      ]
     },
     "metadata": {
      "needs_background": "light"
     },
     "output_type": "display_data"
    }
   ],
   "source": [
    "import matplotlib.pyplot as plt\n",
    "from sklearn.metrics import plot_confusion_matrix, plot_roc_curve\n",
    "\n",
    "# Plot the confusion matrix\n",
    "fig, ax = plt.subplots(figsize=(6, 6))\n",
    "plot_confusion_matrix(best_rf_balanced, X_test_encoded, y_test, ax=ax, cmap='Blues')\n",
    "plt.title('Confusion Matrix for best_rf_balanced')\n",
    "plt.show()\n",
    "\n",
    "# Plot the ROC curve\n",
    "fig, ax = plt.subplots(figsize=(8, 6))\n",
    "plot_roc_curve(best_rf_balanced, X_test_encoded, y_test, ax=ax)\n",
    "plt.title('ROC Curve for best_rf_balanced')\n",
    "plt.plot([0, 1], [0, 1], 'k--', linewidth=1)\n",
    "plt.show()\n"
   ]
  },
  {
   "cell_type": "markdown",
   "metadata": {},
   "source": [
    "<div class=\"alert alert-warning\">\n",
    "<b>Reviewer's comment</b>\n",
    "\n",
    "Not sure where you found the 0.0 F1 score. I guess, you're citing the F1 score for 0 class? Then note that for binary classification what we call F1 score is F1 score of the positive (1) class\n",
    "\n",
    "</div>"
   ]
  },
  {
   "cell_type": "markdown",
   "metadata": {},
   "source": [
    "<strike>### Random Seed</strike>\n",
    "<strike>I forgot to establish a random seed for the Logistic Regression model, and received significantly improved results this time around. I'll make a note to fix this in future version.</strike>\n"
   ]
  },
  {
   "cell_type": "markdown",
   "metadata": {},
   "source": [
    "<div class=\"alert alert-warning\">\n",
    "<b>Reviewer's comment</b>\n",
    "\n",
    "I don't think that's the reason :)\n",
    "\n",
    "</div>"
   ]
  },
  {
   "cell_type": "markdown",
   "metadata": {},
   "source": [
    "<div class=\"alert alert-info\">\n",
    "Thank you, <br>\n",
    "</div>"
   ]
  },
  {
   "cell_type": "markdown",
   "metadata": {},
   "source": [
    "<div class=\"alert alert-success\">\n",
    "<b>Reviewer's comment</b>\n",
    "\n",
    "Good idea to save the model for future use!\n",
    "\n",
    "</div>"
   ]
  },
  {
   "cell_type": "markdown",
   "metadata": {},
   "source": [
    "<div class=\"alert alert-info\">\n",
    "thank you, <br>\n",
    "Moved Save and Load functions to the end of the document<br>\n",
    "</div>"
   ]
  },
  {
   "cell_type": "markdown",
   "metadata": {},
   "source": [
    "# Final testing:\n",
    "We will run both models on the validation set and compare the results."
   ]
  },
  {
   "cell_type": "markdown",
   "metadata": {},
   "source": [
    "<div class=\"alert alert-warning\">\n",
    "<b>Reviewer's comment</b>\n",
    "\n",
    "Usually the validation and test sets' roles are the reverse of how you used them :)\n",
    "\n",
    "</div>"
   ]
  },
  {
   "cell_type": "markdown",
   "metadata": {},
   "source": [
    "<div class=\"alert alert-info\">\n",
    "Huh... I thought we were validating the performance of the model... <br>\n",
    "I'll fix this in the next version.\n",
    "<br>\n",
    "Thank you for the feedback.\n",
    "<br>\n",
    "\n",
    "</div>"
   ]
  },
  {
   "cell_type": "markdown",
   "metadata": {},
   "source": [
    "<div class=\"alert alert-success\">\n",
    "<b>Reviewer's comment V2</b>\n",
    "\n",
    "Yep, the text below is correct! Of course, there is no practical difference in how the variables are named, it's just that most people would expect the naming as in the below text, so it helps to avoid confusion if you're not working on the code alone.\n",
    "\n",
    "</div>"
   ]
  },
  {
   "cell_type": "markdown",
   "metadata": {},
   "source": [
    "### \"Understanding the Roles of Training, Validation, and Test Sets in Machine Learning\"\n",
    "In machine learning, it is common practice to divide the dataset into three distinct sets: training, validation, and test sets. Each of these sets serves a specific purpose in the model development process.\n",
    "\n",
    "Training set:\n",
    "The training set is used to train the machine learning model. It is the largest portion of the dataset, typically consisting of about 60-80% of the data. The model learns the underlying patterns and relationships between the features (input variables) and the target (output variable) using the training set. During this process, the model adjusts its parameters to minimize the error between its predictions and the actual target values.\n",
    "\n",
    "Validation set:\n",
    "The validation set is used to fine-tune the model's hyperparameters and to select the best model among different model architectures or approaches. It usually consists of about 10-20% of the data. The validation set helps you to estimate the model's performance on unseen data while avoiding overfitting. When you train different models or adjust hyperparameters, you can use the validation set to choose the best performing model or hyperparameter combination based on some performance metric (e.g., accuracy, F1-score, or ROC-AUC score). The validation set helps prevent \"leakage\" of information from the test set into the model selection process, ensuring an unbiased evaluation of the model's performance.\n",
    "\n",
    "Test set:\n",
    "The test set is used to evaluate the final performance of the selected model. It usually consists of about 10-20% of the data. The test set is only used once after the model has been trained and the best hyperparameters have been chosen using the validation set. The performance metrics (e.g., accuracy, F1-score, or ROC-AUC score) obtained on the test set provide an unbiased estimate of how the model will perform on new, unseen data. The test set ensures that you have a fair assessment of your model's generalization ability, which is crucial for understanding its real-world performance.\n",
    "\n",
    "In summary, the training set is used to train the model, the validation set is used for model selection and hyperparameter tuning, and the test set is used for the final evaluation of the model's performance on unseen data. This division of the dataset helps to avoid overfitting and ensures a more accurate estimation of the model's generalization ability."
   ]
  },
  {
   "cell_type": "code",
   "execution_count": 43,
   "metadata": {},
   "outputs": [
    {
     "name": "stdout",
     "output_type": "stream",
     "text": [
      "         Model  Accuracy  F1 Score  ROC AUC Score\n",
      "0   SMOTE & RF  0.857333  0.596226       0.855119\n",
      "1  RF Balanced  0.853333  0.633333       0.870486\n"
     ]
    }
   ],
   "source": [
    "# Define the SMOTE-based model performance metrics\n",
    "accuracy_best_rf_smote = accuracy_score(y_test, y_pred_best_rf)\n",
    "f1_best_rf_smote = f1_score(y_test, y_pred_best_rf)\n",
    "roc_auc_best_rf_smote = roc_auc_score(y_test, y_pred_proba_best_rf)\n",
    "\n",
    "# Create the summary table with the performance metrics of each model\n",
    "summary = pd.DataFrame({\n",
    "    'Model': ['SMOTE & RF', 'RF Balanced'],\n",
    "    'Accuracy': [accuracy_best_rf_smote, accuracy_best_rf_balanced],\n",
    "    'F1 Score': [f1_best_rf_smote, f1_best_rf_balanced],\n",
    "    'ROC AUC Score': [roc_auc_best_rf_smote, roc_auc_best_rf_balanced]\n",
    "})\n",
    "\n",
    "print(summary)\n"
   ]
  },
  {
   "cell_type": "markdown",
   "metadata": {},
   "source": [
    "This code will loop through the two models, evaluate their performance on the validation set, and plot the confusion matrix and ROC curve for each model. "
   ]
  },
  {
   "cell_type": "code",
   "execution_count": 44,
   "metadata": {},
   "outputs": [
    {
     "name": "stdout",
     "output_type": "stream",
     "text": [
      "Model: SMOTE & RF\n",
      "Validation Accuracy: 0.8546666666666667\n",
      "Validation F1 Score: 0.6093189964157707\n",
      "Validation ROC AUC Score: 0.8598325148257968\n"
     ]
    },
    {
     "data": {
      "image/png": "[encoded data removed]",
      "text/plain": [
       "<Figure size 432x288 with 2 Axes>"
      ]
     },
     "metadata": {
      "needs_background": "light"
     },
     "output_type": "display_data"
    },
    {
     "data": {
      "image/png": "[encoded data removed]",
      "text/plain": [
       "<Figure size 432x288 with 1 Axes>"
      ]
     },
     "metadata": {
      "needs_background": "light"
     },
     "output_type": "display_data"
    },
    {
     "name": "stdout",
     "output_type": "stream",
     "text": [
      "\n",
      "\n",
      "Model: RF Balanced\n",
      "Validation Accuracy: 0.8546666666666667\n",
      "Validation F1 Score: 0.6093189964157707\n",
      "Validation ROC AUC Score: 0.8598325148257968\n"
     ]
    },
    {
     "data": {
      "image/png": "[encoded data removed]",
      "text/plain": [
       "<Figure size 432x288 with 2 Axes>"
      ]
     },
     "metadata": {
      "needs_background": "light"
     },
     "output_type": "display_data"
    },
    {
     "data": {
      "image/png": "[encoded data removed]",
      "text/plain": [
       "<Figure size 432x288 with 1 Axes>"
      ]
     },
     "metadata": {
      "needs_background": "light"
     },
     "output_type": "display_data"
    },
    {
     "name": "stdout",
     "output_type": "stream",
     "text": [
      "\n",
      "\n"
     ]
    }
   ],
   "source": [
    "import matplotlib.pyplot as plt\n",
    "from sklearn.metrics import plot_confusion_matrix, plot_roc_curve\n",
    "\n",
    "# List of models to evaluate\n",
    "models = [\n",
    "    ('SMOTE & RF', best_rf),\n",
    "    ('RF Balanced', best_rf_balanced)\n",
    "]\n",
    "\n",
    "# Loop through the models and plot the confusion matrix and ROC curve\n",
    "for name, model in models:\n",
    "    print(f\"Model: {name}\")\n",
    "    \n",
    "    # Predict the class labels and probabilities for the validation set\n",
    "    y_pred_val = model.predict(X_val_encoded)\n",
    "    y_pred_proba_val = model.predict_proba(X_val_encoded)[:, 1]\n",
    "    \n",
    "    # Calculate evaluation metrics for the validation set\n",
    "    accuracy_val = accuracy_score(y_val, y_pred_val)\n",
    "    f1_val = f1_score(y_val, y_pred_val)\n",
    "    roc_auc_val = roc_auc_score(y_val, y_pred_proba_val)\n",
    "    \n",
    "    print(\"Validation Accuracy:\", accuracy_val)\n",
    "    print(\"Validation F1 Score:\", f1_val)\n",
    "    print(\"Validation ROC AUC Score:\", roc_auc_val)\n",
    "    \n",
    "    # Plot the confusion matrix\n",
    "    fig, ax = plt.subplots()\n",
    "    plot_confusion_matrix(model, X_val_encoded, y_val, ax=ax)\n",
    "    plt.title(f\"Confusion Matrix - {name}\")\n",
    "    plt.show()\n",
    "    \n",
    "    # Plot the ROC curve\n",
    "    fig, ax = plt.subplots()\n",
    "    plot_roc_curve(model, X_val_encoded, y_val, ax=ax)\n",
    "    plt.title(f\"ROC Curve - {name}\")\n",
    "    plt.show()\n",
    "    print(\"\\n\")\n"
   ]
  },
  {
   "cell_type": "markdown",
   "metadata": {},
   "source": [
    "<div class=\"alert alert-danger\">\n",
    "<s><b>Reviewer's comment</b>\n",
    "\n",
    "- Remember that you first split the data into disjoint train, validation and test sets.\n",
    "    \n",
    "- Then you applied resampling to the whole dataset and split the result into new train and test (which now very well may interesect the original validation set).\n",
    "    \n",
    "- And then evaluated the model trained on the new train set (having a non-trivial intersection with the validation set) on the original validation set. Of course the results are looking great, because part of the validation set is the data the model was train on :)\n",
    "\n",
    "</div>"
   ]
  },
  {
   "cell_type": "markdown",
   "metadata": {},
   "source": [
    "<div class=\"alert alert-warning\">\n",
    "<b>Reviewer's comment</b>\n",
    "\n",
    "Looking at the ROC curve, my guess is that the logistic regression model suffered from linearly dependent columns in the data produced by `pd.get_dummies()`\n",
    "\n",
    "</div>"
   ]
  },
  {
   "cell_type": "markdown",
   "metadata": {},
   "source": [
    "<div class=\"alert alert-info\">\n",
    "Updated ROC curve looks a lot more reasonable :)<br>\n",
    "</div>"
   ]
  },
  {
   "cell_type": "markdown",
   "metadata": {},
   "source": [
    "<div class=\"alert alert-success\">\n",
    "<b>Reviewer's comment V2</b>\n",
    "\n",
    "Yep, makes sense!\n",
    "\n",
    "</div>"
   ]
  },
  {
   "cell_type": "markdown",
   "metadata": {},
   "source": [
    "# Final Summary\n",
    "\n",
    "In this analysis, we compared two different approaches to handle the class imbalance problem in a binary classification task using the RandomForestClassifier. <br>\n",
    "\n",
    "1. **SMOTE & RandomForest:** We utilized the Synthetic Minority Over-sampling Technique (SMOTE) to balance the dataset by generating synthetic samples for the minority class. The resulting balanced dataset was then used to train the RandomForestClassifier. The SMOTE-based model achieved the following results on the test set: <br> <br>\n",
    "    - Accuracy: 0.857333\n",
    "    - F1 Score: 0.596226\n",
    "    - ROC AUC Score: 0.855119 <br>\n",
    "<br>\n",
    "2. **RandomForest with Balanced Class Weights:** We adjusted the cost function of the RandomForestClassifier by assigning the `class_weight` parameter as \"balanced\". This method gives higher penalties to misclassifications of the minority class during training. The model with balanced class weights achieved the following results on the test set: <br> <br>\n",
    "    - Accuracy: 0.853333\n",
    "    - F1 Score: 0.633333\n",
    "    - ROC AUC Score: 0.870486 <br>\n",
    "\n",
    "Comparing the two approaches, the RandomForest with balanced class weights achieved a higher F1 Score and ROC AUC Score than the SMOTE-based model. Both models' performance metrics were significantly better than the initial model without any class imbalance handling. <br>\n",
    "<br>\n",
    "Based on the results, we recommend using the RandomForest with balanced class weights as it outperforms the SMOTE-based model in terms of the F1 Score and ROC AUC Score.\n"
   ]
  },
  {
   "cell_type": "markdown",
   "metadata": {},
   "source": [
    "<div class=\"alert alert-danger\">\n",
    "<s><b>Reviewer's comment</b>\n",
    "\n",
    "Indeed, it is a bit too perfect, please check the results after fixing the problems above :)\n",
    "\n",
    "</div>"
   ]
  },
  {
   "cell_type": "markdown",
   "metadata": {},
   "source": [
    "<div class=\"alert alert-info\">\n",
    "Certainly not perfect any more... <br>\n",
    "I don't understand why the performance for SMOTE plus Random forrest is so low. <br>\n",
    "I expected much better performance. <br>\n",
    "</div>"
   ]
  },
  {
   "cell_type": "markdown",
   "metadata": {},
   "source": [
    "<div class=\"alert alert-success\">\n",
    "<b>Reviewer's comment V2</b>\n",
    "\n",
    "Well, balancing can only do so much. If you compared performance of logistic regression with and without balancing, it is a much more dramatic improvement :)\n",
    "\n",
    "</div>"
   ]
  },
  {
   "cell_type": "markdown",
   "metadata": {},
   "source": [
    "# Project evaluation\n",
    "### Here’s what the reviewers will look at when reviewing your project:\n",
    "* How did you prepare the data for training? \n",
    "* Have you processed all of the feature types?\n",
    "* Have you explained the preprocessing steps well enough?\n",
    "* How did you investigate the balance of classes?\n",
    "* Did you study the model without taking into account the imbalance of classes?\n",
    "* What are your findings about the task research?\n",
    "* Have you correctly split the data into sets?\n",
    "* How have you worked with the imbalance of classes?\n",
    "* Did you use at least two techniques for imbalance fixing?\n",
    "* Have you performed the model training, validation, and final testing correctly?\n",
    "* How high is your F1 score?\n",
    "* Did you examine the AUC-ROC values?\n",
    "* Have you kept to the project structure and kept the code neat?\n",
    "\n",
    "Good luck!"
   ]
  },
  {
   "cell_type": "markdown",
   "metadata": {},
   "source": [
    "# Extra Credit"
   ]
  },
  {
   "cell_type": "markdown",
   "metadata": {},
   "source": [
    "# Optional: Grid Search CV\n",
    "To see if that helps improve the model's performance."
   ]
  },
  {
   "cell_type": "code",
   "execution_count": 45,
   "metadata": {},
   "outputs": [],
   "source": [
    "# Define the parameter grid for the SMOTE-based model\n",
    "smote_rf_param_grid = {\n",
    "    'n_estimators': [250, 272, 300, 350],\n",
    "    'max_depth': [15, 18, 21, 24, 27],\n",
    "    'min_samples_split': [20, 23, 27, 30, 33],\n",
    "    'min_samples_leaf': [1, 2, 3, 4, 5],\n",
    "    'bootstrap': [False]\n",
    "}\n",
    "\n",
    "# Define the parameter grid for the RF Balanced model\n",
    "rf_balanced_param_grid = {\n",
    "    'n_estimators': [800, 830, 860, 890, 920],\n",
    "    'max_depth': [24, 26, 29, 32, 34],\n",
    "    'min_samples_split': [4, 5, 6, 7, 8],\n",
    "    'min_samples_leaf': [3, 4, 5, 6, 7],\n",
    "    'max_features': ['auto'],\n",
    "    'bootstrap': [True],\n",
    "    'class_weight': ['balanced']\n",
    "}\n"
   ]
  },
  {
   "cell_type": "code",
   "execution_count": 46,
   "metadata": {},
   "outputs": [],
   "source": [
    "from sklearn.model_selection import GridSearchCV\n",
    "\n",
    "def run_grid_search(model_name, model, param_grid, X_train, y_train, X_test, y_test):\n",
    "    print(f\"Running grid search for {model_name}...\")\n",
    "\n",
    "    grid_search = GridSearchCV(model, param_grid, scoring='f1', cv=5, n_jobs=-1, verbose=2)\n",
    "    grid_search.fit(X_train, y_train)\n",
    "\n",
    "    best_model = grid_search.best_estimator_\n",
    "    best_params = grid_search.best_params_\n",
    "\n",
    "    # Evaluate the model on the test set\n",
    "    y_pred = best_model.predict(X_test)\n",
    "    y_pred_proba = best_model.predict_proba(X_test)[:, 1]\n",
    "\n",
    "    # Calculate evaluation metrics\n",
    "    accuracy = accuracy_score(y_test, y_pred)\n",
    "    f1 = f1_score(y_test, y_pred)\n",
    "    roc_auc = roc_auc_score(y_test, y_pred_proba)\n",
    "\n",
    "    print(f\"{model_name} Test Results:\")\n",
    "    print(f\"Accuracy: {accuracy}\")\n",
    "    print(f\"F1 Score: {f1}\")\n",
    "    print(f\"ROC AUC Score: {roc_auc}\")\n",
    "\n",
    "    return best_model, best_params\n"
   ]
  },
  {
   "cell_type": "code",
   "execution_count": 48,
   "metadata": {},
   "outputs": [],
   "source": [
    "# Not working - it's like it's pulling data that has not yet been one-hot encoded...\n",
    "\n",
    "# # Run grid search for the RF Balanced model\n",
    "# best_rf_balanced, best_rf_balanced_params = run_grid_search(\"RF Balanced\", rf_balanced, rf_balanced_param_grid, X_train_scaled, y_train, X_test_scaled, y_test)\n"
   ]
  },
  {
   "cell_type": "markdown",
   "metadata": {},
   "source": [
    "<div class=\"alert alert-success\">\n",
    "<b>Reviewer's comment V2</b>\n",
    "\n",
    "> Not working - it's like it's pulling data that has not yet been one-hot encoded...\n",
    "    \n",
    "Right, but isn't encoded data written in `X_train_encoded` and so on?\n",
    "\n",
    "</div>"
   ]
  },
  {
   "cell_type": "code",
   "execution_count": 50,
   "metadata": {},
   "outputs": [],
   "source": [
    "# # No time to fix this.\n",
    "\n",
    "# # Run grid search for the SMOTE-based model\n",
    "# best_smote_rf, best_smote_rf_params = run_grid_search(\"SMOTE & RF\", smote_rf, smote_rf_param_grid, X_train, y_train, X_test, y_test)"
   ]
  },
  {
   "cell_type": "markdown",
   "metadata": {},
   "source": [
    "# Extra Credit\n",
    "## Save both models to disk using the pickle library.\n"
   ]
  },
  {
   "cell_type": "code",
   "execution_count": 51,
   "metadata": {},
   "outputs": [],
   "source": [
    "import pickle\n",
    "from datetime import datetime\n",
    "\n",
    "def save_optimized_model(model, params, model_name):\n",
    "    # get the current date and time\n",
    "    now = datetime.now()\n",
    "\n",
    "    # create a string with the current date and time\n",
    "    # timestamp = now.strftime(\"%Y-%m-%d_%H-%M-%S\")\n",
    "    # Remove the min and seconds from the timestamp - that's rediculous\n",
    "    timestamp = now.strftime(\"%Y-%m-%d_%H\")\n",
    "\n",
    "    # create a filename with the current date and time\n",
    "    filename = f\"optimized_model_{model_name}_{timestamp}.pkl\"\n",
    "\n",
    "    # save the optimized model to a pickle file with the current date and time in the filename\n",
    "    with open(filename, 'wb') as f:\n",
    "        pickle.dump(model, f)\n",
    "\n",
    "    # create a filename for the best hyperparameters\n",
    "    params_filename = f\"best_params_{model_name}_{timestamp}.pkl\"\n",
    "\n",
    "    # save the best hyperparameters to a pickle file with the current date and time in the filename\n",
    "    with open(params_filename, 'wb') as f:\n",
    "        pickle.dump(params, f)\n"
   ]
  },
  {
   "cell_type": "code",
   "execution_count": 53,
   "metadata": {},
   "outputs": [],
   "source": [
    "# NameError: name 'random_search_balanced' is not defined\n",
    "\n",
    "# # Save the RandomForest model with balanced class weights\n",
    "# save_optimized_model(best_rf_balanced, random_search_balanced.best_params_, \"RF_Balanced\")"
   ]
  },
  {
   "cell_type": "code",
   "execution_count": 54,
   "metadata": {},
   "outputs": [],
   "source": [
    "# But this one is working...\n",
    "# interesting...\n",
    "\n",
    "# Save the SMOTE-based RandomForest model\n",
    "save_optimized_model(best_rf, random_search.best_params_, \"SMOTE_RF\")"
   ]
  },
  {
   "cell_type": "markdown",
   "metadata": {},
   "source": [
    "# Load Pkl - reference for future implementation\n",
    "This code block defines the load_most_recent_model function, which searches for files that match the given model_name pattern and loads the most recent model from the matching files. The function is called twice, once for the SMOTE-based RandomForest model and once for the RandomForest model with balanced class weights."
   ]
  },
  {
   "cell_type": "code",
   "execution_count": 55,
   "metadata": {},
   "outputs": [],
   "source": [
    "### Load pkl is at the end in case it messes up the code above\n",
    "\n",
    "import glob\n",
    "import os\n",
    "\n",
    "def load_most_recent_model(model_name):\n",
    "    # Get the list of all files that match the model_name pattern\n",
    "    files = glob.glob(f\"optimized_model_{model_name}_*.pkl\")\n",
    "\n",
    "    # Check if there are any files matching the pattern\n",
    "    if not files:\n",
    "        print(f\"No files found for {model_name}.\")\n",
    "        return None\n",
    "\n",
    "    # Find the most recent file\n",
    "    most_recent_file = max(files, key=os.path.getctime)\n",
    "\n",
    "    # Load the most recent model\n",
    "    with open(most_recent_file, 'rb') as f:\n",
    "        model = pickle.load(f)\n",
    "\n",
    "    print(f\"Loaded the most recent {model_name} model from file: {most_recent_file}\")\n",
    "    return model"
   ]
  },
  {
   "cell_type": "code",
   "execution_count": 56,
   "metadata": {},
   "outputs": [
    {
     "name": "stdout",
     "output_type": "stream",
     "text": [
      "Loaded the most recent SMOTE_RF model from file: optimized_model_SMOTE_RF_2023-03-17_13.pkl\n"
     ]
    }
   ],
   "source": [
    "# Load the most recent SMOTE-based RandomForest model\n",
    "most_recent_smote_rf = load_most_recent_model(\"SMOTE_RF\")"
   ]
  },
  {
   "cell_type": "code",
   "execution_count": 57,
   "metadata": {},
   "outputs": [
    {
     "name": "stdout",
     "output_type": "stream",
     "text": [
      "Loaded the most recent RF_Balanced model from file: optimized_model_RF_Balanced_2023-03-17_12.pkl\n"
     ]
    }
   ],
   "source": [
    "# Load the most recent RandomForest model with balanced class weights\n",
    "most_recent_rf_balanced = load_most_recent_model(\"RF_Balanced\")"
   ]
  }
 ],
 "metadata": {
  "kernelspec": {
   "display_name": "Python 3 (ipykernel)",
   "language": "python",
   "name": "python3"
  },
  "language_info": {
   "codemirror_mode": {
    "name": "ipython",
    "version": 3
   },
   "file_extension": ".py",
   "mimetype": "text/x-python",
   "name": "python",
   "nbconvert_exporter": "python",
   "pygments_lexer": "ipython3",
   "version": "3.9.5"
  },
  "toc": {
   "base_numbering": 1,
   "nav_menu": {},
   "number_sections": true,
   "sideBar": true,
   "skip_h1_title": true,
   "title_cell": "Table of Contents",
   "title_sidebar": "Contents",
   "toc_cell": false,
   "toc_position": {},
   "toc_section_display": true,
   "toc_window_display": false
  },
  "vscode": {
   "interpreter": {
    "hash": "ee2acf17696e022703a304c9cc2028b187948ca514c1a7cfe3ada4aba7a20c97"
   }
  }
 },
 "nbformat": 4,
 "nbformat_minor": 2
}
