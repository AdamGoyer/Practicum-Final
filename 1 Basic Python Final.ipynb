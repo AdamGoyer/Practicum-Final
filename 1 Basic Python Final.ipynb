{
 "cells": [
  {
   "cell_type": "markdown",
   "metadata": {},
   "source": [
    "<div style=\"border:solid green 2px; padding: 20px\"> <h1 style=\"color:green; margin-bottom:20px\">Reviewer's comment v1</h1>\n",
    "\n",
    "Hello Adam, my name is Dmitrii. I'm going to review your project! Nice to meet you! 🙌\n",
    "\n",
    "You can find my comments under the heading **«Review»**. I will categorize my comments in green, blue or red boxes like this:\n",
    "\n",
    "<div class=\"alert alert-success\">\n",
    "    <b>Success:</b> if everything is done successfully\n",
    "</div>\n",
    "<div class=\"alert alert-warning\">\n",
    "    <b>Remarks:</b> if I can give some recommendations or ways to improve the project\n",
    "   \n",
    "</div>\n",
    "<div class=\"alert alert-danger\">\n",
    "    <b>Needs fixing:</b> if the block requires some corrections. Work can't be accepted with the red comments\n",
    "</div>\n",
    "\n",
    "Please don't remove my comments :) If you have any questions don't hesitate to respond to my comments in a different section. \n",
    "<div class=\"alert alert-info\"> <b>Student comments:</b> For example like this</div>   \n",
    "   "
   ]
  },
  {
   "cell_type": "markdown",
   "metadata": {},
   "source": [
    "<div style=\"border:solid green 2px; padding: 20px\">\n",
    "<b>Reviewer's comment v1:</b>\n",
    "    \n",
    "<b>Overall Feedback</b> \n",
    "    \n",
    "- Overall well done! I can see that a lot of effort has been made! Your project looks very good and you accomplished impressive results.\n",
    "- There are no critical issues, so your project has been accepted. Congratulations! However, I want to send it back to you in case you have any questions or you want to make additional changes to the project.\n",
    "  \n",
    "And of course, if you have any questions along the way, remember that you can always reach out to your tutor for any clarification.\n",
    "    \n",
    "I will wait for you to send me a new version of the project :)\n",
    "\n",
    "    \n",
    "</div>"
   ]
  },
  {
   "cell_type": "markdown",
   "metadata": {},
   "source": [
    "<div style=\"border:solid green 2px; padding: 20px\">\n",
    "<b>Reviewer's comment v2:</b>\n",
    "    \n",
    "<b>Overall Feedback</b> \n",
    "\n",
    "Hello Adam, thank you for making all changes/comments in your project! I added only additional comments to your project. \n",
    "\n",
    "Overall, no critical issues left and everything is perfect now.\n",
    "    \n",
    "Please keep up the great work and good luck on the next project 🍀 \n",
    "</div>"
   ]
  },
  {
   "cell_type": "markdown",
   "metadata": {
    "id": "E0vqbgi9ay0H"
   },
   "source": [
    "# Yandex.Music"
   ]
  },
  {
   "cell_type": "markdown",
   "metadata": {
    "id": "fhq_eyov_Zcs"
   },
   "source": [
    "# Contents <a id='back'></a>\n",
    "\n",
    "* [Introduction](#intro)\n",
    "* [Stage 1. Data overview](#data_review)\n",
    "    * [Conclusions](#data_review_conclusions)\n",
    "* [Stage 2. Data preprocessing](#data_preprocessing)\n",
    "    * [2.1 Header style](#header_style)\n",
    "    * [2.2 Missing values](#missing_values)\n",
    "    * [2.3 Duplicates](#duplicates)\n",
    "    * [2.4 Conclusions](#data_preprocessing_conclusions)\n",
    "* [Stage 3. Testing the hypotheses](#hypotheses)\n",
    "    * [3.1 Hypothesis 1: user activity in the two cities](#activity)\n",
    "    * [3.2 Hypothesis 2: music preferences on Monday and Friday](#week)\n",
    "    * [3.3 Hypothesis 3: genre preferences in Springfield and Shelbyville](#genre)\n",
    "* [Findings](#end)"
   ]
  },
  {
   "cell_type": "markdown",
   "metadata": {
    "id": "VUC88oWjTJw2"
   },
   "source": [
    "## Introduction <a id='intro'></a>\n",
    "Whenever we're doing research, we need to formulate hypotheses that we can then test. Sometimes we accept these hypotheses; other times, we reject them. To make the right decisions, a business must be able to understand whether or not it's making the right assumptions.\n",
    "\n",
    "In this project, you'll compare the music preferences of the cities of Springfield and Shelbyville. You'll study real Yandex.Music data to test the hypotheses below and compare user behavior for these two cities.\n",
    "\n",
    "### Goal: \n",
    "Test three hypotheses:\n",
    "1. User activity differs depending on the day of the week and from city to city. \n",
    "2. On Monday mornings, Springfield and Shelbyville residents listen to different genres. This is also true for Friday evenings. \n",
    "3. Springfield and Shelbyville listeners have different preferences. In Springfield, they prefer pop, while Shelbyville has more rap fans.\n",
    "\n",
    "### Stages \n",
    "Data on user behavior is stored in the file `/datasets/music_project_en.csv`. There is no information about the quality of the data, so you will need to explore it before testing the hypotheses. \n",
    "\n",
    "First, you'll evaluate the quality of the data and see whether its issues are significant. Then, during data preprocessing, you will try to account for the most critical problems.\n",
    " \n",
    "Your project will consist of three stages:\n",
    " 1. Data overview\n",
    " 2. Data preprocessing\n",
    " 3. Testing the hypotheses\n",
    " \n",
    "[Back to Contents](#back)"
   ]
  },
  {
   "cell_type": "markdown",
   "metadata": {},
   "source": [
    "<div class=\"alert alert-success\">\n",
    "<b>Reviewer's comment v1:</b>\n",
    "    \n",
    "Great that you added additional information about project tasks. It gives an overview of what you are going to achieve in this project.\n"
   ]
  },
  {
   "cell_type": "markdown",
   "metadata": {
    "id": "Ml1hmfXC_Zcs"
   },
   "source": [
    "## Stage 1. Data overview <a id='data_review'></a>\n",
    "\n",
    "Open the data on Yandex.Music and explore it."
   ]
  },
  {
   "cell_type": "markdown",
   "metadata": {
    "id": "57eAOGIz_Zcs"
   },
   "source": [
    "You'll need `pandas`, so import it."
   ]
  },
  {
   "cell_type": "code",
   "execution_count": 2,
   "metadata": {
    "id": "AXN7PHPN_Zcs"
   },
   "outputs": [],
   "source": [
    "# importing pandas\n",
    "import pandas as pd\n",
    "import matplotlib.pyplot as plt"
   ]
  },
  {
   "cell_type": "markdown",
   "metadata": {
    "id": "SG23P8tt_Zcs"
   },
   "source": [
    "Read the file `music_project_en.csv` from the `/datasets/` folder and save it in the `df` variable:"
   ]
  },
  {
   "cell_type": "code",
   "execution_count": 3,
   "metadata": {
    "id": "fFVu7vqh_Zct"
   },
   "outputs": [
    {
     "data": {
      "text/html": [
       "<div>\n",
       "<style scoped>\n",
       "    .dataframe tbody tr th:only-of-type {\n",
       "        vertical-align: middle;\n",
       "    }\n",
       "\n",
       "    .dataframe tbody tr th {\n",
       "        vertical-align: top;\n",
       "    }\n",
       "\n",
       "    .dataframe thead th {\n",
       "        text-align: right;\n",
       "    }\n",
       "</style>\n",
       "<table border=\"1\" class=\"dataframe\">\n",
       "  <thead>\n",
       "    <tr style=\"text-align: right;\">\n",
       "      <th></th>\n",
       "      <th>userID</th>\n",
       "      <th>Track</th>\n",
       "      <th>artist</th>\n",
       "      <th>genre</th>\n",
       "      <th>City</th>\n",
       "      <th>time</th>\n",
       "      <th>Day</th>\n",
       "    </tr>\n",
       "  </thead>\n",
       "  <tbody>\n",
       "    <tr>\n",
       "      <td>0</td>\n",
       "      <td>FFB692EC</td>\n",
       "      <td>Kamigata To Boots</td>\n",
       "      <td>The Mass Missile</td>\n",
       "      <td>rock</td>\n",
       "      <td>Shelbyville</td>\n",
       "      <td>20:28:33</td>\n",
       "      <td>Wednesday</td>\n",
       "    </tr>\n",
       "    <tr>\n",
       "      <td>1</td>\n",
       "      <td>55204538</td>\n",
       "      <td>Delayed Because of Accident</td>\n",
       "      <td>Andreas Rönnberg</td>\n",
       "      <td>rock</td>\n",
       "      <td>Springfield</td>\n",
       "      <td>14:07:09</td>\n",
       "      <td>Friday</td>\n",
       "    </tr>\n",
       "    <tr>\n",
       "      <td>2</td>\n",
       "      <td>20EC38</td>\n",
       "      <td>Funiculì funiculà</td>\n",
       "      <td>Mario Lanza</td>\n",
       "      <td>pop</td>\n",
       "      <td>Shelbyville</td>\n",
       "      <td>20:58:07</td>\n",
       "      <td>Wednesday</td>\n",
       "    </tr>\n",
       "    <tr>\n",
       "      <td>3</td>\n",
       "      <td>A3DD03C9</td>\n",
       "      <td>Dragons in the Sunset</td>\n",
       "      <td>Fire + Ice</td>\n",
       "      <td>folk</td>\n",
       "      <td>Shelbyville</td>\n",
       "      <td>08:37:09</td>\n",
       "      <td>Monday</td>\n",
       "    </tr>\n",
       "    <tr>\n",
       "      <td>4</td>\n",
       "      <td>E2DC1FAE</td>\n",
       "      <td>Soul People</td>\n",
       "      <td>Space Echo</td>\n",
       "      <td>dance</td>\n",
       "      <td>Springfield</td>\n",
       "      <td>08:34:34</td>\n",
       "      <td>Monday</td>\n",
       "    </tr>\n",
       "    <tr>\n",
       "      <td>...</td>\n",
       "      <td>...</td>\n",
       "      <td>...</td>\n",
       "      <td>...</td>\n",
       "      <td>...</td>\n",
       "      <td>...</td>\n",
       "      <td>...</td>\n",
       "      <td>...</td>\n",
       "    </tr>\n",
       "    <tr>\n",
       "      <td>65074</td>\n",
       "      <td>729CBB09</td>\n",
       "      <td>My Name</td>\n",
       "      <td>McLean</td>\n",
       "      <td>rnb</td>\n",
       "      <td>Springfield</td>\n",
       "      <td>13:32:28</td>\n",
       "      <td>Wednesday</td>\n",
       "    </tr>\n",
       "    <tr>\n",
       "      <td>65075</td>\n",
       "      <td>D08D4A55</td>\n",
       "      <td>Maybe One Day (feat. Black Spade)</td>\n",
       "      <td>Blu &amp; Exile</td>\n",
       "      <td>hip</td>\n",
       "      <td>Shelbyville</td>\n",
       "      <td>10:00:00</td>\n",
       "      <td>Monday</td>\n",
       "    </tr>\n",
       "    <tr>\n",
       "      <td>65076</td>\n",
       "      <td>C5E3A0D5</td>\n",
       "      <td>Jalopiina</td>\n",
       "      <td>NaN</td>\n",
       "      <td>industrial</td>\n",
       "      <td>Springfield</td>\n",
       "      <td>20:09:26</td>\n",
       "      <td>Friday</td>\n",
       "    </tr>\n",
       "    <tr>\n",
       "      <td>65077</td>\n",
       "      <td>321D0506</td>\n",
       "      <td>Freight Train</td>\n",
       "      <td>Chas McDevitt</td>\n",
       "      <td>rock</td>\n",
       "      <td>Springfield</td>\n",
       "      <td>21:43:59</td>\n",
       "      <td>Friday</td>\n",
       "    </tr>\n",
       "    <tr>\n",
       "      <td>65078</td>\n",
       "      <td>3A64EF84</td>\n",
       "      <td>Tell Me Sweet Little Lies</td>\n",
       "      <td>Monica Lopez</td>\n",
       "      <td>country</td>\n",
       "      <td>Springfield</td>\n",
       "      <td>21:59:46</td>\n",
       "      <td>Friday</td>\n",
       "    </tr>\n",
       "  </tbody>\n",
       "</table>\n",
       "<p>65079 rows × 7 columns</p>\n",
       "</div>"
      ],
      "text/plain": [
       "         userID                              Track            artist  \\\n",
       "0      FFB692EC                  Kamigata To Boots  The Mass Missile   \n",
       "1      55204538        Delayed Because of Accident  Andreas Rönnberg   \n",
       "2        20EC38                  Funiculì funiculà       Mario Lanza   \n",
       "3      A3DD03C9              Dragons in the Sunset        Fire + Ice   \n",
       "4      E2DC1FAE                        Soul People        Space Echo   \n",
       "...         ...                                ...               ...   \n",
       "65074  729CBB09                            My Name            McLean   \n",
       "65075  D08D4A55  Maybe One Day (feat. Black Spade)       Blu & Exile   \n",
       "65076  C5E3A0D5                          Jalopiina               NaN   \n",
       "65077  321D0506                      Freight Train     Chas McDevitt   \n",
       "65078  3A64EF84          Tell Me Sweet Little Lies      Monica Lopez   \n",
       "\n",
       "            genre       City        time        Day  \n",
       "0            rock  Shelbyville  20:28:33  Wednesday  \n",
       "1            rock  Springfield  14:07:09     Friday  \n",
       "2             pop  Shelbyville  20:58:07  Wednesday  \n",
       "3            folk  Shelbyville  08:37:09     Monday  \n",
       "4           dance  Springfield  08:34:34     Monday  \n",
       "...           ...          ...       ...        ...  \n",
       "65074         rnb  Springfield  13:32:28  Wednesday  \n",
       "65075         hip  Shelbyville  10:00:00     Monday  \n",
       "65076  industrial  Springfield  20:09:26     Friday  \n",
       "65077        rock  Springfield  21:43:59     Friday  \n",
       "65078     country  Springfield  21:59:46     Friday  \n",
       "\n",
       "[65079 rows x 7 columns]"
      ]
     },
     "metadata": {},
     "output_type": "display_data"
    },
    {
     "data": {
      "text/html": [
       "<div>\n",
       "<style scoped>\n",
       "    .dataframe tbody tr th:only-of-type {\n",
       "        vertical-align: middle;\n",
       "    }\n",
       "\n",
       "    .dataframe tbody tr th {\n",
       "        vertical-align: top;\n",
       "    }\n",
       "\n",
       "    .dataframe thead th {\n",
       "        text-align: right;\n",
       "    }\n",
       "</style>\n",
       "<table border=\"1\" class=\"dataframe\">\n",
       "  <thead>\n",
       "    <tr style=\"text-align: right;\">\n",
       "      <th></th>\n",
       "      <th>userID</th>\n",
       "      <th>Track</th>\n",
       "      <th>artist</th>\n",
       "      <th>genre</th>\n",
       "      <th>City</th>\n",
       "      <th>time</th>\n",
       "      <th>Day</th>\n",
       "    </tr>\n",
       "  </thead>\n",
       "  <tbody>\n",
       "    <tr>\n",
       "      <td>count</td>\n",
       "      <td>65079</td>\n",
       "      <td>63736</td>\n",
       "      <td>57512</td>\n",
       "      <td>63881</td>\n",
       "      <td>65079</td>\n",
       "      <td>65079</td>\n",
       "      <td>65079</td>\n",
       "    </tr>\n",
       "    <tr>\n",
       "      <td>unique</td>\n",
       "      <td>41748</td>\n",
       "      <td>39666</td>\n",
       "      <td>37806</td>\n",
       "      <td>268</td>\n",
       "      <td>2</td>\n",
       "      <td>20392</td>\n",
       "      <td>3</td>\n",
       "    </tr>\n",
       "    <tr>\n",
       "      <td>top</td>\n",
       "      <td>A8AE9169</td>\n",
       "      <td>Brand</td>\n",
       "      <td>Kartvelli</td>\n",
       "      <td>pop</td>\n",
       "      <td>Springfield</td>\n",
       "      <td>21:51:22</td>\n",
       "      <td>Friday</td>\n",
       "    </tr>\n",
       "    <tr>\n",
       "      <td>freq</td>\n",
       "      <td>76</td>\n",
       "      <td>136</td>\n",
       "      <td>136</td>\n",
       "      <td>8850</td>\n",
       "      <td>45360</td>\n",
       "      <td>14</td>\n",
       "      <td>23149</td>\n",
       "    </tr>\n",
       "  </tbody>\n",
       "</table>\n",
       "</div>"
      ],
      "text/plain": [
       "          userID  Track     artist  genre       City        time     Day\n",
       "count      65079  63736      57512  63881        65079     65079   65079\n",
       "unique     41748  39666      37806    268            2     20392       3\n",
       "top     A8AE9169  Brand  Kartvelli    pop  Springfield  21:51:22  Friday\n",
       "freq          76    136        136   8850        45360        14   23149"
      ]
     },
     "execution_count": 3,
     "metadata": {},
     "output_type": "execute_result"
    }
   ],
   "source": [
    "# reading the file and storing it to df\n",
    "df = pd.read_csv('/datasets/music_project_en.csv') \n",
    "display(df)\n",
    "\n",
    "df.describe()\n",
    "\n"
   ]
  },
  {
   "cell_type": "markdown",
   "metadata": {},
   "source": [
    "<div class=\"alert alert-success\">\n",
    "<b>Reviewer's comment v1:</b>\n",
    "    \n",
    "Well done! Usually, it helps to group all imports (data and library) into two separate cells at the beginning of the project (exactly as you did). "
   ]
  },
  {
   "cell_type": "markdown",
   "metadata": {
    "id": "rDoOMd3uTqnZ"
   },
   "source": [
    "Print the first 10 table rows:"
   ]
  },
  {
   "cell_type": "code",
   "execution_count": 4,
   "metadata": {
    "id": "oWTVX3gW_Zct"
   },
   "outputs": [
    {
     "data": {
      "text/html": [
       "<div>\n",
       "<style scoped>\n",
       "    .dataframe tbody tr th:only-of-type {\n",
       "        vertical-align: middle;\n",
       "    }\n",
       "\n",
       "    .dataframe tbody tr th {\n",
       "        vertical-align: top;\n",
       "    }\n",
       "\n",
       "    .dataframe thead th {\n",
       "        text-align: right;\n",
       "    }\n",
       "</style>\n",
       "<table border=\"1\" class=\"dataframe\">\n",
       "  <thead>\n",
       "    <tr style=\"text-align: right;\">\n",
       "      <th></th>\n",
       "      <th>userID</th>\n",
       "      <th>Track</th>\n",
       "      <th>artist</th>\n",
       "      <th>genre</th>\n",
       "      <th>City</th>\n",
       "      <th>time</th>\n",
       "      <th>Day</th>\n",
       "    </tr>\n",
       "  </thead>\n",
       "  <tbody>\n",
       "    <tr>\n",
       "      <td>0</td>\n",
       "      <td>FFB692EC</td>\n",
       "      <td>Kamigata To Boots</td>\n",
       "      <td>The Mass Missile</td>\n",
       "      <td>rock</td>\n",
       "      <td>Shelbyville</td>\n",
       "      <td>20:28:33</td>\n",
       "      <td>Wednesday</td>\n",
       "    </tr>\n",
       "    <tr>\n",
       "      <td>1</td>\n",
       "      <td>55204538</td>\n",
       "      <td>Delayed Because of Accident</td>\n",
       "      <td>Andreas Rönnberg</td>\n",
       "      <td>rock</td>\n",
       "      <td>Springfield</td>\n",
       "      <td>14:07:09</td>\n",
       "      <td>Friday</td>\n",
       "    </tr>\n",
       "    <tr>\n",
       "      <td>2</td>\n",
       "      <td>20EC38</td>\n",
       "      <td>Funiculì funiculà</td>\n",
       "      <td>Mario Lanza</td>\n",
       "      <td>pop</td>\n",
       "      <td>Shelbyville</td>\n",
       "      <td>20:58:07</td>\n",
       "      <td>Wednesday</td>\n",
       "    </tr>\n",
       "    <tr>\n",
       "      <td>3</td>\n",
       "      <td>A3DD03C9</td>\n",
       "      <td>Dragons in the Sunset</td>\n",
       "      <td>Fire + Ice</td>\n",
       "      <td>folk</td>\n",
       "      <td>Shelbyville</td>\n",
       "      <td>08:37:09</td>\n",
       "      <td>Monday</td>\n",
       "    </tr>\n",
       "    <tr>\n",
       "      <td>4</td>\n",
       "      <td>E2DC1FAE</td>\n",
       "      <td>Soul People</td>\n",
       "      <td>Space Echo</td>\n",
       "      <td>dance</td>\n",
       "      <td>Springfield</td>\n",
       "      <td>08:34:34</td>\n",
       "      <td>Monday</td>\n",
       "    </tr>\n",
       "    <tr>\n",
       "      <td>5</td>\n",
       "      <td>842029A1</td>\n",
       "      <td>Chains</td>\n",
       "      <td>Obladaet</td>\n",
       "      <td>rusrap</td>\n",
       "      <td>Shelbyville</td>\n",
       "      <td>13:09:41</td>\n",
       "      <td>Friday</td>\n",
       "    </tr>\n",
       "    <tr>\n",
       "      <td>6</td>\n",
       "      <td>4CB90AA5</td>\n",
       "      <td>True</td>\n",
       "      <td>Roman Messer</td>\n",
       "      <td>dance</td>\n",
       "      <td>Springfield</td>\n",
       "      <td>13:00:07</td>\n",
       "      <td>Wednesday</td>\n",
       "    </tr>\n",
       "    <tr>\n",
       "      <td>7</td>\n",
       "      <td>F03E1C1F</td>\n",
       "      <td>Feeling This Way</td>\n",
       "      <td>Polina Griffith</td>\n",
       "      <td>dance</td>\n",
       "      <td>Springfield</td>\n",
       "      <td>20:47:49</td>\n",
       "      <td>Wednesday</td>\n",
       "    </tr>\n",
       "    <tr>\n",
       "      <td>8</td>\n",
       "      <td>8FA1D3BE</td>\n",
       "      <td>L’estate</td>\n",
       "      <td>Julia Dalia</td>\n",
       "      <td>ruspop</td>\n",
       "      <td>Springfield</td>\n",
       "      <td>09:17:40</td>\n",
       "      <td>Friday</td>\n",
       "    </tr>\n",
       "    <tr>\n",
       "      <td>9</td>\n",
       "      <td>E772D5C0</td>\n",
       "      <td>Pessimist</td>\n",
       "      <td>NaN</td>\n",
       "      <td>dance</td>\n",
       "      <td>Shelbyville</td>\n",
       "      <td>21:20:49</td>\n",
       "      <td>Wednesday</td>\n",
       "    </tr>\n",
       "  </tbody>\n",
       "</table>\n",
       "</div>"
      ],
      "text/plain": [
       "     userID                        Track            artist   genre  \\\n",
       "0  FFB692EC            Kamigata To Boots  The Mass Missile    rock   \n",
       "1  55204538  Delayed Because of Accident  Andreas Rönnberg    rock   \n",
       "2    20EC38            Funiculì funiculà       Mario Lanza     pop   \n",
       "3  A3DD03C9        Dragons in the Sunset        Fire + Ice    folk   \n",
       "4  E2DC1FAE                  Soul People        Space Echo   dance   \n",
       "5  842029A1                       Chains          Obladaet  rusrap   \n",
       "6  4CB90AA5                         True      Roman Messer   dance   \n",
       "7  F03E1C1F             Feeling This Way   Polina Griffith   dance   \n",
       "8  8FA1D3BE                     L’estate       Julia Dalia  ruspop   \n",
       "9  E772D5C0                    Pessimist               NaN   dance   \n",
       "\n",
       "        City        time        Day  \n",
       "0  Shelbyville  20:28:33  Wednesday  \n",
       "1  Springfield  14:07:09     Friday  \n",
       "2  Shelbyville  20:58:07  Wednesday  \n",
       "3  Shelbyville  08:37:09     Monday  \n",
       "4  Springfield  08:34:34     Monday  \n",
       "5  Shelbyville  13:09:41     Friday  \n",
       "6  Springfield  13:00:07  Wednesday  \n",
       "7  Springfield  20:47:49  Wednesday  \n",
       "8  Springfield  09:17:40     Friday  \n",
       "9  Shelbyville  21:20:49  Wednesday  "
      ]
     },
     "metadata": {},
     "output_type": "display_data"
    }
   ],
   "source": [
    "# obtaining the first 10 rows from the df table\n",
    "display(df.head(10))"
   ]
  },
  {
   "cell_type": "markdown",
   "metadata": {},
   "source": [
    "<div class=\"alert alert-success\">\n",
    "<b>Reviewer's comment v1:</b>\n",
    "    \n",
    "You can also use here other methods like `.sample(n)` or `.tail(n)` to show sample of data. \n",
    "    \n",
    "You can read about it here: https://pandas.pydata.org/docs/reference/api/pandas.DataFrame.sample.html\n",
    "    \n",
    "Btw for one line code you can drop `display()` or `print()` methods."
   ]
  },
  {
   "cell_type": "markdown",
   "metadata": {
    "id": "EO73Kwic_Zct"
   },
   "source": [
    "Obtaining the general information about the table with one command:"
   ]
  },
  {
   "cell_type": "code",
   "execution_count": 5,
   "metadata": {
    "id": "DSf2kIb-_Zct"
   },
   "outputs": [
    {
     "name": "stdout",
     "output_type": "stream",
     "text": [
      "<class 'pandas.core.frame.DataFrame'>\n",
      "RangeIndex: 65079 entries, 0 to 65078\n",
      "Data columns (total 7 columns):\n",
      "  userID    65079 non-null object\n",
      "Track       63736 non-null object\n",
      "artist      57512 non-null object\n",
      "genre       63881 non-null object\n",
      "  City      65079 non-null object\n",
      "time        65079 non-null object\n",
      "Day         65079 non-null object\n",
      "dtypes: object(7)\n",
      "memory usage: 3.5+ MB\n",
      "\n"
     ]
    },
    {
     "data": {
      "text/html": [
       "<div>\n",
       "<style scoped>\n",
       "    .dataframe tbody tr th:only-of-type {\n",
       "        vertical-align: middle;\n",
       "    }\n",
       "\n",
       "    .dataframe tbody tr th {\n",
       "        vertical-align: top;\n",
       "    }\n",
       "\n",
       "    .dataframe thead th {\n",
       "        text-align: right;\n",
       "    }\n",
       "</style>\n",
       "<table border=\"1\" class=\"dataframe\">\n",
       "  <thead>\n",
       "    <tr style=\"text-align: right;\">\n",
       "      <th></th>\n",
       "      <th>count</th>\n",
       "      <th>unique</th>\n",
       "      <th>top</th>\n",
       "      <th>freq</th>\n",
       "    </tr>\n",
       "  </thead>\n",
       "  <tbody>\n",
       "    <tr>\n",
       "      <td>userID</td>\n",
       "      <td>65079</td>\n",
       "      <td>41748</td>\n",
       "      <td>A8AE9169</td>\n",
       "      <td>76</td>\n",
       "    </tr>\n",
       "    <tr>\n",
       "      <td>Track</td>\n",
       "      <td>63736</td>\n",
       "      <td>39666</td>\n",
       "      <td>Brand</td>\n",
       "      <td>136</td>\n",
       "    </tr>\n",
       "    <tr>\n",
       "      <td>artist</td>\n",
       "      <td>57512</td>\n",
       "      <td>37806</td>\n",
       "      <td>Kartvelli</td>\n",
       "      <td>136</td>\n",
       "    </tr>\n",
       "    <tr>\n",
       "      <td>genre</td>\n",
       "      <td>63881</td>\n",
       "      <td>268</td>\n",
       "      <td>pop</td>\n",
       "      <td>8850</td>\n",
       "    </tr>\n",
       "    <tr>\n",
       "      <td>City</td>\n",
       "      <td>65079</td>\n",
       "      <td>2</td>\n",
       "      <td>Springfield</td>\n",
       "      <td>45360</td>\n",
       "    </tr>\n",
       "    <tr>\n",
       "      <td>time</td>\n",
       "      <td>65079</td>\n",
       "      <td>20392</td>\n",
       "      <td>21:51:22</td>\n",
       "      <td>14</td>\n",
       "    </tr>\n",
       "    <tr>\n",
       "      <td>Day</td>\n",
       "      <td>65079</td>\n",
       "      <td>3</td>\n",
       "      <td>Friday</td>\n",
       "      <td>23149</td>\n",
       "    </tr>\n",
       "  </tbody>\n",
       "</table>\n",
       "</div>"
      ],
      "text/plain": [
       "          count unique          top   freq\n",
       "  userID  65079  41748     A8AE9169     76\n",
       "Track     63736  39666        Brand    136\n",
       "artist    57512  37806    Kartvelli    136\n",
       "genre     63881    268          pop   8850\n",
       "  City    65079      2  Springfield  45360\n",
       "time      65079  20392     21:51:22     14\n",
       "Day       65079      3       Friday  23149"
      ]
     },
     "execution_count": 5,
     "metadata": {},
     "output_type": "execute_result"
    }
   ],
   "source": [
    "# obtaining general information about the data in df\n",
    "#df.describe()\n",
    "df.info()\n",
    "print()\n",
    "df.describe().T"
   ]
  },
  {
   "cell_type": "markdown",
   "metadata": {},
   "source": [
    "<div class=\"alert alert-warning\">\n",
    "<b>Reviewer's comment:</b>\n",
    "\n",
    "Looks like you already applied `describe()` above. Here you can try  `info()` method, as it shows a lot of information about the dataframe.\n",
    "    \n",
    "Btw for big dataframes (with a high number of columns) it could be convenient to transpose the table:\n",
    "    `describe().T`"
   ]
  },
  {
   "cell_type": "markdown",
   "metadata": {},
   "source": [
    " <div class=\"alert alert-info\"> <b>Student comments:</b>  Thanks for the feedback. I added a line for both describe().T and info()</div>\n"
   ]
  },
  {
   "cell_type": "markdown",
   "metadata": {},
   "source": [
    "<div class=\"alert alert-success\">\n",
    "<b>Reviewer's comment v2:</b>\n",
    "    \n",
    "🙌"
   ]
  },
  {
   "cell_type": "markdown",
   "metadata": {
    "id": "TaQ2Iwbr_Zct"
   },
   "source": [
    "The table contains seven columns. They all store the same data type: `object`.\n",
    "\n",
    "According to the documentation:\n",
    "- `'userID'` — user identifier\n",
    "- `'Track'` — track title\n",
    "- `'artist'` — artist's name\n",
    "- `'genre'`\n",
    "- `'City'` — user's city\n",
    "- `'time'` — the exact time the track was played\n",
    "- `'Day'` — day of the week\n",
    "\n",
    "We can see three issues with style in the column names:\n",
    "1. Some names are uppercase, some are lowercase.\n",
    "2. There are spaces in some names.\n",
    "3. `user_id should be writen in snake_case`.\n",
    "\n",
    "The number of column values is different. This means the data contains missing values.\n"
   ]
  },
  {
   "cell_type": "markdown",
   "metadata": {
    "id": "MCB6-dXG_Zct"
   },
   "source": [
    "### Conclusions <a id='data_review_conclusions'></a> \n",
    "\n",
    "Each row in the table stores data on a track that was played. Some columns describe the track itself: its title, artist and genre. The rest convey information about the user: the city they come from, the time they played the track. \n",
    "\n",
    "It's clear that the data is sufficient to test the hypotheses. However, there are missing values.\n",
    "\n",
    "To move forward, we need to preprocess the data."
   ]
  },
  {
   "cell_type": "markdown",
   "metadata": {
    "id": "3eL__vcwViOi"
   },
   "source": [
    "[Back to Contents](#back)"
   ]
  },
  {
   "cell_type": "markdown",
   "metadata": {},
   "source": [
    "<div class=\"alert alert-success\">\n",
    "<b>Reviewer's comment v1:</b>\n",
    "    \n",
    "Great data overview and correct conclusions. "
   ]
  },
  {
   "cell_type": "markdown",
   "metadata": {
    "id": "SjYF6Ub9_Zct"
   },
   "source": [
    "## Stage 2. Data preprocessing <a id='data_preprocessing'></a>\n",
    "Correct the formatting in the column headers and deal with the missing values. Then, check whether there are duplicates in the data."
   ]
  },
  {
   "cell_type": "markdown",
   "metadata": {
    "id": "dIaKXr29_Zct"
   },
   "source": [
    "### Header style <a id='header_style'></a>\n",
    "Print the column header:"
   ]
  },
  {
   "cell_type": "code",
   "execution_count": 6,
   "metadata": {
    "id": "oKOTdF_Q_Zct"
   },
   "outputs": [
    {
     "data": {
      "text/plain": [
       "Index(['  userID', 'Track', 'artist', 'genre', '  City  ', 'time', 'Day'], dtype='object')"
      ]
     },
     "metadata": {},
     "output_type": "display_data"
    }
   ],
   "source": [
    "# the list of column names in the df table\n",
    "\n",
    "display(df.columns)"
   ]
  },
  {
   "cell_type": "markdown",
   "metadata": {
    "id": "zj5534cv_Zct"
   },
   "source": [
    "Change column names according to the rules of good style:\n",
    "* If the name has several words, use snake_case\n",
    "* All characters must be lowercase\n",
    "* Delete spaces"
   ]
  },
  {
   "cell_type": "code",
   "execution_count": 7,
   "metadata": {
    "id": "ISlFqs5y_Zct"
   },
   "outputs": [],
   "source": [
    "# renaming columns\n",
    "\n",
    "df = df.rename(\n",
    "    columns={\n",
    "        '  userID': 'user_id',\n",
    "        'Track': 'track',\n",
    "        '  City  ': 'city',\n",
    "        'Day': 'day',\n",
    "    },\n",
    ") "
   ]
  },
  {
   "cell_type": "markdown",
   "metadata": {
    "id": "1dqbh00J_Zct"
   },
   "source": [
    "Check the result. Print the names of the columns once more:"
   ]
  },
  {
   "cell_type": "code",
   "execution_count": 8,
   "metadata": {
    "id": "d4NOAmTW_Zct"
   },
   "outputs": [
    {
     "data": {
      "text/plain": [
       "Index(['user_id', 'track', 'artist', 'genre', 'city', 'time', 'day'], dtype='object')"
      ]
     },
     "metadata": {},
     "output_type": "display_data"
    }
   ],
   "source": [
    "# checking result: the list of column names\n",
    "\n",
    "display(df.columns)"
   ]
  },
  {
   "cell_type": "markdown",
   "metadata": {},
   "source": [
    "<div class=\"alert alert-success\">\n",
    "<b>Reviewer's comment v1:</b>\n",
    "    \n",
    "It is great that you correctly applied rename method. "
   ]
  },
  {
   "cell_type": "markdown",
   "metadata": {
    "id": "xYJk6ksJVpOl"
   },
   "source": [
    "[Back to Contents](#back)"
   ]
  },
  {
   "cell_type": "markdown",
   "metadata": {
    "id": "5ISfbcfY_Zct"
   },
   "source": [
    "### Missing values <a id='missing_values'></a>\n",
    "First, find the number of missing values in the table. To do so, use two `pandas` methods:"
   ]
  },
  {
   "cell_type": "code",
   "execution_count": 9,
   "metadata": {
    "id": "RskX29qr_Zct"
   },
   "outputs": [
    {
     "name": "stdout",
     "output_type": "stream",
     "text": [
      "user_id    0.000000\n",
      "track      0.020636\n",
      "artist     0.116274\n",
      "genre      0.018408\n",
      "city       0.000000\n",
      "time       0.000000\n",
      "day        0.000000\n",
      "dtype: float64\n",
      "total missing values: 10108\n"
     ]
    }
   ],
   "source": [
    "# calculating missing values\n",
    "#print(df.isna().sum())\n",
    "print(df.isnull().sum()/len(df))\n",
    "print('total missing values:', df.isna().sum().sum())"
   ]
  },
  {
   "cell_type": "markdown",
   "metadata": {},
   "source": [
    "<div class=\"alert alert-success\">\n",
    "<b>Reviewer's comment v1</b>\n",
    "    \n",
    "Great that you selected `isna()` method to find missing values! \n",
    "\n",
    "It is also sometimes helpful to check not only the total amount of missing values in each column but also look at the percentage of missing values. It helps to understand the overall impact. You can check percentage using, for example, this code:\n",
    "\n",
    "`df.isnull().sum()/len(df)`"
   ]
  },
  {
   "attachments": {
    "image.png": {
     "image/png": "[encoded data removed]"
    }
   },
   "cell_type": "markdown",
   "metadata": {},
   "source": [
    "<div class=\"alert alert-warning\">\n",
    "<b>Reviewer's comment v1</b>\n",
    "    \n",
    "Minor tip. You can adjust your code in the following way: \n",
    "        \n",
    "![image.png](attachment:image.png)\n",
    "   \n",
    "First display can automatically create an empty line and two prints could be combined."
   ]
  },
  {
   "cell_type": "markdown",
   "metadata": {},
   "source": [
    " <div class=\"alert alert-info\"> <b>Student comments:</b>  Thank You, that's a much cleaner line of code.</div>\n",
    "\n"
   ]
  },
  {
   "cell_type": "markdown",
   "metadata": {
    "id": "qubhgnlO_Zct"
   },
   "source": [
    "Not all missing values affect the research. For instance, the missing values in `track` and `artist` are not critical. You can simply replace them with clear markers.\n",
    "\n",
    "But missing values in `'genre'` can affect the comparison of music preferences in Springfield and Shelbyville. In real life, it would be useful to learn the reasons why the data is missing and try to make up for them. But we do not have that opportunity in this project. So you will have to:\n",
    "* Fill in these missing values with markers\n",
    "* Evaluate how much the missing values may affect your computations"
   ]
  },
  {
   "cell_type": "markdown",
   "metadata": {
    "id": "fSv2laPA_Zct"
   },
   "source": [
    "Replace the missing values in `'track'`, `'artist'`, and `'genre'` with the string `'unknown'`. To do this, create the `columns_to_replace` list, loop over it with `for`, and replace the missing values in each of the columns:"
   ]
  },
  {
   "cell_type": "code",
   "execution_count": 10,
   "metadata": {
    "id": "KplB5qWs_Zct"
   },
   "outputs": [],
   "source": [
    "# looping over column names and replacing missing values with 'unknown'\n",
    "\n",
    "columns_to_replace = ['track', 'artist', 'genre']\n",
    "\n",
    "for i in columns_to_replace:\n",
    "    df.fillna('unknown', inplace=True)\n",
    "    "
   ]
  },
  {
   "cell_type": "markdown",
   "metadata": {
    "id": "Ilsm-MZo_Zct"
   },
   "source": [
    "Make sure the table contains no more missing values. Count the missing values again."
   ]
  },
  {
   "cell_type": "markdown",
   "metadata": {},
   "source": [
    "<div class=\"alert alert-success\">\n",
    "<b>Reviewer's comment v1</b>\n",
    "    \n",
    "You correctly created a for loop and applied it on multiple columns."
   ]
  },
  {
   "cell_type": "code",
   "execution_count": 11,
   "metadata": {
    "id": "Tq4nYRX4_Zct"
   },
   "outputs": [
    {
     "data": {
      "text/plain": [
       "user_id    0\n",
       "track      0\n",
       "artist     0\n",
       "genre      0\n",
       "city       0\n",
       "time       0\n",
       "day        0\n",
       "dtype: int64"
      ]
     },
     "execution_count": 11,
     "metadata": {},
     "output_type": "execute_result"
    }
   ],
   "source": [
    "# counting missing values\n",
    "(df.isna().sum())"
   ]
  },
  {
   "cell_type": "markdown",
   "metadata": {},
   "source": [
    "<div class=\"alert alert-success\">\n",
    "<b>Reviewer's comment v1</b>\n",
    "    \n",
    "And now we have a clean dataframe without any missing values. \n"
   ]
  },
  {
   "cell_type": "markdown",
   "metadata": {
    "id": "74ZIBmq9VrsK"
   },
   "source": [
    "[Back to Contents](#back)"
   ]
  },
  {
   "cell_type": "markdown",
   "metadata": {
    "id": "BWKRtBJ3_Zct"
   },
   "source": [
    "### Duplicates <a id='duplicates'></a>\n",
    "Find the number of obvious duplicates in the table using one command:"
   ]
  },
  {
   "cell_type": "code",
   "execution_count": 12,
   "metadata": {
    "id": "36eES_S0_Zct"
   },
   "outputs": [
    {
     "data": {
      "text/plain": [
       "3826"
      ]
     },
     "execution_count": 12,
     "metadata": {},
     "output_type": "execute_result"
    }
   ],
   "source": [
    "# counting clear duplicates\n",
    "df.duplicated().sum()"
   ]
  },
  {
   "cell_type": "markdown",
   "metadata": {},
   "source": [
    "<div class=\"alert alert-success\">\n",
    "<b>Reviewer's comment v1</b>\n",
    "    \n",
    "You correctly identified duplicates in the dataframe, and we have quite a few of them."
   ]
  },
  {
   "cell_type": "markdown",
   "metadata": {
    "id": "Ot25h6XR_Zct"
   },
   "source": [
    "Call the `pandas` method for getting rid of obvious duplicates:"
   ]
  },
  {
   "cell_type": "code",
   "execution_count": 13,
   "metadata": {
    "id": "exFHq6tt_Zct"
   },
   "outputs": [],
   "source": [
    "# removing obvious duplicates\n",
    "#df.drop_duplicates(inplace=True)\n",
    "df = df.drop_duplicates().reset_index()\n",
    "\n"
   ]
  },
  {
   "cell_type": "markdown",
   "metadata": {},
   "source": [
    "<div class=\"alert alert-info\"> <b>Student comments:</b> Questions for code review:\n",
    "    \n",
    "1. I'm using inplace=True, is this beset practices? \n",
    "2. should I drop subset and keep, as those are the drop_duplicates call default state, \n",
    "or is it better to explicaty state them?\n",
    "</div>"
   ]
  },
  {
   "cell_type": "markdown",
   "metadata": {},
   "source": [
    " <div class=\"alert alert-info\"> <b>Student comments:</b> Change Log:\n",
    "    \n",
    "- dropped subset=None, keep='first'\n",
    "- dropped inplace = True\n",
    "- Changed structure so to re-write over the variable. ex: df =\n",
    "- Ty - the NBA inplace paraamaters article helped clarify the methodoligy here.\n",
    "</div>"
   ]
  },
  {
   "cell_type": "markdown",
   "metadata": {},
   "source": [
    "<div class=\"alert alert-warning\">\n",
    "<b>Reviewer's comment v1</b>\n",
    "    \n",
    "    \n",
    "Very good questions! To go step by step the following parameters are already have default values `subset=None, keep='first'`, so you can skip them.\n",
    "    \n",
    "You can read about this method here: https://pandas.pydata.org/docs/reference/api/pandas.DataFrame.drop_duplicates.html\n",
    "    \n",
    "    \n",
    "Going to your first question, usually it is not the best practice to overwrite existent dataframe, so I would recoment to keep it False. \n",
    "And you can check additional details in this article: \n",
    "https://jman4190.medium.com/explaining-the-inplace-parameter-for-beginners-5de7ffa18d2e#:~:text=When%20inplace%20%3D%20True%20%2C%20the%20data,to%20save%20it%20to%20something.\n",
    "    \n",
    "By default method takes all columns into account, but if you want to check implicit duplicates on a subset of data you can put columns manually like this `=['track', 'artist']`\n",
    "    \n",
    "Note that it is also required additionally to re-create the indexes in your dataframe. To achieve that, you can use `reset_index()`.\n",
    "    \n",
    "Without that, the index column will not be ordinal anymore, as `drop_duplicates()` deleted some lines, hence the dataframe becomes less informative.\n",
    "    \n",
    "You can read about it here: https://pandas.pydata.org/docs/reference/api/pandas.DataFrame.reset_index.html\n",
    "    \n",
    "And parameter `drop=True` could be helpful to rewrite existent index instead of creating a second ordinal column.\n",
    "    \n",
    "Btw would be awesome if you can mark your questions next time like this: \n",
    "    \n",
    "<div class=\"alert alert-info\"> <b>Student comments:</b> \n",
    "    \n",
    "Questions for code review\n",
    "1) I'm using inplace=True, is this beset practices? \n",
    "    \n",
    "2) should I drop subset and keep, as those are the drop_duplicates call default state, \n",
    "or is it better to explicaty state them?\n",
    "    \n",
    "</div>    \n",
    "    "
   ]
  },
  {
   "cell_type": "markdown",
   "metadata": {
    "id": "Im2YwBEG_Zct"
   },
   "source": [
    "Count obvious duplicates once more to make sure you have removed all of them:"
   ]
  },
  {
   "cell_type": "code",
   "execution_count": 14,
   "metadata": {
    "id": "-8PuNWQ0_Zct"
   },
   "outputs": [
    {
     "data": {
      "text/plain": [
       "0"
      ]
     },
     "execution_count": 14,
     "metadata": {},
     "output_type": "execute_result"
    }
   ],
   "source": [
    "# checking for duplicates\n",
    "df.duplicated().sum()"
   ]
  },
  {
   "cell_type": "markdown",
   "metadata": {
    "id": "QlFBsxAr_Zct"
   },
   "source": [
    "Now get rid of implicit duplicates in the `genre` column. For example, the name of a genre can be written in different ways. Such errors will also affect the result."
   ]
  },
  {
   "cell_type": "markdown",
   "metadata": {
    "id": "eSjWwsOh_Zct"
   },
   "source": [
    "Print a list of unique genre names, sorted in alphabetical order. To do so:\n",
    "* Retrieve the intended DataFrame column \n",
    "* Apply a sorting method to it\n",
    "* For the sorted column, call the method that will return all unique column values"
   ]
  },
  {
   "cell_type": "code",
   "execution_count": 15,
   "metadata": {
    "id": "JIUcqzZN_Zct"
   },
   "outputs": [
    {
     "data": {
      "text/plain": [
       "array(['acid', 'acoustic', 'action', 'adult', 'africa', 'afrikaans',\n",
       "       'alternative', 'ambient', 'americana', 'animated', 'anime',\n",
       "       'arabesk', 'arabic', 'arena', 'argentinetango', 'art', 'audiobook',\n",
       "       'avantgarde', 'axé', 'baile', 'balkan', 'beats', 'bigroom',\n",
       "       'black', 'bluegrass', 'blues', 'bollywood', 'bossa', 'brazilian',\n",
       "       'breakbeat', 'breaks', 'broadway', 'cantautori', 'cantopop',\n",
       "       'canzone', 'caribbean', 'caucasian', 'celtic', 'chamber',\n",
       "       'children', 'chill', 'chinese', 'choral', 'christian', 'christmas',\n",
       "       'classical', 'classicmetal', 'club', 'colombian', 'comedy',\n",
       "       'conjazz', 'contemporary', 'country', 'cuban', 'dance',\n",
       "       'dancehall', 'dancepop', 'dark', 'death', 'deep', 'deutschrock',\n",
       "       'deutschspr', 'dirty', 'disco', 'dnb', 'documentary', 'downbeat',\n",
       "       'downtempo', 'drum', 'dub', 'dubstep', 'eastern', 'easy',\n",
       "       'electronic', 'electropop', 'emo', 'entehno', 'epicmetal',\n",
       "       'estrada', 'ethnic', 'eurofolk', 'european', 'experimental',\n",
       "       'extrememetal', 'fado', 'film', 'fitness', 'flamenco', 'folk',\n",
       "       'folklore', 'folkmetal', 'folkrock', 'folktronica', 'forró',\n",
       "       'frankreich', 'französisch', 'french', 'funk', 'future', 'gangsta',\n",
       "       'garage', 'german', 'ghazal', 'gitarre', 'glitch', 'gospel',\n",
       "       'gothic', 'grime', 'grunge', 'gypsy', 'handsup', \"hard'n'heavy\",\n",
       "       'hardcore', 'hardstyle', 'hardtechno', 'hip', 'hip-hop', 'hiphop',\n",
       "       'historisch', 'holiday', 'hop', 'horror', 'house', 'idm',\n",
       "       'independent', 'indian', 'indie', 'indipop', 'industrial',\n",
       "       'inspirational', 'instrumental', 'international', 'irish', 'jam',\n",
       "       'japanese', 'jazz', 'jewish', 'jpop', 'jungle', 'k-pop',\n",
       "       'karadeniz', 'karaoke', 'kayokyoku', 'korean', 'laiko', 'latin',\n",
       "       'latino', 'leftfield', 'local', 'lounge', 'loungeelectronic',\n",
       "       'lovers', 'malaysian', 'mandopop', 'marschmusik', 'meditative',\n",
       "       'mediterranean', 'melodic', 'metal', 'metalcore', 'mexican',\n",
       "       'middle', 'minimal', 'miscellaneous', 'modern', 'mood', 'mpb',\n",
       "       'muslim', 'native', 'neoklassik', 'neue', 'new', 'newage',\n",
       "       'newwave', 'nu', 'nujazz', 'numetal', 'oceania', 'old', 'opera',\n",
       "       'orchestral', 'other', 'piano', 'pop', 'popelectronic',\n",
       "       'popeurodance', 'post', 'posthardcore', 'postrock', 'power',\n",
       "       'progmetal', 'progressive', 'psychedelic', 'punjabi', 'punk',\n",
       "       'quebecois', 'ragga', 'ram', 'rancheras', 'rap', 'rave', 'reggae',\n",
       "       'reggaeton', 'regional', 'relax', 'religious', 'retro', 'rhythm',\n",
       "       'rnb', 'rnr', 'rock', 'rockabilly', 'romance', 'roots', 'ruspop',\n",
       "       'rusrap', 'rusrock', 'salsa', 'samba', 'schlager', 'self',\n",
       "       'sertanejo', 'shoegazing', 'showtunes', 'singer', 'ska', 'slow',\n",
       "       'smooth', 'soul', 'soulful', 'sound', 'soundtrack', 'southern',\n",
       "       'specialty', 'speech', 'spiritual', 'sport', 'stonerrock', 'surf',\n",
       "       'swing', 'synthpop', 'sängerportrait', 'tango', 'tanzorchester',\n",
       "       'taraftar', 'tech', 'techno', 'thrash', 'top', 'traditional',\n",
       "       'tradjazz', 'trance', 'tribal', 'trip', 'triphop', 'tropical',\n",
       "       'türk', 'türkçe', 'unknown', 'urban', 'uzbek', 'variété', 'vi',\n",
       "       'videogame', 'vocal', 'western', 'world', 'worldbeat', 'ïîï'],\n",
       "      dtype=object)"
      ]
     },
     "metadata": {},
     "output_type": "display_data"
    }
   ],
   "source": [
    "# viewing unique genre names\n",
    "display(df['genre'].sort_values().unique())\n",
    "#df.head()\n",
    "# Thank You @Marcela Mendoza for the sort_values numpy array explanation, \n",
    "# and explaining that we need to call sort_values before unique!"
   ]
  },
  {
   "cell_type": "markdown",
   "metadata": {},
   "source": [
    "<div class=\"alert alert-success\">\n",
    "<b>Reviewer's comment v1</b>\n",
    "    \n",
    "Well done! You correctly applied a `.unique()` method. \n",
    "    \n",
    "Great that you also sorted them alphabetically using `.sort_values()`\n"
   ]
  },
  {
   "cell_type": "markdown",
   "metadata": {
    "id": "qej-Qmuo_Zct"
   },
   "source": [
    "Look through the list to find implicit duplicates of the genre `hiphop`. These could be names written incorrectly or alternative names of the same genre.\n",
    "\n",
    "You will see the following implicit duplicates:\n",
    "* `hip`\n",
    "* `hop`\n",
    "* `hip-hop`\n",
    "\n",
    "To get rid of them, declare the function `replace_wrong_genres()` with two parameters: \n",
    "* `wrong_genres=` — the list of duplicates\n",
    "* `correct_genre=` — the string with the correct value\n",
    "\n",
    "The function should correct the names in the `'genre'` column from the `df` table, i.e. replace each value from the `wrong_genres` list with the value in `correct_genre`."
   ]
  },
  {
   "cell_type": "code",
   "execution_count": 16,
   "metadata": {
    "id": "ErNDkmns_Zct"
   },
   "outputs": [],
   "source": [
    "# function for replacing implicit duplicates\n",
    "\n",
    "### within the context of genre colomn of data frame, ###\n",
    "### iterates over list of wrong_genres and replaves with correct_genre ###\n",
    "\n",
    "def replace_wrong_genres(wrong_genres, correct_genre):\n",
    "    for i in wrong_genres:\n",
    "        df['genre'] = df['genre'].replace(to_replace = i, value=correct_genre, inplace=False)\n",
    "        return(wrong_genres, correct_genre)\n",
    "\n",
    "wrong_genres = ['hip', 'hop', 'hip-hop']\n",
    "correct_genre = 'hiphop'\n",
    "\n",
    "#display(replace_wrong_genres(wrong_genres, correct_genre))\n",
    "#display(df['genre'].sort_values().unique())"
   ]
  },
  {
   "cell_type": "markdown",
   "metadata": {
    "id": "aDoBJxbA_Zct"
   },
   "source": [
    "Call `replace_wrong_genres()` and pass it arguments so that it clears implicit duplcates (`hip`, `hop`, and `hip-hop`) and replaces them with `hiphop`:"
   ]
  },
  {
   "cell_type": "code",
   "execution_count": 19,
   "metadata": {
    "id": "YN5i2hpmSo09"
   },
   "outputs": [],
   "source": [
    "# removing implicit duplicates\n",
    "\n",
    "replace_wrong_genres(['hip', 'hop', 'hip-hop'], 'hiphop')\n",
    "df['genre'] = df['genre'].replace(wrong_genres, correct_genre)"
   ]
  },
  {
   "cell_type": "markdown",
   "metadata": {},
   "source": [
    "<div class=\"alert alert-warning\">\n",
    "<b>Reviewer's comment v1</b>\n",
    "    \n",
    "Your function works perfectly fine.\n",
    "    \n",
    "Btw you can also just pass values in your function:\n",
    "    \n",
    "    `replace_wrong_genres(['hip', 'hop', 'hip-hop'], 'hiphop')`\n",
    "    \n",
    "And replace values also with the following code:\n",
    "    \n",
    "    `df['genre'] = df['genre'].replace(wrong_genres, correct_genre)`\n",
    "    \n",
    "If you want to check the output of the function you can add the following line at the end.\n",
    "    \n",
    "    `return(wrong_genres, correct_genre)`"
   ]
  },
  {
   "cell_type": "markdown",
   "metadata": {},
   "source": [
    " <div class=\"alert alert-info\"> <b>Student comments:</b> Updated Code as sugested </div>"
   ]
  },
  {
   "cell_type": "markdown",
   "metadata": {},
   "source": [
    "<div class=\"alert alert-success\">\n",
    "<b>Reviewer's comment v2:</b>\n",
    "    \n",
    "Nice, that you also tried alternative approach. "
   ]
  },
  {
   "cell_type": "markdown",
   "metadata": {
    "id": "zQKF16_RG15m"
   },
   "source": [
    "Make sure the duplicate names were removed. Print the list of unique values from the `'genre'` column:"
   ]
  },
  {
   "cell_type": "code",
   "execution_count": 20,
   "metadata": {
    "id": "wvixALnFG15m"
   },
   "outputs": [
    {
     "data": {
      "text/plain": [
       "array(['acid', 'acoustic', 'action', 'adult', 'africa', 'afrikaans',\n",
       "       'alternative', 'ambient', 'americana', 'animated', 'anime',\n",
       "       'arabesk', 'arabic', 'arena', 'argentinetango', 'art', 'audiobook',\n",
       "       'avantgarde', 'axé', 'baile', 'balkan', 'beats', 'bigroom',\n",
       "       'black', 'bluegrass', 'blues', 'bollywood', 'bossa', 'brazilian',\n",
       "       'breakbeat', 'breaks', 'broadway', 'cantautori', 'cantopop',\n",
       "       'canzone', 'caribbean', 'caucasian', 'celtic', 'chamber',\n",
       "       'children', 'chill', 'chinese', 'choral', 'christian', 'christmas',\n",
       "       'classical', 'classicmetal', 'club', 'colombian', 'comedy',\n",
       "       'conjazz', 'contemporary', 'country', 'cuban', 'dance',\n",
       "       'dancehall', 'dancepop', 'dark', 'death', 'deep', 'deutschrock',\n",
       "       'deutschspr', 'dirty', 'disco', 'dnb', 'documentary', 'downbeat',\n",
       "       'downtempo', 'drum', 'dub', 'dubstep', 'eastern', 'easy',\n",
       "       'electronic', 'electropop', 'emo', 'entehno', 'epicmetal',\n",
       "       'estrada', 'ethnic', 'eurofolk', 'european', 'experimental',\n",
       "       'extrememetal', 'fado', 'film', 'fitness', 'flamenco', 'folk',\n",
       "       'folklore', 'folkmetal', 'folkrock', 'folktronica', 'forró',\n",
       "       'frankreich', 'französisch', 'french', 'funk', 'future', 'gangsta',\n",
       "       'garage', 'german', 'ghazal', 'gitarre', 'glitch', 'gospel',\n",
       "       'gothic', 'grime', 'grunge', 'gypsy', 'handsup', \"hard'n'heavy\",\n",
       "       'hardcore', 'hardstyle', 'hardtechno', 'hiphop', 'historisch',\n",
       "       'holiday', 'horror', 'house', 'idm', 'independent', 'indian',\n",
       "       'indie', 'indipop', 'industrial', 'inspirational', 'instrumental',\n",
       "       'international', 'irish', 'jam', 'japanese', 'jazz', 'jewish',\n",
       "       'jpop', 'jungle', 'k-pop', 'karadeniz', 'karaoke', 'kayokyoku',\n",
       "       'korean', 'laiko', 'latin', 'latino', 'leftfield', 'local',\n",
       "       'lounge', 'loungeelectronic', 'lovers', 'malaysian', 'mandopop',\n",
       "       'marschmusik', 'meditative', 'mediterranean', 'melodic', 'metal',\n",
       "       'metalcore', 'mexican', 'middle', 'minimal', 'miscellaneous',\n",
       "       'modern', 'mood', 'mpb', 'muslim', 'native', 'neoklassik', 'neue',\n",
       "       'new', 'newage', 'newwave', 'nu', 'nujazz', 'numetal', 'oceania',\n",
       "       'old', 'opera', 'orchestral', 'other', 'piano', 'pop',\n",
       "       'popelectronic', 'popeurodance', 'post', 'posthardcore',\n",
       "       'postrock', 'power', 'progmetal', 'progressive', 'psychedelic',\n",
       "       'punjabi', 'punk', 'quebecois', 'ragga', 'ram', 'rancheras', 'rap',\n",
       "       'rave', 'reggae', 'reggaeton', 'regional', 'relax', 'religious',\n",
       "       'retro', 'rhythm', 'rnb', 'rnr', 'rock', 'rockabilly', 'romance',\n",
       "       'roots', 'ruspop', 'rusrap', 'rusrock', 'salsa', 'samba',\n",
       "       'schlager', 'self', 'sertanejo', 'shoegazing', 'showtunes',\n",
       "       'singer', 'ska', 'slow', 'smooth', 'soul', 'soulful', 'sound',\n",
       "       'soundtrack', 'southern', 'specialty', 'speech', 'spiritual',\n",
       "       'sport', 'stonerrock', 'surf', 'swing', 'synthpop',\n",
       "       'sängerportrait', 'tango', 'tanzorchester', 'taraftar', 'tech',\n",
       "       'techno', 'thrash', 'top', 'traditional', 'tradjazz', 'trance',\n",
       "       'tribal', 'trip', 'triphop', 'tropical', 'türk', 'türkçe',\n",
       "       'unknown', 'urban', 'uzbek', 'variété', 'vi', 'videogame', 'vocal',\n",
       "       'western', 'world', 'worldbeat', 'ïîï'], dtype=object)"
      ]
     },
     "metadata": {},
     "output_type": "display_data"
    }
   ],
   "source": [
    "# checking for implicit duplicates\n",
    "display(df['genre'].sort_values().unique())"
   ]
  },
  {
   "cell_type": "markdown",
   "metadata": {
    "id": "ALgNbvF3VtPA"
   },
   "source": [
    "[Back to Contents](#back)"
   ]
  },
  {
   "cell_type": "markdown",
   "metadata": {
    "id": "jz6a9-7HQUDd"
   },
   "source": [
    "### Conclusions <a id='data_preprocessing_conclusions'></a>\n",
    "We detected three issues with the data:\n",
    "\n",
    "- Incorrect header styles\n",
    "- Missing values\n",
    "- Obvious and implicit duplicates\n",
    "\n",
    "The headers have been cleaned up to make processing the table simpler.\n",
    "\n",
    "All missing values have been replaced with `'unknown'`. But we still have to see whether the missing values in `'genre'` will affect our calculations.\n",
    "\n",
    "The absence of duplicates will make the results more precise and easier to understand.\n",
    "\n",
    "Now we can move on to testing hypotheses. "
   ]
  },
  {
   "cell_type": "markdown",
   "metadata": {},
   "source": [
    "<div class=\"alert alert-success\">\n",
    "<b>Reviewer's comment v1</b>\n",
    "    \n",
    "Great that you left conclusions after each section. It could be very helpful to share to the reader a short summary with result and determine next steps."
   ]
  },
  {
   "cell_type": "markdown",
   "metadata": {
    "id": "eK1es74rVujj"
   },
   "source": [
    "[Back to Contents](#back)"
   ]
  },
  {
   "cell_type": "markdown",
   "metadata": {
    "id": "WttZHXH0SqKk"
   },
   "source": [
    "## Stage 3. Testing hypotheses <a id='hypotheses'></a>"
   ]
  },
  {
   "cell_type": "markdown",
   "metadata": {
    "id": "Im936VVi_Zcu"
   },
   "source": [
    "### Hypothesis 1: comparing user behavior in two cities <a id='activity'></a>"
   ]
  },
  {
   "cell_type": "markdown",
   "metadata": {
    "id": "nwt_MuaL_Zcu"
   },
   "source": [
    "According to the first hypothesis, users from Springfield and Shelbyville listen to music differently. Test this using the data on three days of the week: Monday, Wednesday, and Friday.\n",
    "\n",
    "* Divide the users into groups by city.\n",
    "* Compare how many tracks each group played on Monday, Wednesday, and Friday.\n"
   ]
  },
  {
   "cell_type": "markdown",
   "metadata": {
    "id": "8Dw_YMmT_Zcu"
   },
   "source": [
    "For the sake of practice, perform each computation separately. \n",
    "\n",
    "Evaluate user activity in each city. Group the data by city and find the number of songs played in each group.\n",
    "\n"
   ]
  },
  {
   "cell_type": "code",
   "execution_count": 21,
   "metadata": {
    "id": "0_Qs96oh_Zcu"
   },
   "outputs": [
    {
     "data": {
      "text/html": [
       "<div>\n",
       "<style scoped>\n",
       "    .dataframe tbody tr th:only-of-type {\n",
       "        vertical-align: middle;\n",
       "    }\n",
       "\n",
       "    .dataframe tbody tr th {\n",
       "        vertical-align: top;\n",
       "    }\n",
       "\n",
       "    .dataframe thead th {\n",
       "        text-align: right;\n",
       "    }\n",
       "</style>\n",
       "<table border=\"1\" class=\"dataframe\">\n",
       "  <thead>\n",
       "    <tr style=\"text-align: right;\">\n",
       "      <th></th>\n",
       "      <th>index</th>\n",
       "      <th>user_id</th>\n",
       "      <th>track</th>\n",
       "      <th>artist</th>\n",
       "      <th>genre</th>\n",
       "      <th>time</th>\n",
       "      <th>day</th>\n",
       "    </tr>\n",
       "    <tr>\n",
       "      <th>city</th>\n",
       "      <th></th>\n",
       "      <th></th>\n",
       "      <th></th>\n",
       "      <th></th>\n",
       "      <th></th>\n",
       "      <th></th>\n",
       "      <th></th>\n",
       "    </tr>\n",
       "  </thead>\n",
       "  <tbody>\n",
       "    <tr>\n",
       "      <td>Shelbyville</td>\n",
       "      <td>18512</td>\n",
       "      <td>18512</td>\n",
       "      <td>18512</td>\n",
       "      <td>18512</td>\n",
       "      <td>18512</td>\n",
       "      <td>18512</td>\n",
       "      <td>18512</td>\n",
       "    </tr>\n",
       "    <tr>\n",
       "      <td>Springfield</td>\n",
       "      <td>42741</td>\n",
       "      <td>42741</td>\n",
       "      <td>42741</td>\n",
       "      <td>42741</td>\n",
       "      <td>42741</td>\n",
       "      <td>42741</td>\n",
       "      <td>42741</td>\n",
       "    </tr>\n",
       "  </tbody>\n",
       "</table>\n",
       "</div>"
      ],
      "text/plain": [
       "             index  user_id  track  artist  genre   time    day\n",
       "city                                                           \n",
       "Shelbyville  18512    18512  18512   18512  18512  18512  18512\n",
       "Springfield  42741    42741  42741   42741  42741  42741  42741"
      ]
     },
     "metadata": {},
     "output_type": "display_data"
    }
   ],
   "source": [
    "# Counting up the tracks played in each city\n",
    "# Group Tracks by city, sum tracks, record table as new veriable city_df\n",
    "\n",
    "df_city = df.groupby('city').count()\n",
    "display(df_city)"
   ]
  },
  {
   "attachments": {
    "image.png": {
     "image/png": "[encoded data removed]"
    }
   },
   "cell_type": "markdown",
   "metadata": {},
   "source": [
    "<div class=\"alert alert-success\">\n",
    "<b>Reviewer's comment v1:</b>\n",
    "    \n",
    "Great that you managed to apply `groupby` method here. Your conclusions are also correct.\n",
    "\n",
    "Btw groupby is quite a flexible tool, for example it is possible to pass multiple arguments there:\n",
    "\n",
    "`df.groupby([\"city\", \"neighborhood\"])[\"last_name\"].count()`\n",
    "    \n",
    "You can learn about other options here:\n",
    "https://www.analyticsvidhya.com/blog/2020/03/groupby-pandas-aggregating-data-python/\n",
    "    \n",
    "    \n",
    "Also, you can use `display()` method instead of `print()`\n",
    "![image.png](attachment:image.png)"
   ]
  },
  {
   "cell_type": "markdown",
   "metadata": {},
   "source": [
    " <div class=\"alert alert-info\"> <b>Student comments:</b> Thank you for the aditional reading recomendation. I'm sure we'll be using groupbu() a lot given how powerful a function it is. </div>"
   ]
  },
  {
   "cell_type": "markdown",
   "metadata": {},
   "source": [
    "<div class=\"alert alert-success\">\n",
    "<b>Reviewer's comment v2:</b>\n",
    "    \n",
    "Definitely! There is also very similar method - `pivot_table()`, but I personally always using groupby for some reason."
   ]
  },
  {
   "cell_type": "markdown",
   "metadata": {
    "id": "dzli3w8o_Zcu"
   },
   "source": [
    "Springfield has more tracks played than Shelbyville. But that does not imply that citizens of Springfield listen to music more often. This city is simply bigger, and there are more users.\n",
    "\n",
    "Now group the data by day of the week and find the number of tracks played on Monday, Wednesday, and Friday.\n"
   ]
  },
  {
   "cell_type": "code",
   "execution_count": 22,
   "metadata": {
    "id": "uZMKjiJz_Zcu"
   },
   "outputs": [
    {
     "data": {
      "text/plain": [
       "day\n",
       "Friday       21840\n",
       "Monday       21354\n",
       "Wednesday    18059\n",
       "Name: track, dtype: int64"
      ]
     },
     "metadata": {},
     "output_type": "display_data"
    }
   ],
   "source": [
    "# For Context: \n",
    "# The population of Shelbyville, Indiana is 18,951 as of 2019\n",
    "# The population of Springfield, Missouri is 167,051 as of 2019\n",
    "\n",
    "Shelbyville_pop = 18951\n",
    "Springfield_pop = 167051\n",
    "\n",
    "# Calculating tracks played on each of the three days\n",
    "df_day = df.groupby('day')['track'].count()\n",
    "display(df_day)\n",
    "\n"
   ]
  },
  {
   "cell_type": "markdown",
   "metadata": {
    "id": "cC2tNrlL_Zcu"
   },
   "source": [
    "Wednesday is the quietest day overall. But if we consider the two cities separately, we might come to a different conclusion."
   ]
  },
  {
   "cell_type": "markdown",
   "metadata": {},
   "source": [
    "<div class=\"alert alert-warning\">\n",
    "<b>Reviewer's comment v1:</b>\n",
    "    \n",
    "Without specifying the second column, groupby method will count values across all columns. To show only one required values, you can add, for example, specifically track column.\n",
    "    \n",
    "`df.groupby('day')['track'].count()`    "
   ]
  },
  {
   "cell_type": "markdown",
   "metadata": {},
   "source": [
    " <div class=\"alert alert-info\"> <b>Student comments:</b> \n",
    "That's a helpful tip. ty. Code amended as suggested.\n",
    "</div>\n",
    "        \n",
    "        "
   ]
  },
  {
   "cell_type": "markdown",
   "metadata": {},
   "source": [
    "<div class=\"alert alert-success\">\n",
    "<b>Reviewer's comment v2:</b>\n",
    "    \n",
    "Thanks for adjusting that. "
   ]
  },
  {
   "cell_type": "markdown",
   "metadata": {
    "id": "POzs8bGa_Zcu"
   },
   "source": [
    "You have seen how grouping by city or day works. Now write a function that will group by both.\n",
    "\n",
    "Create the `number_tracks()` function to calculate the number of songs played for a given day and city. It will require two parameters:\n",
    "* day of the week\n",
    "* name of the city\n",
    "\n",
    "In the function, use a variable to store the rows from the original table, where:\n",
    "  * `'day'` column value is equal to the `day` parameter\n",
    "  * `'city'` column value is equal to the `city` parameter\n",
    "\n",
    "Apply consecutive filtering with logical indexing.\n",
    "\n",
    "Then calculate the `'user_id'` column values in the resulting table. Store the result to a new variable. Return this variable from the function."
   ]
  },
  {
   "cell_type": "code",
   "execution_count": 23,
   "metadata": {
    "id": "Nz3GdQB1_Zcu"
   },
   "outputs": [],
   "source": [
    "# <creating the function number_tracks()>\n",
    "# We'll declare a function with two parameters: day=, city=.\n",
    "# Let the track_list variable store the df rows where\n",
    "# the value in the 'day' column is equal to the day= parameter and, at the same time, \n",
    "# the value in the 'city' column is equal to the city= parameter (apply consecutive filtering \n",
    "# with logical indexing).\n",
    "# Let the track_list_count variable store the number of 'user_id' column values in track_list\n",
    "# (found with the count() method).\n",
    "# Let the function return a number: the value of track_list_count.\n",
    "\n",
    "# The function counts tracked played for a certain city and day.\n",
    "# It first retrieves the rows with the intended day from the table,\n",
    "# then filters out the rows with the intended city from the result,\n",
    "# then finds the number of 'user_id' values in the filtered table,\n",
    "# then returns that number.\n",
    "# To see what it returns, wrap the function call in print().\n",
    "\n",
    "def number_tracks(day,city):\n",
    "    track_list = df[df['day'] == day]\n",
    "    track_list = track_list[track_list['city'] == city]\n",
    "    track_list_count = track_list['user_id'].count()\n",
    "    return(track_list_count)\n"
   ]
  },
  {
   "cell_type": "markdown",
   "metadata": {
    "id": "ytf7xFrFJQ2r"
   },
   "source": [
    "Call `number_tracks()` six times, changing the parameter values, so that you retrieve the data on both cities for each of the three days."
   ]
  },
  {
   "cell_type": "code",
   "execution_count": 24,
   "metadata": {
    "id": "rJcRATNQ_Zcu"
   },
   "outputs": [
    {
     "data": {
      "text/plain": [
       "15740"
      ]
     },
     "execution_count": 24,
     "metadata": {},
     "output_type": "execute_result"
    }
   ],
   "source": [
    "# the number of songs played in Springfield on Monday\n",
    "number_tracks('Monday', 'Springfield')"
   ]
  },
  {
   "cell_type": "code",
   "execution_count": 25,
   "metadata": {
    "id": "hq_ncZ5T_Zcu"
   },
   "outputs": [
    {
     "data": {
      "text/plain": [
       "5614"
      ]
     },
     "execution_count": 25,
     "metadata": {},
     "output_type": "execute_result"
    }
   ],
   "source": [
    "# the number of songs played in Shelbyville on Monday\n",
    "number_tracks('Monday', 'Shelbyville')"
   ]
  },
  {
   "cell_type": "code",
   "execution_count": 26,
   "metadata": {
    "id": "_NTy2VPU_Zcu"
   },
   "outputs": [
    {
     "data": {
      "text/plain": [
       "11056"
      ]
     },
     "execution_count": 26,
     "metadata": {},
     "output_type": "execute_result"
    }
   ],
   "source": [
    "# the number of songs played in Springfield on Wednesday\n",
    "number_tracks('Wednesday', 'Springfield')"
   ]
  },
  {
   "cell_type": "code",
   "execution_count": 27,
   "metadata": {
    "id": "j2y3TAwo_Zcu"
   },
   "outputs": [
    {
     "data": {
      "text/plain": [
       "7003"
      ]
     },
     "execution_count": 27,
     "metadata": {},
     "output_type": "execute_result"
    }
   ],
   "source": [
    "# the number of songs played in Shelbyville on Wednesday\n",
    "number_tracks('Wednesday', 'Shelbyville')"
   ]
  },
  {
   "cell_type": "code",
   "execution_count": 28,
   "metadata": {
    "id": "vYDw5u_K_Zcu"
   },
   "outputs": [
    {
     "data": {
      "text/plain": [
       "15945"
      ]
     },
     "execution_count": 28,
     "metadata": {},
     "output_type": "execute_result"
    }
   ],
   "source": [
    "# the number of songs played in Springfield on Friday\n",
    "number_tracks('Friday', 'Springfield')"
   ]
  },
  {
   "cell_type": "code",
   "execution_count": 29,
   "metadata": {
    "id": "8_yzFtW3_Zcu"
   },
   "outputs": [
    {
     "data": {
      "text/plain": [
       "5895"
      ]
     },
     "execution_count": 29,
     "metadata": {},
     "output_type": "execute_result"
    }
   ],
   "source": [
    "# the number of songs played in Shelbyville on Friday\n",
    "number_tracks('Friday', 'Shelbyville')"
   ]
  },
  {
   "cell_type": "markdown",
   "metadata": {},
   "source": [
    "<div class=\"alert alert-success\">\n",
    "<b>Reviewer's comment v1:</b>\n",
    "    \n",
    "Also everything is correct here! "
   ]
  },
  {
   "cell_type": "markdown",
   "metadata": {},
   "source": [
    " <div class=\"alert alert-info\"> <b>Student comments:</b> \n",
    "It took many hours to figure this out, and I was quite satisfied when I finally got it dialed in. :-)\n",
    "</div>\n",
    "        \n",
    "        "
   ]
  },
  {
   "cell_type": "markdown",
   "metadata": {},
   "source": [
    "<div class=\"alert alert-success\">\n",
    "<b>Reviewer's comment v2:</b>\n",
    "    \n",
    "But it will definitely pay off, as it is one of the most important tools in python.\n",
    "\n",
    "There is also a useful concept of lambda functions in Python, which is more concise than a normal function. \n",
    "\n",
    "You can read about it here: \n",
    "    \n",
    "https://towardsdatascience.com/lambda-functions-with-practical-examples-in-python-45934f3653a8\n",
    "https://realpython.com/python-lambda/"
   ]
  },
  {
   "cell_type": "markdown",
   "metadata": {
    "id": "7QXffbO-_Zcu"
   },
   "source": [
    "Use `pd.DataFrame` to create a table, where\n",
    "* Column names are: `['city', 'monday', 'wednesday', 'friday']`\n",
    "* The data is the results you got from `number_tracks()`"
   ]
  },
  {
   "cell_type": "code",
   "execution_count": 33,
   "metadata": {
    "id": "APAcLpOr_Zcu"
   },
   "outputs": [
    {
     "data": {
      "text/html": [
       "<div>\n",
       "<style scoped>\n",
       "    .dataframe tbody tr th:only-of-type {\n",
       "        vertical-align: middle;\n",
       "    }\n",
       "\n",
       "    .dataframe tbody tr th {\n",
       "        vertical-align: top;\n",
       "    }\n",
       "\n",
       "    .dataframe thead th {\n",
       "        text-align: right;\n",
       "    }\n",
       "</style>\n",
       "<table border=\"1\" class=\"dataframe\">\n",
       "  <thead>\n",
       "    <tr style=\"text-align: right;\">\n",
       "      <th></th>\n",
       "      <th>City</th>\n",
       "      <th>Monday</th>\n",
       "      <th>Wednesday</th>\n",
       "      <th>Friday</th>\n",
       "    </tr>\n",
       "  </thead>\n",
       "  <tbody>\n",
       "    <tr>\n",
       "      <td>0</td>\n",
       "      <td>Springfield</td>\n",
       "      <td>15740</td>\n",
       "      <td>11056</td>\n",
       "      <td>15945</td>\n",
       "    </tr>\n",
       "    <tr>\n",
       "      <td>1</td>\n",
       "      <td>Shellbyville</td>\n",
       "      <td>5614</td>\n",
       "      <td>7003</td>\n",
       "      <td>5895</td>\n",
       "    </tr>\n",
       "  </tbody>\n",
       "</table>\n",
       "</div>"
      ],
      "text/plain": [
       "           City  Monday  Wednesday  Friday\n",
       "0   Springfield   15740      11056   15945\n",
       "1  Shellbyville    5614       7003    5895"
      ]
     },
     "metadata": {},
     "output_type": "display_data"
    },
    {
     "data": {
      "image/png": "[encoded data removed]",
      "text/plain": [
       "<Figure size 432x288 with 1 Axes>"
      ]
     },
     "metadata": {
      "needs_background": "light"
     },
     "output_type": "display_data"
    }
   ],
   "source": [
    "#import Matplot\n",
    "#import matplotlib.pyplot as plt\n",
    "\n",
    "# table with results\n",
    "results = [\n",
    "[\n",
    "    'Springfield',\n",
    "    number_tracks('Monday', 'Springfield'),\n",
    "    number_tracks('Wednesday', 'Springfield'),\n",
    "    number_tracks('Friday', 'Springfield')\n",
    "],\n",
    "[\n",
    "    'Shellbyville',\n",
    "    number_tracks('Monday', 'Shelbyville'),\n",
    "    number_tracks('Wednesday', 'Shelbyville'),\n",
    "    number_tracks('Friday', 'Shelbyville')\n",
    "]\n",
    "]\n",
    "\n",
    "\n",
    "# table to Data Frame\n",
    "results_df = pd.DataFrame(results, columns=['City', 'Monday', 'Wednesday', 'Friday'])\n",
    "\n",
    "### I call this section, show your work ###\n",
    "\n",
    "display(results_df)\n",
    "results_df.plot(kind='bar');"
   ]
  },
  {
   "cell_type": "code",
   "execution_count": 34,
   "metadata": {},
   "outputs": [
    {
     "ename": "IndentationError",
     "evalue": "unexpected indent (<ipython-input-34-76da1386779f>, line 3)",
     "output_type": "error",
     "traceback": [
      "\u001b[0;36m  File \u001b[0;32m\"<ipython-input-34-76da1386779f>\"\u001b[0;36m, line \u001b[0;32m3\u001b[0m\n\u001b[0;31m    spring_day_count = ['Springfield', 15740, 11056, 15945]\u001b[0m\n\u001b[0m    ^\u001b[0m\n\u001b[0;31mIndentationError\u001b[0m\u001b[0;31m:\u001b[0m unexpected indent\n"
     ]
    }
   ],
   "source": [
    "# data\n",
    "column_names = ['city', 'monday', 'wednesday', 'friday']\n",
    "  spring_day_count = ['Springfield', 15740, 11056, 15945]\n",
    "  shelb_day_count = ['Shelbyville', 5614, 7003, 5895]\n",
    "  tnt = [spring_day_count, shelb_day_count]\n",
    "  results_in_table = pd.DataFrame(data=tnt, columns=column_names)\n",
    "  results_in_table"
   ]
  },
  {
   "cell_type": "code",
   "execution_count": 35,
   "metadata": {},
   "outputs": [
    {
     "ename": "IndentationError",
     "evalue": "unexpected indent (<ipython-input-35-8d6ed0d7bdcc>, line 2)",
     "output_type": "error",
     "traceback": [
      "\u001b[0;36m  File \u001b[0;32m\"<ipython-input-35-8d6ed0d7bdcc>\"\u001b[0;36m, line \u001b[0;32m2\u001b[0m\n\u001b[0;31m    spring_day_count = ['Springfield', 15740, 11056, 15945]\u001b[0m\n\u001b[0m    ^\u001b[0m\n\u001b[0;31mIndentationError\u001b[0m\u001b[0;31m:\u001b[0m unexpected indent\n"
     ]
    }
   ],
   "source": [
    "results_df = pd.DataFrame(results, column_names = ['city', 'monday', 'wednesday', 'friday'])\n",
    "  spring_day_count = ['Springfield', 15740, 11056, 15945]\n",
    "  shelb_day_count = ['Shelbyville', 5614, 7003, 5895]\n",
    "  tnt = [spring_day_count, shelb_day_count]\n",
    "  results_in_table = pd.DataFrame(data=tnt, columns=column_names)\n",
    "  results_in_table"
   ]
  },
  {
   "cell_type": "markdown",
   "metadata": {
    "id": "-EgPIHYu_Zcu"
   },
   "source": [
    "**Conclusions**\n",
    "\n",
    "The data reveals differences in user behavior:\n",
    "\n",
    "- In Springfield, the number of songs played peaks on Mondays and Fridays, while on Wednesday there is a decrease in activity.\n",
    "- In Shelbyville, on the contrary, users listen to music more on Wednesday. User activity on Monday and Friday is smaller.\n",
    "\n",
    "So the first hypothesis seems to be correct."
   ]
  },
  {
   "cell_type": "markdown",
   "metadata": {},
   "source": [
    "<div class=\"alert alert-warning\">\n",
    "<b>Reviewer's comment v1:</b>\n",
    "    \n",
    "That is great that you also created a visualisation of results. \n",
    "\n",
    "Minor comments about how to improve. \n",
    "    \n",
    "- Usually, it helps to group all imports (data and library) into two separate cells at the beginning of the project. Then you can load new libraries (or update/etc.) without overwriting existent data.</br>\n",
    "- You can also create a dataframe in the following way where you can replace values with your function.\n",
    "    \n",
    "    `column_names = ['city', 'monday', 'wednesday', 'friday']\n",
    "    spring_day_count = ['Springfield', 15740, 11056, 15945]\n",
    "    shelb_day_count = ['Shelbyville', 5614, 7003, 5895]\n",
    "    tnt = [spring_day_count, shelb_day_count]\n",
    "    results_in_table = pd.DataFrame(data=tnt, columns=column_names)\n",
    "    results_in_table`"
   ]
  },
  {
   "cell_type": "markdown",
   "metadata": {},
   "source": [
    " <div class=\"alert alert-info\"> <b>Student comments:</b> \n",
    "- matplotlib.pyplot import shifted to the top of the notebook, as sugested.\n",
    "</div>\n",
    "        \n",
    "        "
   ]
  },
  {
   "cell_type": "markdown",
   "metadata": {},
   "source": [
    " <div class=\"alert alert-info\"> <b>Student comments:</b> \n",
    "noted, for the sake of time, leaving current code as is. Will note for future versions.\n",
    "</div>\n",
    "        \n",
    "        "
   ]
  },
  {
   "cell_type": "markdown",
   "metadata": {},
   "source": [
    "<div class=\"alert alert-success\">\n",
    "<b>Reviewer's comment v2:</b>\n",
    "    \n",
    "I see only the issue with indents, as python is quite strict with that. It will accept only the following version: \n",
    "\n",
    "```\n",
    "results_df = pd.DataFrame(results, column_names = ['city', 'monday', 'wednesday', 'friday'])\n",
    "spring_day_count = ['Springfield', 15740, 11056, 15945]\n",
    "shelb_day_count = ['Shelbyville', 5614, 7003, 5895]\n",
    "tnt = [spring_day_count, shelb_day_count]\n",
    "results_in_table = pd.DataFrame(data=tnt, columns=column_names)\n",
    "results_in_table\n",
    "```"
   ]
  },
  {
   "cell_type": "markdown",
   "metadata": {
    "id": "p7nFQajCVw5B"
   },
   "source": [
    "[Back to Contents](#back)"
   ]
  },
  {
   "cell_type": "markdown",
   "metadata": {
    "id": "atZAxtq4_Zcu"
   },
   "source": [
    "### Hypothesis 2: music at the beginning and end of the week <a id='week'></a>"
   ]
  },
  {
   "cell_type": "markdown",
   "metadata": {
    "id": "eXrQqXFH_Zcu"
   },
   "source": [
    "According to the second hypothesis, on Monday morning and Friday night, citizens of Springfield listen to genres that differ from ones users from Shelbyville enjoy."
   ]
  },
  {
   "cell_type": "markdown",
   "metadata": {
    "id": "S8UcW6Hw_Zcu"
   },
   "source": [
    "Get tables (make sure that the name of your combined table matches the DataFrame given in the two code blocks below):\n",
    "* For Springfield — `spr_general`\n",
    "* For Shelbyville — `shel_general`"
   ]
  },
  {
   "cell_type": "code",
   "execution_count": 36,
   "metadata": {
    "id": "qeaFfM_P_Zcu",
    "pycharm": {
     "is_executing": true
    }
   },
   "outputs": [],
   "source": [
    "#Define Data Frames for springfield and Shelbyville\n",
    "\n",
    "spr_general = (df[df['city'] == 'Springfield'])\n",
    "shel_general = (df[df['city'] == 'Shelbyville'])"
   ]
  },
  {
   "cell_type": "code",
   "execution_count": 37,
   "metadata": {
    "id": "ORaVRKto_Zcu"
   },
   "outputs": [
    {
     "data": {
      "text/html": [
       "<div>\n",
       "<style scoped>\n",
       "    .dataframe tbody tr th:only-of-type {\n",
       "        vertical-align: middle;\n",
       "    }\n",
       "\n",
       "    .dataframe tbody tr th {\n",
       "        vertical-align: top;\n",
       "    }\n",
       "\n",
       "    .dataframe thead th {\n",
       "        text-align: right;\n",
       "    }\n",
       "</style>\n",
       "<table border=\"1\" class=\"dataframe\">\n",
       "  <thead>\n",
       "    <tr style=\"text-align: right;\">\n",
       "      <th></th>\n",
       "      <th>index</th>\n",
       "      <th>user_id</th>\n",
       "      <th>track</th>\n",
       "      <th>artist</th>\n",
       "      <th>genre</th>\n",
       "      <th>city</th>\n",
       "      <th>time</th>\n",
       "      <th>day</th>\n",
       "    </tr>\n",
       "  </thead>\n",
       "  <tbody>\n",
       "    <tr>\n",
       "      <td>0</td>\n",
       "      <td>0</td>\n",
       "      <td>FFB692EC</td>\n",
       "      <td>Kamigata To Boots</td>\n",
       "      <td>The Mass Missile</td>\n",
       "      <td>rock</td>\n",
       "      <td>Shelbyville</td>\n",
       "      <td>20:28:33</td>\n",
       "      <td>Wednesday</td>\n",
       "    </tr>\n",
       "    <tr>\n",
       "      <td>2</td>\n",
       "      <td>2</td>\n",
       "      <td>20EC38</td>\n",
       "      <td>Funiculì funiculà</td>\n",
       "      <td>Mario Lanza</td>\n",
       "      <td>pop</td>\n",
       "      <td>Shelbyville</td>\n",
       "      <td>20:58:07</td>\n",
       "      <td>Wednesday</td>\n",
       "    </tr>\n",
       "    <tr>\n",
       "      <td>3</td>\n",
       "      <td>3</td>\n",
       "      <td>A3DD03C9</td>\n",
       "      <td>Dragons in the Sunset</td>\n",
       "      <td>Fire + Ice</td>\n",
       "      <td>folk</td>\n",
       "      <td>Shelbyville</td>\n",
       "      <td>08:37:09</td>\n",
       "      <td>Monday</td>\n",
       "    </tr>\n",
       "    <tr>\n",
       "      <td>5</td>\n",
       "      <td>5</td>\n",
       "      <td>842029A1</td>\n",
       "      <td>Chains</td>\n",
       "      <td>Obladaet</td>\n",
       "      <td>rusrap</td>\n",
       "      <td>Shelbyville</td>\n",
       "      <td>13:09:41</td>\n",
       "      <td>Friday</td>\n",
       "    </tr>\n",
       "    <tr>\n",
       "      <td>9</td>\n",
       "      <td>9</td>\n",
       "      <td>E772D5C0</td>\n",
       "      <td>Pessimist</td>\n",
       "      <td>unknown</td>\n",
       "      <td>dance</td>\n",
       "      <td>Shelbyville</td>\n",
       "      <td>21:20:49</td>\n",
       "      <td>Wednesday</td>\n",
       "    </tr>\n",
       "  </tbody>\n",
       "</table>\n",
       "</div>"
      ],
      "text/plain": [
       "   index   user_id                  track            artist   genre  \\\n",
       "0      0  FFB692EC      Kamigata To Boots  The Mass Missile    rock   \n",
       "2      2    20EC38      Funiculì funiculà       Mario Lanza     pop   \n",
       "3      3  A3DD03C9  Dragons in the Sunset        Fire + Ice    folk   \n",
       "5      5  842029A1                 Chains          Obladaet  rusrap   \n",
       "9      9  E772D5C0              Pessimist           unknown   dance   \n",
       "\n",
       "          city      time        day  \n",
       "0  Shelbyville  20:28:33  Wednesday  \n",
       "2  Shelbyville  20:58:07  Wednesday  \n",
       "3  Shelbyville  08:37:09     Monday  \n",
       "5  Shelbyville  13:09:41     Friday  \n",
       "9  Shelbyville  21:20:49  Wednesday  "
      ]
     },
     "execution_count": 37,
     "metadata": {},
     "output_type": "execute_result"
    }
   ],
   "source": [
    "# create the shel_general from the df rows,\n",
    "# where the value in the 'city' column is 'Shelbyville'\n",
    "\n",
    "shel_general = (df[df['city'] == 'Shelbyville'])\n",
    "\n",
    "shel_general.head()\n"
   ]
  },
  {
   "cell_type": "markdown",
   "metadata": {},
   "source": [
    "<div class=\"alert alert-success\">\n",
    "<b>Reviewer's comment v1:</b>\n",
    "    \n",
    "You correctly used logical indexing to filter data by city! \n",
    "\n",
    "Additionally there are other methods that could be helpful to filter your \n",
    "`loc()`,`iloc()` and `query()`.\n",
    "    \n",
    "`spr_general = df.loc[df.loc[:,'city'] == 'Springfield']`\n",
    "    \n",
    "`spr_general = df.query('city == \"Springfield\"')`\n",
    "    \n",
    "You can read about them additionally here: \n",
    "https://towardsdatascience.com/10-examples-that-will-make-you-use-pandas-query-function-more-often-a8fb3e9361cb\n",
    "https://towardsdatascience.com/how-to-use-loc-and-iloc-for-selecting-data-in-pandas-bd09cb4c3d79    "
   ]
  },
  {
   "cell_type": "markdown",
   "metadata": {
    "id": "MEJV-CX2_Zcu"
   },
   "source": [
    "Write the `genre_weekday()` function with four parameters:\n",
    "* A table for data (`df`)\n",
    "* The day of the week (`day`)\n",
    "* The first timestamp, in 'hh:mm' format (`time1`)\n",
    "* The last timestamp, in 'hh:mm' format (`time2`)\n",
    "\n",
    "The function should return info on the 15 most popular genres on a given day within the period between the two timestamps."
   ]
  },
  {
   "cell_type": "code",
   "execution_count": 38,
   "metadata": {
    "id": "laJT9BYl_Zcu"
   },
   "outputs": [],
   "source": [
    "#import matplotlib.pyplot as plt is active on this cell\n",
    "\n",
    "# 1) Let the genre_df variable store the rows that meet several conditions:\n",
    "#    - the value in the 'day' column is equal to the value of the day= argument\n",
    "#    - the value in the 'time' column is greater than the value of the time1= argument\n",
    "#    - the value in the 'time' column is smaller than the value of the time2= argument\n",
    "#    Use consecutive filtering with logical indexing.\n",
    "\n",
    "#initiate datafram\n",
    "genre_df = pd.DataFrame()\n",
    "genre_df_sorted_series = pd.DataFrame()\n",
    "\n",
    "#def function\n",
    "def genre_weekday(df,day,time1,time2):\n",
    "    \"\"\" \n",
    "    1) Let the genre_df variable store the rows that meet several conditions:\n",
    "    2) Group genre_df by the 'genre' column, take one of its columns, \n",
    "    3) Sort genre_df_count in descending order of frequency and store the result to the genre_df_sorted variable    \n",
    "    4) Return a Series object with the first 15 genre_df_sorted value - the 15 most    \n",
    "    \"\"\"\n",
    "    genre_df = df[df['day'] == day]\n",
    "    genre_df = genre_df[genre_df['time'] > time1]\n",
    "    genre_df = genre_df[genre_df['time'] < time2]\n",
    "    #return(genre_df)\n",
    "    genre_df_count = genre_df.groupby('genre').count()\n",
    "    genre_df_sorted = genre_df_count.sort_values(by='user_id',ascending=False).head(15)\n",
    "    genre_df_sorted_series = genre_df_sorted['user_id']\n",
    "    # Bar Graph for Added Clarity -- Be sure import matplotlib.pyplot as plt is active on this cell -- \n",
    "    return(genre_df_sorted_series)"
   ]
  },
  {
   "cell_type": "markdown",
   "metadata": {
    "id": "la2s2_PF_Zcu"
   },
   "source": [
    "Compare the results of the `genre_weekday()` function for Springfield and Shelbyville on Monday morning (from 7AM to 11AM) and on Friday evening (from 17:00 to 23:00):"
   ]
  },
  {
   "cell_type": "markdown",
   "metadata": {},
   "source": [
    "<div class=\"alert alert-warning\">\n",
    "<b>Reviewer's comment v1:</b>\n",
    "    \n",
    "Everything is correct here, but only minor remark about how documenting functions.\n",
    "\n",
    "There is a common convention to use docstings to comments functions in python. It helps to keep code clean and embrace transparency and readability when multiple teams are working on the same complex code.\n",
    "\n",
    "You can read about this, for example, here: https://www.datacamp.com/community/tutorials/docstrings-python"
   ]
  },
  {
   "cell_type": "markdown",
   "metadata": {},
   "source": [
    " <div class=\"alert alert-info\"> <b>Student comments:</b> \n",
    "Added Docstring. cleaned up comments section.\n",
    "</div>\n",
    "        \n",
    "        "
   ]
  },
  {
   "cell_type": "markdown",
   "metadata": {},
   "source": [
    "<div class=\"alert alert-success\">\n",
    "<b>Reviewer's comment v2:</b>\n",
    "    \n",
    "That looks now very nice and neat!"
   ]
  },
  {
   "cell_type": "code",
   "execution_count": 39,
   "metadata": {
    "id": "yz7itPUQ_Zcu"
   },
   "outputs": [
    {
     "data": {
      "text/plain": [
       "genre\n",
       "pop            781\n",
       "dance          549\n",
       "electronic     480\n",
       "rock           474\n",
       "hiphop         286\n",
       "ruspop         186\n",
       "world          181\n",
       "rusrap         175\n",
       "alternative    164\n",
       "unknown        161\n",
       "classical      157\n",
       "metal          120\n",
       "jazz           100\n",
       "folk            97\n",
       "soundtrack      95\n",
       "Name: user_id, dtype: int64"
      ]
     },
     "metadata": {},
     "output_type": "display_data"
    },
    {
     "data": {
      "image/png": "[encoded data removed]",
      "text/plain": [
       "<Figure size 432x288 with 1 Axes>"
      ]
     },
     "metadata": {
      "needs_background": "light"
     },
     "output_type": "display_data"
    }
   ],
   "source": [
    "# calling the function for Monday morning in Springfield (use spr_general instead of the df table)\n",
    "\n",
    "spring_morn = genre_weekday(spr_general, 'Monday', '07:00', '11:00')\n",
    "display(spring_morn)\n",
    "spring_morn.plot(kind='bar'); "
   ]
  },
  {
   "cell_type": "code",
   "execution_count": 40,
   "metadata": {
    "id": "kwUcHPdy_Zcu"
   },
   "outputs": [
    {
     "data": {
      "text/plain": [
       "genre\n",
       "pop            218\n",
       "dance          182\n",
       "rock           162\n",
       "electronic     147\n",
       "hiphop          80\n",
       "ruspop          64\n",
       "alternative     58\n",
       "rusrap          55\n",
       "jazz            44\n",
       "classical       40\n",
       "world           36\n",
       "rap             32\n",
       "soundtrack      31\n",
       "rnb             27\n",
       "metal           27\n",
       "Name: user_id, dtype: int64"
      ]
     },
     "metadata": {},
     "output_type": "display_data"
    },
    {
     "data": {
      "image/png": "[encoded data removed]",
      "text/plain": [
       "<Figure size 432x288 with 1 Axes>"
      ]
     },
     "metadata": {
      "needs_background": "light"
     },
     "output_type": "display_data"
    }
   ],
   "source": [
    "# calling the function for Monday morning in Shelbyville (use shel_general instead of the df table)\n",
    "shel_morn = genre_weekday(shel_general, 'Monday', '07:00', '11:00')\n",
    "display(shel_morn)\n",
    "shel_morn.plot(kind='bar'); "
   ]
  },
  {
   "cell_type": "code",
   "execution_count": 41,
   "metadata": {
    "id": "EzXVRE1o_Zcu"
   },
   "outputs": [
    {
     "data": {
      "text/plain": [
       "genre\n",
       "pop            683\n",
       "rock           493\n",
       "dance          473\n",
       "electronic     459\n",
       "hiphop         265\n",
       "world          200\n",
       "ruspop         162\n",
       "alternative    156\n",
       "classical      151\n",
       "rusrap         130\n",
       "unknown        108\n",
       "jazz           104\n",
       "soundtrack     100\n",
       "rnb             88\n",
       "metal           82\n",
       "Name: user_id, dtype: int64"
      ]
     },
     "metadata": {},
     "output_type": "display_data"
    },
    {
     "data": {
      "image/png": "[encoded data removed]",
      "text/plain": [
       "<Figure size 432x288 with 1 Axes>"
      ]
     },
     "metadata": {
      "needs_background": "light"
     },
     "output_type": "display_data"
    }
   ],
   "source": [
    "# calling the function for Friday evening in Springfield\n",
    "spring_eve = genre_weekday(spr_general, 'Friday', '17:30', '21:55')\n",
    "display(spring_eve)\n",
    "spring_eve.plot(kind='bar'); "
   ]
  },
  {
   "cell_type": "code",
   "execution_count": 42,
   "metadata": {
    "id": "JZaEKu5v_Zcu"
   },
   "outputs": [
    {
     "data": {
      "text/plain": [
       "genre\n",
       "pop            248\n",
       "rock           212\n",
       "electronic     206\n",
       "dance          198\n",
       "hiphop          89\n",
       "alternative     62\n",
       "jazz            58\n",
       "classical       57\n",
       "rusrap          52\n",
       "world           51\n",
       "unknown         46\n",
       "ruspop          43\n",
       "soundtrack      38\n",
       "metal           38\n",
       "rap             36\n",
       "Name: user_id, dtype: int64"
      ]
     },
     "metadata": {},
     "output_type": "display_data"
    },
    {
     "data": {
      "image/png": "[encoded data removed]",
      "text/plain": [
       "<Figure size 432x288 with 1 Axes>"
      ]
     },
     "metadata": {
      "needs_background": "light"
     },
     "output_type": "display_data"
    }
   ],
   "source": [
    "# calling the function for Friday evening in Shelbyville\n",
    "Shel_eve = genre_weekday(shel_general, 'Friday', '17:30', '21:55')\n",
    "display(Shel_eve )\n",
    "plt.xticks(rotation=50)\n",
    "Shel_eve.plot(kind='bar'); "
   ]
  },
  {
   "cell_type": "markdown",
   "metadata": {},
   "source": [
    "<div class=\"alert alert-success\">\n",
    "<b>Reviewer's comment v1:</b>\n",
    "    \n",
    "And with the help of the function, we got all the necessary information! \n",
    "    \n",
    "You can also rotate x-axis tick labels a little bit using: \n",
    "    \n",
    "`plt.xticks(rotation=50)`"
   ]
  },
  {
   "cell_type": "markdown",
   "metadata": {
    "id": "wrCe4MNX_Zcu"
   },
   "source": [
    "**Conclusion**\n",
    "\n",
    "Having compared the top 15 genres on Monday morning, we can draw the following conclusions:\n",
    "\n",
    "1. Users from Springfield and Shelbyville listen to similar music. The top five genres are the same, only rock and electronic have switched places.\n",
    "\n",
    "2. In Springfield, the number of missing values turned out to be so big that the value `'unknown'` came in 10th. This means that missing values make up a considerable portion of the data, which may be a basis for questioning the reliability of our conclusions.\n",
    "\n",
    "For Friday evening, the situation is similar. Individual genres vary somewhat, but on the whole, the top 15 is similar for the two cities.\n",
    "\n",
    "Thus, the second hypothesis has been partially proven true:\n",
    "* Users listen to similar music at the beginning and end of the week.\n",
    "* There is no major difference between Springfield and Shelbyville. In both cities, pop is the most popular genre.\n",
    "\n",
    "However, the number of missing values makes this result questionable. In Springfield, there are so many that they affect our top 15. Were we not missing these values, things might look different."
   ]
  },
  {
   "cell_type": "markdown",
   "metadata": {
    "id": "jLmXgdanVyhP"
   },
   "source": [
    "[Back to Contents](#back)"
   ]
  },
  {
   "cell_type": "markdown",
   "metadata": {
    "id": "JolODAqr_Zcu"
   },
   "source": [
    "### Hypothesis 3: genre preferences in Springfield and Shelbyville <a id='genre'></a>\n",
    "\n",
    "Hypothesis: Shelbyville loves rap music. Springfield's citizens are more into pop."
   ]
  },
  {
   "cell_type": "markdown",
   "metadata": {
    "id": "DlegSvaT_Zcu"
   },
   "source": [
    "Group the `spr_general` table by genre and find the number of songs played for each genre with the `count()` method. Then sort the result in descending order and store it to `spr_genres`."
   ]
  },
  {
   "cell_type": "code",
   "execution_count": 43,
   "metadata": {
    "id": "r19lIPke_Zcu"
   },
   "outputs": [],
   "source": [
    "# on one line: group the spr_general table by the 'genre' column, \n",
    "# count the 'genre' values with count() in the grouping, \n",
    "# sort the resulting Series in descending order, and store it to spr_genres\n",
    "\n",
    "spr_genres = spr_general.groupby('genre').count().sort_values('user_id',ascending=False)\n"
   ]
  },
  {
   "cell_type": "markdown",
   "metadata": {
    "id": "6kMuomxTiIr8"
   },
   "source": [
    "Print the first 10 rows from `spr_genres`:"
   ]
  },
  {
   "cell_type": "code",
   "execution_count": 44,
   "metadata": {
    "id": "WhCSooF8_Zcv",
    "scrolled": true
   },
   "outputs": [
    {
     "data": {
      "text/html": [
       "<div>\n",
       "<style scoped>\n",
       "    .dataframe tbody tr th:only-of-type {\n",
       "        vertical-align: middle;\n",
       "    }\n",
       "\n",
       "    .dataframe tbody tr th {\n",
       "        vertical-align: top;\n",
       "    }\n",
       "\n",
       "    .dataframe thead th {\n",
       "        text-align: right;\n",
       "    }\n",
       "</style>\n",
       "<table border=\"1\" class=\"dataframe\">\n",
       "  <thead>\n",
       "    <tr style=\"text-align: right;\">\n",
       "      <th></th>\n",
       "      <th>index</th>\n",
       "      <th>user_id</th>\n",
       "      <th>track</th>\n",
       "      <th>artist</th>\n",
       "      <th>city</th>\n",
       "      <th>time</th>\n",
       "      <th>day</th>\n",
       "    </tr>\n",
       "    <tr>\n",
       "      <th>genre</th>\n",
       "      <th></th>\n",
       "      <th></th>\n",
       "      <th></th>\n",
       "      <th></th>\n",
       "      <th></th>\n",
       "      <th></th>\n",
       "      <th></th>\n",
       "    </tr>\n",
       "  </thead>\n",
       "  <tbody>\n",
       "    <tr>\n",
       "      <td>pop</td>\n",
       "      <td>5892</td>\n",
       "      <td>5892</td>\n",
       "      <td>5892</td>\n",
       "      <td>5892</td>\n",
       "      <td>5892</td>\n",
       "      <td>5892</td>\n",
       "      <td>5892</td>\n",
       "    </tr>\n",
       "    <tr>\n",
       "      <td>dance</td>\n",
       "      <td>4435</td>\n",
       "      <td>4435</td>\n",
       "      <td>4435</td>\n",
       "      <td>4435</td>\n",
       "      <td>4435</td>\n",
       "      <td>4435</td>\n",
       "      <td>4435</td>\n",
       "    </tr>\n",
       "    <tr>\n",
       "      <td>rock</td>\n",
       "      <td>3965</td>\n",
       "      <td>3965</td>\n",
       "      <td>3965</td>\n",
       "      <td>3965</td>\n",
       "      <td>3965</td>\n",
       "      <td>3965</td>\n",
       "      <td>3965</td>\n",
       "    </tr>\n",
       "    <tr>\n",
       "      <td>electronic</td>\n",
       "      <td>3786</td>\n",
       "      <td>3786</td>\n",
       "      <td>3786</td>\n",
       "      <td>3786</td>\n",
       "      <td>3786</td>\n",
       "      <td>3786</td>\n",
       "      <td>3786</td>\n",
       "    </tr>\n",
       "    <tr>\n",
       "      <td>hiphop</td>\n",
       "      <td>2096</td>\n",
       "      <td>2096</td>\n",
       "      <td>2096</td>\n",
       "      <td>2096</td>\n",
       "      <td>2096</td>\n",
       "      <td>2096</td>\n",
       "      <td>2096</td>\n",
       "    </tr>\n",
       "    <tr>\n",
       "      <td>classical</td>\n",
       "      <td>1616</td>\n",
       "      <td>1616</td>\n",
       "      <td>1616</td>\n",
       "      <td>1616</td>\n",
       "      <td>1616</td>\n",
       "      <td>1616</td>\n",
       "      <td>1616</td>\n",
       "    </tr>\n",
       "    <tr>\n",
       "      <td>world</td>\n",
       "      <td>1432</td>\n",
       "      <td>1432</td>\n",
       "      <td>1432</td>\n",
       "      <td>1432</td>\n",
       "      <td>1432</td>\n",
       "      <td>1432</td>\n",
       "      <td>1432</td>\n",
       "    </tr>\n",
       "    <tr>\n",
       "      <td>alternative</td>\n",
       "      <td>1379</td>\n",
       "      <td>1379</td>\n",
       "      <td>1379</td>\n",
       "      <td>1379</td>\n",
       "      <td>1379</td>\n",
       "      <td>1379</td>\n",
       "      <td>1379</td>\n",
       "    </tr>\n",
       "    <tr>\n",
       "      <td>ruspop</td>\n",
       "      <td>1372</td>\n",
       "      <td>1372</td>\n",
       "      <td>1372</td>\n",
       "      <td>1372</td>\n",
       "      <td>1372</td>\n",
       "      <td>1372</td>\n",
       "      <td>1372</td>\n",
       "    </tr>\n",
       "    <tr>\n",
       "      <td>rusrap</td>\n",
       "      <td>1161</td>\n",
       "      <td>1161</td>\n",
       "      <td>1161</td>\n",
       "      <td>1161</td>\n",
       "      <td>1161</td>\n",
       "      <td>1161</td>\n",
       "      <td>1161</td>\n",
       "    </tr>\n",
       "  </tbody>\n",
       "</table>\n",
       "</div>"
      ],
      "text/plain": [
       "             index  user_id  track  artist  city  time   day\n",
       "genre                                                       \n",
       "pop           5892     5892   5892    5892  5892  5892  5892\n",
       "dance         4435     4435   4435    4435  4435  4435  4435\n",
       "rock          3965     3965   3965    3965  3965  3965  3965\n",
       "electronic    3786     3786   3786    3786  3786  3786  3786\n",
       "hiphop        2096     2096   2096    2096  2096  2096  2096\n",
       "classical     1616     1616   1616    1616  1616  1616  1616\n",
       "world         1432     1432   1432    1432  1432  1432  1432\n",
       "alternative   1379     1379   1379    1379  1379  1379  1379\n",
       "ruspop        1372     1372   1372    1372  1372  1372  1372\n",
       "rusrap        1161     1161   1161    1161  1161  1161  1161"
      ]
     },
     "metadata": {},
     "output_type": "display_data"
    }
   ],
   "source": [
    "# printing the first 10 rows of spr_genres\n",
    "display(spr_genres.head(10))"
   ]
  },
  {
   "cell_type": "markdown",
   "metadata": {
    "id": "cnPG2vnN_Zcv"
   },
   "source": [
    "Now do the same with the data on Shelbyville.\n",
    "\n",
    "Group the `shel_general` table by genre and find the number of songs played for each genre. Then sort the result in descending order and store it to the `shel_genres` table:\n"
   ]
  },
  {
   "cell_type": "code",
   "execution_count": 45,
   "metadata": {
    "id": "gluLIpE7_Zcv"
   },
   "outputs": [],
   "source": [
    "# on one line: group the shel_general table by the 'genre' column, \n",
    "# count the 'genre' values in the grouping with count(), \n",
    "# sort the resulting Series in descending order and store it to shel_genres\n",
    "\n",
    "shel_genres = shel_general.groupby('genre').count().sort_values('user_id',ascending=False)"
   ]
  },
  {
   "cell_type": "markdown",
   "metadata": {
    "id": "5Doha_ODgyQ8"
   },
   "source": [
    "Print the first 10 rows of `shel_genres`:"
   ]
  },
  {
   "cell_type": "code",
   "execution_count": 46,
   "metadata": {
    "id": "uaGJHjVU_Zcv"
   },
   "outputs": [
    {
     "data": {
      "text/html": [
       "<div>\n",
       "<style scoped>\n",
       "    .dataframe tbody tr th:only-of-type {\n",
       "        vertical-align: middle;\n",
       "    }\n",
       "\n",
       "    .dataframe tbody tr th {\n",
       "        vertical-align: top;\n",
       "    }\n",
       "\n",
       "    .dataframe thead th {\n",
       "        text-align: right;\n",
       "    }\n",
       "</style>\n",
       "<table border=\"1\" class=\"dataframe\">\n",
       "  <thead>\n",
       "    <tr style=\"text-align: right;\">\n",
       "      <th></th>\n",
       "      <th>index</th>\n",
       "      <th>user_id</th>\n",
       "      <th>track</th>\n",
       "      <th>artist</th>\n",
       "      <th>city</th>\n",
       "      <th>time</th>\n",
       "      <th>day</th>\n",
       "    </tr>\n",
       "    <tr>\n",
       "      <th>genre</th>\n",
       "      <th></th>\n",
       "      <th></th>\n",
       "      <th></th>\n",
       "      <th></th>\n",
       "      <th></th>\n",
       "      <th></th>\n",
       "      <th></th>\n",
       "    </tr>\n",
       "  </thead>\n",
       "  <tbody>\n",
       "    <tr>\n",
       "      <td>pop</td>\n",
       "      <td>2431</td>\n",
       "      <td>2431</td>\n",
       "      <td>2431</td>\n",
       "      <td>2431</td>\n",
       "      <td>2431</td>\n",
       "      <td>2431</td>\n",
       "      <td>2431</td>\n",
       "    </tr>\n",
       "    <tr>\n",
       "      <td>dance</td>\n",
       "      <td>1932</td>\n",
       "      <td>1932</td>\n",
       "      <td>1932</td>\n",
       "      <td>1932</td>\n",
       "      <td>1932</td>\n",
       "      <td>1932</td>\n",
       "      <td>1932</td>\n",
       "    </tr>\n",
       "    <tr>\n",
       "      <td>rock</td>\n",
       "      <td>1879</td>\n",
       "      <td>1879</td>\n",
       "      <td>1879</td>\n",
       "      <td>1879</td>\n",
       "      <td>1879</td>\n",
       "      <td>1879</td>\n",
       "      <td>1879</td>\n",
       "    </tr>\n",
       "    <tr>\n",
       "      <td>electronic</td>\n",
       "      <td>1736</td>\n",
       "      <td>1736</td>\n",
       "      <td>1736</td>\n",
       "      <td>1736</td>\n",
       "      <td>1736</td>\n",
       "      <td>1736</td>\n",
       "      <td>1736</td>\n",
       "    </tr>\n",
       "    <tr>\n",
       "      <td>hiphop</td>\n",
       "      <td>960</td>\n",
       "      <td>960</td>\n",
       "      <td>960</td>\n",
       "      <td>960</td>\n",
       "      <td>960</td>\n",
       "      <td>960</td>\n",
       "      <td>960</td>\n",
       "    </tr>\n",
       "    <tr>\n",
       "      <td>alternative</td>\n",
       "      <td>649</td>\n",
       "      <td>649</td>\n",
       "      <td>649</td>\n",
       "      <td>649</td>\n",
       "      <td>649</td>\n",
       "      <td>649</td>\n",
       "      <td>649</td>\n",
       "    </tr>\n",
       "    <tr>\n",
       "      <td>classical</td>\n",
       "      <td>646</td>\n",
       "      <td>646</td>\n",
       "      <td>646</td>\n",
       "      <td>646</td>\n",
       "      <td>646</td>\n",
       "      <td>646</td>\n",
       "      <td>646</td>\n",
       "    </tr>\n",
       "    <tr>\n",
       "      <td>rusrap</td>\n",
       "      <td>564</td>\n",
       "      <td>564</td>\n",
       "      <td>564</td>\n",
       "      <td>564</td>\n",
       "      <td>564</td>\n",
       "      <td>564</td>\n",
       "      <td>564</td>\n",
       "    </tr>\n",
       "    <tr>\n",
       "      <td>ruspop</td>\n",
       "      <td>538</td>\n",
       "      <td>538</td>\n",
       "      <td>538</td>\n",
       "      <td>538</td>\n",
       "      <td>538</td>\n",
       "      <td>538</td>\n",
       "      <td>538</td>\n",
       "    </tr>\n",
       "    <tr>\n",
       "      <td>world</td>\n",
       "      <td>515</td>\n",
       "      <td>515</td>\n",
       "      <td>515</td>\n",
       "      <td>515</td>\n",
       "      <td>515</td>\n",
       "      <td>515</td>\n",
       "      <td>515</td>\n",
       "    </tr>\n",
       "  </tbody>\n",
       "</table>\n",
       "</div>"
      ],
      "text/plain": [
       "             index  user_id  track  artist  city  time   day\n",
       "genre                                                       \n",
       "pop           2431     2431   2431    2431  2431  2431  2431\n",
       "dance         1932     1932   1932    1932  1932  1932  1932\n",
       "rock          1879     1879   1879    1879  1879  1879  1879\n",
       "electronic    1736     1736   1736    1736  1736  1736  1736\n",
       "hiphop         960      960    960     960   960   960   960\n",
       "alternative    649      649    649     649   649   649   649\n",
       "classical      646      646    646     646   646   646   646\n",
       "rusrap         564      564    564     564   564   564   564\n",
       "ruspop         538      538    538     538   538   538   538\n",
       "world          515      515    515     515   515   515   515"
      ]
     },
     "metadata": {},
     "output_type": "display_data"
    }
   ],
   "source": [
    "# printing the first 10 rows from shel_genres\n",
    "display(shel_genres.head(10))"
   ]
  },
  {
   "cell_type": "markdown",
   "metadata": {
    "id": "RY51YJYu_Zcv"
   },
   "source": [
    "**Conclusion**"
   ]
  },
  {
   "cell_type": "markdown",
   "metadata": {
    "id": "nVhnJEm__Zcv"
   },
   "source": [
    "The hypothesis has been partially proven true:\n",
    "* Pop music is the most popular genre in Springfield, as expected.\n",
    "* However, pop music turned out to be equally popular in Springfield and Shelbyville, and rap wasn't in the top 5 for either city.\n"
   ]
  },
  {
   "cell_type": "markdown",
   "metadata": {},
   "source": [
    "<div class=\"alert alert-success\">\n",
    "<b>Reviewer's comment v1:</b>\n",
    "    \n",
    "Well done! Everything is correct here. "
   ]
  },
  {
   "cell_type": "markdown",
   "metadata": {
    "id": "Byr0RfpPVz14"
   },
   "source": [
    "[Back to Contents](#back)"
   ]
  },
  {
   "cell_type": "markdown",
   "metadata": {
    "id": "ykKQ0N65_Zcv"
   },
   "source": [
    "# Findings <a id='end'></a>"
   ]
  },
  {
   "cell_type": "markdown",
   "metadata": {
    "id": "tjUwbHb3_Zcv"
   },
   "source": [
    "We have tested the following three hypotheses:\n",
    "\n",
    "1. User activity differs depending on the day of the week and from city to city. \n",
    "2. On Monday mornings, Springfield and Shelbyville residents listen to different genres. This is also true for Friday evenings. \n",
    "3. Springfield and Shelbyville listeners have different preferences. In both Springfield and Shelbyville, they prefer pop.\n",
    "\n",
    "After analyzing the data, we concluded:\n",
    "\n",
    "1. User activity in Springfield and Shelbyville depends on the day of the week, though the cities vary in different ways. \n",
    "\n",
    "The first hypothesis is fully accepted.\n",
    "\n",
    "2. Musical preferences do not vary significantly over the course of the week in both Springfield and Shelbyville. We can see small differences in order on Mondays, but:\n",
    "* In Springfield and Shelbyville, people listen to pop music most.\n",
    "\n",
    "So we can't accept this hypothesis. We must also keep in mind that the result could have been different if not for the missing values.\n",
    "\n",
    "3. It turns out that the musical preferences of users from Springfield and Shelbyville are quite similar.\n",
    "\n",
    "The third hypothesis is rejected. If there is any difference in preferences, it cannot be seen from this data.\n",
    "\n",
    "### Note \n",
    "In real projects, research involves statistical hypothesis testing, which is more precise and more quantitative. Also note that you cannot always draw conclusions about an entire city based on the data from just one source.\n",
    "\n",
    "You will study hypothesis testing in the sprint on statistical data analysis."
   ]
  },
  {
   "cell_type": "markdown",
   "metadata": {},
   "source": [
    "<div class=\"alert alert-success\">\n",
    "<b>Reviewer's comment v1:</b>\n",
    " \n",
    "Overall you did a great research. I left some feedback to check above and open questions to understand your reasoning. \n",
    "    \n",
    "A small tip regarding overall conclusion: \n",
    "    It represents the overall work progress that you achieved. On a real project, this is probably the only thing the business will read. Therefore, it is crucial to indicate in a structured way all conclusions that you made on each step in the project.\n",
    "\n",
    "For example:\n",
    "\n",
    "- Replaced missing values in the following data with the following method.\n",
    "- Replaced data types in the following columns.\n",
    "- etc.\n",
    "- We observe that ... factors impact ... \n",
    "- My analysis show ...\n",
    "- I can recomend the following next steps / activities ...\n",
    "\n",
    "It is also important to provide explanations and interpretations that will be interesting for business based on your analysis.\n",
    "\n",
    "</div>"
   ]
  },
  {
   "cell_type": "markdown",
   "metadata": {},
   "source": [
    " <div class=\"alert alert-info\"> <b>Student comments:</b> \n",
    "Thanks for the Feedback. Very Helpful, and I will do my best to implement learnings in future projects.\n",
    "\n",
    "</div>"
   ]
  },
  {
   "cell_type": "markdown",
   "metadata": {},
   "source": [
    "<div class=\"alert alert-success\">\n",
    "<b>Reviewer's comment v2:</b>\n",
    "    \n",
    "Glad that smth was useful, and I am very happy that you found time and energy to implement new things in the second iteration."
   ]
  },
  {
   "cell_type": "markdown",
   "metadata": {
    "id": "Ju4AHDSgV1FE"
   },
   "source": [
    "[Back to Contents](#back)"
   ]
  }
 ],
 "metadata": {
  "ExecuteTimeLog": [
   {
    "duration": 571,
    "start_time": "2022-01-26T01:27:30.225Z"
   },
   {
    "duration": 269,
    "start_time": "2022-01-26T01:32:31.276Z"
   },
   {
    "duration": 443,
    "start_time": "2022-01-26T01:32:36.556Z"
   },
   {
    "duration": 599,
    "start_time": "2022-02-01T20:19:10.265Z"
   },
   {
    "duration": 2082,
    "start_time": "2022-02-01T20:19:13.539Z"
   },
   {
    "duration": 98,
    "start_time": "2022-02-01T20:24:29.040Z"
   },
   {
    "duration": 1817,
    "start_time": "2022-02-01T20:25:16.198Z"
   },
   {
    "duration": 288,
    "start_time": "2022-02-01T20:29:44.242Z"
   },
   {
    "duration": 295,
    "start_time": "2022-02-01T20:37:36.707Z"
   },
   {
    "duration": 305,
    "start_time": "2022-02-01T20:37:42.350Z"
   },
   {
    "duration": 9,
    "start_time": "2022-02-01T20:38:30.595Z"
   },
   {
    "duration": 7,
    "start_time": "2022-02-01T20:39:19.904Z"
   },
   {
    "duration": 142,
    "start_time": "2022-02-01T20:40:17.742Z"
   },
   {
    "duration": 392,
    "start_time": "2022-02-01T21:17:10.232Z"
   },
   {
    "duration": 390,
    "start_time": "2022-02-01T21:17:27.814Z"
   },
   {
    "duration": 155,
    "start_time": "2022-02-01T21:17:40.179Z"
   },
   {
    "duration": 23,
    "start_time": "2022-02-01T21:18:09.700Z"
   },
   {
    "duration": 291,
    "start_time": "2022-02-01T21:45:34.235Z"
   },
   {
    "duration": 142,
    "start_time": "2022-02-01T21:45:42.731Z"
   },
   {
    "duration": 19,
    "start_time": "2022-02-01T21:51:55.871Z"
   },
   {
    "duration": 19,
    "start_time": "2022-02-01T21:52:00.950Z"
   },
   {
    "duration": 20,
    "start_time": "2022-02-01T21:52:24.219Z"
   },
   {
    "duration": 282,
    "start_time": "2022-02-01T21:52:46.677Z"
   },
   {
    "duration": 152,
    "start_time": "2022-02-01T21:52:55.621Z"
   },
   {
    "duration": 163,
    "start_time": "2022-02-01T21:54:04.018Z"
   },
   {
    "duration": 8,
    "start_time": "2022-02-01T22:00:16.190Z"
   },
   {
    "duration": 303,
    "start_time": "2022-02-01T22:01:31.333Z"
   },
   {
    "duration": 267,
    "start_time": "2022-02-01T22:01:48.293Z"
   },
   {
    "duration": 120,
    "start_time": "2022-02-01T22:03:14.265Z"
   },
   {
    "duration": 33,
    "start_time": "2022-02-01T22:03:20.493Z"
   },
   {
    "duration": 3,
    "start_time": "2022-02-01T22:03:27.353Z"
   },
   {
    "duration": 268,
    "start_time": "2022-02-01T22:06:47.349Z"
   },
   {
    "duration": 3,
    "start_time": "2022-02-01T22:07:07.330Z"
   },
   {
    "duration": 15,
    "start_time": "2022-02-01T22:09:13.207Z"
   },
   {
    "duration": 22,
    "start_time": "2022-02-01T22:09:27.506Z"
   },
   {
    "duration": 18,
    "start_time": "2022-02-01T22:09:42.726Z"
   },
   {
    "duration": 29,
    "start_time": "2022-02-01T22:09:52.551Z"
   },
   {
    "duration": 17,
    "start_time": "2022-02-01T22:10:05.292Z"
   },
   {
    "duration": 19,
    "start_time": "2022-02-01T22:10:11.259Z"
   },
   {
    "duration": 20,
    "start_time": "2022-02-01T22:10:40.693Z"
   },
   {
    "duration": 30,
    "start_time": "2022-02-01T22:10:47.920Z"
   },
   {
    "duration": 329,
    "start_time": "2022-02-01T22:12:01.301Z"
   },
   {
    "duration": 84,
    "start_time": "2022-02-01T22:12:58.656Z"
   },
   {
    "duration": 20,
    "start_time": "2022-02-01T22:13:03.048Z"
   },
   {
    "duration": 3,
    "start_time": "2022-02-01T22:13:15.569Z"
   },
   {
    "duration": 18,
    "start_time": "2022-02-01T22:13:37.026Z"
   },
   {
    "duration": 4,
    "start_time": "2022-02-01T22:13:42.765Z"
   },
   {
    "duration": 24,
    "start_time": "2022-02-01T22:14:35.224Z"
   },
   {
    "duration": 4,
    "start_time": "2022-02-01T22:14:37.612Z"
   },
   {
    "duration": 4,
    "start_time": "2022-02-01T22:14:50.712Z"
   },
   {
    "duration": 90,
    "start_time": "2022-02-01T22:21:47.564Z"
   },
   {
    "duration": 105,
    "start_time": "2022-02-01T22:22:16.170Z"
   },
   {
    "duration": 4,
    "start_time": "2022-02-01T22:23:40.331Z"
   },
   {
    "duration": 267,
    "start_time": "2022-02-01T22:23:52.930Z"
   },
   {
    "duration": 279,
    "start_time": "2022-02-01T22:24:01.112Z"
   },
   {
    "duration": 7,
    "start_time": "2022-02-01T22:24:13.543Z"
   },
   {
    "duration": 9,
    "start_time": "2022-02-01T22:24:22.110Z"
   },
   {
    "duration": 8,
    "start_time": "2022-02-01T22:25:02.127Z"
   },
   {
    "duration": 12,
    "start_time": "2022-02-01T22:26:10.632Z"
   },
   {
    "duration": 9,
    "start_time": "2022-02-01T22:26:46.513Z"
   },
   {
    "duration": 31,
    "start_time": "2022-02-01T22:27:29.365Z"
   },
   {
    "duration": 23,
    "start_time": "2022-02-01T22:28:03.399Z"
   },
   {
    "duration": 23,
    "start_time": "2022-02-01T22:28:11.085Z"
   },
   {
    "duration": 25,
    "start_time": "2022-02-01T22:28:33.329Z"
   },
   {
    "duration": 24,
    "start_time": "2022-02-01T22:29:57.036Z"
   },
   {
    "duration": 90,
    "start_time": "2022-02-01T22:30:12.523Z"
   },
   {
    "duration": 44,
    "start_time": "2022-02-01T22:30:16.991Z"
   },
   {
    "duration": 44,
    "start_time": "2022-02-01T22:30:25.430Z"
   },
   {
    "duration": 315,
    "start_time": "2022-02-01T22:30:54.174Z"
   },
   {
    "duration": 389,
    "start_time": "2022-02-01T22:31:05.528Z"
   },
   {
    "duration": 112,
    "start_time": "2022-02-01T22:32:18.952Z"
   },
   {
    "duration": 95,
    "start_time": "2022-02-01T22:32:29.294Z"
   },
   {
    "duration": 24,
    "start_time": "2022-02-01T22:32:39.614Z"
   },
   {
    "duration": 24,
    "start_time": "2022-02-01T22:32:45.400Z"
   },
   {
    "duration": 26,
    "start_time": "2022-02-01T22:33:02.591Z"
   },
   {
    "duration": 48,
    "start_time": "2022-02-01T22:33:15.202Z"
   },
   {
    "duration": 46,
    "start_time": "2022-02-01T22:33:27.186Z"
   },
   {
    "duration": 45,
    "start_time": "2022-02-01T22:36:16.686Z"
   },
   {
    "duration": 44,
    "start_time": "2022-02-01T22:36:31.602Z"
   },
   {
    "duration": 94,
    "start_time": "2022-02-01T22:48:27.495Z"
   },
   {
    "duration": 265,
    "start_time": "2022-02-01T22:48:47.233Z"
   },
   {
    "duration": 10,
    "start_time": "2022-02-01T22:48:55.782Z"
   },
   {
    "duration": 29,
    "start_time": "2022-02-01T22:49:05.186Z"
   },
   {
    "duration": 85,
    "start_time": "2022-02-01T22:51:32.868Z"
   },
   {
    "duration": 260,
    "start_time": "2022-02-01T22:51:39.800Z"
   },
   {
    "duration": 290,
    "start_time": "2022-02-01T22:51:47.496Z"
   },
   {
    "duration": 986,
    "start_time": "2022-02-01T22:52:05.901Z"
   },
   {
    "duration": 83,
    "start_time": "2022-02-01T22:52:27.791Z"
   },
   {
    "duration": 37897,
    "start_time": "2022-02-01T22:52:33.253Z"
   },
   {
    "duration": 269,
    "start_time": "2022-02-01T22:54:43.837Z"
   },
   {
    "duration": 51,
    "start_time": "2022-02-01T22:54:52.338Z"
   },
   {
    "duration": 51,
    "start_time": "2022-02-01T22:55:05.711Z"
   },
   {
    "duration": 28,
    "start_time": "2022-02-01T22:56:13.584Z"
   },
   {
    "duration": 4,
    "start_time": "2022-02-01T23:11:39.869Z"
   },
   {
    "duration": 4,
    "start_time": "2022-02-01T23:11:57.442Z"
   },
   {
    "duration": 24,
    "start_time": "2022-02-01T23:12:21.363Z"
   },
   {
    "duration": 25,
    "start_time": "2022-02-01T23:13:07.955Z"
   },
   {
    "duration": 24,
    "start_time": "2022-02-01T23:14:58.044Z"
   },
   {
    "duration": 59,
    "start_time": "2022-02-01T23:16:03.970Z"
   },
   {
    "duration": 23,
    "start_time": "2022-02-01T23:22:56.077Z"
   },
   {
    "duration": 13,
    "start_time": "2022-02-01T23:24:34.473Z"
   },
   {
    "duration": 3,
    "start_time": "2022-02-01T23:25:01.042Z"
   },
   {
    "duration": 13,
    "start_time": "2022-02-01T23:25:04.662Z"
   },
   {
    "duration": 12,
    "start_time": "2022-02-01T23:25:14.027Z"
   },
   {
    "duration": 13,
    "start_time": "2022-02-01T23:25:19.204Z"
   },
   {
    "duration": 13,
    "start_time": "2022-02-01T23:25:23.045Z"
   },
   {
    "duration": 3,
    "start_time": "2022-02-01T23:25:39.388Z"
   },
   {
    "duration": 7,
    "start_time": "2022-02-01T23:25:48.946Z"
   },
   {
    "duration": 12,
    "start_time": "2022-02-01T23:27:01.856Z"
   },
   {
    "duration": 95,
    "start_time": "2022-02-01T23:27:49.772Z"
   },
   {
    "duration": 92,
    "start_time": "2022-02-01T23:28:00.108Z"
   },
   {
    "duration": 118,
    "start_time": "2022-02-01T23:28:10.582Z"
   },
   {
    "duration": 79,
    "start_time": "2022-02-01T23:28:14.220Z"
   },
   {
    "duration": 81,
    "start_time": "2022-02-01T23:28:22.105Z"
   },
   {
    "duration": 3793,
    "start_time": "2022-02-01T23:28:47.164Z"
   },
   {
    "duration": 10365,
    "start_time": "2022-02-01T23:29:15.461Z"
   },
   {
    "duration": 116,
    "start_time": "2022-02-01T23:31:33.413Z"
   },
   {
    "duration": 76,
    "start_time": "2022-02-01T23:31:45.637Z"
   },
   {
    "duration": 91,
    "start_time": "2022-02-01T23:39:57.089Z"
   },
   {
    "duration": 242,
    "start_time": "2022-02-01T23:40:21.967Z"
   },
   {
    "duration": 3,
    "start_time": "2022-02-01T23:40:26.863Z"
   },
   {
    "duration": 3,
    "start_time": "2022-02-01T23:40:47.209Z"
   },
   {
    "duration": 24,
    "start_time": "2022-02-01T23:41:07.910Z"
   },
   {
    "duration": 24,
    "start_time": "2022-02-01T23:41:16.802Z"
   },
   {
    "duration": 123,
    "start_time": "2022-02-01T23:41:27.876Z"
   },
   {
    "duration": 90,
    "start_time": "2022-02-01T23:46:07.621Z"
   },
   {
    "duration": 87,
    "start_time": "2022-02-01T23:46:27.168Z"
   },
   {
    "duration": 298,
    "start_time": "2022-02-01T23:46:44.204Z"
   },
   {
    "duration": 5495,
    "start_time": "2022-02-01T23:46:53.072Z"
   },
   {
    "duration": 6358,
    "start_time": "2022-02-01T23:47:57.642Z"
   },
   {
    "duration": 5180,
    "start_time": "2022-02-01T23:48:37.964Z"
   },
   {
    "duration": 313,
    "start_time": "2022-02-01T23:48:59.106Z"
   },
   {
    "duration": 37,
    "start_time": "2022-02-01T23:49:29.219Z"
   },
   {
    "duration": 269,
    "start_time": "2022-02-01T23:50:15.836Z"
   },
   {
    "duration": 11,
    "start_time": "2022-02-01T23:50:31.545Z"
   },
   {
    "duration": 137,
    "start_time": "2022-02-01T23:50:46.805Z"
   },
   {
    "duration": 3,
    "start_time": "2022-02-01T23:53:27.157Z"
   },
   {
    "duration": 4,
    "start_time": "2022-02-01T23:53:31.976Z"
   },
   {
    "duration": 16,
    "start_time": "2022-02-01T23:53:40.523Z"
   },
   {
    "duration": 4,
    "start_time": "2022-02-01T23:53:46.070Z"
   },
   {
    "duration": 13,
    "start_time": "2022-02-01T23:54:29.529Z"
   },
   {
    "duration": 4,
    "start_time": "2022-02-01T23:54:31.874Z"
   },
   {
    "duration": 14,
    "start_time": "2022-02-01T23:54:58.159Z"
   },
   {
    "duration": 4,
    "start_time": "2022-02-01T23:54:59.859Z"
   },
   {
    "duration": 41,
    "start_time": "2022-02-01T23:55:07.654Z"
   },
   {
    "duration": 257,
    "start_time": "2022-02-01T23:55:22.572Z"
   },
   {
    "duration": 43,
    "start_time": "2022-02-01T23:55:32.408Z"
   },
   {
    "duration": 83,
    "start_time": "2022-02-01T23:56:14.450Z"
   },
   {
    "duration": 87,
    "start_time": "2022-02-01T23:59:59.943Z"
   },
   {
    "duration": 503,
    "start_time": "2022-02-02T00:00:13.016Z"
   },
   {
    "duration": 447,
    "start_time": "2022-02-02T00:00:31.337Z"
   },
   {
    "duration": 490,
    "start_time": "2022-02-02T00:00:41.602Z"
   },
   {
    "duration": 529,
    "start_time": "2022-02-02T00:01:04.639Z"
   },
   {
    "duration": -326,
    "start_time": "2022-02-02T00:04:59.024Z"
   },
   {
    "duration": 127,
    "start_time": "2022-02-02T00:27:40.206Z"
   },
   {
    "duration": 118,
    "start_time": "2022-02-02T00:27:54.871Z"
   },
   {
    "duration": 22,
    "start_time": "2022-02-02T00:28:13.137Z"
   },
   {
    "duration": 23,
    "start_time": "2022-02-02T00:28:44.213Z"
   },
   {
    "duration": 22,
    "start_time": "2022-02-02T00:28:51.061Z"
   },
   {
    "duration": 23,
    "start_time": "2022-02-02T00:28:58.037Z"
   },
   {
    "duration": 28,
    "start_time": "2022-02-02T00:29:14.526Z"
   },
   {
    "duration": 33,
    "start_time": "2022-02-02T00:29:29.544Z"
   },
   {
    "duration": 23,
    "start_time": "2022-02-02T00:29:41.459Z"
   },
   {
    "duration": 23,
    "start_time": "2022-02-02T00:29:50.990Z"
   },
   {
    "duration": 90,
    "start_time": "2022-02-02T00:30:32.888Z"
   },
   {
    "duration": 85,
    "start_time": "2022-02-02T00:30:53.478Z"
   },
   {
    "duration": 22,
    "start_time": "2022-02-02T00:30:56.257Z"
   },
   {
    "duration": 619,
    "start_time": "2022-02-02T00:31:21.209Z"
   },
   {
    "duration": 302,
    "start_time": "2022-02-02T00:31:21.830Z"
   },
   {
    "duration": 11,
    "start_time": "2022-02-02T00:31:22.135Z"
   },
   {
    "duration": 151,
    "start_time": "2022-02-02T00:31:22.147Z"
   },
   {
    "duration": 4,
    "start_time": "2022-02-02T00:31:22.299Z"
   },
   {
    "duration": 42,
    "start_time": "2022-02-02T00:31:22.304Z"
   },
   {
    "duration": 33,
    "start_time": "2022-02-02T00:31:22.347Z"
   },
   {
    "duration": 62,
    "start_time": "2022-02-02T00:31:22.382Z"
   },
   {
    "duration": 106,
    "start_time": "2022-02-02T00:31:22.446Z"
   },
   {
    "duration": 23,
    "start_time": "2022-02-02T00:31:22.554Z"
   },
   {
    "duration": 22,
    "start_time": "2022-02-02T00:31:22.579Z"
   },
   {
    "duration": 13,
    "start_time": "2022-02-02T00:31:22.603Z"
   },
   {
    "duration": 18,
    "start_time": "2022-02-02T00:31:22.618Z"
   },
   {
    "duration": 26,
    "start_time": "2022-02-02T00:31:22.637Z"
   },
   {
    "duration": 26,
    "start_time": "2022-02-02T00:31:22.665Z"
   },
   {
    "duration": 17,
    "start_time": "2022-02-02T00:31:22.692Z"
   },
   {
    "duration": 34,
    "start_time": "2022-02-02T00:31:22.711Z"
   },
   {
    "duration": 23,
    "start_time": "2022-02-02T00:31:22.747Z"
   },
   {
    "duration": 24,
    "start_time": "2022-02-02T00:31:22.771Z"
   },
   {
    "duration": 27,
    "start_time": "2022-02-02T00:31:22.797Z"
   },
   {
    "duration": 23,
    "start_time": "2022-02-02T00:31:22.826Z"
   },
   {
    "duration": 38,
    "start_time": "2022-02-02T00:31:22.851Z"
   },
   {
    "duration": 20,
    "start_time": "2022-02-02T00:31:22.893Z"
   },
   {
    "duration": 17,
    "start_time": "2022-02-02T00:31:22.915Z"
   },
   {
    "duration": 41,
    "start_time": "2022-02-02T00:31:22.934Z"
   },
   {
    "duration": 25,
    "start_time": "2022-02-02T00:31:22.976Z"
   },
   {
    "duration": 15,
    "start_time": "2022-02-02T00:31:23.003Z"
   },
   {
    "duration": 17,
    "start_time": "2022-02-02T00:31:23.020Z"
   },
   {
    "duration": 19,
    "start_time": "2022-02-02T00:31:23.039Z"
   },
   {
    "duration": 121,
    "start_time": "2022-02-02T00:31:23.060Z"
   },
   {
    "duration": -811,
    "start_time": "2022-02-02T00:31:23.994Z"
   },
   {
    "duration": -812,
    "start_time": "2022-02-02T00:31:23.996Z"
   },
   {
    "duration": -993,
    "start_time": "2022-02-02T00:31:24.178Z"
   },
   {
    "duration": -995,
    "start_time": "2022-02-02T00:31:24.181Z"
   },
   {
    "duration": -995,
    "start_time": "2022-02-02T00:31:24.182Z"
   },
   {
    "duration": -996,
    "start_time": "2022-02-02T00:31:24.184Z"
   },
   {
    "duration": -997,
    "start_time": "2022-02-02T00:31:24.186Z"
   },
   {
    "duration": -997,
    "start_time": "2022-02-02T00:31:24.187Z"
   },
   {
    "duration": 86,
    "start_time": "2022-02-02T18:10:48.306Z"
   },
   {
    "duration": 56,
    "start_time": "2022-02-02T18:10:58.005Z"
   },
   {
    "duration": 98,
    "start_time": "2022-02-02T18:11:13.042Z"
   },
   {
    "duration": 68,
    "start_time": "2022-02-02T18:17:33.869Z"
   },
   {
    "duration": 67,
    "start_time": "2022-02-02T18:28:34.843Z"
   },
   {
    "duration": 54,
    "start_time": "2022-02-02T18:28:50.536Z"
   },
   {
    "duration": 316,
    "start_time": "2022-02-02T18:30:17.275Z"
   },
   {
    "duration": 78,
    "start_time": "2022-02-02T18:30:34.161Z"
   },
   {
    "duration": 53,
    "start_time": "2022-02-02T18:30:38.568Z"
   },
   {
    "duration": 58,
    "start_time": "2022-02-02T18:30:57.260Z"
   },
   {
    "duration": 63,
    "start_time": "2022-02-02T18:31:19.169Z"
   },
   {
    "duration": 9,
    "start_time": "2022-02-02T18:34:06.691Z"
   },
   {
    "duration": 14,
    "start_time": "2022-02-02T18:34:13.541Z"
   },
   {
    "duration": 7,
    "start_time": "2022-02-02T18:35:31.929Z"
   },
   {
    "duration": 7,
    "start_time": "2022-02-02T18:35:47.215Z"
   },
   {
    "duration": 265,
    "start_time": "2022-02-02T18:41:48.699Z"
   },
   {
    "duration": 75,
    "start_time": "2022-02-02T18:42:03.449Z"
   },
   {
    "duration": 7,
    "start_time": "2022-02-02T18:42:15.125Z"
   },
   {
    "duration": 271,
    "start_time": "2022-02-02T18:42:58.915Z"
   },
   {
    "duration": 265,
    "start_time": "2022-02-02T18:43:25.247Z"
   },
   {
    "duration": 80,
    "start_time": "2022-02-02T18:51:17.706Z"
   },
   {
    "duration": 8,
    "start_time": "2022-02-02T18:51:26.419Z"
   },
   {
    "duration": 7,
    "start_time": "2022-02-02T18:52:11.666Z"
   },
   {
    "duration": 7,
    "start_time": "2022-02-02T18:52:44.275Z"
   },
   {
    "duration": 103,
    "start_time": "2022-02-02T18:53:19.960Z"
   },
   {
    "duration": 271,
    "start_time": "2022-02-02T18:53:27.631Z"
   },
   {
    "duration": 269,
    "start_time": "2022-02-02T18:53:41.976Z"
   },
   {
    "duration": 80,
    "start_time": "2022-02-02T18:55:02.130Z"
   },
   {
    "duration": 69,
    "start_time": "2022-02-02T18:55:14.216Z"
   },
   {
    "duration": 81,
    "start_time": "2022-02-02T18:55:27.148Z"
   },
   {
    "duration": 70,
    "start_time": "2022-02-02T18:55:50.015Z"
   },
   {
    "duration": 58,
    "start_time": "2022-02-02T18:56:00.517Z"
   },
   {
    "duration": 63,
    "start_time": "2022-02-02T18:56:13.557Z"
   },
   {
    "duration": 62,
    "start_time": "2022-02-02T18:56:17.116Z"
   },
   {
    "duration": 11,
    "start_time": "2022-02-02T18:56:53.987Z"
   },
   {
    "duration": 10,
    "start_time": "2022-02-02T18:58:10.587Z"
   },
   {
    "duration": 11,
    "start_time": "2022-02-02T18:58:19.409Z"
   },
   {
    "duration": 43,
    "start_time": "2022-02-02T18:59:55.054Z"
   },
   {
    "duration": 4,
    "start_time": "2022-02-02T19:56:59.813Z"
   },
   {
    "duration": 3,
    "start_time": "2022-02-02T20:11:04.252Z"
   },
   {
    "duration": 4,
    "start_time": "2022-02-02T20:11:23.675Z"
   },
   {
    "duration": 520,
    "start_time": "2022-02-02T20:12:56.670Z"
   },
   {
    "duration": 82,
    "start_time": "2022-02-02T20:28:40.954Z"
   },
   {
    "duration": 90,
    "start_time": "2022-02-02T20:28:48.969Z"
   },
   {
    "duration": 4,
    "start_time": "2022-02-02T20:29:04.591Z"
   },
   {
    "duration": 89,
    "start_time": "2022-02-02T21:14:04.822Z"
   },
   {
    "duration": 89,
    "start_time": "2022-02-02T21:14:12.335Z"
   },
   {
    "duration": 84,
    "start_time": "2022-02-02T21:14:21.449Z"
   },
   {
    "duration": 4,
    "start_time": "2022-02-02T21:14:29.953Z"
   },
   {
    "duration": 5,
    "start_time": "2022-02-02T21:14:39.215Z"
   },
   {
    "duration": 544,
    "start_time": "2022-02-02T21:14:46.531Z"
   },
   {
    "duration": 4,
    "start_time": "2022-02-02T21:16:25.683Z"
   },
   {
    "duration": 508,
    "start_time": "2022-02-02T21:16:29.054Z"
   },
   {
    "duration": 4,
    "start_time": "2022-02-02T21:17:13.554Z"
   },
   {
    "duration": 530,
    "start_time": "2022-02-02T21:17:16.089Z"
   },
   {
    "duration": 71,
    "start_time": "2022-02-02T21:28:54.875Z"
   },
   {
    "duration": 10,
    "start_time": "2022-02-02T21:28:59.857Z"
   },
   {
    "duration": 11,
    "start_time": "2022-02-02T21:29:11.350Z"
   },
   {
    "duration": 45,
    "start_time": "2022-02-02T21:29:31.072Z"
   },
   {
    "duration": 6,
    "start_time": "2022-02-02T21:31:56.608Z"
   },
   {
    "duration": 84,
    "start_time": "2022-02-02T21:32:46.041Z"
   },
   {
    "duration": 427,
    "start_time": "2022-02-02T21:32:51.907Z"
   },
   {
    "duration": 430,
    "start_time": "2022-02-02T21:33:22.270Z"
   },
   {
    "duration": 13,
    "start_time": "2022-02-02T21:34:30.714Z"
   },
   {
    "duration": 19,
    "start_time": "2022-02-02T21:37:04.106Z"
   },
   {
    "duration": 13,
    "start_time": "2022-02-02T21:37:18.303Z"
   },
   {
    "duration": 15,
    "start_time": "2022-02-02T21:37:47.584Z"
   },
   {
    "duration": 57,
    "start_time": "2022-02-02T21:38:30.344Z"
   },
   {
    "duration": 59,
    "start_time": "2022-02-02T21:38:53.191Z"
   },
   {
    "duration": 29,
    "start_time": "2022-02-02T21:39:33.137Z"
   },
   {
    "duration": 21,
    "start_time": "2022-02-02T21:39:40.006Z"
   },
   {
    "duration": 18,
    "start_time": "2022-02-02T21:39:55.380Z"
   },
   {
    "duration": 13,
    "start_time": "2022-02-02T21:39:59.808Z"
   },
   {
    "duration": 14,
    "start_time": "2022-02-02T21:40:34.445Z"
   },
   {
    "duration": 15,
    "start_time": "2022-02-02T21:40:50.979Z"
   },
   {
    "duration": 5,
    "start_time": "2022-02-02T21:41:20.607Z"
   },
   {
    "duration": 9,
    "start_time": "2022-02-02T21:42:05.321Z"
   },
   {
    "duration": 15,
    "start_time": "2022-02-02T21:42:17.604Z"
   },
   {
    "duration": 14,
    "start_time": "2022-02-02T21:42:40.338Z"
   },
   {
    "duration": 3,
    "start_time": "2022-02-02T21:43:23.698Z"
   },
   {
    "duration": 273,
    "start_time": "2022-02-02T21:43:26.572Z"
   },
   {
    "duration": 11,
    "start_time": "2022-02-02T21:43:30.656Z"
   },
   {
    "duration": 138,
    "start_time": "2022-02-02T21:43:32.438Z"
   },
   {
    "duration": 4,
    "start_time": "2022-02-02T21:43:38.144Z"
   },
   {
    "duration": 27,
    "start_time": "2022-02-02T21:43:40.595Z"
   },
   {
    "duration": 5,
    "start_time": "2022-02-02T21:43:42.234Z"
   },
   {
    "duration": 44,
    "start_time": "2022-02-02T21:43:46.881Z"
   },
   {
    "duration": 104,
    "start_time": "2022-02-02T21:43:52.125Z"
   },
   {
    "duration": 23,
    "start_time": "2022-02-02T21:43:55.779Z"
   },
   {
    "duration": 55,
    "start_time": "2022-02-02T21:44:00.403Z"
   },
   {
    "duration": 60,
    "start_time": "2022-02-02T21:44:02.136Z"
   },
   {
    "duration": 54,
    "start_time": "2022-02-02T21:44:04.365Z"
   },
   {
    "duration": 43,
    "start_time": "2022-02-02T21:44:08.127Z"
   },
   {
    "duration": 58,
    "start_time": "2022-02-02T21:46:18.402Z"
   },
   {
    "duration": 64,
    "start_time": "2022-02-02T21:46:41.941Z"
   },
   {
    "duration": 53,
    "start_time": "2022-02-02T21:47:23.829Z"
   },
   {
    "duration": 12,
    "start_time": "2022-02-02T21:51:00.401Z"
   },
   {
    "duration": 11,
    "start_time": "2022-02-02T21:51:24.778Z"
   },
   {
    "duration": 43,
    "start_time": "2022-02-02T21:51:49.370Z"
   },
   {
    "duration": 13,
    "start_time": "2022-02-02T22:02:03.648Z"
   },
   {
    "duration": 4,
    "start_time": "2022-02-02T22:02:43.685Z"
   },
   {
    "duration": 11,
    "start_time": "2022-02-02T22:02:46.093Z"
   },
   {
    "duration": 12,
    "start_time": "2022-02-02T22:03:03.804Z"
   },
   {
    "duration": 43,
    "start_time": "2022-02-02T22:03:08.527Z"
   },
   {
    "duration": 561,
    "start_time": "2022-02-03T19:11:06.451Z"
   },
   {
    "duration": 233,
    "start_time": "2022-02-03T19:11:07.013Z"
   },
   {
    "duration": 8,
    "start_time": "2022-02-03T19:11:07.248Z"
   },
   {
    "duration": 117,
    "start_time": "2022-02-03T19:11:07.606Z"
   },
   {
    "duration": 4,
    "start_time": "2022-02-03T19:11:09.964Z"
   },
   {
    "duration": 18,
    "start_time": "2022-02-03T19:11:11.172Z"
   },
   {
    "duration": 3,
    "start_time": "2022-02-03T19:11:13.235Z"
   },
   {
    "duration": 36,
    "start_time": "2022-02-03T19:11:16.578Z"
   },
   {
    "duration": 76,
    "start_time": "2022-02-03T19:11:18.273Z"
   },
   {
    "duration": 20,
    "start_time": "2022-02-03T19:11:20.472Z"
   },
   {
    "duration": 46,
    "start_time": "2022-02-03T19:11:23.690Z"
   },
   {
    "duration": 47,
    "start_time": "2022-02-03T19:11:25.459Z"
   },
   {
    "duration": 44,
    "start_time": "2022-02-03T19:11:26.687Z"
   },
   {
    "duration": 37,
    "start_time": "2022-02-03T19:11:28.584Z"
   },
   {
    "duration": 3,
    "start_time": "2022-02-03T19:11:29.973Z"
   },
   {
    "duration": 9,
    "start_time": "2022-02-03T19:11:31.797Z"
   },
   {
    "duration": 35,
    "start_time": "2022-02-03T19:11:33.349Z"
   },
   {
    "duration": 20,
    "start_time": "2022-02-03T19:19:37.900Z"
   },
   {
    "duration": 42,
    "start_time": "2022-02-03T19:19:45.868Z"
   },
   {
    "duration": 46,
    "start_time": "2022-02-03T19:19:46.449Z"
   },
   {
    "duration": 47,
    "start_time": "2022-02-03T19:19:47.474Z"
   },
   {
    "duration": 38,
    "start_time": "2022-02-03T19:19:49.352Z"
   },
   {
    "duration": 3,
    "start_time": "2022-02-03T19:19:50.104Z"
   },
   {
    "duration": 12,
    "start_time": "2022-02-03T19:19:50.757Z"
   },
   {
    "duration": 38,
    "start_time": "2022-02-03T19:19:51.693Z"
   },
   {
    "duration": 4,
    "start_time": "2022-02-03T19:20:40.238Z"
   },
   {
    "duration": 4,
    "start_time": "2022-02-03T19:20:59.701Z"
   },
   {
    "duration": 25,
    "start_time": "2022-02-03T19:21:58.470Z"
   },
   {
    "duration": 422,
    "start_time": "2022-02-03T19:22:55.704Z"
   },
   {
    "duration": 31,
    "start_time": "2022-02-03T19:23:02.220Z"
   },
   {
    "duration": 26,
    "start_time": "2022-02-03T19:23:44.470Z"
   },
   {
    "duration": 7,
    "start_time": "2022-02-03T19:27:43.872Z"
   },
   {
    "duration": 7,
    "start_time": "2022-02-03T19:27:58.099Z"
   },
   {
    "duration": 108,
    "start_time": "2022-02-03T19:28:34.050Z"
   },
   {
    "duration": 9,
    "start_time": "2022-02-03T19:28:39.138Z"
   },
   {
    "duration": 27,
    "start_time": "2022-02-03T19:29:27.067Z"
   },
   {
    "duration": 4,
    "start_time": "2022-02-03T19:29:55.055Z"
   },
   {
    "duration": 334,
    "start_time": "2022-02-03T19:29:58.780Z"
   },
   {
    "duration": 349,
    "start_time": "2022-02-03T19:30:03.161Z"
   },
   {
    "duration": 3,
    "start_time": "2022-02-03T19:30:26.771Z"
   },
   {
    "duration": 1851,
    "start_time": "2022-02-03T19:30:29.116Z"
   },
   {
    "duration": 2231,
    "start_time": "2022-02-03T19:30:40.821Z"
   },
   {
    "duration": 1880,
    "start_time": "2022-02-03T19:30:50.373Z"
   },
   {
    "duration": 4,
    "start_time": "2022-02-03T19:31:21.281Z"
   },
   {
    "duration": 4,
    "start_time": "2022-02-03T19:31:33.000Z"
   },
   {
    "duration": 24,
    "start_time": "2022-02-03T19:31:54.143Z"
   },
   {
    "duration": 27,
    "start_time": "2022-02-03T19:32:04.476Z"
   },
   {
    "duration": 27,
    "start_time": "2022-02-03T19:33:36.984Z"
   },
   {
    "duration": 107,
    "start_time": "2022-02-03T21:45:21.343Z"
   },
   {
    "duration": 110,
    "start_time": "2022-02-03T21:46:34.931Z"
   },
   {
    "duration": 114,
    "start_time": "2022-02-03T21:46:41.052Z"
   },
   {
    "duration": 4,
    "start_time": "2022-02-03T21:46:56.755Z"
   },
   {
    "duration": 4,
    "start_time": "2022-02-03T21:47:10.256Z"
   },
   {
    "duration": 4,
    "start_time": "2022-02-03T21:47:13.107Z"
   },
   {
    "duration": 549,
    "start_time": "2022-02-03T21:47:57.242Z"
   },
   {
    "duration": 123,
    "start_time": "2022-02-03T22:37:50.405Z"
   },
   {
    "duration": 112,
    "start_time": "2022-02-03T22:54:17.087Z"
   },
   {
    "duration": 128,
    "start_time": "2022-02-03T22:54:42.517Z"
   },
   {
    "duration": 109,
    "start_time": "2022-02-03T22:55:10.821Z"
   },
   {
    "duration": 121,
    "start_time": "2022-02-03T22:55:22.635Z"
   },
   {
    "duration": 122,
    "start_time": "2022-02-03T22:56:44.970Z"
   },
   {
    "duration": 104,
    "start_time": "2022-02-03T22:56:51.511Z"
   },
   {
    "duration": 101,
    "start_time": "2022-02-03T22:57:14.463Z"
   },
   {
    "duration": 102,
    "start_time": "2022-02-03T22:57:20.632Z"
   },
   {
    "duration": 124,
    "start_time": "2022-02-03T22:57:24.407Z"
   },
   {
    "duration": 3,
    "start_time": "2022-02-03T22:57:47.604Z"
   },
   {
    "duration": 309,
    "start_time": "2022-02-03T22:58:13.361Z"
   },
   {
    "duration": 19,
    "start_time": "2022-02-03T22:58:28.733Z"
   },
   {
    "duration": 3,
    "start_time": "2022-02-03T22:58:43.768Z"
   },
   {
    "duration": 20,
    "start_time": "2022-02-03T22:58:47.777Z"
   },
   {
    "duration": 4,
    "start_time": "2022-02-03T22:58:55.902Z"
   },
   {
    "duration": 15,
    "start_time": "2022-02-03T22:58:58.660Z"
   },
   {
    "duration": 14,
    "start_time": "2022-02-03T22:59:29.409Z"
   },
   {
    "duration": 14,
    "start_time": "2022-02-03T23:00:12.700Z"
   },
   {
    "duration": 13,
    "start_time": "2022-02-03T23:00:36.532Z"
   },
   {
    "duration": 14,
    "start_time": "2022-02-03T23:01:13.447Z"
   },
   {
    "duration": 14,
    "start_time": "2022-02-03T23:01:36.274Z"
   },
   {
    "duration": 3,
    "start_time": "2022-02-03T23:13:20.481Z"
   },
   {
    "duration": 20,
    "start_time": "2022-02-03T23:13:25.840Z"
   },
   {
    "duration": 19,
    "start_time": "2022-02-03T23:13:48.446Z"
   },
   {
    "duration": 18,
    "start_time": "2022-02-03T23:13:52.629Z"
   },
   {
    "duration": 19,
    "start_time": "2022-02-03T23:13:55.706Z"
   },
   {
    "duration": 20,
    "start_time": "2022-02-03T23:13:58.804Z"
   },
   {
    "duration": 19,
    "start_time": "2022-02-03T23:14:03.486Z"
   },
   {
    "duration": 4,
    "start_time": "2022-02-03T23:15:46.273Z"
   },
   {
    "duration": 3,
    "start_time": "2022-02-03T23:16:04.921Z"
   },
   {
    "duration": 15,
    "start_time": "2022-02-03T23:16:08.180Z"
   },
   {
    "duration": 15,
    "start_time": "2022-02-03T23:16:45.690Z"
   },
   {
    "duration": 14,
    "start_time": "2022-02-03T23:16:46.486Z"
   },
   {
    "duration": 13,
    "start_time": "2022-02-03T23:16:47.151Z"
   },
   {
    "duration": 13,
    "start_time": "2022-02-03T23:16:47.841Z"
   },
   {
    "duration": 14,
    "start_time": "2022-02-03T23:16:48.452Z"
   },
   {
    "duration": 13,
    "start_time": "2022-02-03T23:16:48.993Z"
   },
   {
    "duration": 124,
    "start_time": "2022-02-03T23:27:48.952Z"
   },
   {
    "duration": 118,
    "start_time": "2022-02-03T23:28:17.772Z"
   },
   {
    "duration": 3,
    "start_time": "2022-02-03T23:28:26.699Z"
   },
   {
    "duration": 5,
    "start_time": "2022-02-03T23:28:35.515Z"
   },
   {
    "duration": 20,
    "start_time": "2022-02-03T23:28:49.221Z"
   },
   {
    "duration": 20,
    "start_time": "2022-02-03T23:28:54.616Z"
   },
   {
    "duration": 13,
    "start_time": "2022-02-03T23:29:14.328Z"
   },
   {
    "duration": 20,
    "start_time": "2022-02-03T23:29:18.225Z"
   },
   {
    "duration": 12,
    "start_time": "2022-02-03T23:29:23.773Z"
   },
   {
    "duration": 4,
    "start_time": "2022-02-03T23:29:50.002Z"
   },
   {
    "duration": 4,
    "start_time": "2022-02-03T23:30:06.946Z"
   },
   {
    "duration": 4,
    "start_time": "2022-02-03T23:30:27.682Z"
   },
   {
    "duration": 3,
    "start_time": "2022-02-03T23:31:01.893Z"
   },
   {
    "duration": 14,
    "start_time": "2022-02-03T23:31:05.115Z"
   },
   {
    "duration": 20,
    "start_time": "2022-02-03T23:31:12.399Z"
   },
   {
    "duration": 3,
    "start_time": "2022-02-03T23:31:17.924Z"
   },
   {
    "duration": 15,
    "start_time": "2022-02-03T23:31:20.475Z"
   },
   {
    "duration": 14,
    "start_time": "2022-02-03T23:31:21.355Z"
   },
   {
    "duration": 13,
    "start_time": "2022-02-03T23:31:23.286Z"
   },
   {
    "duration": 14,
    "start_time": "2022-02-03T23:31:29.518Z"
   },
   {
    "duration": 3,
    "start_time": "2022-02-03T23:33:15.414Z"
   },
   {
    "duration": 3,
    "start_time": "2022-02-03T23:33:20.044Z"
   },
   {
    "duration": 15,
    "start_time": "2022-02-03T23:33:21.153Z"
   },
   {
    "duration": 15,
    "start_time": "2022-02-03T23:33:21.787Z"
   },
   {
    "duration": 14,
    "start_time": "2022-02-03T23:33:22.139Z"
   },
   {
    "duration": 14,
    "start_time": "2022-02-03T23:33:22.446Z"
   },
   {
    "duration": 15,
    "start_time": "2022-02-03T23:33:22.731Z"
   },
   {
    "duration": 19,
    "start_time": "2022-02-03T23:33:24.126Z"
   },
   {
    "duration": 50,
    "start_time": "2022-02-03T23:35:42.376Z"
   },
   {
    "duration": 55,
    "start_time": "2022-02-03T23:36:30.886Z"
   },
   {
    "duration": 55,
    "start_time": "2022-02-03T23:37:23.398Z"
   },
   {
    "duration": 54,
    "start_time": "2022-02-03T23:38:37.750Z"
   },
   {
    "duration": 108,
    "start_time": "2022-02-03T23:39:06.890Z"
   },
   {
    "duration": 385,
    "start_time": "2022-02-03T23:39:25.285Z"
   },
   {
    "duration": 104,
    "start_time": "2022-02-03T23:39:59.667Z"
   },
   {
    "duration": 413,
    "start_time": "2022-02-03T23:42:44.483Z"
   },
   {
    "duration": 52,
    "start_time": "2022-02-03T23:43:46.225Z"
   },
   {
    "duration": 50,
    "start_time": "2022-02-03T23:43:52.038Z"
   },
   {
    "duration": 51,
    "start_time": "2022-02-03T23:44:40.240Z"
   },
   {
    "duration": 389,
    "start_time": "2022-02-03T23:45:22.768Z"
   },
   {
    "duration": 372,
    "start_time": "2022-02-03T23:49:02.987Z"
   },
   {
    "duration": 375,
    "start_time": "2022-02-03T23:54:11.222Z"
   },
   {
    "duration": 56,
    "start_time": "2022-02-03T23:54:26.641Z"
   },
   {
    "duration": 364,
    "start_time": "2022-02-03T23:54:44.790Z"
   },
   {
    "duration": 397,
    "start_time": "2022-02-03T23:54:52.825Z"
   },
   {
    "duration": 366,
    "start_time": "2022-02-03T23:55:03.654Z"
   },
   {
    "duration": 107,
    "start_time": "2022-02-03T23:55:14.931Z"
   },
   {
    "duration": 56,
    "start_time": "2022-02-03T23:55:21.646Z"
   },
   {
    "duration": 76,
    "start_time": "2022-02-03T23:55:40.985Z"
   },
   {
    "duration": 56,
    "start_time": "2022-02-03T23:56:02.427Z"
   },
   {
    "duration": 55,
    "start_time": "2022-02-03T23:56:24.684Z"
   },
   {
    "duration": 56,
    "start_time": "2022-02-03T23:56:36.022Z"
   },
   {
    "duration": 59,
    "start_time": "2022-02-03T23:56:50.547Z"
   },
   {
    "duration": 380,
    "start_time": "2022-02-04T00:01:08.680Z"
   },
   {
    "duration": 57,
    "start_time": "2022-02-04T00:01:49.407Z"
   },
   {
    "duration": 54,
    "start_time": "2022-02-04T00:03:47.142Z"
   },
   {
    "duration": 54,
    "start_time": "2022-02-04T00:03:59.420Z"
   },
   {
    "duration": 62,
    "start_time": "2022-02-04T00:04:08.284Z"
   },
   {
    "duration": 2,
    "start_time": "2022-02-04T00:04:53.715Z"
   },
   {
    "duration": 13,
    "start_time": "2022-02-04T00:04:54.838Z"
   },
   {
    "duration": 13,
    "start_time": "2022-02-04T00:04:56.371Z"
   },
   {
    "duration": 13,
    "start_time": "2022-02-04T00:04:56.559Z"
   },
   {
    "duration": 13,
    "start_time": "2022-02-04T00:04:56.767Z"
   },
   {
    "duration": 15,
    "start_time": "2022-02-04T00:04:56.951Z"
   },
   {
    "duration": 13,
    "start_time": "2022-02-04T00:04:57.129Z"
   },
   {
    "duration": 108,
    "start_time": "2022-02-04T00:08:28.695Z"
   },
   {
    "duration": 72,
    "start_time": "2022-02-04T00:08:46.644Z"
   },
   {
    "duration": 61,
    "start_time": "2022-02-04T00:09:02.584Z"
   },
   {
    "duration": 62,
    "start_time": "2022-02-04T00:09:17.979Z"
   },
   {
    "duration": 3,
    "start_time": "2022-02-04T00:10:19.968Z"
   },
   {
    "duration": 15,
    "start_time": "2022-02-04T00:10:20.943Z"
   },
   {
    "duration": 13,
    "start_time": "2022-02-04T00:10:21.356Z"
   },
   {
    "duration": 12,
    "start_time": "2022-02-04T00:10:21.865Z"
   },
   {
    "duration": 12,
    "start_time": "2022-02-04T00:10:22.181Z"
   },
   {
    "duration": 15,
    "start_time": "2022-02-04T00:10:22.490Z"
   },
   {
    "duration": 13,
    "start_time": "2022-02-04T00:10:22.737Z"
   },
   {
    "duration": 67,
    "start_time": "2022-02-04T00:10:24.041Z"
   },
   {
    "duration": 76,
    "start_time": "2022-02-04T00:10:31.863Z"
   },
   {
    "duration": 57,
    "start_time": "2022-02-04T00:10:51.757Z"
   },
   {
    "duration": 106,
    "start_time": "2022-02-04T00:11:44.424Z"
   },
   {
    "duration": 118,
    "start_time": "2022-02-04T00:12:00.493Z"
   },
   {
    "duration": 122,
    "start_time": "2022-02-04T00:12:08.531Z"
   },
   {
    "duration": 108,
    "start_time": "2022-02-04T00:12:29.721Z"
   },
   {
    "duration": 105,
    "start_time": "2022-02-04T00:13:27.766Z"
   },
   {
    "duration": 124,
    "start_time": "2022-02-04T00:13:42.662Z"
   },
   {
    "duration": 130,
    "start_time": "2022-02-04T00:13:56.083Z"
   },
   {
    "duration": 58,
    "start_time": "2022-02-04T00:14:08.812Z"
   },
   {
    "duration": 55,
    "start_time": "2022-02-04T00:14:28.377Z"
   },
   {
    "duration": 54,
    "start_time": "2022-02-04T00:14:40.176Z"
   },
   {
    "duration": 57,
    "start_time": "2022-02-04T00:16:35.134Z"
   },
   {
    "duration": 59,
    "start_time": "2022-02-04T00:18:41.377Z"
   },
   {
    "duration": 55,
    "start_time": "2022-02-04T00:18:45.545Z"
   },
   {
    "duration": 64,
    "start_time": "2022-02-04T00:18:56.677Z"
   },
   {
    "duration": 61,
    "start_time": "2022-02-04T00:19:32.476Z"
   },
   {
    "duration": 61,
    "start_time": "2022-02-04T00:21:09.890Z"
   },
   {
    "duration": 64,
    "start_time": "2022-02-04T00:21:21.737Z"
   },
   {
    "duration": 681,
    "start_time": "2022-02-04T00:21:41.149Z"
   },
   {
    "duration": 63,
    "start_time": "2022-02-04T00:22:07.013Z"
   },
   {
    "duration": 14,
    "start_time": "2022-02-04T00:22:19.503Z"
   },
   {
    "duration": 15,
    "start_time": "2022-02-04T00:22:21.896Z"
   },
   {
    "duration": 13,
    "start_time": "2022-02-04T00:22:23.650Z"
   },
   {
    "duration": 13,
    "start_time": "2022-02-04T00:22:25.772Z"
   },
   {
    "duration": 13,
    "start_time": "2022-02-04T00:22:27.686Z"
   },
   {
    "duration": 17,
    "start_time": "2022-02-04T00:22:29.595Z"
   },
   {
    "duration": 5,
    "start_time": "2022-02-04T00:22:45.842Z"
   },
   {
    "duration": 60,
    "start_time": "2022-02-04T00:23:48.786Z"
   },
   {
    "duration": 61,
    "start_time": "2022-02-04T00:24:45.652Z"
   },
   {
    "duration": 58,
    "start_time": "2022-02-04T00:24:51.228Z"
   },
   {
    "duration": 59,
    "start_time": "2022-02-04T00:25:44.444Z"
   },
   {
    "duration": 60,
    "start_time": "2022-02-04T00:26:38.966Z"
   },
   {
    "duration": 63,
    "start_time": "2022-02-04T00:27:17.769Z"
   },
   {
    "duration": 2,
    "start_time": "2022-02-04T00:28:23.439Z"
   },
   {
    "duration": 239,
    "start_time": "2022-02-04T00:28:24.788Z"
   },
   {
    "duration": 9,
    "start_time": "2022-02-04T00:28:27.017Z"
   },
   {
    "duration": 111,
    "start_time": "2022-02-04T00:28:27.898Z"
   },
   {
    "duration": 3,
    "start_time": "2022-02-04T00:28:29.926Z"
   },
   {
    "duration": 19,
    "start_time": "2022-02-04T00:28:30.488Z"
   },
   {
    "duration": 4,
    "start_time": "2022-02-04T00:28:31.423Z"
   },
   {
    "duration": 36,
    "start_time": "2022-02-04T00:28:32.419Z"
   },
   {
    "duration": 65,
    "start_time": "2022-02-04T00:28:33.309Z"
   },
   {
    "duration": 19,
    "start_time": "2022-02-04T00:28:33.808Z"
   },
   {
    "duration": 47,
    "start_time": "2022-02-04T00:28:34.694Z"
   },
   {
    "duration": 50,
    "start_time": "2022-02-04T00:28:35.366Z"
   },
   {
    "duration": 44,
    "start_time": "2022-02-04T00:28:36.110Z"
   },
   {
    "duration": 36,
    "start_time": "2022-02-04T00:28:36.923Z"
   },
   {
    "duration": 3,
    "start_time": "2022-02-04T00:28:37.871Z"
   },
   {
    "duration": 9,
    "start_time": "2022-02-04T00:28:38.533Z"
   },
   {
    "duration": 36,
    "start_time": "2022-02-04T00:28:39.137Z"
   },
   {
    "duration": 25,
    "start_time": "2022-02-04T00:28:42.604Z"
   },
   {
    "duration": 27,
    "start_time": "2022-02-04T00:28:45.460Z"
   },
   {
    "duration": 3,
    "start_time": "2022-02-04T00:28:48.945Z"
   },
   {
    "duration": 15,
    "start_time": "2022-02-04T00:28:50.301Z"
   },
   {
    "duration": 14,
    "start_time": "2022-02-04T00:28:51.014Z"
   },
   {
    "duration": 14,
    "start_time": "2022-02-04T00:28:51.655Z"
   },
   {
    "duration": 13,
    "start_time": "2022-02-04T00:28:52.277Z"
   },
   {
    "duration": 17,
    "start_time": "2022-02-04T00:28:53.027Z"
   },
   {
    "duration": 13,
    "start_time": "2022-02-04T00:28:53.691Z"
   },
   {
    "duration": 66,
    "start_time": "2022-02-04T00:28:55.429Z"
   },
   {
    "duration": 66,
    "start_time": "2022-02-04T00:29:55.465Z"
   },
   {
    "duration": 14,
    "start_time": "2022-02-04T00:30:16.872Z"
   },
   {
    "duration": 64,
    "start_time": "2022-02-04T00:30:39.644Z"
   },
   {
    "duration": 68,
    "start_time": "2022-02-04T00:31:01.762Z"
   },
   {
    "duration": 67,
    "start_time": "2022-02-04T00:31:18.953Z"
   },
   {
    "duration": 439,
    "start_time": "2022-02-04T00:36:23.638Z"
   },
   {
    "duration": 420,
    "start_time": "2022-02-04T00:36:55.083Z"
   },
   {
    "duration": 405,
    "start_time": "2022-02-04T00:37:25.228Z"
   },
   {
    "duration": 403,
    "start_time": "2022-02-04T00:37:56.863Z"
   },
   {
    "duration": 95,
    "start_time": "2022-02-04T00:38:18.438Z"
   },
   {
    "duration": 97,
    "start_time": "2022-02-04T00:39:31.176Z"
   },
   {
    "duration": 95,
    "start_time": "2022-02-04T00:39:36.369Z"
   },
   {
    "duration": 122,
    "start_time": "2022-02-04T00:40:19.471Z"
   },
   {
    "duration": 134,
    "start_time": "2022-02-04T00:40:46.127Z"
   },
   {
    "duration": 115,
    "start_time": "2022-02-04T00:41:14.645Z"
   },
   {
    "duration": 113,
    "start_time": "2022-02-04T00:41:24.680Z"
   },
   {
    "duration": 115,
    "start_time": "2022-02-04T00:41:35.091Z"
   },
   {
    "duration": 123,
    "start_time": "2022-02-04T00:41:49.814Z"
   },
   {
    "duration": 67,
    "start_time": "2022-02-04T00:44:20.246Z"
   },
   {
    "duration": 63,
    "start_time": "2022-02-04T00:44:33.961Z"
   },
   {
    "duration": 477,
    "start_time": "2022-02-04T00:47:56.865Z"
   },
   {
    "duration": 389,
    "start_time": "2022-02-04T00:48:09.051Z"
   },
   {
    "duration": 385,
    "start_time": "2022-02-04T00:48:32.893Z"
   },
   {
    "duration": 214,
    "start_time": "2022-02-04T00:48:43.890Z"
   },
   {
    "duration": 517,
    "start_time": "2022-02-04T00:49:43.084Z"
   },
   {
    "duration": 122,
    "start_time": "2022-02-04T00:50:16.562Z"
   },
   {
    "duration": 378,
    "start_time": "2022-02-04T00:50:54.025Z"
   },
   {
    "duration": 372,
    "start_time": "2022-02-04T00:51:13.518Z"
   },
   {
    "duration": 533,
    "start_time": "2022-02-04T00:51:16.479Z"
   },
   {
    "duration": 419,
    "start_time": "2022-02-04T00:51:23.552Z"
   },
   {
    "duration": 366,
    "start_time": "2022-02-04T00:51:35.439Z"
   },
   {
    "duration": 377,
    "start_time": "2022-02-04T00:51:40.438Z"
   },
   {
    "duration": 8418,
    "start_time": "2022-02-04T00:51:55.971Z"
   },
   {
    "duration": 208,
    "start_time": "2022-02-04T00:52:05.767Z"
   },
   {
    "duration": 196,
    "start_time": "2022-02-04T00:52:28.150Z"
   },
   {
    "duration": 108,
    "start_time": "2022-02-04T00:54:38.968Z"
   },
   {
    "duration": 403,
    "start_time": "2022-02-04T00:54:50.686Z"
   },
   {
    "duration": 227,
    "start_time": "2022-02-04T00:54:55.005Z"
   },
   {
    "duration": 3,
    "start_time": "2022-02-04T01:03:28.578Z"
   },
   {
    "duration": 4,
    "start_time": "2022-02-04T01:03:35.536Z"
   },
   {
    "duration": 362,
    "start_time": "2022-02-04T01:03:43.458Z"
   },
   {
    "duration": 111,
    "start_time": "2022-02-04T01:03:58.182Z"
   },
   {
    "duration": 107,
    "start_time": "2022-02-04T01:04:05.776Z"
   },
   {
    "duration": 109,
    "start_time": "2022-02-04T01:04:42.147Z"
   },
   {
    "duration": 135,
    "start_time": "2022-02-04T01:04:45.829Z"
   },
   {
    "duration": 120,
    "start_time": "2022-02-04T01:13:57.087Z"
   },
   {
    "duration": 117,
    "start_time": "2022-02-04T01:14:15.019Z"
   },
   {
    "duration": 103,
    "start_time": "2022-02-04T01:14:20.526Z"
   },
   {
    "duration": 157,
    "start_time": "2022-02-04T01:14:30.386Z"
   },
   {
    "duration": 117,
    "start_time": "2022-02-04T01:14:42.077Z"
   },
   {
    "duration": 131,
    "start_time": "2022-02-04T01:15:06.513Z"
   },
   {
    "duration": 552,
    "start_time": "2022-02-04T01:15:16.248Z"
   },
   {
    "duration": 112,
    "start_time": "2022-02-04T01:15:40.520Z"
   },
   {
    "duration": 126,
    "start_time": "2022-02-04T01:16:04.133Z"
   },
   {
    "duration": 3,
    "start_time": "2022-02-04T01:16:35.602Z"
   },
   {
    "duration": 17,
    "start_time": "2022-02-04T01:16:37.300Z"
   },
   {
    "duration": 15,
    "start_time": "2022-02-04T01:16:37.777Z"
   },
   {
    "duration": 14,
    "start_time": "2022-02-04T01:16:38.289Z"
   },
   {
    "duration": 15,
    "start_time": "2022-02-04T01:16:38.673Z"
   },
   {
    "duration": 15,
    "start_time": "2022-02-04T01:16:39.201Z"
   },
   {
    "duration": 14,
    "start_time": "2022-02-04T01:16:39.601Z"
   },
   {
    "duration": 194,
    "start_time": "2022-02-04T01:16:40.687Z"
   },
   {
    "duration": 115,
    "start_time": "2022-02-04T01:16:44.117Z"
   },
   {
    "duration": 120,
    "start_time": "2022-02-04T01:21:12.312Z"
   },
   {
    "duration": 8,
    "start_time": "2022-02-04T01:21:31.328Z"
   },
   {
    "duration": 8,
    "start_time": "2022-02-04T01:21:34.840Z"
   },
   {
    "duration": 8,
    "start_time": "2022-02-04T01:21:49.638Z"
   },
   {
    "duration": 8,
    "start_time": "2022-02-04T01:22:01.154Z"
   },
   {
    "duration": 9,
    "start_time": "2022-02-04T01:22:15.368Z"
   },
   {
    "duration": 9,
    "start_time": "2022-02-04T01:23:17.963Z"
   },
   {
    "duration": 347,
    "start_time": "2022-02-04T01:25:33.067Z"
   },
   {
    "duration": 328,
    "start_time": "2022-02-04T01:25:40.903Z"
   },
   {
    "duration": 321,
    "start_time": "2022-02-04T01:25:47.710Z"
   },
   {
    "duration": 380,
    "start_time": "2022-02-04T01:25:53.153Z"
   },
   {
    "duration": 20,
    "start_time": "2022-02-04T01:26:05.805Z"
   },
   {
    "duration": 57,
    "start_time": "2022-02-04T01:26:24.302Z"
   },
   {
    "duration": 113,
    "start_time": "2022-02-04T01:26:41.469Z"
   },
   {
    "duration": 110,
    "start_time": "2022-02-04T01:26:54.712Z"
   },
   {
    "duration": 30,
    "start_time": "2022-02-04T01:26:57.936Z"
   },
   {
    "duration": 30,
    "start_time": "2022-02-04T01:27:10.036Z"
   },
   {
    "duration": 31,
    "start_time": "2022-02-04T01:27:28.241Z"
   },
   {
    "duration": 342,
    "start_time": "2022-02-04T01:27:38.318Z"
   },
   {
    "duration": 29,
    "start_time": "2022-02-04T01:27:46.523Z"
   },
   {
    "duration": 30,
    "start_time": "2022-02-04T01:27:55.699Z"
   },
   {
    "duration": 3,
    "start_time": "2022-02-04T01:37:59.611Z"
   },
   {
    "duration": 5,
    "start_time": "2022-02-04T01:38:11.684Z"
   },
   {
    "duration": 13,
    "start_time": "2022-02-04T01:38:40.310Z"
   },
   {
    "duration": 850,
    "start_time": "2022-02-04T01:38:57.937Z"
   },
   {
    "duration": 334,
    "start_time": "2022-02-04T01:39:07.745Z"
   },
   {
    "duration": 318,
    "start_time": "2022-02-04T01:39:18.341Z"
   },
   {
    "duration": 13,
    "start_time": "2022-02-04T01:39:26.027Z"
   },
   {
    "duration": 12,
    "start_time": "2022-02-04T01:41:37.432Z"
   },
   {
    "duration": 39,
    "start_time": "2022-02-04T01:42:12.039Z"
   },
   {
    "duration": 51,
    "start_time": "2022-02-04T01:42:19.537Z"
   },
   {
    "duration": 85,
    "start_time": "2022-02-04T01:42:28.157Z"
   },
   {
    "duration": 50,
    "start_time": "2022-02-04T01:42:33.289Z"
   },
   {
    "duration": 51,
    "start_time": "2022-02-04T01:42:39.102Z"
   },
   {
    "duration": 311,
    "start_time": "2022-02-04T01:46:05.822Z"
   },
   {
    "duration": 6,
    "start_time": "2022-02-04T01:46:14.277Z"
   },
   {
    "duration": 15,
    "start_time": "2022-02-04T01:46:18.211Z"
   },
   {
    "duration": 23,
    "start_time": "2022-02-04T01:46:37.426Z"
   },
   {
    "duration": 108,
    "start_time": "2022-02-04T01:46:49.650Z"
   },
   {
    "duration": 35,
    "start_time": "2022-02-04T01:47:01.244Z"
   },
   {
    "duration": 51,
    "start_time": "2022-02-04T02:00:51.353Z"
   },
   {
    "duration": 32,
    "start_time": "2022-02-04T02:02:47.810Z"
   },
   {
    "duration": 17,
    "start_time": "2022-02-04T02:03:36.110Z"
   },
   {
    "duration": 9,
    "start_time": "2022-02-04T02:04:01.486Z"
   },
   {
    "duration": 350,
    "start_time": "2022-02-04T02:05:58.731Z"
   },
   {
    "duration": 16,
    "start_time": "2022-02-04T02:06:13.333Z"
   },
   {
    "duration": 10,
    "start_time": "2022-02-04T02:06:26.280Z"
   },
   {
    "duration": 17,
    "start_time": "2022-02-04T02:09:26.469Z"
   },
   {
    "duration": 9,
    "start_time": "2022-02-04T02:09:41.419Z"
   },
   {
    "duration": 106,
    "start_time": "2022-02-04T02:39:51.074Z"
   },
   {
    "duration": 1029,
    "start_time": "2022-02-04T02:40:17.452Z"
   },
   {
    "duration": 107,
    "start_time": "2022-02-04T02:43:50.552Z"
   },
   {
    "duration": 109,
    "start_time": "2022-02-04T02:44:34.062Z"
   },
   {
    "duration": 104,
    "start_time": "2022-02-04T02:44:43.227Z"
   },
   {
    "duration": 10,
    "start_time": "2022-02-04T02:44:59.148Z"
   },
   {
    "duration": 110,
    "start_time": "2022-02-04T02:53:31.045Z"
   },
   {
    "duration": 117,
    "start_time": "2022-02-04T02:53:45.368Z"
   },
   {
    "duration": 118,
    "start_time": "2022-02-04T02:53:54.023Z"
   },
   {
    "duration": 114,
    "start_time": "2022-02-04T02:54:18.024Z"
   },
   {
    "duration": 108,
    "start_time": "2022-02-04T02:54:22.136Z"
   },
   {
    "duration": 553,
    "start_time": "2022-02-04T02:54:46.862Z"
   },
   {
    "duration": 16,
    "start_time": "2022-02-04T02:55:18.244Z"
   },
   {
    "duration": 13,
    "start_time": "2022-02-04T02:56:04.280Z"
   },
   {
    "duration": 13,
    "start_time": "2022-02-04T02:56:10.638Z"
   },
   {
    "duration": 11,
    "start_time": "2022-02-04T02:56:31.171Z"
   },
   {
    "duration": 11,
    "start_time": "2022-02-04T02:56:38.782Z"
   },
   {
    "duration": 10,
    "start_time": "2022-02-04T02:57:40.672Z"
   },
   {
    "duration": 14,
    "start_time": "2022-02-04T02:57:43.803Z"
   },
   {
    "duration": 13,
    "start_time": "2022-02-04T02:57:46.238Z"
   },
   {
    "duration": 11,
    "start_time": "2022-02-04T02:57:52.565Z"
   },
   {
    "duration": 14,
    "start_time": "2022-02-04T02:57:55.762Z"
   },
   {
    "duration": 10,
    "start_time": "2022-02-04T02:58:20.060Z"
   },
   {
    "duration": 109,
    "start_time": "2022-02-04T02:58:28.329Z"
   },
   {
    "duration": 343,
    "start_time": "2022-02-04T02:58:34.904Z"
   },
   {
    "duration": 11,
    "start_time": "2022-02-04T02:59:30.063Z"
   },
   {
    "duration": 636,
    "start_time": "2022-02-04T02:59:55.471Z"
   },
   {
    "duration": 3,
    "start_time": "2022-02-04T03:00:07.986Z"
   },
   {
    "duration": 10,
    "start_time": "2022-02-04T03:00:39.580Z"
   },
   {
    "duration": 16,
    "start_time": "2022-02-04T03:00:42.552Z"
   },
   {
    "duration": 336,
    "start_time": "2022-02-04T03:05:19.086Z"
   },
   {
    "duration": 107,
    "start_time": "2022-02-04T03:05:40.051Z"
   },
   {
    "duration": 549,
    "start_time": "2022-02-04T03:05:47.174Z"
   },
   {
    "duration": 8683,
    "start_time": "2022-02-04T03:06:39.914Z"
   },
   {
    "duration": 9129,
    "start_time": "2022-02-04T03:07:10.719Z"
   },
   {
    "duration": 8496,
    "start_time": "2022-02-04T03:07:20.519Z"
   },
   {
    "duration": -262,
    "start_time": "2022-02-04T03:07:29.278Z"
   },
   {
    "duration": 23,
    "start_time": "2022-02-04T03:07:34.752Z"
   },
   {
    "duration": 16,
    "start_time": "2022-02-04T03:07:36.323Z"
   },
   {
    "duration": 8883,
    "start_time": "2022-02-04T03:07:38.569Z"
   },
   {
    "duration": 910,
    "start_time": "2022-02-04T03:08:29.041Z"
   },
   {
    "duration": 882,
    "start_time": "2022-02-04T03:09:20.618Z"
   },
   {
    "duration": 14,
    "start_time": "2022-02-04T03:09:42.646Z"
   },
   {
    "duration": 1222,
    "start_time": "2022-02-04T03:10:44.486Z"
   },
   {
    "duration": 1030,
    "start_time": "2022-02-04T03:12:20.006Z"
   },
   {
    "duration": 8563,
    "start_time": "2022-02-04T03:14:34.934Z"
   },
   {
    "duration": 929,
    "start_time": "2022-02-04T03:16:29.555Z"
   },
   {
    "duration": 545,
    "start_time": "2022-02-04T03:23:56.848Z"
   },
   {
    "duration": 555,
    "start_time": "2022-02-04T03:38:32.330Z"
   },
   {
    "duration": 554,
    "start_time": "2022-02-04T03:38:56.256Z"
   },
   {
    "duration": 692,
    "start_time": "2022-02-04T03:39:27.474Z"
   },
   {
    "duration": 13452,
    "start_time": "2022-02-04T03:40:36.776Z"
   },
   {
    "duration": 544,
    "start_time": "2022-02-04T03:40:53.554Z"
   },
   {
    "duration": 549,
    "start_time": "2022-02-04T03:41:36.962Z"
   },
   {
    "duration": 541,
    "start_time": "2022-02-04T03:41:49.293Z"
   },
   {
    "duration": 531,
    "start_time": "2022-02-04T03:42:16.205Z"
   },
   {
    "duration": 146,
    "start_time": "2022-02-04T03:44:41.337Z"
   },
   {
    "duration": 561,
    "start_time": "2022-02-04T03:45:41.971Z"
   },
   {
    "duration": 535,
    "start_time": "2022-02-04T03:46:31.896Z"
   },
   {
    "duration": 542,
    "start_time": "2022-02-04T03:47:24.634Z"
   },
   {
    "duration": 518,
    "start_time": "2022-02-04T03:48:19.289Z"
   },
   {
    "duration": 544,
    "start_time": "2022-02-04T03:50:01.499Z"
   },
   {
    "duration": 107,
    "start_time": "2022-02-04T03:50:40.615Z"
   },
   {
    "duration": 10,
    "start_time": "2022-02-04T03:51:05.014Z"
   },
   {
    "duration": 549,
    "start_time": "2022-02-04T03:57:02.245Z"
   },
   {
    "duration": 12,
    "start_time": "2022-02-04T03:57:17.369Z"
   },
   {
    "duration": 8,
    "start_time": "2022-02-04T03:59:17.591Z"
   },
   {
    "duration": 9,
    "start_time": "2022-02-04T03:59:30.877Z"
   },
   {
    "duration": 554,
    "start_time": "2022-02-04T03:59:47.550Z"
   },
   {
    "duration": 243,
    "start_time": "2022-02-04T03:59:48.106Z"
   },
   {
    "duration": 8,
    "start_time": "2022-02-04T03:59:48.351Z"
   },
   {
    "duration": 121,
    "start_time": "2022-02-04T03:59:48.360Z"
   },
   {
    "duration": 3,
    "start_time": "2022-02-04T03:59:48.482Z"
   },
   {
    "duration": 19,
    "start_time": "2022-02-04T03:59:48.486Z"
   },
   {
    "duration": 3,
    "start_time": "2022-02-04T03:59:48.507Z"
   },
   {
    "duration": 33,
    "start_time": "2022-02-04T03:59:48.528Z"
   },
   {
    "duration": 80,
    "start_time": "2022-02-04T03:59:48.563Z"
   },
   {
    "duration": 18,
    "start_time": "2022-02-04T03:59:48.645Z"
   },
   {
    "duration": 42,
    "start_time": "2022-02-04T03:59:48.664Z"
   },
   {
    "duration": 59,
    "start_time": "2022-02-04T03:59:48.707Z"
   },
   {
    "duration": 39,
    "start_time": "2022-02-04T03:59:48.767Z"
   },
   {
    "duration": 46,
    "start_time": "2022-02-04T03:59:48.808Z"
   },
   {
    "duration": 4,
    "start_time": "2022-02-04T03:59:48.856Z"
   },
   {
    "duration": 10,
    "start_time": "2022-02-04T03:59:48.861Z"
   },
   {
    "duration": 35,
    "start_time": "2022-02-04T03:59:48.872Z"
   },
   {
    "duration": 39,
    "start_time": "2022-02-04T03:59:48.908Z"
   },
   {
    "duration": 23,
    "start_time": "2022-02-04T03:59:48.949Z"
   },
   {
    "duration": 3,
    "start_time": "2022-02-04T03:59:48.973Z"
   },
   {
    "duration": 18,
    "start_time": "2022-02-04T03:59:48.977Z"
   },
   {
    "duration": 32,
    "start_time": "2022-02-04T03:59:48.996Z"
   },
   {
    "duration": 11,
    "start_time": "2022-02-04T03:59:49.031Z"
   },
   {
    "duration": 11,
    "start_time": "2022-02-04T03:59:49.044Z"
   },
   {
    "duration": 13,
    "start_time": "2022-02-04T03:59:49.056Z"
   },
   {
    "duration": 11,
    "start_time": "2022-02-04T03:59:49.071Z"
   },
   {
    "duration": 288,
    "start_time": "2022-02-04T03:59:49.084Z"
   },
   {
    "duration": 15,
    "start_time": "2022-02-04T03:59:49.373Z"
   },
   {
    "duration": 13,
    "start_time": "2022-02-04T03:59:49.389Z"
   },
   {
    "duration": 6,
    "start_time": "2022-02-04T03:59:49.404Z"
   },
   {
    "duration": 19,
    "start_time": "2022-02-04T03:59:49.411Z"
   },
   {
    "duration": 4,
    "start_time": "2022-02-04T03:59:49.431Z"
   },
   {
    "duration": 4,
    "start_time": "2022-02-04T03:59:49.436Z"
   },
   {
    "duration": 4,
    "start_time": "2022-02-04T03:59:49.441Z"
   },
   {
    "duration": 4,
    "start_time": "2022-02-04T03:59:49.447Z"
   },
   {
    "duration": 4,
    "start_time": "2022-02-04T03:59:49.452Z"
   },
   {
    "duration": 4,
    "start_time": "2022-02-04T03:59:49.457Z"
   },
   {
    "duration": 4,
    "start_time": "2022-02-04T03:59:49.462Z"
   },
   {
    "duration": 9,
    "start_time": "2022-02-04T04:00:12.423Z"
   },
   {
    "duration": 9,
    "start_time": "2022-02-04T04:00:43.504Z"
   },
   {
    "duration": 10,
    "start_time": "2022-02-04T04:00:53.182Z"
   },
   {
    "duration": 10,
    "start_time": "2022-02-04T04:01:31.765Z"
   },
   {
    "duration": 8,
    "start_time": "2022-02-04T04:02:17.572Z"
   },
   {
    "duration": 14,
    "start_time": "2022-02-04T04:02:43.358Z"
   },
   {
    "duration": 469,
    "start_time": "2022-02-04T04:03:11.291Z"
   },
   {
    "duration": 8,
    "start_time": "2022-02-04T04:03:23.806Z"
   },
   {
    "duration": 8,
    "start_time": "2022-02-04T04:03:52.978Z"
   },
   {
    "duration": 5,
    "start_time": "2022-02-04T04:04:13.940Z"
   },
   {
    "duration": 5,
    "start_time": "2022-02-04T04:04:44.920Z"
   },
   {
    "duration": 5,
    "start_time": "2022-02-04T04:05:47.480Z"
   },
   {
    "duration": 10,
    "start_time": "2022-02-04T04:07:30.526Z"
   },
   {
    "duration": 198,
    "start_time": "2022-02-04T04:08:16.751Z"
   },
   {
    "duration": 15,
    "start_time": "2022-02-04T04:13:00.024Z"
   },
   {
    "duration": 16,
    "start_time": "2022-02-04T04:14:59.276Z"
   },
   {
    "duration": 119,
    "start_time": "2022-02-04T04:17:27.208Z"
   },
   {
    "duration": 539,
    "start_time": "2022-02-04T04:17:37.073Z"
   },
   {
    "duration": 18,
    "start_time": "2022-02-04T04:17:49.074Z"
   },
   {
    "duration": 24,
    "start_time": "2022-02-04T04:20:29.101Z"
   },
   {
    "duration": 866,
    "start_time": "2022-02-04T04:29:56.423Z"
   },
   {
    "duration": 830,
    "start_time": "2022-02-04T04:30:11.162Z"
   },
   {
    "duration": 116,
    "start_time": "2022-02-04T04:30:23.420Z"
   },
   {
    "duration": 847,
    "start_time": "2022-02-04T04:31:54.087Z"
   },
   {
    "duration": 358,
    "start_time": "2022-02-04T04:33:19.297Z"
   },
   {
    "duration": 1132,
    "start_time": "2022-02-04T04:35:26.497Z"
   },
   {
    "duration": 25,
    "start_time": "2022-02-04T04:36:31.722Z"
   },
   {
    "duration": 28,
    "start_time": "2022-02-04T04:37:10.717Z"
   },
   {
    "duration": 38,
    "start_time": "2022-02-04T04:37:28.475Z"
   },
   {
    "duration": 19,
    "start_time": "2022-02-04T04:37:36.373Z"
   },
   {
    "duration": 352,
    "start_time": "2022-02-04T04:39:18.029Z"
   },
   {
    "duration": 22,
    "start_time": "2022-02-04T04:40:48.794Z"
   },
   {
    "duration": 24,
    "start_time": "2022-02-04T04:40:58.233Z"
   },
   {
    "duration": 20,
    "start_time": "2022-02-04T04:41:22.254Z"
   },
   {
    "duration": 115,
    "start_time": "2022-02-04T04:41:50.510Z"
   },
   {
    "duration": 21,
    "start_time": "2022-02-04T04:41:57.121Z"
   },
   {
    "duration": 22,
    "start_time": "2022-02-04T04:42:31.873Z"
   },
   {
    "duration": 569,
    "start_time": "2022-02-04T04:43:20.894Z"
   },
   {
    "duration": 24,
    "start_time": "2022-02-04T04:43:26.763Z"
   },
   {
    "duration": 348,
    "start_time": "2022-02-04T04:47:42.574Z"
   },
   {
    "duration": 352,
    "start_time": "2022-02-04T04:47:56.603Z"
   },
   {
    "duration": 537,
    "start_time": "2022-02-04T04:48:03.715Z"
   },
   {
    "duration": 103,
    "start_time": "2022-02-04T04:48:13.207Z"
   },
   {
    "duration": 326,
    "start_time": "2022-02-04T04:48:42.388Z"
   },
   {
    "duration": 21,
    "start_time": "2022-02-04T04:48:51.102Z"
   },
   {
    "duration": 21,
    "start_time": "2022-02-04T04:48:58.684Z"
   },
   {
    "duration": 362,
    "start_time": "2022-02-04T04:49:08.472Z"
   },
   {
    "duration": 8134,
    "start_time": "2022-02-04T04:49:17.089Z"
   },
   {
    "duration": 8171,
    "start_time": "2022-02-04T04:49:32.254Z"
   },
   {
    "duration": 7920,
    "start_time": "2022-02-04T04:50:15.000Z"
   },
   {
    "duration": 126,
    "start_time": "2022-02-04T04:51:24.414Z"
   },
   {
    "duration": 8389,
    "start_time": "2022-02-04T04:52:04.719Z"
   },
   {
    "duration": 345,
    "start_time": "2022-02-04T04:56:01.924Z"
   },
   {
    "duration": 322,
    "start_time": "2022-02-04T04:56:28.055Z"
   },
   {
    "duration": 333,
    "start_time": "2022-02-04T04:57:35.659Z"
   },
   {
    "duration": 363,
    "start_time": "2022-02-04T04:57:42.337Z"
   },
   {
    "duration": 322,
    "start_time": "2022-02-04T04:57:55.573Z"
   },
   {
    "duration": 373,
    "start_time": "2022-02-04T04:58:10.420Z"
   },
   {
    "duration": 331,
    "start_time": "2022-02-04T04:58:20.991Z"
   },
   {
    "duration": 7993,
    "start_time": "2022-02-04T04:58:40.507Z"
   },
   {
    "duration": 8549,
    "start_time": "2022-02-04T04:58:59.553Z"
   },
   {
    "duration": 8040,
    "start_time": "2022-02-04T05:00:40.266Z"
   },
   {
    "duration": 564,
    "start_time": "2022-02-04T05:01:14.290Z"
   },
   {
    "duration": 261,
    "start_time": "2022-02-04T05:01:14.856Z"
   },
   {
    "duration": 13,
    "start_time": "2022-02-04T05:01:15.119Z"
   },
   {
    "duration": 120,
    "start_time": "2022-02-04T05:01:15.134Z"
   },
   {
    "duration": 3,
    "start_time": "2022-02-04T05:01:15.256Z"
   },
   {
    "duration": 22,
    "start_time": "2022-02-04T05:01:15.260Z"
   },
   {
    "duration": 3,
    "start_time": "2022-02-04T05:01:15.284Z"
   },
   {
    "duration": 56,
    "start_time": "2022-02-04T05:01:15.290Z"
   },
   {
    "duration": 80,
    "start_time": "2022-02-04T05:01:15.348Z"
   },
   {
    "duration": 19,
    "start_time": "2022-02-04T05:01:15.430Z"
   },
   {
    "duration": 48,
    "start_time": "2022-02-04T05:01:15.450Z"
   },
   {
    "duration": 62,
    "start_time": "2022-02-04T05:01:15.499Z"
   },
   {
    "duration": 45,
    "start_time": "2022-02-04T05:01:15.563Z"
   },
   {
    "duration": 49,
    "start_time": "2022-02-04T05:01:15.609Z"
   },
   {
    "duration": 3,
    "start_time": "2022-02-04T05:01:15.660Z"
   },
   {
    "duration": 10,
    "start_time": "2022-02-04T05:01:15.664Z"
   },
   {
    "duration": 36,
    "start_time": "2022-02-04T05:01:15.676Z"
   },
   {
    "duration": 26,
    "start_time": "2022-02-04T05:01:15.727Z"
   },
   {
    "duration": 27,
    "start_time": "2022-02-04T05:01:15.754Z"
   },
   {
    "duration": 3,
    "start_time": "2022-02-04T05:01:15.782Z"
   },
   {
    "duration": 41,
    "start_time": "2022-02-04T05:01:15.786Z"
   },
   {
    "duration": 14,
    "start_time": "2022-02-04T05:01:15.828Z"
   },
   {
    "duration": 13,
    "start_time": "2022-02-04T05:01:15.845Z"
   },
   {
    "duration": 12,
    "start_time": "2022-02-04T05:01:15.860Z"
   },
   {
    "duration": 15,
    "start_time": "2022-02-04T05:01:15.874Z"
   },
   {
    "duration": 46,
    "start_time": "2022-02-04T05:01:15.891Z"
   },
   {
    "duration": 280,
    "start_time": "2022-02-04T05:01:15.938Z"
   },
   {
    "duration": 22,
    "start_time": "2022-02-04T05:01:16.219Z"
   },
   {
    "duration": 15,
    "start_time": "2022-02-04T05:01:16.243Z"
   },
   {
    "duration": 7984,
    "start_time": "2022-02-04T05:01:16.259Z"
   },
   {
    "duration": -224,
    "start_time": "2022-02-04T05:01:24.469Z"
   },
   {
    "duration": -227,
    "start_time": "2022-02-04T05:01:24.473Z"
   },
   {
    "duration": -229,
    "start_time": "2022-02-04T05:01:24.476Z"
   },
   {
    "duration": -231,
    "start_time": "2022-02-04T05:01:24.478Z"
   },
   {
    "duration": -232,
    "start_time": "2022-02-04T05:01:24.480Z"
   },
   {
    "duration": -233,
    "start_time": "2022-02-04T05:01:24.482Z"
   },
   {
    "duration": -234,
    "start_time": "2022-02-04T05:01:24.484Z"
   },
   {
    "duration": -236,
    "start_time": "2022-02-04T05:01:24.486Z"
   },
   {
    "duration": -223,
    "start_time": "2022-02-04T05:01:55.636Z"
   },
   {
    "duration": 338,
    "start_time": "2022-02-04T05:02:36.531Z"
   },
   {
    "duration": 22,
    "start_time": "2022-02-04T05:02:47.457Z"
   },
   {
    "duration": 21,
    "start_time": "2022-02-04T05:03:09.059Z"
   },
   {
    "duration": 21,
    "start_time": "2022-02-04T05:03:32.723Z"
   },
   {
    "duration": 177,
    "start_time": "2022-02-04T05:04:21.331Z"
   },
   {
    "duration": 348,
    "start_time": "2022-02-04T05:06:30.362Z"
   },
   {
    "duration": 179,
    "start_time": "2022-02-04T05:07:11.457Z"
   },
   {
    "duration": 214,
    "start_time": "2022-02-04T05:09:13.309Z"
   },
   {
    "duration": 19,
    "start_time": "2022-02-04T05:10:29.287Z"
   },
   {
    "duration": 16,
    "start_time": "2022-02-04T05:10:29.722Z"
   },
   {
    "duration": 175,
    "start_time": "2022-02-04T05:10:31.331Z"
   },
   {
    "duration": 15,
    "start_time": "2022-02-04T05:11:41.102Z"
   },
   {
    "duration": 21,
    "start_time": "2022-02-04T05:11:55.517Z"
   },
   {
    "duration": 23,
    "start_time": "2022-02-04T05:12:30.816Z"
   },
   {
    "duration": 359,
    "start_time": "2022-02-04T05:13:32.173Z"
   },
   {
    "duration": 18,
    "start_time": "2022-02-04T05:13:45.383Z"
   },
   {
    "duration": 23,
    "start_time": "2022-02-04T05:13:54.473Z"
   },
   {
    "duration": 38,
    "start_time": "2022-02-04T05:14:17.268Z"
   },
   {
    "duration": 22,
    "start_time": "2022-02-04T05:14:22.120Z"
   },
   {
    "duration": 22,
    "start_time": "2022-02-04T05:14:34.398Z"
   },
   {
    "duration": 104,
    "start_time": "2022-02-04T05:15:06.190Z"
   },
   {
    "duration": 18,
    "start_time": "2022-02-04T05:15:12.535Z"
   },
   {
    "duration": 188,
    "start_time": "2022-02-04T05:17:20.228Z"
   },
   {
    "duration": 168,
    "start_time": "2022-02-04T05:17:34.166Z"
   },
   {
    "duration": 167,
    "start_time": "2022-02-04T05:18:10.841Z"
   },
   {
    "duration": 171,
    "start_time": "2022-02-04T05:19:04.945Z"
   },
   {
    "duration": 6,
    "start_time": "2022-02-04T05:19:13.123Z"
   },
   {
    "duration": 167,
    "start_time": "2022-02-04T05:19:41.562Z"
   },
   {
    "duration": 185,
    "start_time": "2022-02-04T05:19:55.184Z"
   },
   {
    "duration": 588,
    "start_time": "2022-02-04T05:20:47.423Z"
   },
   {
    "duration": 245,
    "start_time": "2022-02-04T05:20:48.013Z"
   },
   {
    "duration": 7,
    "start_time": "2022-02-04T05:20:48.260Z"
   },
   {
    "duration": 124,
    "start_time": "2022-02-04T05:20:48.269Z"
   },
   {
    "duration": 3,
    "start_time": "2022-02-04T05:20:48.395Z"
   },
   {
    "duration": 28,
    "start_time": "2022-02-04T05:20:48.399Z"
   },
   {
    "duration": 3,
    "start_time": "2022-02-04T05:20:48.429Z"
   },
   {
    "duration": 35,
    "start_time": "2022-02-04T05:20:48.435Z"
   },
   {
    "duration": 97,
    "start_time": "2022-02-04T05:20:48.472Z"
   },
   {
    "duration": 18,
    "start_time": "2022-02-04T05:20:48.571Z"
   },
   {
    "duration": 59,
    "start_time": "2022-02-04T05:20:48.591Z"
   },
   {
    "duration": 47,
    "start_time": "2022-02-04T05:20:48.652Z"
   },
   {
    "duration": 53,
    "start_time": "2022-02-04T05:20:48.700Z"
   },
   {
    "duration": 35,
    "start_time": "2022-02-04T05:20:48.755Z"
   },
   {
    "duration": 3,
    "start_time": "2022-02-04T05:20:48.792Z"
   },
   {
    "duration": 12,
    "start_time": "2022-02-04T05:20:48.797Z"
   },
   {
    "duration": 49,
    "start_time": "2022-02-04T05:20:48.811Z"
   },
   {
    "duration": 24,
    "start_time": "2022-02-04T05:20:48.862Z"
   },
   {
    "duration": 47,
    "start_time": "2022-02-04T05:20:48.888Z"
   },
   {
    "duration": 2,
    "start_time": "2022-02-04T05:20:48.937Z"
   },
   {
    "duration": 17,
    "start_time": "2022-02-04T05:20:48.941Z"
   },
   {
    "duration": 12,
    "start_time": "2022-02-04T05:20:48.959Z"
   },
   {
    "duration": 12,
    "start_time": "2022-02-04T05:20:48.973Z"
   },
   {
    "duration": 11,
    "start_time": "2022-02-04T05:20:48.987Z"
   },
   {
    "duration": 39,
    "start_time": "2022-02-04T05:20:48.999Z"
   },
   {
    "duration": 16,
    "start_time": "2022-02-04T05:20:49.039Z"
   },
   {
    "duration": 368,
    "start_time": "2022-02-04T05:20:49.056Z"
   },
   {
    "duration": 15,
    "start_time": "2022-02-04T05:20:49.427Z"
   },
   {
    "duration": 13,
    "start_time": "2022-02-04T05:20:49.444Z"
   },
   {
    "duration": 4,
    "start_time": "2022-02-04T05:20:49.459Z"
   },
   {
    "duration": 23,
    "start_time": "2022-02-04T05:20:49.464Z"
   },
   {
    "duration": 11,
    "start_time": "2022-02-04T05:20:49.489Z"
   },
   {
    "duration": 25,
    "start_time": "2022-02-04T05:20:49.502Z"
   },
   {
    "duration": 5,
    "start_time": "2022-02-04T05:20:49.529Z"
   },
   {
    "duration": 4,
    "start_time": "2022-02-04T05:20:49.535Z"
   },
   {
    "duration": 6,
    "start_time": "2022-02-04T05:20:49.541Z"
   },
   {
    "duration": 7,
    "start_time": "2022-02-04T05:20:49.549Z"
   },
   {
    "duration": 4,
    "start_time": "2022-02-04T05:20:49.557Z"
   },
   {
    "duration": 34,
    "start_time": "2022-02-04T05:21:18.374Z"
   },
   {
    "duration": 14,
    "start_time": "2022-02-04T05:21:27.157Z"
   },
   {
    "duration": 384,
    "start_time": "2022-02-04T05:22:10.404Z"
   },
   {
    "duration": 5,
    "start_time": "2022-02-04T05:22:51.498Z"
   },
   {
    "duration": 351,
    "start_time": "2022-02-04T05:22:54.004Z"
   },
   {
    "duration": 191,
    "start_time": "2022-02-04T05:24:00.648Z"
   },
   {
    "duration": 6,
    "start_time": "2022-02-04T05:25:38.729Z"
   },
   {
    "duration": 188,
    "start_time": "2022-02-04T05:25:40.637Z"
   },
   {
    "duration": 236,
    "start_time": "2022-02-04T05:25:51.758Z"
   },
   {
    "duration": 21,
    "start_time": "2022-02-04T05:25:54.754Z"
   },
   {
    "duration": 16,
    "start_time": "2022-02-04T05:25:55.582Z"
   },
   {
    "duration": 5,
    "start_time": "2022-02-04T05:25:56.978Z"
   },
   {
    "duration": 194,
    "start_time": "2022-02-04T05:25:58.716Z"
   },
   {
    "duration": 14,
    "start_time": "2022-02-04T05:25:59.906Z"
   },
   {
    "duration": 2,
    "start_time": "2022-02-04T05:26:01.726Z"
   },
   {
    "duration": 103,
    "start_time": "2022-02-04T05:26:10.655Z"
   },
   {
    "duration": 619,
    "start_time": "2022-02-04T05:26:15.071Z"
   },
   {
    "duration": 125,
    "start_time": "2022-02-04T05:26:21.721Z"
   },
   {
    "duration": 101,
    "start_time": "2022-02-04T05:26:28.709Z"
   },
   {
    "duration": 170,
    "start_time": "2022-02-04T05:27:11.167Z"
   },
   {
    "duration": 116,
    "start_time": "2022-02-04T05:30:45.846Z"
   },
   {
    "duration": 119,
    "start_time": "2022-02-04T05:31:04.538Z"
   },
   {
    "duration": 108,
    "start_time": "2022-02-04T05:31:25.692Z"
   },
   {
    "duration": 131,
    "start_time": "2022-02-04T05:31:29.996Z"
   },
   {
    "duration": 118,
    "start_time": "2022-02-04T05:32:36.950Z"
   },
   {
    "duration": 191,
    "start_time": "2022-02-04T05:32:45.884Z"
   },
   {
    "duration": 188,
    "start_time": "2022-02-04T05:33:33.014Z"
   },
   {
    "duration": 174,
    "start_time": "2022-02-04T05:34:02.275Z"
   },
   {
    "duration": 184,
    "start_time": "2022-02-04T05:34:24.668Z"
   },
   {
    "duration": 171,
    "start_time": "2022-02-04T05:35:51.865Z"
   },
   {
    "duration": 789,
    "start_time": "2022-02-04T17:00:49.097Z"
   },
   {
    "duration": 240,
    "start_time": "2022-02-04T17:00:49.887Z"
   },
   {
    "duration": 8,
    "start_time": "2022-02-04T17:00:50.129Z"
   },
   {
    "duration": 121,
    "start_time": "2022-02-04T17:00:50.139Z"
   },
   {
    "duration": 3,
    "start_time": "2022-02-04T17:00:50.262Z"
   },
   {
    "duration": 21,
    "start_time": "2022-02-04T17:00:50.266Z"
   },
   {
    "duration": 3,
    "start_time": "2022-02-04T17:00:50.289Z"
   },
   {
    "duration": 47,
    "start_time": "2022-02-04T17:00:50.293Z"
   },
   {
    "duration": 73,
    "start_time": "2022-02-04T17:00:50.342Z"
   },
   {
    "duration": 19,
    "start_time": "2022-02-04T17:00:50.427Z"
   },
   {
    "duration": 45,
    "start_time": "2022-02-04T17:00:50.447Z"
   },
   {
    "duration": 63,
    "start_time": "2022-02-04T17:00:50.493Z"
   },
   {
    "duration": 43,
    "start_time": "2022-02-04T17:00:50.558Z"
   },
   {
    "duration": 44,
    "start_time": "2022-02-04T17:00:50.602Z"
   },
   {
    "duration": 2,
    "start_time": "2022-02-04T17:00:50.648Z"
   },
   {
    "duration": 10,
    "start_time": "2022-02-04T17:00:50.652Z"
   },
   {
    "duration": 37,
    "start_time": "2022-02-04T17:00:50.664Z"
   },
   {
    "duration": 36,
    "start_time": "2022-02-04T17:00:50.702Z"
   },
   {
    "duration": 24,
    "start_time": "2022-02-04T17:00:50.740Z"
   },
   {
    "duration": 2,
    "start_time": "2022-02-04T17:00:50.766Z"
   },
   {
    "duration": 20,
    "start_time": "2022-02-04T17:00:50.769Z"
   },
   {
    "duration": 11,
    "start_time": "2022-02-04T17:00:50.790Z"
   },
   {
    "duration": 32,
    "start_time": "2022-02-04T17:00:50.803Z"
   },
   {
    "duration": 10,
    "start_time": "2022-02-04T17:00:50.836Z"
   },
   {
    "duration": 13,
    "start_time": "2022-02-04T17:00:50.847Z"
   },
   {
    "duration": 11,
    "start_time": "2022-02-04T17:00:50.861Z"
   },
   {
    "duration": 277,
    "start_time": "2022-02-04T17:00:50.875Z"
   },
   {
    "duration": 15,
    "start_time": "2022-02-04T17:00:51.153Z"
   },
   {
    "duration": 14,
    "start_time": "2022-02-04T17:00:51.170Z"
   },
   {
    "duration": 5,
    "start_time": "2022-02-04T17:00:51.185Z"
   },
   {
    "duration": 209,
    "start_time": "2022-02-04T17:00:51.191Z"
   },
   {
    "duration": 177,
    "start_time": "2022-02-04T17:00:51.401Z"
   },
   {
    "duration": 236,
    "start_time": "2022-02-04T17:00:51.580Z"
   },
   {
    "duration": 183,
    "start_time": "2022-02-04T17:00:51.817Z"
   },
   {
    "duration": 2,
    "start_time": "2022-02-04T17:00:52.002Z"
   },
   {
    "duration": 6,
    "start_time": "2022-02-04T17:00:52.005Z"
   },
   {
    "duration": 15,
    "start_time": "2022-02-04T17:00:52.012Z"
   },
   {
    "duration": 9,
    "start_time": "2022-02-04T17:00:52.028Z"
   },
   {
    "duration": 4,
    "start_time": "2022-02-04T17:02:59.162Z"
   },
   {
    "duration": 25,
    "start_time": "2022-02-04T17:03:07.550Z"
   },
   {
    "duration": 424,
    "start_time": "2022-02-04T17:03:31.502Z"
   },
   {
    "duration": 25,
    "start_time": "2022-02-04T17:03:46.812Z"
   },
   {
    "duration": 116,
    "start_time": "2022-02-04T17:05:16.242Z"
   },
   {
    "duration": 152,
    "start_time": "2022-02-04T17:05:32.341Z"
   },
   {
    "duration": 125,
    "start_time": "2022-02-04T17:05:49.539Z"
   },
   {
    "duration": 378,
    "start_time": "2022-02-04T17:06:00.411Z"
   },
   {
    "duration": 32,
    "start_time": "2022-02-04T17:06:39.552Z"
   },
   {
    "duration": 18,
    "start_time": "2022-02-04T17:07:02.352Z"
   },
   {
    "duration": 21,
    "start_time": "2022-02-04T17:07:08.610Z"
   },
   {
    "duration": 20,
    "start_time": "2022-02-04T17:07:14.752Z"
   },
   {
    "duration": 23,
    "start_time": "2022-02-04T17:07:29.946Z"
   },
   {
    "duration": 38,
    "start_time": "2022-02-04T17:07:39.137Z"
   },
   {
    "duration": 20,
    "start_time": "2022-02-04T17:07:55.645Z"
   },
   {
    "duration": 27,
    "start_time": "2022-02-04T17:08:06.707Z"
   },
   {
    "duration": 26,
    "start_time": "2022-02-04T17:08:27.695Z"
   },
   {
    "duration": 25,
    "start_time": "2022-02-04T17:08:42.057Z"
   },
   {
    "duration": 33,
    "start_time": "2022-02-04T17:08:55.242Z"
   },
   {
    "duration": 43,
    "start_time": "2022-02-04T17:09:09.267Z"
   },
   {
    "duration": 22,
    "start_time": "2022-02-04T17:09:21.937Z"
   },
   {
    "duration": 26,
    "start_time": "2022-02-04T17:09:29.117Z"
   },
   {
    "duration": 25,
    "start_time": "2022-02-04T17:09:42.335Z"
   },
   {
    "duration": 4857,
    "start_time": "2022-02-04T17:10:18.185Z"
   },
   {
    "duration": 19,
    "start_time": "2022-02-04T17:10:39.888Z"
   },
   {
    "duration": 7,
    "start_time": "2022-02-04T17:10:50.955Z"
   },
   {
    "duration": 395,
    "start_time": "2022-02-04T17:12:43.161Z"
   },
   {
    "duration": 14,
    "start_time": "2022-02-04T17:12:45.390Z"
   },
   {
    "duration": 7,
    "start_time": "2022-02-04T17:12:46.021Z"
   },
   {
    "duration": 6,
    "start_time": "2022-02-04T20:17:39.062Z"
   },
   {
    "duration": 342,
    "start_time": "2022-02-04T20:17:39.070Z"
   },
   {
    "duration": 15,
    "start_time": "2022-02-04T20:17:39.415Z"
   },
   {
    "duration": 156,
    "start_time": "2022-02-04T20:17:39.432Z"
   },
   {
    "duration": 6,
    "start_time": "2022-02-04T20:17:39.590Z"
   },
   {
    "duration": 20,
    "start_time": "2022-02-04T20:17:39.598Z"
   },
   {
    "duration": 29,
    "start_time": "2022-02-04T20:17:39.621Z"
   },
   {
    "duration": 69,
    "start_time": "2022-02-04T20:17:39.653Z"
   },
   {
    "duration": 137,
    "start_time": "2022-02-04T20:17:39.725Z"
   },
   {
    "duration": 36,
    "start_time": "2022-02-04T20:17:39.864Z"
   },
   {
    "duration": 104,
    "start_time": "2022-02-04T20:17:39.902Z"
   },
   {
    "duration": 124,
    "start_time": "2022-02-04T20:17:40.008Z"
   },
   {
    "duration": 79,
    "start_time": "2022-02-04T20:17:40.135Z"
   },
   {
    "duration": 73,
    "start_time": "2022-02-04T20:17:40.217Z"
   },
   {
    "duration": 6,
    "start_time": "2022-02-04T20:17:40.293Z"
   },
   {
    "duration": 16,
    "start_time": "2022-02-04T20:17:40.302Z"
   },
   {
    "duration": 81,
    "start_time": "2022-02-04T20:17:40.321Z"
   },
   {
    "duration": 65,
    "start_time": "2022-02-04T20:17:40.406Z"
   },
   {
    "duration": 53,
    "start_time": "2022-02-04T20:17:40.474Z"
   },
   {
    "duration": 22,
    "start_time": "2022-02-04T20:17:40.531Z"
   },
   {
    "duration": 31,
    "start_time": "2022-02-04T20:17:40.556Z"
   },
   {
    "duration": 22,
    "start_time": "2022-02-04T20:17:40.590Z"
   },
   {
    "duration": 52,
    "start_time": "2022-02-04T20:17:40.615Z"
   },
   {
    "duration": 22,
    "start_time": "2022-02-04T20:17:40.670Z"
   },
   {
    "duration": 55,
    "start_time": "2022-02-04T20:17:40.694Z"
   },
   {
    "duration": 22,
    "start_time": "2022-02-04T20:17:40.752Z"
   },
   {
    "duration": 384,
    "start_time": "2022-02-04T20:17:40.777Z"
   },
   {
    "duration": 32,
    "start_time": "2022-02-04T20:17:41.164Z"
   },
   {
    "duration": 50,
    "start_time": "2022-02-04T20:17:41.198Z"
   },
   {
    "duration": 8,
    "start_time": "2022-02-04T20:17:41.251Z"
   },
   {
    "duration": 369,
    "start_time": "2022-02-04T20:17:41.262Z"
   },
   {
    "duration": 420,
    "start_time": "2022-02-04T20:17:41.633Z"
   },
   {
    "duration": 380,
    "start_time": "2022-02-04T20:17:42.056Z"
   },
   {
    "duration": 361,
    "start_time": "2022-02-04T20:17:42.440Z"
   },
   {
    "duration": 47,
    "start_time": "2022-02-04T20:17:42.805Z"
   },
   {
    "duration": 14,
    "start_time": "2022-02-04T20:17:42.855Z"
   },
   {
    "duration": 24,
    "start_time": "2022-02-04T20:17:42.871Z"
   },
   {
    "duration": 12,
    "start_time": "2022-02-04T20:17:42.898Z"
   },
   {
    "duration": 32,
    "start_time": "2022-02-04T20:26:54.018Z"
   },
   {
    "duration": 34,
    "start_time": "2022-02-04T20:26:59.705Z"
   },
   {
    "duration": 46,
    "start_time": "2022-02-04T20:27:09.737Z"
   },
   {
    "duration": 314,
    "start_time": "2022-02-04T20:27:16.030Z"
   },
   {
    "duration": 66,
    "start_time": "2022-02-04T20:27:19.670Z"
   },
   {
    "duration": 36,
    "start_time": "2022-02-04T20:27:21.603Z"
   },
   {
    "duration": 41,
    "start_time": "2022-02-04T20:27:25.967Z"
   },
   {
    "duration": 68,
    "start_time": "2022-02-04T20:28:43.254Z"
   },
   {
    "duration": 66,
    "start_time": "2022-02-04T20:28:49.556Z"
   },
   {
    "duration": 69,
    "start_time": "2022-02-04T20:28:57.572Z"
   },
   {
    "duration": 66,
    "start_time": "2022-02-04T20:28:59.545Z"
   },
   {
    "duration": 71,
    "start_time": "2022-02-04T20:29:02.161Z"
   },
   {
    "duration": 71,
    "start_time": "2022-02-04T20:29:07.032Z"
   },
   {
    "duration": 66,
    "start_time": "2022-02-04T20:29:12.567Z"
   },
   {
    "duration": 11,
    "start_time": "2022-02-04T20:35:02.060Z"
   },
   {
    "duration": 11,
    "start_time": "2022-02-04T20:36:25.412Z"
   },
   {
    "duration": 346,
    "start_time": "2022-02-04T20:43:25.511Z"
   },
   {
    "duration": 326,
    "start_time": "2022-02-04T20:43:28.751Z"
   },
   {
    "duration": 335,
    "start_time": "2022-02-04T20:43:31.961Z"
   },
   {
    "duration": 312,
    "start_time": "2022-02-04T20:43:34.991Z"
   },
   {
    "duration": 308,
    "start_time": "2022-02-04T20:43:37.495Z"
   },
   {
    "duration": 309,
    "start_time": "2022-02-04T20:43:40.977Z"
   },
   {
    "duration": 340,
    "start_time": "2022-02-04T20:43:45.818Z"
   },
   {
    "duration": 324,
    "start_time": "2022-02-04T20:43:51.122Z"
   },
   {
    "duration": 330,
    "start_time": "2022-02-07T19:12:10.200Z"
   },
   {
    "duration": 237,
    "start_time": "2022-02-07T19:12:22.961Z"
   },
   {
    "duration": 260,
    "start_time": "2022-02-07T19:12:25.931Z"
   },
   {
    "duration": 227,
    "start_time": "2022-02-07T19:12:38.472Z"
   },
   {
    "duration": 633,
    "start_time": "2022-02-07T19:12:52.600Z"
   },
   {
    "duration": 358,
    "start_time": "2022-02-07T19:12:53.235Z"
   },
   {
    "duration": 11,
    "start_time": "2022-02-07T19:12:54.327Z"
   },
   {
    "duration": 44,
    "start_time": "2022-02-07T19:12:56.193Z"
   },
   {
    "duration": 183,
    "start_time": "2022-02-07T19:13:30.881Z"
   },
   {
    "duration": 148,
    "start_time": "2022-02-07T19:13:37.716Z"
   },
   {
    "duration": 181,
    "start_time": "2022-02-07T19:14:07.051Z"
   },
   {
    "duration": 25,
    "start_time": "2022-02-07T19:24:41.466Z"
   },
   {
    "duration": 23,
    "start_time": "2022-02-07T19:25:01.856Z"
   },
   {
    "duration": 49,
    "start_time": "2022-02-07T19:25:56.271Z"
   },
   {
    "duration": 44,
    "start_time": "2022-02-07T19:26:16.326Z"
   },
   {
    "duration": 85,
    "start_time": "2022-02-07T19:26:35.611Z"
   },
   {
    "duration": 50,
    "start_time": "2022-02-07T19:26:39.916Z"
   },
   {
    "duration": 43,
    "start_time": "2022-02-07T19:26:55.323Z"
   },
   {
    "duration": 47,
    "start_time": "2022-02-07T19:27:17.641Z"
   },
   {
    "duration": 46,
    "start_time": "2022-02-07T19:28:02.452Z"
   },
   {
    "duration": 66,
    "start_time": "2022-02-07T19:28:22.003Z"
   },
   {
    "duration": 46,
    "start_time": "2022-02-07T19:28:42.317Z"
   },
   {
    "duration": 44,
    "start_time": "2022-02-07T19:28:52.182Z"
   },
   {
    "duration": 25,
    "start_time": "2022-02-07T19:29:05.006Z"
   },
   {
    "duration": 84,
    "start_time": "2022-02-07T19:29:33.347Z"
   },
   {
    "duration": 77,
    "start_time": "2022-02-07T19:29:43.460Z"
   },
   {
    "duration": 81,
    "start_time": "2022-02-07T19:29:55.563Z"
   },
   {
    "duration": 23,
    "start_time": "2022-02-07T19:30:13.123Z"
   },
   {
    "duration": 47,
    "start_time": "2022-02-07T19:30:19.290Z"
   },
   {
    "duration": 3,
    "start_time": "2022-02-07T19:34:33.900Z"
   },
   {
    "duration": 107,
    "start_time": "2022-02-07T19:34:40.195Z"
   },
   {
    "duration": 24,
    "start_time": "2022-02-07T19:34:41.314Z"
   },
   {
    "duration": 54,
    "start_time": "2022-02-07T19:34:44.920Z"
   },
   {
    "duration": 61,
    "start_time": "2022-02-07T19:35:42.936Z"
   },
   {
    "duration": 2,
    "start_time": "2022-02-07T19:36:06.032Z"
   },
   {
    "duration": 3,
    "start_time": "2022-02-07T19:36:08.351Z"
   },
   {
    "duration": 108,
    "start_time": "2022-02-07T19:38:36.299Z"
   },
   {
    "duration": 75,
    "start_time": "2022-02-07T19:38:59.328Z"
   },
   {
    "duration": 3,
    "start_time": "2022-02-07T19:48:44.058Z"
   },
   {
    "duration": 3,
    "start_time": "2022-02-07T19:48:45.294Z"
   },
   {
    "duration": 309,
    "start_time": "2022-02-07T19:48:45.627Z"
   },
   {
    "duration": 12,
    "start_time": "2022-02-07T19:48:46.105Z"
   },
   {
    "duration": 171,
    "start_time": "2022-02-07T19:48:46.650Z"
   },
   {
    "duration": 3,
    "start_time": "2022-02-07T19:48:47.901Z"
   },
   {
    "duration": 5,
    "start_time": "2022-02-07T19:48:52.315Z"
   },
   {
    "duration": 15,
    "start_time": "2022-02-07T19:48:53.080Z"
   },
   {
    "duration": 4,
    "start_time": "2022-02-07T19:48:53.886Z"
   },
   {
    "duration": 43,
    "start_time": "2022-02-07T19:48:54.567Z"
   },
   {
    "duration": 3,
    "start_time": "2022-02-07T19:48:55.078Z"
   },
   {
    "duration": 93,
    "start_time": "2022-02-07T19:48:55.964Z"
   },
   {
    "duration": 26,
    "start_time": "2022-02-07T19:48:57.035Z"
   },
   {
    "duration": 57,
    "start_time": "2022-02-07T19:48:58.272Z"
   },
   {
    "duration": 60,
    "start_time": "2022-02-07T19:48:59.466Z"
   },
   {
    "duration": 3,
    "start_time": "2022-02-07T19:49:00.093Z"
   },
   {
    "duration": 52,
    "start_time": "2022-02-07T19:49:03.830Z"
   },
   {
    "duration": 45,
    "start_time": "2022-02-07T19:49:14.473Z"
   },
   {
    "duration": 3,
    "start_time": "2022-02-07T19:49:29.970Z"
   },
   {
    "duration": 11,
    "start_time": "2022-02-07T19:49:30.771Z"
   },
   {
    "duration": 11,
    "start_time": "2022-02-07T19:50:32.862Z"
   },
   {
    "duration": 401,
    "start_time": "2022-02-07T19:50:41.632Z"
   },
   {
    "duration": 402,
    "start_time": "2022-02-07T19:51:12.233Z"
   },
   {
    "duration": 14,
    "start_time": "2022-02-07T19:51:20.678Z"
   },
   {
    "duration": 91,
    "start_time": "2022-02-07T19:51:52.378Z"
   },
   {
    "duration": 10,
    "start_time": "2022-02-07T19:51:58.953Z"
   },
   {
    "duration": 105,
    "start_time": "2022-02-07T19:52:17.001Z"
   },
   {
    "duration": 17,
    "start_time": "2022-02-07T19:52:22.113Z"
   },
   {
    "duration": 92,
    "start_time": "2022-02-07T19:52:32.855Z"
   },
   {
    "duration": 414,
    "start_time": "2022-02-07T19:52:36.511Z"
   },
   {
    "duration": 18,
    "start_time": "2022-02-07T19:52:40.652Z"
   },
   {
    "duration": 5,
    "start_time": "2022-02-07T19:53:54.636Z"
   },
   {
    "duration": 19,
    "start_time": "2022-02-07T19:53:57.483Z"
   },
   {
    "duration": 11,
    "start_time": "2022-02-07T19:54:03.897Z"
   },
   {
    "duration": 4,
    "start_time": "2022-02-07T19:54:15.217Z"
   },
   {
    "duration": 82,
    "start_time": "2022-02-07T20:51:49.531Z"
   },
   {
    "duration": 81,
    "start_time": "2022-02-07T20:52:18.427Z"
   },
   {
    "duration": 121,
    "start_time": "2022-02-07T21:10:00.512Z"
   },
   {
    "duration": 86,
    "start_time": "2022-02-07T21:10:13.440Z"
   },
   {
    "duration": 83,
    "start_time": "2022-02-07T21:10:34.245Z"
   },
   {
    "duration": 115,
    "start_time": "2022-02-07T21:12:18.220Z"
   },
   {
    "duration": 98,
    "start_time": "2022-02-07T21:12:37.619Z"
   },
   {
    "duration": 78,
    "start_time": "2022-02-07T21:12:41.705Z"
   },
   {
    "duration": 86,
    "start_time": "2022-02-07T21:12:46.840Z"
   },
   {
    "duration": 3,
    "start_time": "2022-02-07T21:52:46.238Z"
   },
   {
    "duration": 318,
    "start_time": "2022-02-07T21:52:46.949Z"
   },
   {
    "duration": 11,
    "start_time": "2022-02-07T21:52:54.649Z"
   },
   {
    "duration": 169,
    "start_time": "2022-02-07T21:52:57.525Z"
   },
   {
    "duration": 4,
    "start_time": "2022-02-07T21:53:50.841Z"
   },
   {
    "duration": 15,
    "start_time": "2022-02-07T21:53:51.858Z"
   },
   {
    "duration": 5,
    "start_time": "2022-02-07T21:53:52.464Z"
   },
   {
    "duration": 82,
    "start_time": "2022-02-07T21:53:54.485Z"
   },
   {
    "duration": 90,
    "start_time": "2022-02-07T21:54:53.743Z"
   },
   {
    "duration": 25,
    "start_time": "2022-02-07T21:54:54.872Z"
   },
   {
    "duration": 107,
    "start_time": "2022-02-07T21:55:00.927Z"
   },
   {
    "duration": 65,
    "start_time": "2022-02-07T21:55:05.374Z"
   },
   {
    "duration": 2,
    "start_time": "2022-02-07T21:55:06.364Z"
   },
   {
    "duration": 83,
    "start_time": "2022-02-07T21:56:18.088Z"
   },
   {
    "duration": 76,
    "start_time": "2022-02-07T21:58:37.254Z"
   },
   {
    "duration": 85,
    "start_time": "2022-02-07T21:58:41.987Z"
   },
   {
    "duration": 77,
    "start_time": "2022-02-07T21:58:53.954Z"
   },
   {
    "duration": 56,
    "start_time": "2022-02-07T22:00:08.150Z"
   },
   {
    "duration": 45,
    "start_time": "2022-02-07T22:00:09.937Z"
   },
   {
    "duration": 4,
    "start_time": "2022-02-07T22:00:15.412Z"
   },
   {
    "duration": 11,
    "start_time": "2022-02-07T22:00:16.304Z"
   },
   {
    "duration": 3,
    "start_time": "2022-02-07T22:00:16.642Z"
   },
   {
    "duration": 10,
    "start_time": "2022-02-07T22:01:35.573Z"
   },
   {
    "duration": 43,
    "start_time": "2022-02-07T22:01:38.687Z"
   },
   {
    "duration": 34,
    "start_time": "2022-02-07T22:02:51.109Z"
   },
   {
    "duration": 37,
    "start_time": "2022-02-07T22:03:24.510Z"
   },
   {
    "duration": 32,
    "start_time": "2022-02-07T22:03:38.747Z"
   },
   {
    "duration": 35,
    "start_time": "2022-02-07T22:03:45.336Z"
   },
   {
    "duration": 32,
    "start_time": "2022-02-07T22:04:18.725Z"
   },
   {
    "duration": 36,
    "start_time": "2022-02-07T22:04:27.121Z"
   },
   {
    "duration": 35,
    "start_time": "2022-02-07T22:15:27.290Z"
   },
   {
    "duration": 14,
    "start_time": "2022-02-07T22:16:10.545Z"
   },
   {
    "duration": 3,
    "start_time": "2022-02-07T22:18:28.941Z"
   },
   {
    "duration": 18,
    "start_time": "2022-02-07T22:18:29.607Z"
   },
   {
    "duration": 19,
    "start_time": "2022-02-07T22:18:30.050Z"
   },
   {
    "duration": 17,
    "start_time": "2022-02-07T22:18:32.331Z"
   },
   {
    "duration": 17,
    "start_time": "2022-02-07T22:18:32.650Z"
   },
   {
    "duration": 18,
    "start_time": "2022-02-07T22:18:33.015Z"
   },
   {
    "duration": 17,
    "start_time": "2022-02-07T22:18:33.758Z"
   },
   {
    "duration": 4,
    "start_time": "2022-02-07T22:19:07.032Z"
   },
   {
    "duration": 19,
    "start_time": "2022-02-07T22:19:08.415Z"
   },
   {
    "duration": 18,
    "start_time": "2022-02-07T22:19:08.567Z"
   },
   {
    "duration": 17,
    "start_time": "2022-02-07T22:19:08.743Z"
   },
   {
    "duration": 17,
    "start_time": "2022-02-07T22:19:08.897Z"
   },
   {
    "duration": 349,
    "start_time": "2022-02-07T22:19:56.936Z"
   },
   {
    "duration": 3,
    "start_time": "2022-02-07T22:21:00.472Z"
   },
   {
    "duration": 87,
    "start_time": "2022-02-07T22:29:42.440Z"
   },
   {
    "duration": 4,
    "start_time": "2022-02-07T22:30:47.936Z"
   },
   {
    "duration": 18,
    "start_time": "2022-02-07T22:30:49.017Z"
   },
   {
    "duration": 17,
    "start_time": "2022-02-07T22:30:49.658Z"
   },
   {
    "duration": 17,
    "start_time": "2022-02-07T22:30:50.114Z"
   },
   {
    "duration": 16,
    "start_time": "2022-02-07T22:30:50.490Z"
   },
   {
    "duration": 18,
    "start_time": "2022-02-07T22:30:50.828Z"
   },
   {
    "duration": 18,
    "start_time": "2022-02-07T22:30:51.108Z"
   },
   {
    "duration": 677,
    "start_time": "2022-02-08T21:08:20.238Z"
   },
   {
    "duration": 316,
    "start_time": "2022-02-08T21:08:20.917Z"
   },
   {
    "duration": 11,
    "start_time": "2022-02-08T21:08:21.236Z"
   },
   {
    "duration": 163,
    "start_time": "2022-02-08T21:08:21.621Z"
   },
   {
    "duration": 5,
    "start_time": "2022-02-08T21:08:23.216Z"
   },
   {
    "duration": 24,
    "start_time": "2022-02-08T21:08:23.583Z"
   },
   {
    "duration": 5,
    "start_time": "2022-02-08T21:08:23.938Z"
   },
   {
    "duration": 49,
    "start_time": "2022-02-08T21:08:24.634Z"
   },
   {
    "duration": 98,
    "start_time": "2022-02-08T21:08:25.715Z"
   },
   {
    "duration": 23,
    "start_time": "2022-02-08T21:08:26.279Z"
   },
   {
    "duration": 60,
    "start_time": "2022-02-08T21:08:26.996Z"
   },
   {
    "duration": 65,
    "start_time": "2022-02-08T21:08:27.556Z"
   },
   {
    "duration": 57,
    "start_time": "2022-02-08T21:08:29.645Z"
   },
   {
    "duration": 45,
    "start_time": "2022-02-08T21:08:31.024Z"
   },
   {
    "duration": 4,
    "start_time": "2022-02-08T21:08:31.871Z"
   },
   {
    "duration": 12,
    "start_time": "2022-02-08T21:08:32.234Z"
   },
   {
    "duration": 46,
    "start_time": "2022-02-08T21:08:32.959Z"
   },
   {
    "duration": 36,
    "start_time": "2022-02-08T21:08:34.642Z"
   },
   {
    "duration": 13,
    "start_time": "2022-02-08T21:08:35.378Z"
   },
   {
    "duration": 4,
    "start_time": "2022-02-08T21:08:36.309Z"
   },
   {
    "duration": 21,
    "start_time": "2022-02-08T21:08:36.661Z"
   },
   {
    "duration": 18,
    "start_time": "2022-02-08T21:08:36.873Z"
   },
   {
    "duration": 17,
    "start_time": "2022-02-08T21:08:37.065Z"
   },
   {
    "duration": 17,
    "start_time": "2022-02-08T21:08:37.237Z"
   },
   {
    "duration": 21,
    "start_time": "2022-02-08T21:08:37.486Z"
   },
   {
    "duration": 18,
    "start_time": "2022-02-08T21:08:37.748Z"
   },
   {
    "duration": 260,
    "start_time": "2022-02-08T21:08:42.566Z"
   },
   {
    "duration": 78,
    "start_time": "2022-02-08T21:08:43.111Z"
   },
   {
    "duration": 21,
    "start_time": "2022-02-08T21:09:09.432Z"
   },
   {
    "duration": 22,
    "start_time": "2022-02-08T21:09:09.827Z"
   },
   {
    "duration": 8,
    "start_time": "2022-02-08T22:12:47.668Z"
   },
   {
    "duration": 6,
    "start_time": "2022-02-08T23:03:31.921Z"
   },
   {
    "duration": 20,
    "start_time": "2022-02-08T23:03:53.862Z"
   },
   {
    "duration": 19,
    "start_time": "2022-02-08T23:03:54.314Z"
   },
   {
    "duration": 6,
    "start_time": "2022-02-08T23:03:57.235Z"
   },
   {
    "duration": 384,
    "start_time": "2022-02-08T23:04:55.456Z"
   },
   {
    "duration": 215,
    "start_time": "2022-02-08T23:04:57.683Z"
   },
   {
    "duration": 235,
    "start_time": "2022-02-08T23:04:58.631Z"
   },
   {
    "duration": 224,
    "start_time": "2022-02-08T23:04:59.303Z"
   },
   {
    "duration": 83,
    "start_time": "2022-02-08T23:05:30.909Z"
   },
   {
    "duration": 320,
    "start_time": "2022-02-08T23:08:04.895Z"
   },
   {
    "duration": 288,
    "start_time": "2022-02-08T23:08:16.285Z"
   },
   {
    "duration": 217,
    "start_time": "2022-02-08T23:08:25.505Z"
   },
   {
    "duration": 228,
    "start_time": "2022-02-08T23:18:16.341Z"
   },
   {
    "duration": 212,
    "start_time": "2022-02-08T23:18:26.058Z"
   },
   {
    "duration": 215,
    "start_time": "2022-02-08T23:18:38.121Z"
   },
   {
    "duration": 244,
    "start_time": "2022-02-08T23:21:10.861Z"
   },
   {
    "duration": 221,
    "start_time": "2022-02-08T23:21:11.107Z"
   },
   {
    "duration": 241,
    "start_time": "2022-02-08T23:21:11.330Z"
   },
   {
    "duration": 329,
    "start_time": "2022-02-08T23:21:11.573Z"
   },
   {
    "duration": 26,
    "start_time": "2022-02-08T23:22:10.853Z"
   },
   {
    "duration": 10,
    "start_time": "2022-02-08T23:22:11.661Z"
   },
   {
    "duration": 19,
    "start_time": "2022-02-08T23:22:12.509Z"
   },
   {
    "duration": 11,
    "start_time": "2022-02-08T23:22:13.073Z"
   },
   {
    "duration": 684,
    "start_time": "2022-02-10T20:04:58.161Z"
   },
   {
    "duration": 2,
    "start_time": "2022-02-10T20:05:13.606Z"
   },
   {
    "duration": 886,
    "start_time": "2022-02-10T20:05:37.878Z"
   },
   {
    "duration": 10,
    "start_time": "2022-02-10T20:05:41.135Z"
   },
   {
    "duration": 134,
    "start_time": "2022-02-10T20:05:48.318Z"
   },
   {
    "duration": 3,
    "start_time": "2022-02-10T20:05:54.376Z"
   },
   {
    "duration": 19,
    "start_time": "2022-02-10T20:05:57.191Z"
   },
   {
    "duration": 4,
    "start_time": "2022-02-10T20:05:58.980Z"
   },
   {
    "duration": 39,
    "start_time": "2022-02-10T20:06:01.303Z"
   },
   {
    "duration": 80,
    "start_time": "2022-02-10T20:06:18.138Z"
   },
   {
    "duration": 21,
    "start_time": "2022-02-10T20:06:20.889Z"
   },
   {
    "duration": 47,
    "start_time": "2022-02-10T20:06:26.319Z"
   },
   {
    "duration": 50,
    "start_time": "2022-02-10T20:06:28.483Z"
   },
   {
    "duration": 45,
    "start_time": "2022-02-10T20:06:48.265Z"
   },
   {
    "duration": 40,
    "start_time": "2022-02-10T20:08:44.947Z"
   },
   {
    "duration": 3,
    "start_time": "2022-02-10T20:08:47.422Z"
   },
   {
    "duration": 9,
    "start_time": "2022-02-10T20:08:48.456Z"
   },
   {
    "duration": 36,
    "start_time": "2022-02-10T20:08:51.687Z"
   },
   {
    "duration": 9,
    "start_time": "2022-02-10T20:09:58.632Z"
   },
   {
    "duration": 36,
    "start_time": "2022-02-10T20:10:00.503Z"
   },
   {
    "duration": 29,
    "start_time": "2022-02-10T20:10:15.655Z"
   },
   {
    "duration": 10,
    "start_time": "2022-02-10T20:10:41.222Z"
   },
   {
    "duration": 3,
    "start_time": "2022-02-10T20:11:01.408Z"
   },
   {
    "duration": 17,
    "start_time": "2022-02-10T20:11:07.024Z"
   },
   {
    "duration": 13,
    "start_time": "2022-02-10T20:11:07.387Z"
   },
   {
    "duration": 19,
    "start_time": "2022-02-10T20:11:07.727Z"
   },
   {
    "duration": 13,
    "start_time": "2022-02-10T20:11:08.037Z"
   },
   {
    "duration": 16,
    "start_time": "2022-02-10T20:11:08.387Z"
   },
   {
    "duration": 15,
    "start_time": "2022-02-10T20:11:12.015Z"
   },
   {
    "duration": 224,
    "start_time": "2022-02-10T20:11:14.831Z"
   },
   {
    "duration": 110,
    "start_time": "2022-02-10T20:11:16.184Z"
   },
   {
    "duration": 200,
    "start_time": "2022-02-10T20:16:37.097Z"
   },
   {
    "duration": 202,
    "start_time": "2022-02-10T20:18:39.815Z"
   },
   {
    "duration": 110,
    "start_time": "2022-02-10T20:18:41.008Z"
   },
   {
    "duration": 99,
    "start_time": "2022-02-10T20:18:42.061Z"
   },
   {
    "duration": 16,
    "start_time": "2022-02-10T20:19:47.112Z"
   },
   {
    "duration": 16,
    "start_time": "2022-02-10T20:19:47.509Z"
   },
   {
    "duration": 5,
    "start_time": "2022-02-10T20:19:49.340Z"
   },
   {
    "duration": 257,
    "start_time": "2022-02-10T20:20:20.309Z"
   },
   {
    "duration": 183,
    "start_time": "2022-02-10T20:20:20.815Z"
   },
   {
    "duration": 182,
    "start_time": "2022-02-10T20:20:21.306Z"
   },
   {
    "duration": 183,
    "start_time": "2022-02-10T20:20:21.915Z"
   },
   {
    "duration": 20,
    "start_time": "2022-02-10T20:20:46.280Z"
   },
   {
    "duration": 8,
    "start_time": "2022-02-10T20:20:46.609Z"
   },
   {
    "duration": 13,
    "start_time": "2022-02-10T20:20:46.929Z"
   },
   {
    "duration": 7,
    "start_time": "2022-02-10T20:20:47.272Z"
   }
  ],
  "colab": {
   "collapsed_sections": [
    "E0vqbgi9ay0H",
    "VUC88oWjTJw2",
    "atZAxtq4_Zcu"
   ],
   "name": "EmptyFinalProject.ipynb\"",
   "provenance": []
  },
  "kernelspec": {
   "display_name": "Python 3 (ipykernel)",
   "language": "python",
   "name": "python3"
  },
  "language_info": {
   "codemirror_mode": {
    "name": "ipython",
    "version": 3
   },
   "file_extension": ".py",
   "mimetype": "text/x-python",
   "name": "python",
   "nbconvert_exporter": "python",
   "pygments_lexer": "ipython3",
   "version": "3.9.5"
  },
  "toc": {
   "base_numbering": 1,
   "nav_menu": {},
   "number_sections": true,
   "sideBar": true,
   "skip_h1_title": true,
   "title_cell": "Table of Contents",
   "title_sidebar": "Contents",
   "toc_cell": false,
   "toc_position": {},
   "toc_section_display": true,
   "toc_window_display": false
  }
 },
 "nbformat": 4,
 "nbformat_minor": 4
}
