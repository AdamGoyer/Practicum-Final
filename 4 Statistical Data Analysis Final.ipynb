{
 "cells": [
  {
   "cell_type": "markdown",
   "metadata": {},
   "source": [
    "<div style=\"border:solid green 2px; padding: 20px\"> <h1 style=\"color:green; margin-bottom:20px\">Reviewer's comment v1</h1>\n",
    "\n",
    "Hello Adam, my name is Dmitrii. Happy to review your project! 🙌\n",
    "\n",
    "You can find my comments under the heading **«Review»**. I will categorize my comments in green, blue or red boxes like this:\n",
    "\n",
    "<div class=\"alert alert-success\">\n",
    "    <b>Success:</b> if everything is done successfully\n",
    "</div>\n",
    "<div class=\"alert alert-warning\">\n",
    "    <b>Remarks:</b> if I can give some recommendations or ways to improve the project\n",
    "</div>\n",
    "<div class=\"alert alert-danger\">\n",
    "    <b>Needs fixing:</b> if the block requires some corrections. Work can't be accepted with the red comments\n",
    "</div>\n",
    "\n",
    "Please don't remove my comments :) If you have any questions don't hesitate to respond to my comments in a different section. \n",
    "<div class=\"alert alert-info\"> <b>Student comments:</b> For example like this</div>    \n"
   ]
  },
  {
   "cell_type": "markdown",
   "metadata": {},
   "source": [
    "<div style=\"border:solid green 2px; padding: 20px\">\n",
    "<b>Reviewer's comment v1</b>\n",
    "    \n",
    "<b>Overall Feedback</b> \n",
    "    \n",
    "Overall well done! I can see that a lot of effort has been made! Your project already looks really good, and you accomplished impressive results.\n",
    "\n",
    "However, there are some comments/areas left to fix that will help you to make your project even better:\n",
    "\n",
    "- Add monthly revenue calculation per user_id per month. \n",
    "- Extend your interim conclusions.\n",
    "  \n",
    "And of course, if you have any questions along the way, remember that you can always reach out to your tutor for any clarification.\n",
    "</div>"
   ]
  },
  {
   "cell_type": "markdown",
   "metadata": {},
   "source": [
    "<div style=\"border:solid green 2px; padding: 20px\">\n",
    "<b>Reviewer's comment v2:</b>\n",
    "    \n",
    "<b>Overall Feedback</b> \n",
    "    \n",
    "Hi Adam! Thank you for submitting your project with all corrections! \n",
    "- Now everything is perfect. No critial issues left, so your project has been accepted! \n",
    "- Wish you cool projects in the next sprints! ☘️\n",
    "    \n",
    "PS: As a last thing, I can recommend cool lectures on stat analysis here: https://www.youtube.com/playlist?list=PL2SOU6wwxB0uwwH80KTQ6ht66KWxbzTIo  🙌\n",
    "\n",
    "</div>"
   ]
  },
  {
   "cell_type": "markdown",
   "metadata": {},
   "source": [
    "<div style=\"border:solid green 2px; padding: 20px\">\n",
    "<b>Reviewer's comment v1</b>\n",
    " \n",
    "It would be helpful to add overall information about the project goal and tasks. "
   ]
  },
  {
   "cell_type": "markdown",
   "metadata": {},
   "source": [
    "### Project description\n",
    "You work as an analyst for the telecom operator Megaline. The company offers its clients two prepaid plans, Surf and Ultimate. The commercial department wants to know which of the plans brings in more revenue in order to adjust the advertising budget. <br>\n",
    "<br>\n",
    "You are going to carry out a preliminary analysis of the plans based on a relatively small client selection. You'll have the data on 500 Megaline clients: who the clients are, where they're from, which plan they use, and the number of calls they made and text messages they sent in 2018. Your job is to analyze clients' behavior and determine which prepaid plan brings in more revenue."
   ]
  },
  {
   "cell_type": "markdown",
   "metadata": {},
   "source": [
    "<div style=\"border:solid blue 2px; padding: 20px\"> \n",
    "<div class=\"alert alert-info\"> <b>Student comments:</b> Thanks, added an intro section</div>  <br>\n",
    "<br>\n",
    "Also please note that the comments display a bit differently in VS code, I updated the boarders so they will display properly. <br>\n",
    "Hopefully this doesn't adversly effect how they format in your IDE. <br>\n",
    "Please let me know if it does, and I'll make efforts to course correct next time."
   ]
  },
  {
   "cell_type": "markdown",
   "metadata": {},
   "source": [
    "<div class=\"alert alert-block alert-success\">\n",
    "<b>Reviewer's comment v2</b>\n",
    " \n",
    "Thank you for providing an explanation! It looks all good for me."
   ]
  },
  {
   "cell_type": "code",
   "execution_count": 1,
   "metadata": {},
   "outputs": [],
   "source": [
    "# Load libraries\n",
    "import pandas as pd\n",
    "import numpy as np\n",
    "import scipy.stats as stats\n",
    "import matplotlib.pyplot as plt\n",
    "from datetime import datetime\n",
    "from datetime import timedelta\n",
    "import seaborn as sns\n",
    "import math\n",
    "import random\n",
    "import calendar"
   ]
  },
  {
   "cell_type": "code",
   "execution_count": 2,
   "metadata": {},
   "outputs": [],
   "source": [
    "# Load the data files into different DataFrames\n",
    "# /datasets/megaline_calls.csv\n",
    "\n",
    "try:\n",
    "    df_calls = pd.read_csv('https://code.s3.yandex.net/datasets/megaline_calls.csv')\n",
    "except:\n",
    "    df_calls = pd.read_csv('datasets/megaline_calls.csv')\n",
    "\n"
   ]
  },
  {
   "cell_type": "code",
   "execution_count": 3,
   "metadata": {},
   "outputs": [],
   "source": [
    "# Load the data files into different DataFrames\n",
    "# /datasets/megaline_internet.csv\n",
    "\n",
    "try:\n",
    "    df_internet = pd.read_csv('https://code.s3.yandex.net/datasets/megaline_internet.csv')\n",
    "except:\n",
    "    df_internet = pd.read_csv('datasets/megaline_internet.csv')\n",
    "\n"
   ]
  },
  {
   "cell_type": "code",
   "execution_count": 4,
   "metadata": {},
   "outputs": [],
   "source": [
    "# Load the data files into different DataFrames\n",
    "# /datasets/megaline_messages.csv\n",
    "\n",
    "try:\n",
    "    df_messages = pd.read_csv('https://code.s3.yandex.net/datasets/megaline_messages.csv')\n",
    "except:\n",
    "    df_messages = pd.read_csv('datasets/megaline_messages.csv')\n",
    "\n"
   ]
  },
  {
   "cell_type": "code",
   "execution_count": 5,
   "metadata": {},
   "outputs": [],
   "source": [
    "# Load the data files into different DataFrames\n",
    "# /datasets/megaline_plans.csv\n",
    "\n",
    "try:\n",
    "    df_plans = pd.read_csv('https://code.s3.yandex.net/datasets/megaline_plans.csv')\n",
    "except:\n",
    "    df_plans = pd.read_csv('datasets/megaline_plans.csv')\n",
    "\n"
   ]
  },
  {
   "cell_type": "code",
   "execution_count": 6,
   "metadata": {},
   "outputs": [],
   "source": [
    "# Load the data files into different DataFrames\n",
    "# /datasets/megaline_users.csv\n",
    "\n",
    "try:\n",
    "    df_users = pd.read_csv('https://code.s3.yandex.net/datasets/megaline_users.csv')\n",
    "except:\n",
    "    df_users = pd.read_csv('datasets/megaline_users.csv')\n",
    "\n"
   ]
  },
  {
   "cell_type": "code",
   "execution_count": 7,
   "metadata": {},
   "outputs": [
    {
     "data": {
      "text/html": [
       "<div>\n",
       "<style scoped>\n",
       "    .dataframe tbody tr th:only-of-type {\n",
       "        vertical-align: middle;\n",
       "    }\n",
       "\n",
       "    .dataframe tbody tr th {\n",
       "        vertical-align: top;\n",
       "    }\n",
       "\n",
       "    .dataframe thead th {\n",
       "        text-align: right;\n",
       "    }\n",
       "</style>\n",
       "<table border=\"1\" class=\"dataframe\">\n",
       "  <thead>\n",
       "    <tr style=\"text-align: right;\">\n",
       "      <th></th>\n",
       "      <th>id</th>\n",
       "      <th>user_id</th>\n",
       "      <th>call_date</th>\n",
       "      <th>duration</th>\n",
       "    </tr>\n",
       "  </thead>\n",
       "  <tbody>\n",
       "    <tr>\n",
       "      <th>0</th>\n",
       "      <td>1000_93</td>\n",
       "      <td>1000</td>\n",
       "      <td>2018-12-27</td>\n",
       "      <td>8.52</td>\n",
       "    </tr>\n",
       "    <tr>\n",
       "      <th>1</th>\n",
       "      <td>1000_145</td>\n",
       "      <td>1000</td>\n",
       "      <td>2018-12-27</td>\n",
       "      <td>13.66</td>\n",
       "    </tr>\n",
       "  </tbody>\n",
       "</table>\n",
       "</div>"
      ],
      "text/plain": [
       "         id  user_id   call_date  duration\n",
       "0   1000_93     1000  2018-12-27      8.52\n",
       "1  1000_145     1000  2018-12-27     13.66"
      ]
     },
     "metadata": {},
     "output_type": "display_data"
    }
   ],
   "source": [
    "#Test if the CSV loaded correctly\n",
    "display(df_calls.head(2))"
   ]
  },
  {
   "cell_type": "code",
   "execution_count": 8,
   "metadata": {},
   "outputs": [
    {
     "data": {
      "text/html": [
       "<div>\n",
       "<style scoped>\n",
       "    .dataframe tbody tr th:only-of-type {\n",
       "        vertical-align: middle;\n",
       "    }\n",
       "\n",
       "    .dataframe tbody tr th {\n",
       "        vertical-align: top;\n",
       "    }\n",
       "\n",
       "    .dataframe thead th {\n",
       "        text-align: right;\n",
       "    }\n",
       "</style>\n",
       "<table border=\"1\" class=\"dataframe\">\n",
       "  <thead>\n",
       "    <tr style=\"text-align: right;\">\n",
       "      <th></th>\n",
       "      <th>id</th>\n",
       "      <th>user_id</th>\n",
       "      <th>session_date</th>\n",
       "      <th>mb_used</th>\n",
       "    </tr>\n",
       "  </thead>\n",
       "  <tbody>\n",
       "    <tr>\n",
       "      <th>0</th>\n",
       "      <td>1000_13</td>\n",
       "      <td>1000</td>\n",
       "      <td>2018-12-29</td>\n",
       "      <td>89.86</td>\n",
       "    </tr>\n",
       "    <tr>\n",
       "      <th>1</th>\n",
       "      <td>1000_204</td>\n",
       "      <td>1000</td>\n",
       "      <td>2018-12-31</td>\n",
       "      <td>0.00</td>\n",
       "    </tr>\n",
       "  </tbody>\n",
       "</table>\n",
       "</div>"
      ],
      "text/plain": [
       "         id  user_id session_date  mb_used\n",
       "0   1000_13     1000   2018-12-29    89.86\n",
       "1  1000_204     1000   2018-12-31     0.00"
      ]
     },
     "metadata": {},
     "output_type": "display_data"
    }
   ],
   "source": [
    "#Test if the CSV loaded correctly\n",
    "display(df_internet.head(2))"
   ]
  },
  {
   "cell_type": "code",
   "execution_count": 9,
   "metadata": {},
   "outputs": [
    {
     "data": {
      "text/html": [
       "<div>\n",
       "<style scoped>\n",
       "    .dataframe tbody tr th:only-of-type {\n",
       "        vertical-align: middle;\n",
       "    }\n",
       "\n",
       "    .dataframe tbody tr th {\n",
       "        vertical-align: top;\n",
       "    }\n",
       "\n",
       "    .dataframe thead th {\n",
       "        text-align: right;\n",
       "    }\n",
       "</style>\n",
       "<table border=\"1\" class=\"dataframe\">\n",
       "  <thead>\n",
       "    <tr style=\"text-align: right;\">\n",
       "      <th></th>\n",
       "      <th>id</th>\n",
       "      <th>user_id</th>\n",
       "      <th>message_date</th>\n",
       "    </tr>\n",
       "  </thead>\n",
       "  <tbody>\n",
       "    <tr>\n",
       "      <th>0</th>\n",
       "      <td>1000_125</td>\n",
       "      <td>1000</td>\n",
       "      <td>2018-12-27</td>\n",
       "    </tr>\n",
       "    <tr>\n",
       "      <th>1</th>\n",
       "      <td>1000_160</td>\n",
       "      <td>1000</td>\n",
       "      <td>2018-12-31</td>\n",
       "    </tr>\n",
       "  </tbody>\n",
       "</table>\n",
       "</div>"
      ],
      "text/plain": [
       "         id  user_id message_date\n",
       "0  1000_125     1000   2018-12-27\n",
       "1  1000_160     1000   2018-12-31"
      ]
     },
     "metadata": {},
     "output_type": "display_data"
    }
   ],
   "source": [
    "#Test if the CSV loaded correctly\n",
    "display(df_messages.head(2))"
   ]
  },
  {
   "cell_type": "code",
   "execution_count": 10,
   "metadata": {},
   "outputs": [
    {
     "data": {
      "text/html": [
       "<div>\n",
       "<style scoped>\n",
       "    .dataframe tbody tr th:only-of-type {\n",
       "        vertical-align: middle;\n",
       "    }\n",
       "\n",
       "    .dataframe tbody tr th {\n",
       "        vertical-align: top;\n",
       "    }\n",
       "\n",
       "    .dataframe thead th {\n",
       "        text-align: right;\n",
       "    }\n",
       "</style>\n",
       "<table border=\"1\" class=\"dataframe\">\n",
       "  <thead>\n",
       "    <tr style=\"text-align: right;\">\n",
       "      <th></th>\n",
       "      <th>messages_included</th>\n",
       "      <th>mb_per_month_included</th>\n",
       "      <th>minutes_included</th>\n",
       "      <th>usd_monthly_pay</th>\n",
       "      <th>usd_per_gb</th>\n",
       "      <th>usd_per_message</th>\n",
       "      <th>usd_per_minute</th>\n",
       "      <th>plan_name</th>\n",
       "    </tr>\n",
       "  </thead>\n",
       "  <tbody>\n",
       "    <tr>\n",
       "      <th>0</th>\n",
       "      <td>50</td>\n",
       "      <td>15360</td>\n",
       "      <td>500</td>\n",
       "      <td>20</td>\n",
       "      <td>10</td>\n",
       "      <td>0.03</td>\n",
       "      <td>0.03</td>\n",
       "      <td>surf</td>\n",
       "    </tr>\n",
       "    <tr>\n",
       "      <th>1</th>\n",
       "      <td>1000</td>\n",
       "      <td>30720</td>\n",
       "      <td>3000</td>\n",
       "      <td>70</td>\n",
       "      <td>7</td>\n",
       "      <td>0.01</td>\n",
       "      <td>0.01</td>\n",
       "      <td>ultimate</td>\n",
       "    </tr>\n",
       "  </tbody>\n",
       "</table>\n",
       "</div>"
      ],
      "text/plain": [
       "   messages_included  mb_per_month_included  minutes_included  \\\n",
       "0                 50                  15360               500   \n",
       "1               1000                  30720              3000   \n",
       "\n",
       "   usd_monthly_pay  usd_per_gb  usd_per_message  usd_per_minute plan_name  \n",
       "0               20          10             0.03            0.03      surf  \n",
       "1               70           7             0.01            0.01  ultimate  "
      ]
     },
     "metadata": {},
     "output_type": "display_data"
    }
   ],
   "source": [
    "#Test if the CSV loaded correctly\n",
    "display(df_plans.head(2))"
   ]
  },
  {
   "cell_type": "code",
   "execution_count": 11,
   "metadata": {},
   "outputs": [
    {
     "data": {
      "text/html": [
       "<div>\n",
       "<style scoped>\n",
       "    .dataframe tbody tr th:only-of-type {\n",
       "        vertical-align: middle;\n",
       "    }\n",
       "\n",
       "    .dataframe tbody tr th {\n",
       "        vertical-align: top;\n",
       "    }\n",
       "\n",
       "    .dataframe thead th {\n",
       "        text-align: right;\n",
       "    }\n",
       "</style>\n",
       "<table border=\"1\" class=\"dataframe\">\n",
       "  <thead>\n",
       "    <tr style=\"text-align: right;\">\n",
       "      <th></th>\n",
       "      <th>user_id</th>\n",
       "      <th>first_name</th>\n",
       "      <th>last_name</th>\n",
       "      <th>age</th>\n",
       "      <th>city</th>\n",
       "      <th>reg_date</th>\n",
       "      <th>plan</th>\n",
       "      <th>churn_date</th>\n",
       "    </tr>\n",
       "  </thead>\n",
       "  <tbody>\n",
       "    <tr>\n",
       "      <th>0</th>\n",
       "      <td>1000</td>\n",
       "      <td>Anamaria</td>\n",
       "      <td>Bauer</td>\n",
       "      <td>45</td>\n",
       "      <td>Atlanta-Sandy Springs-Roswell, GA MSA</td>\n",
       "      <td>2018-12-24</td>\n",
       "      <td>ultimate</td>\n",
       "      <td>NaN</td>\n",
       "    </tr>\n",
       "    <tr>\n",
       "      <th>1</th>\n",
       "      <td>1001</td>\n",
       "      <td>Mickey</td>\n",
       "      <td>Wilkerson</td>\n",
       "      <td>28</td>\n",
       "      <td>Seattle-Tacoma-Bellevue, WA MSA</td>\n",
       "      <td>2018-08-13</td>\n",
       "      <td>surf</td>\n",
       "      <td>NaN</td>\n",
       "    </tr>\n",
       "  </tbody>\n",
       "</table>\n",
       "</div>"
      ],
      "text/plain": [
       "   user_id first_name  last_name  age                                   city  \\\n",
       "0     1000   Anamaria      Bauer   45  Atlanta-Sandy Springs-Roswell, GA MSA   \n",
       "1     1001     Mickey  Wilkerson   28        Seattle-Tacoma-Bellevue, WA MSA   \n",
       "\n",
       "     reg_date      plan churn_date  \n",
       "0  2018-12-24  ultimate        NaN  \n",
       "1  2018-08-13      surf        NaN  "
      ]
     },
     "metadata": {},
     "output_type": "display_data"
    }
   ],
   "source": [
    "#Test if the CSV loaded correctly\n",
    "display(df_users.head(2))\n"
   ]
  },
  {
   "cell_type": "markdown",
   "metadata": {},
   "source": [
    "## Prepare the data"
   ]
  },
  {
   "cell_type": "markdown",
   "metadata": {},
   "source": [
    "## Plans"
   ]
  },
  {
   "cell_type": "code",
   "execution_count": 12,
   "metadata": {},
   "outputs": [],
   "source": [
    "# For Reference:\n",
    "# df_calls\n",
    "# df_internet\n",
    "# df_messages\n",
    "# df_plans\n",
    "# df_users"
   ]
  },
  {
   "cell_type": "code",
   "execution_count": 13,
   "metadata": {},
   "outputs": [
    {
     "name": "stdout",
     "output_type": "stream",
     "text": [
      "calls\n",
      "<class 'pandas.core.frame.DataFrame'>\n",
      "RangeIndex: 137735 entries, 0 to 137734\n",
      "Data columns (total 4 columns):\n",
      " #   Column     Non-Null Count   Dtype  \n",
      "---  ------     --------------   -----  \n",
      " 0   id         137735 non-null  object \n",
      " 1   user_id    137735 non-null  int64  \n",
      " 2   call_date  137735 non-null  object \n",
      " 3   duration   137735 non-null  float64\n",
      "dtypes: float64(1), int64(1), object(2)\n",
      "memory usage: 4.2+ MB\n",
      "\n",
      "internet\n",
      "<class 'pandas.core.frame.DataFrame'>\n",
      "RangeIndex: 104825 entries, 0 to 104824\n",
      "Data columns (total 4 columns):\n",
      " #   Column        Non-Null Count   Dtype  \n",
      "---  ------        --------------   -----  \n",
      " 0   id            104825 non-null  object \n",
      " 1   user_id       104825 non-null  int64  \n",
      " 2   session_date  104825 non-null  object \n",
      " 3   mb_used       104825 non-null  float64\n",
      "dtypes: float64(1), int64(1), object(2)\n",
      "memory usage: 3.2+ MB\n",
      "\n",
      "messages\n",
      "<class 'pandas.core.frame.DataFrame'>\n",
      "RangeIndex: 76051 entries, 0 to 76050\n",
      "Data columns (total 3 columns):\n",
      " #   Column        Non-Null Count  Dtype \n",
      "---  ------        --------------  ----- \n",
      " 0   id            76051 non-null  object\n",
      " 1   user_id       76051 non-null  int64 \n",
      " 2   message_date  76051 non-null  object\n",
      "dtypes: int64(1), object(2)\n",
      "memory usage: 1.7+ MB\n",
      "\n",
      "plans\n",
      "<class 'pandas.core.frame.DataFrame'>\n",
      "RangeIndex: 2 entries, 0 to 1\n",
      "Data columns (total 8 columns):\n",
      " #   Column                 Non-Null Count  Dtype  \n",
      "---  ------                 --------------  -----  \n",
      " 0   messages_included      2 non-null      int64  \n",
      " 1   mb_per_month_included  2 non-null      int64  \n",
      " 2   minutes_included       2 non-null      int64  \n",
      " 3   usd_monthly_pay        2 non-null      int64  \n",
      " 4   usd_per_gb             2 non-null      int64  \n",
      " 5   usd_per_message        2 non-null      float64\n",
      " 6   usd_per_minute         2 non-null      float64\n",
      " 7   plan_name              2 non-null      object \n",
      "dtypes: float64(2), int64(5), object(1)\n",
      "memory usage: 256.0+ bytes\n",
      "\n",
      "users\n",
      "<class 'pandas.core.frame.DataFrame'>\n",
      "RangeIndex: 500 entries, 0 to 499\n",
      "Data columns (total 8 columns):\n",
      " #   Column      Non-Null Count  Dtype \n",
      "---  ------      --------------  ----- \n",
      " 0   user_id     500 non-null    int64 \n",
      " 1   first_name  500 non-null    object\n",
      " 2   last_name   500 non-null    object\n",
      " 3   age         500 non-null    int64 \n",
      " 4   city        500 non-null    object\n",
      " 5   reg_date    500 non-null    object\n",
      " 6   plan        500 non-null    object\n",
      " 7   churn_date  34 non-null     object\n",
      "dtypes: int64(2), object(6)\n",
      "memory usage: 31.4+ KB\n"
     ]
    }
   ],
   "source": [
    "# Print the general/summary information about the plans' DataFrame\n",
    "print('calls')\n",
    "df_calls.info()\n",
    "print()\n",
    "print('internet')\n",
    "df_internet.info()\n",
    "print()\n",
    "print('messages')\n",
    "df_messages.info()\n",
    "print()\n",
    "print('plans')\n",
    "df_plans.info()\n",
    "print()\n",
    "print('users')\n",
    "df_users.info()"
   ]
  },
  {
   "cell_type": "code",
   "execution_count": 14,
   "metadata": {},
   "outputs": [
    {
     "data": {
      "text/html": [
       "<div>\n",
       "<style scoped>\n",
       "    .dataframe tbody tr th:only-of-type {\n",
       "        vertical-align: middle;\n",
       "    }\n",
       "\n",
       "    .dataframe tbody tr th {\n",
       "        vertical-align: top;\n",
       "    }\n",
       "\n",
       "    .dataframe thead th {\n",
       "        text-align: right;\n",
       "    }\n",
       "</style>\n",
       "<table border=\"1\" class=\"dataframe\">\n",
       "  <thead>\n",
       "    <tr style=\"text-align: right;\">\n",
       "      <th></th>\n",
       "      <th>id</th>\n",
       "      <th>user_id</th>\n",
       "      <th>call_date</th>\n",
       "      <th>duration</th>\n",
       "    </tr>\n",
       "  </thead>\n",
       "  <tbody>\n",
       "    <tr>\n",
       "      <th>0</th>\n",
       "      <td>1000_93</td>\n",
       "      <td>1000</td>\n",
       "      <td>2018-12-27</td>\n",
       "      <td>8.52</td>\n",
       "    </tr>\n",
       "    <tr>\n",
       "      <th>1</th>\n",
       "      <td>1000_145</td>\n",
       "      <td>1000</td>\n",
       "      <td>2018-12-27</td>\n",
       "      <td>13.66</td>\n",
       "    </tr>\n",
       "    <tr>\n",
       "      <th>2</th>\n",
       "      <td>1000_247</td>\n",
       "      <td>1000</td>\n",
       "      <td>2018-12-27</td>\n",
       "      <td>14.48</td>\n",
       "    </tr>\n",
       "    <tr>\n",
       "      <th>3</th>\n",
       "      <td>1000_309</td>\n",
       "      <td>1000</td>\n",
       "      <td>2018-12-28</td>\n",
       "      <td>5.76</td>\n",
       "    </tr>\n",
       "    <tr>\n",
       "      <th>4</th>\n",
       "      <td>1000_380</td>\n",
       "      <td>1000</td>\n",
       "      <td>2018-12-30</td>\n",
       "      <td>4.22</td>\n",
       "    </tr>\n",
       "    <tr>\n",
       "      <th>...</th>\n",
       "      <td>...</td>\n",
       "      <td>...</td>\n",
       "      <td>...</td>\n",
       "      <td>...</td>\n",
       "    </tr>\n",
       "    <tr>\n",
       "      <th>137725</th>\n",
       "      <td>1499_194</td>\n",
       "      <td>1499</td>\n",
       "      <td>2018-10-31</td>\n",
       "      <td>0.00</td>\n",
       "    </tr>\n",
       "    <tr>\n",
       "      <th>137726</th>\n",
       "      <td>1499_195</td>\n",
       "      <td>1499</td>\n",
       "      <td>2018-09-16</td>\n",
       "      <td>1.39</td>\n",
       "    </tr>\n",
       "    <tr>\n",
       "      <th>137727</th>\n",
       "      <td>1499_196</td>\n",
       "      <td>1499</td>\n",
       "      <td>2018-11-22</td>\n",
       "      <td>0.27</td>\n",
       "    </tr>\n",
       "    <tr>\n",
       "      <th>137728</th>\n",
       "      <td>1499_197</td>\n",
       "      <td>1499</td>\n",
       "      <td>2018-12-27</td>\n",
       "      <td>8.36</td>\n",
       "    </tr>\n",
       "    <tr>\n",
       "      <th>137729</th>\n",
       "      <td>1499_198</td>\n",
       "      <td>1499</td>\n",
       "      <td>2018-10-26</td>\n",
       "      <td>6.41</td>\n",
       "    </tr>\n",
       "  </tbody>\n",
       "</table>\n",
       "<p>137730 rows × 4 columns</p>\n",
       "</div>"
      ],
      "text/plain": [
       "              id  user_id   call_date  duration\n",
       "0        1000_93     1000  2018-12-27      8.52\n",
       "1       1000_145     1000  2018-12-27     13.66\n",
       "2       1000_247     1000  2018-12-27     14.48\n",
       "3       1000_309     1000  2018-12-28      5.76\n",
       "4       1000_380     1000  2018-12-30      4.22\n",
       "...          ...      ...         ...       ...\n",
       "137725  1499_194     1499  2018-10-31      0.00\n",
       "137726  1499_195     1499  2018-09-16      1.39\n",
       "137727  1499_196     1499  2018-11-22      0.27\n",
       "137728  1499_197     1499  2018-12-27      8.36\n",
       "137729  1499_198     1499  2018-10-26      6.41\n",
       "\n",
       "[137730 rows x 4 columns]"
      ]
     },
     "execution_count": 14,
     "metadata": {},
     "output_type": "execute_result"
    }
   ],
   "source": [
    "# Print a sample of data for plans\n",
    "df_calls.head(-5)\n"
   ]
  },
  {
   "cell_type": "code",
   "execution_count": 15,
   "metadata": {},
   "outputs": [
    {
     "data": {
      "text/html": [
       "<div>\n",
       "<style scoped>\n",
       "    .dataframe tbody tr th:only-of-type {\n",
       "        vertical-align: middle;\n",
       "    }\n",
       "\n",
       "    .dataframe tbody tr th {\n",
       "        vertical-align: top;\n",
       "    }\n",
       "\n",
       "    .dataframe thead th {\n",
       "        text-align: right;\n",
       "    }\n",
       "</style>\n",
       "<table border=\"1\" class=\"dataframe\">\n",
       "  <thead>\n",
       "    <tr style=\"text-align: right;\">\n",
       "      <th></th>\n",
       "      <th>id</th>\n",
       "      <th>user_id</th>\n",
       "      <th>session_date</th>\n",
       "      <th>mb_used</th>\n",
       "    </tr>\n",
       "  </thead>\n",
       "  <tbody>\n",
       "    <tr>\n",
       "      <th>0</th>\n",
       "      <td>1000_13</td>\n",
       "      <td>1000</td>\n",
       "      <td>2018-12-29</td>\n",
       "      <td>89.86</td>\n",
       "    </tr>\n",
       "    <tr>\n",
       "      <th>1</th>\n",
       "      <td>1000_204</td>\n",
       "      <td>1000</td>\n",
       "      <td>2018-12-31</td>\n",
       "      <td>0.00</td>\n",
       "    </tr>\n",
       "    <tr>\n",
       "      <th>2</th>\n",
       "      <td>1000_379</td>\n",
       "      <td>1000</td>\n",
       "      <td>2018-12-28</td>\n",
       "      <td>660.40</td>\n",
       "    </tr>\n",
       "    <tr>\n",
       "      <th>3</th>\n",
       "      <td>1000_413</td>\n",
       "      <td>1000</td>\n",
       "      <td>2018-12-26</td>\n",
       "      <td>270.99</td>\n",
       "    </tr>\n",
       "    <tr>\n",
       "      <th>4</th>\n",
       "      <td>1000_442</td>\n",
       "      <td>1000</td>\n",
       "      <td>2018-12-27</td>\n",
       "      <td>880.22</td>\n",
       "    </tr>\n",
       "    <tr>\n",
       "      <th>...</th>\n",
       "      <td>...</td>\n",
       "      <td>...</td>\n",
       "      <td>...</td>\n",
       "      <td>...</td>\n",
       "    </tr>\n",
       "    <tr>\n",
       "      <th>104815</th>\n",
       "      <td>1499_210</td>\n",
       "      <td>1499</td>\n",
       "      <td>2018-11-30</td>\n",
       "      <td>191.92</td>\n",
       "    </tr>\n",
       "    <tr>\n",
       "      <th>104816</th>\n",
       "      <td>1499_211</td>\n",
       "      <td>1499</td>\n",
       "      <td>2018-09-26</td>\n",
       "      <td>0.00</td>\n",
       "    </tr>\n",
       "    <tr>\n",
       "      <th>104817</th>\n",
       "      <td>1499_212</td>\n",
       "      <td>1499</td>\n",
       "      <td>2018-09-11</td>\n",
       "      <td>0.00</td>\n",
       "    </tr>\n",
       "    <tr>\n",
       "      <th>104818</th>\n",
       "      <td>1499_213</td>\n",
       "      <td>1499</td>\n",
       "      <td>2018-10-15</td>\n",
       "      <td>430.27</td>\n",
       "    </tr>\n",
       "    <tr>\n",
       "      <th>104819</th>\n",
       "      <td>1499_214</td>\n",
       "      <td>1499</td>\n",
       "      <td>2018-10-18</td>\n",
       "      <td>261.13</td>\n",
       "    </tr>\n",
       "  </tbody>\n",
       "</table>\n",
       "<p>104820 rows × 4 columns</p>\n",
       "</div>"
      ],
      "text/plain": [
       "              id  user_id session_date  mb_used\n",
       "0        1000_13     1000   2018-12-29    89.86\n",
       "1       1000_204     1000   2018-12-31     0.00\n",
       "2       1000_379     1000   2018-12-28   660.40\n",
       "3       1000_413     1000   2018-12-26   270.99\n",
       "4       1000_442     1000   2018-12-27   880.22\n",
       "...          ...      ...          ...      ...\n",
       "104815  1499_210     1499   2018-11-30   191.92\n",
       "104816  1499_211     1499   2018-09-26     0.00\n",
       "104817  1499_212     1499   2018-09-11     0.00\n",
       "104818  1499_213     1499   2018-10-15   430.27\n",
       "104819  1499_214     1499   2018-10-18   261.13\n",
       "\n",
       "[104820 rows x 4 columns]"
      ]
     },
     "execution_count": 15,
     "metadata": {},
     "output_type": "execute_result"
    }
   ],
   "source": [
    "df_internet.head(-5)"
   ]
  },
  {
   "cell_type": "code",
   "execution_count": 16,
   "metadata": {},
   "outputs": [
    {
     "data": {
      "text/html": [
       "<div>\n",
       "<style scoped>\n",
       "    .dataframe tbody tr th:only-of-type {\n",
       "        vertical-align: middle;\n",
       "    }\n",
       "\n",
       "    .dataframe tbody tr th {\n",
       "        vertical-align: top;\n",
       "    }\n",
       "\n",
       "    .dataframe thead th {\n",
       "        text-align: right;\n",
       "    }\n",
       "</style>\n",
       "<table border=\"1\" class=\"dataframe\">\n",
       "  <thead>\n",
       "    <tr style=\"text-align: right;\">\n",
       "      <th></th>\n",
       "      <th>id</th>\n",
       "      <th>user_id</th>\n",
       "      <th>message_date</th>\n",
       "    </tr>\n",
       "  </thead>\n",
       "  <tbody>\n",
       "    <tr>\n",
       "      <th>0</th>\n",
       "      <td>1000_125</td>\n",
       "      <td>1000</td>\n",
       "      <td>2018-12-27</td>\n",
       "    </tr>\n",
       "    <tr>\n",
       "      <th>1</th>\n",
       "      <td>1000_160</td>\n",
       "      <td>1000</td>\n",
       "      <td>2018-12-31</td>\n",
       "    </tr>\n",
       "    <tr>\n",
       "      <th>2</th>\n",
       "      <td>1000_223</td>\n",
       "      <td>1000</td>\n",
       "      <td>2018-12-31</td>\n",
       "    </tr>\n",
       "    <tr>\n",
       "      <th>3</th>\n",
       "      <td>1000_251</td>\n",
       "      <td>1000</td>\n",
       "      <td>2018-12-27</td>\n",
       "    </tr>\n",
       "    <tr>\n",
       "      <th>4</th>\n",
       "      <td>1000_255</td>\n",
       "      <td>1000</td>\n",
       "      <td>2018-12-26</td>\n",
       "    </tr>\n",
       "    <tr>\n",
       "      <th>...</th>\n",
       "      <td>...</td>\n",
       "      <td>...</td>\n",
       "      <td>...</td>\n",
       "    </tr>\n",
       "    <tr>\n",
       "      <th>76041</th>\n",
       "      <td>1497_502</td>\n",
       "      <td>1497</td>\n",
       "      <td>2018-12-30</td>\n",
       "    </tr>\n",
       "    <tr>\n",
       "      <th>76042</th>\n",
       "      <td>1497_503</td>\n",
       "      <td>1497</td>\n",
       "      <td>2018-12-29</td>\n",
       "    </tr>\n",
       "    <tr>\n",
       "      <th>76043</th>\n",
       "      <td>1497_507</td>\n",
       "      <td>1497</td>\n",
       "      <td>2018-12-23</td>\n",
       "    </tr>\n",
       "    <tr>\n",
       "      <th>76044</th>\n",
       "      <td>1497_517</td>\n",
       "      <td>1497</td>\n",
       "      <td>2018-12-17</td>\n",
       "    </tr>\n",
       "    <tr>\n",
       "      <th>76045</th>\n",
       "      <td>1497_524</td>\n",
       "      <td>1497</td>\n",
       "      <td>2018-12-12</td>\n",
       "    </tr>\n",
       "  </tbody>\n",
       "</table>\n",
       "<p>76046 rows × 3 columns</p>\n",
       "</div>"
      ],
      "text/plain": [
       "             id  user_id message_date\n",
       "0      1000_125     1000   2018-12-27\n",
       "1      1000_160     1000   2018-12-31\n",
       "2      1000_223     1000   2018-12-31\n",
       "3      1000_251     1000   2018-12-27\n",
       "4      1000_255     1000   2018-12-26\n",
       "...         ...      ...          ...\n",
       "76041  1497_502     1497   2018-12-30\n",
       "76042  1497_503     1497   2018-12-29\n",
       "76043  1497_507     1497   2018-12-23\n",
       "76044  1497_517     1497   2018-12-17\n",
       "76045  1497_524     1497   2018-12-12\n",
       "\n",
       "[76046 rows x 3 columns]"
      ]
     },
     "execution_count": 16,
     "metadata": {},
     "output_type": "execute_result"
    }
   ],
   "source": [
    "df_messages.head(-5)"
   ]
  },
  {
   "cell_type": "code",
   "execution_count": 17,
   "metadata": {},
   "outputs": [
    {
     "data": {
      "text/html": [
       "<div>\n",
       "<style scoped>\n",
       "    .dataframe tbody tr th:only-of-type {\n",
       "        vertical-align: middle;\n",
       "    }\n",
       "\n",
       "    .dataframe tbody tr th {\n",
       "        vertical-align: top;\n",
       "    }\n",
       "\n",
       "    .dataframe thead th {\n",
       "        text-align: right;\n",
       "    }\n",
       "</style>\n",
       "<table border=\"1\" class=\"dataframe\">\n",
       "  <thead>\n",
       "    <tr style=\"text-align: right;\">\n",
       "      <th></th>\n",
       "      <th>messages_included</th>\n",
       "      <th>mb_per_month_included</th>\n",
       "      <th>minutes_included</th>\n",
       "      <th>usd_monthly_pay</th>\n",
       "      <th>usd_per_gb</th>\n",
       "      <th>usd_per_message</th>\n",
       "      <th>usd_per_minute</th>\n",
       "      <th>plan_name</th>\n",
       "    </tr>\n",
       "  </thead>\n",
       "  <tbody>\n",
       "    <tr>\n",
       "      <th>0</th>\n",
       "      <td>50</td>\n",
       "      <td>15360</td>\n",
       "      <td>500</td>\n",
       "      <td>20</td>\n",
       "      <td>10</td>\n",
       "      <td>0.03</td>\n",
       "      <td>0.03</td>\n",
       "      <td>surf</td>\n",
       "    </tr>\n",
       "    <tr>\n",
       "      <th>1</th>\n",
       "      <td>1000</td>\n",
       "      <td>30720</td>\n",
       "      <td>3000</td>\n",
       "      <td>70</td>\n",
       "      <td>7</td>\n",
       "      <td>0.01</td>\n",
       "      <td>0.01</td>\n",
       "      <td>ultimate</td>\n",
       "    </tr>\n",
       "  </tbody>\n",
       "</table>\n",
       "</div>"
      ],
      "text/plain": [
       "   messages_included  mb_per_month_included  minutes_included  \\\n",
       "0                 50                  15360               500   \n",
       "1               1000                  30720              3000   \n",
       "\n",
       "   usd_monthly_pay  usd_per_gb  usd_per_message  usd_per_minute plan_name  \n",
       "0               20          10             0.03            0.03      surf  \n",
       "1               70           7             0.01            0.01  ultimate  "
      ]
     },
     "execution_count": 17,
     "metadata": {},
     "output_type": "execute_result"
    }
   ],
   "source": [
    "df_plans.head(5)\n"
   ]
  },
  {
   "cell_type": "code",
   "execution_count": 18,
   "metadata": {},
   "outputs": [
    {
     "data": {
      "text/html": [
       "<div>\n",
       "<style scoped>\n",
       "    .dataframe tbody tr th:only-of-type {\n",
       "        vertical-align: middle;\n",
       "    }\n",
       "\n",
       "    .dataframe tbody tr th {\n",
       "        vertical-align: top;\n",
       "    }\n",
       "\n",
       "    .dataframe thead th {\n",
       "        text-align: right;\n",
       "    }\n",
       "</style>\n",
       "<table border=\"1\" class=\"dataframe\">\n",
       "  <thead>\n",
       "    <tr style=\"text-align: right;\">\n",
       "      <th></th>\n",
       "      <th>user_id</th>\n",
       "      <th>first_name</th>\n",
       "      <th>last_name</th>\n",
       "      <th>age</th>\n",
       "      <th>city</th>\n",
       "      <th>reg_date</th>\n",
       "      <th>plan</th>\n",
       "      <th>churn_date</th>\n",
       "    </tr>\n",
       "  </thead>\n",
       "  <tbody>\n",
       "    <tr>\n",
       "      <th>0</th>\n",
       "      <td>1000</td>\n",
       "      <td>Anamaria</td>\n",
       "      <td>Bauer</td>\n",
       "      <td>45</td>\n",
       "      <td>Atlanta-Sandy Springs-Roswell, GA MSA</td>\n",
       "      <td>2018-12-24</td>\n",
       "      <td>ultimate</td>\n",
       "      <td>NaN</td>\n",
       "    </tr>\n",
       "    <tr>\n",
       "      <th>1</th>\n",
       "      <td>1001</td>\n",
       "      <td>Mickey</td>\n",
       "      <td>Wilkerson</td>\n",
       "      <td>28</td>\n",
       "      <td>Seattle-Tacoma-Bellevue, WA MSA</td>\n",
       "      <td>2018-08-13</td>\n",
       "      <td>surf</td>\n",
       "      <td>NaN</td>\n",
       "    </tr>\n",
       "    <tr>\n",
       "      <th>2</th>\n",
       "      <td>1002</td>\n",
       "      <td>Carlee</td>\n",
       "      <td>Hoffman</td>\n",
       "      <td>36</td>\n",
       "      <td>Las Vegas-Henderson-Paradise, NV MSA</td>\n",
       "      <td>2018-10-21</td>\n",
       "      <td>surf</td>\n",
       "      <td>NaN</td>\n",
       "    </tr>\n",
       "    <tr>\n",
       "      <th>3</th>\n",
       "      <td>1003</td>\n",
       "      <td>Reynaldo</td>\n",
       "      <td>Jenkins</td>\n",
       "      <td>52</td>\n",
       "      <td>Tulsa, OK MSA</td>\n",
       "      <td>2018-01-28</td>\n",
       "      <td>surf</td>\n",
       "      <td>NaN</td>\n",
       "    </tr>\n",
       "    <tr>\n",
       "      <th>4</th>\n",
       "      <td>1004</td>\n",
       "      <td>Leonila</td>\n",
       "      <td>Thompson</td>\n",
       "      <td>40</td>\n",
       "      <td>Seattle-Tacoma-Bellevue, WA MSA</td>\n",
       "      <td>2018-05-23</td>\n",
       "      <td>surf</td>\n",
       "      <td>NaN</td>\n",
       "    </tr>\n",
       "    <tr>\n",
       "      <th>...</th>\n",
       "      <td>...</td>\n",
       "      <td>...</td>\n",
       "      <td>...</td>\n",
       "      <td>...</td>\n",
       "      <td>...</td>\n",
       "      <td>...</td>\n",
       "      <td>...</td>\n",
       "      <td>...</td>\n",
       "    </tr>\n",
       "    <tr>\n",
       "      <th>490</th>\n",
       "      <td>1490</td>\n",
       "      <td>Shane</td>\n",
       "      <td>Cortez</td>\n",
       "      <td>42</td>\n",
       "      <td>Sacramento–Roseville–Folsom, CA MSA</td>\n",
       "      <td>2018-01-20</td>\n",
       "      <td>ultimate</td>\n",
       "      <td>NaN</td>\n",
       "    </tr>\n",
       "    <tr>\n",
       "      <th>491</th>\n",
       "      <td>1491</td>\n",
       "      <td>Terina</td>\n",
       "      <td>Jensen</td>\n",
       "      <td>22</td>\n",
       "      <td>Grand Rapids-Kentwood, MI MSA</td>\n",
       "      <td>2018-04-27</td>\n",
       "      <td>surf</td>\n",
       "      <td>2018-09-18</td>\n",
       "    </tr>\n",
       "    <tr>\n",
       "      <th>492</th>\n",
       "      <td>1492</td>\n",
       "      <td>Elvie</td>\n",
       "      <td>Jones</td>\n",
       "      <td>63</td>\n",
       "      <td>Portland-Vancouver-Hillsboro, OR-WA MSA</td>\n",
       "      <td>2018-03-07</td>\n",
       "      <td>surf</td>\n",
       "      <td>NaN</td>\n",
       "    </tr>\n",
       "    <tr>\n",
       "      <th>493</th>\n",
       "      <td>1493</td>\n",
       "      <td>Cicely</td>\n",
       "      <td>Wynn</td>\n",
       "      <td>18</td>\n",
       "      <td>Boston-Cambridge-Newton, MA-NH MSA</td>\n",
       "      <td>2018-03-06</td>\n",
       "      <td>ultimate</td>\n",
       "      <td>NaN</td>\n",
       "    </tr>\n",
       "    <tr>\n",
       "      <th>494</th>\n",
       "      <td>1494</td>\n",
       "      <td>Preston</td>\n",
       "      <td>Downs</td>\n",
       "      <td>70</td>\n",
       "      <td>New York-Newark-Jersey City, NY-NJ-PA MSA</td>\n",
       "      <td>2018-04-19</td>\n",
       "      <td>surf</td>\n",
       "      <td>NaN</td>\n",
       "    </tr>\n",
       "  </tbody>\n",
       "</table>\n",
       "<p>495 rows × 8 columns</p>\n",
       "</div>"
      ],
      "text/plain": [
       "     user_id first_name  last_name  age  \\\n",
       "0       1000   Anamaria      Bauer   45   \n",
       "1       1001     Mickey  Wilkerson   28   \n",
       "2       1002     Carlee    Hoffman   36   \n",
       "3       1003   Reynaldo    Jenkins   52   \n",
       "4       1004    Leonila   Thompson   40   \n",
       "..       ...        ...        ...  ...   \n",
       "490     1490      Shane     Cortez   42   \n",
       "491     1491     Terina     Jensen   22   \n",
       "492     1492      Elvie      Jones   63   \n",
       "493     1493     Cicely       Wynn   18   \n",
       "494     1494    Preston      Downs   70   \n",
       "\n",
       "                                          city    reg_date      plan  \\\n",
       "0        Atlanta-Sandy Springs-Roswell, GA MSA  2018-12-24  ultimate   \n",
       "1              Seattle-Tacoma-Bellevue, WA MSA  2018-08-13      surf   \n",
       "2         Las Vegas-Henderson-Paradise, NV MSA  2018-10-21      surf   \n",
       "3                                Tulsa, OK MSA  2018-01-28      surf   \n",
       "4              Seattle-Tacoma-Bellevue, WA MSA  2018-05-23      surf   \n",
       "..                                         ...         ...       ...   \n",
       "490        Sacramento–Roseville–Folsom, CA MSA  2018-01-20  ultimate   \n",
       "491              Grand Rapids-Kentwood, MI MSA  2018-04-27      surf   \n",
       "492    Portland-Vancouver-Hillsboro, OR-WA MSA  2018-03-07      surf   \n",
       "493         Boston-Cambridge-Newton, MA-NH MSA  2018-03-06  ultimate   \n",
       "494  New York-Newark-Jersey City, NY-NJ-PA MSA  2018-04-19      surf   \n",
       "\n",
       "     churn_date  \n",
       "0           NaN  \n",
       "1           NaN  \n",
       "2           NaN  \n",
       "3           NaN  \n",
       "4           NaN  \n",
       "..          ...  \n",
       "490         NaN  \n",
       "491  2018-09-18  \n",
       "492         NaN  \n",
       "493         NaN  \n",
       "494         NaN  \n",
       "\n",
       "[495 rows x 8 columns]"
      ]
     },
     "execution_count": 18,
     "metadata": {},
     "output_type": "execute_result"
    }
   ],
   "source": [
    "df_users.head(-5)"
   ]
  },
  {
   "cell_type": "code",
   "execution_count": 19,
   "metadata": {},
   "outputs": [
    {
     "name": "stdout",
     "output_type": "stream",
     "text": [
      "calls\n",
      "2018-01-15\n",
      "2018-12-31\n",
      "\n",
      "internet\n",
      "2018-01-15\n",
      "2018-12-31\n",
      "\n",
      "messages\n",
      "2018-01-15\n",
      "2018-12-31\n",
      "\n",
      "users\n",
      "2018-01-01\n",
      "2018-12-31\n",
      "\n"
     ]
    }
   ],
   "source": [
    "# Show the date range of the data\n",
    "print('calls')\n",
    "print(df_calls['call_date'].min())\n",
    "print(df_calls['call_date'].max())\n",
    "print()\n",
    "print('internet')\n",
    "print(df_internet['session_date'].min())\n",
    "print(df_internet['session_date'].max())\n",
    "print()\n",
    "print('messages')\n",
    "print(df_messages['message_date'].min())\n",
    "print(df_messages['message_date'].max())\n",
    "print()\n",
    "print('users')\n",
    "print(df_users['reg_date'].min())\n",
    "print(df_users['reg_date'].max())\n",
    "print()\n",
    "#print(df_users['churn_date'].min())\n",
    "#print(df_users['churn_date'].max())"
   ]
  },
  {
   "cell_type": "markdown",
   "metadata": {},
   "source": [
    "Note the 466 missing values in the 'churn_date' column <br>\n",
    "Note date is not data type - we will convert to datetime"
   ]
  },
  {
   "cell_type": "markdown",
   "metadata": {},
   "source": [
    "### Description of the data <br>\n",
    "Megaline rounds seconds up to minutes, and megabytes to gigabytes. <br>\n",
    "For calls, each individual call is rounded up: even if the call lasted just one second, <br>\n",
    "it will be counted as one minute. For web traffic, individual web sessions are not rounded up. <br>\n",
    "Instead, the total for the month is rounded up. <br>\n",
    "If someone uses 1025 megabytes this month, they will be charged for 2 gigabytes. <br>\n",
    "<br>\n",
    "### The users table (data on users):\n",
    "* user_id — unique user identifier\n",
    "* first_name — user's name\n",
    "* last_name — user's last name\n",
    "* age — user's age (years)\n",
    "* reg_date — subscription date (dd, mm, yy)\n",
    "* churn_date — the date the user stopped using the service (if the value is missing, the calling plan was being used when this database was extracted)\n",
    "* city — user's city of residence\n",
    "* plan — calling plan name\n",
    "The calls table (data on calls):\n",
    "* id — unique call identifier\n",
    "* call_date — call date\n",
    "* duration — call duration (in minutes)\n",
    "* user_id — the identifier of the user making the call\n",
    "### The messages table (data on texts):\n",
    "* id — unique text message identifier\n",
    "* message_date — text message date\n",
    "* user_id — the identifier of the user sending the text\n",
    "* The internet table (data on web sessions):\n",
    "* id — unique session identifier\n",
    "### mb_used — the volume of data spent during the session (in megabytes)\n",
    "* session_date — web session date\n",
    "* user_id — user identifier\n",
    "### The plans table (data on the plans):\n",
    "* plan_name — calling plan name\n",
    "* usd_monthly_fee — monthly charge in US dollars\n",
    "* minutes_included — monthly minute allowance\n",
    "* messages_included — monthly text allowance\n",
    "* mb_per_month_included — data volume allowance (in megabytes)\n",
    "usd_per_minute — price per minute after exceeding the package limits (e.g., if the package includes 100 minutes, the 101st minute will be charged)\n",
    "* usd_per_message — price per text after exceeding the package limits\n",
    "* usd_per_gb — price per extra gigabyte of data after exceeding the package limits (1 GB = 1024 megabytes) "
   ]
  },
  {
   "cell_type": "markdown",
   "metadata": {},
   "source": [
    "<div class=\"alert alert-success,\" div style=\"border:solid green 2px; padding: 20px>\">\n",
    "<b>Reviewer's comment v1:</b>\n",
    "    \n",
    "Good start and first view on data! "
   ]
  },
  {
   "cell_type": "markdown",
   "metadata": {},
   "source": [
    "## Fix data"
   ]
  },
  {
   "cell_type": "code",
   "execution_count": 20,
   "metadata": {},
   "outputs": [
    {
     "data": {
      "text/plain": [
       "0"
      ]
     },
     "execution_count": 20,
     "metadata": {},
     "output_type": "execute_result"
    }
   ],
   "source": [
    "# Check for duplicates\n",
    "df_calls.duplicated().sum()\n",
    "df_internet.duplicated().sum()\n",
    "df_messages.duplicated().sum()\n",
    "df_plans.duplicated().sum()\n",
    "df_users.duplicated().sum()"
   ]
  },
  {
   "cell_type": "code",
   "execution_count": 21,
   "metadata": {},
   "outputs": [
    {
     "data": {
      "text/plain": [
       "user_id         0\n",
       "first_name      0\n",
       "last_name       0\n",
       "age             0\n",
       "city            0\n",
       "reg_date        0\n",
       "plan            0\n",
       "churn_date    466\n",
       "dtype: int64"
      ]
     },
     "execution_count": 21,
     "metadata": {},
     "output_type": "execute_result"
    }
   ],
   "source": [
    "# Check for missing values\n",
    "df_calls.isnull().sum()\n",
    "df_internet.isnull().sum()\n",
    "df_messages.isnull().sum()\n",
    "df_plans.isnull().sum()\n",
    "df_users.isnull().sum()"
   ]
  },
  {
   "cell_type": "code",
   "execution_count": 22,
   "metadata": {},
   "outputs": [],
   "source": [
    "# Write a function to convert the date to a datetime object\n",
    "def convert_date(df, column):\n",
    "    df[column] = pd.to_datetime(df[column], format='%Y-%m-%d')\n",
    "    return df\n",
    "\n",
    "\n"
   ]
  },
  {
   "cell_type": "code",
   "execution_count": 23,
   "metadata": {},
   "outputs": [],
   "source": [
    "# Convert the date column to datetime\n",
    "df_calls['call_date'] = pd.to_datetime(df_calls['call_date'], format='%Y-%m-%d')\n",
    "df_internet['session_date'] = pd.to_datetime(df_internet['session_date'], format='%Y-%m-%d')\n",
    "df_messages['message_date'] = pd.to_datetime(df_messages['message_date'], format='%Y-%m-%d')\n",
    "df_users['reg_date'] = pd.to_datetime(df_users['reg_date'], format='%Y-%m-%d')\n",
    "df_users['churn_date'] = pd.to_datetime(df_users['churn_date'], format='%Y-%m-%d')"
   ]
  },
  {
   "cell_type": "code",
   "execution_count": 24,
   "metadata": {},
   "outputs": [
    {
     "name": "stdout",
     "output_type": "stream",
     "text": [
      "<class 'pandas.core.frame.DataFrame'>\n",
      "RangeIndex: 500 entries, 0 to 499\n",
      "Data columns (total 8 columns):\n",
      " #   Column      Non-Null Count  Dtype         \n",
      "---  ------      --------------  -----         \n",
      " 0   user_id     500 non-null    int64         \n",
      " 1   first_name  500 non-null    object        \n",
      " 2   last_name   500 non-null    object        \n",
      " 3   age         500 non-null    int64         \n",
      " 4   city        500 non-null    object        \n",
      " 5   reg_date    500 non-null    datetime64[ns]\n",
      " 6   plan        500 non-null    object        \n",
      " 7   churn_date  34 non-null     datetime64[ns]\n",
      "dtypes: datetime64[ns](2), int64(2), object(4)\n",
      "memory usage: 31.4+ KB\n"
     ]
    }
   ],
   "source": [
    "# Check the data types\n",
    "df_users.info()"
   ]
  },
  {
   "cell_type": "markdown",
   "metadata": {},
   "source": [
    "## Enrich data"
   ]
  },
  {
   "cell_type": "code",
   "execution_count": 25,
   "metadata": {},
   "outputs": [],
   "source": [
    "# Copy Churn Date to a new column - churn_date_2018\n",
    "df_users['churn_date_2018'] = df_users['churn_date']\n",
    "\n",
    "# Convert the date column to datetime\n",
    "# df_users['churn_date_2018'] = pd.to_datetime(df_users['churn_date_2018'], format='%Y-%m-%d')"
   ]
  },
  {
   "cell_type": "code",
   "execution_count": 26,
   "metadata": {},
   "outputs": [
    {
     "name": "stdout",
     "output_type": "stream",
     "text": [
      "<class 'pandas.core.frame.DataFrame'>\n",
      "RangeIndex: 500 entries, 0 to 499\n",
      "Data columns (total 9 columns):\n",
      " #   Column           Non-Null Count  Dtype         \n",
      "---  ------           --------------  -----         \n",
      " 0   user_id          500 non-null    int64         \n",
      " 1   first_name       500 non-null    object        \n",
      " 2   last_name        500 non-null    object        \n",
      " 3   age              500 non-null    int64         \n",
      " 4   city             500 non-null    object        \n",
      " 5   reg_date         500 non-null    datetime64[ns]\n",
      " 6   plan             500 non-null    object        \n",
      " 7   churn_date       34 non-null     datetime64[ns]\n",
      " 8   churn_date_2018  34 non-null     datetime64[ns]\n",
      "dtypes: datetime64[ns](3), int64(2), object(4)\n",
      "memory usage: 35.3+ KB\n"
     ]
    },
    {
     "data": {
      "text/html": [
       "<div>\n",
       "<style scoped>\n",
       "    .dataframe tbody tr th:only-of-type {\n",
       "        vertical-align: middle;\n",
       "    }\n",
       "\n",
       "    .dataframe tbody tr th {\n",
       "        vertical-align: top;\n",
       "    }\n",
       "\n",
       "    .dataframe thead th {\n",
       "        text-align: right;\n",
       "    }\n",
       "</style>\n",
       "<table border=\"1\" class=\"dataframe\">\n",
       "  <thead>\n",
       "    <tr style=\"text-align: right;\">\n",
       "      <th></th>\n",
       "      <th>user_id</th>\n",
       "      <th>first_name</th>\n",
       "      <th>last_name</th>\n",
       "      <th>age</th>\n",
       "      <th>city</th>\n",
       "      <th>reg_date</th>\n",
       "      <th>plan</th>\n",
       "      <th>churn_date</th>\n",
       "      <th>churn_date_2018</th>\n",
       "    </tr>\n",
       "  </thead>\n",
       "  <tbody>\n",
       "    <tr>\n",
       "      <th>0</th>\n",
       "      <td>1000</td>\n",
       "      <td>Anamaria</td>\n",
       "      <td>Bauer</td>\n",
       "      <td>45</td>\n",
       "      <td>Atlanta-Sandy Springs-Roswell, GA MSA</td>\n",
       "      <td>2018-12-24</td>\n",
       "      <td>ultimate</td>\n",
       "      <td>NaT</td>\n",
       "      <td>NaT</td>\n",
       "    </tr>\n",
       "    <tr>\n",
       "      <th>1</th>\n",
       "      <td>1001</td>\n",
       "      <td>Mickey</td>\n",
       "      <td>Wilkerson</td>\n",
       "      <td>28</td>\n",
       "      <td>Seattle-Tacoma-Bellevue, WA MSA</td>\n",
       "      <td>2018-08-13</td>\n",
       "      <td>surf</td>\n",
       "      <td>NaT</td>\n",
       "      <td>NaT</td>\n",
       "    </tr>\n",
       "    <tr>\n",
       "      <th>2</th>\n",
       "      <td>1002</td>\n",
       "      <td>Carlee</td>\n",
       "      <td>Hoffman</td>\n",
       "      <td>36</td>\n",
       "      <td>Las Vegas-Henderson-Paradise, NV MSA</td>\n",
       "      <td>2018-10-21</td>\n",
       "      <td>surf</td>\n",
       "      <td>NaT</td>\n",
       "      <td>NaT</td>\n",
       "    </tr>\n",
       "    <tr>\n",
       "      <th>3</th>\n",
       "      <td>1003</td>\n",
       "      <td>Reynaldo</td>\n",
       "      <td>Jenkins</td>\n",
       "      <td>52</td>\n",
       "      <td>Tulsa, OK MSA</td>\n",
       "      <td>2018-01-28</td>\n",
       "      <td>surf</td>\n",
       "      <td>NaT</td>\n",
       "      <td>NaT</td>\n",
       "    </tr>\n",
       "    <tr>\n",
       "      <th>4</th>\n",
       "      <td>1004</td>\n",
       "      <td>Leonila</td>\n",
       "      <td>Thompson</td>\n",
       "      <td>40</td>\n",
       "      <td>Seattle-Tacoma-Bellevue, WA MSA</td>\n",
       "      <td>2018-05-23</td>\n",
       "      <td>surf</td>\n",
       "      <td>NaT</td>\n",
       "      <td>NaT</td>\n",
       "    </tr>\n",
       "    <tr>\n",
       "      <th>...</th>\n",
       "      <td>...</td>\n",
       "      <td>...</td>\n",
       "      <td>...</td>\n",
       "      <td>...</td>\n",
       "      <td>...</td>\n",
       "      <td>...</td>\n",
       "      <td>...</td>\n",
       "      <td>...</td>\n",
       "      <td>...</td>\n",
       "    </tr>\n",
       "    <tr>\n",
       "      <th>490</th>\n",
       "      <td>1490</td>\n",
       "      <td>Shane</td>\n",
       "      <td>Cortez</td>\n",
       "      <td>42</td>\n",
       "      <td>Sacramento–Roseville–Folsom, CA MSA</td>\n",
       "      <td>2018-01-20</td>\n",
       "      <td>ultimate</td>\n",
       "      <td>NaT</td>\n",
       "      <td>NaT</td>\n",
       "    </tr>\n",
       "    <tr>\n",
       "      <th>491</th>\n",
       "      <td>1491</td>\n",
       "      <td>Terina</td>\n",
       "      <td>Jensen</td>\n",
       "      <td>22</td>\n",
       "      <td>Grand Rapids-Kentwood, MI MSA</td>\n",
       "      <td>2018-04-27</td>\n",
       "      <td>surf</td>\n",
       "      <td>2018-09-18</td>\n",
       "      <td>2018-09-18</td>\n",
       "    </tr>\n",
       "    <tr>\n",
       "      <th>492</th>\n",
       "      <td>1492</td>\n",
       "      <td>Elvie</td>\n",
       "      <td>Jones</td>\n",
       "      <td>63</td>\n",
       "      <td>Portland-Vancouver-Hillsboro, OR-WA MSA</td>\n",
       "      <td>2018-03-07</td>\n",
       "      <td>surf</td>\n",
       "      <td>NaT</td>\n",
       "      <td>NaT</td>\n",
       "    </tr>\n",
       "    <tr>\n",
       "      <th>493</th>\n",
       "      <td>1493</td>\n",
       "      <td>Cicely</td>\n",
       "      <td>Wynn</td>\n",
       "      <td>18</td>\n",
       "      <td>Boston-Cambridge-Newton, MA-NH MSA</td>\n",
       "      <td>2018-03-06</td>\n",
       "      <td>ultimate</td>\n",
       "      <td>NaT</td>\n",
       "      <td>NaT</td>\n",
       "    </tr>\n",
       "    <tr>\n",
       "      <th>494</th>\n",
       "      <td>1494</td>\n",
       "      <td>Preston</td>\n",
       "      <td>Downs</td>\n",
       "      <td>70</td>\n",
       "      <td>New York-Newark-Jersey City, NY-NJ-PA MSA</td>\n",
       "      <td>2018-04-19</td>\n",
       "      <td>surf</td>\n",
       "      <td>NaT</td>\n",
       "      <td>NaT</td>\n",
       "    </tr>\n",
       "  </tbody>\n",
       "</table>\n",
       "<p>495 rows × 9 columns</p>\n",
       "</div>"
      ],
      "text/plain": [
       "     user_id first_name  last_name  age  \\\n",
       "0       1000   Anamaria      Bauer   45   \n",
       "1       1001     Mickey  Wilkerson   28   \n",
       "2       1002     Carlee    Hoffman   36   \n",
       "3       1003   Reynaldo    Jenkins   52   \n",
       "4       1004    Leonila   Thompson   40   \n",
       "..       ...        ...        ...  ...   \n",
       "490     1490      Shane     Cortez   42   \n",
       "491     1491     Terina     Jensen   22   \n",
       "492     1492      Elvie      Jones   63   \n",
       "493     1493     Cicely       Wynn   18   \n",
       "494     1494    Preston      Downs   70   \n",
       "\n",
       "                                          city   reg_date      plan  \\\n",
       "0        Atlanta-Sandy Springs-Roswell, GA MSA 2018-12-24  ultimate   \n",
       "1              Seattle-Tacoma-Bellevue, WA MSA 2018-08-13      surf   \n",
       "2         Las Vegas-Henderson-Paradise, NV MSA 2018-10-21      surf   \n",
       "3                                Tulsa, OK MSA 2018-01-28      surf   \n",
       "4              Seattle-Tacoma-Bellevue, WA MSA 2018-05-23      surf   \n",
       "..                                         ...        ...       ...   \n",
       "490        Sacramento–Roseville–Folsom, CA MSA 2018-01-20  ultimate   \n",
       "491              Grand Rapids-Kentwood, MI MSA 2018-04-27      surf   \n",
       "492    Portland-Vancouver-Hillsboro, OR-WA MSA 2018-03-07      surf   \n",
       "493         Boston-Cambridge-Newton, MA-NH MSA 2018-03-06  ultimate   \n",
       "494  New York-Newark-Jersey City, NY-NJ-PA MSA 2018-04-19      surf   \n",
       "\n",
       "    churn_date churn_date_2018  \n",
       "0          NaT             NaT  \n",
       "1          NaT             NaT  \n",
       "2          NaT             NaT  \n",
       "3          NaT             NaT  \n",
       "4          NaT             NaT  \n",
       "..         ...             ...  \n",
       "490        NaT             NaT  \n",
       "491 2018-09-18      2018-09-18  \n",
       "492        NaT             NaT  \n",
       "493        NaT             NaT  \n",
       "494        NaT             NaT  \n",
       "\n",
       "[495 rows x 9 columns]"
      ]
     },
     "execution_count": 26,
     "metadata": {},
     "output_type": "execute_result"
    }
   ],
   "source": [
    "# Check the data types\n",
    "df_users.info()\n",
    "\n",
    "# Print a sample of data for users\n",
    "df_users.head(-5)"
   ]
  },
  {
   "cell_type": "code",
   "execution_count": 27,
   "metadata": {},
   "outputs": [],
   "source": [
    "# What shall we do with the 466 missing values in the 'churn_date' column?\n",
    "\n",
    "# The churn_date column is the date when the user stopped using the service (if the value is missing, the calling plan was being used when this data was retrieved)\n",
    "\n",
    "# Let's assume that the user is still using the service and the date when the data was retrieved, 31 Dec 2018, is the date when the user stopped using the service. We'll make these edits in the churn_date_2018 column so we don't adversly affect the original data, or our ability to add 2019+ data to the dataset.\n",
    "\n",
    "# We will replace the missing values with the date 31 Dec 2018 in the ['churn_date_2018'] column\n",
    "df_users['churn_date_2018'] = df_users['churn_date_2018'].fillna('2018-12-31')\n",
    "df_users['churn_date_2018'] = pd.to_datetime(df_users['churn_date_2018'], format='%Y-%m-%d')\n",
    "# df_users.info()\n",
    "\n",
    "# Print a sample of data for users\n",
    "# df_users.head(-5)\n"
   ]
  },
  {
   "cell_type": "markdown",
   "metadata": {},
   "source": [
    "<div class=\"alert alert-warning\", div style=\"border:solid yellow 2px; padding: 20px\">>\n",
    "<b>Reviewer's comment v1:</b>\n",
    "    \n",
    "Here, I would advise leaving the gaps with active clients as is, or replace them with 0/1, or put the date in the distant future. Otherwise, if we add data for 2019, then there will be confusion."
   ]
  },
  {
   "cell_type": "markdown",
   "metadata": {},
   "source": [
    "<div style=\"border:solid blue 2px; padding: 20px\"> \n",
    "<div class=\"alert alert-info\"> <b>Thanks</b> I see the problem with my approach here. Later in this code I use the churn date in the \"def monthly_plan_fee(row): \" function, which calculates the total revenue for each user. A better approach would be to def a function that calculates the revenue per user per month and sum the totel. <br>\n",
    "<br>\n",
    "Solution: I updated the churn_date function to run in a new column, churn_date_2018, so if we add 2019+ data later, we can easily correct course </div>  "
   ]
  },
  {
   "cell_type": "markdown",
   "metadata": {},
   "source": [
    "<div class=\"alert alert-block alert-success\">\n",
    "<b>Reviewer's comment v2</b>\n",
    " \n",
    "🙌"
   ]
  },
  {
   "cell_type": "markdown",
   "metadata": {},
   "source": [
    "## Users"
   ]
  },
  {
   "cell_type": "code",
   "execution_count": 28,
   "metadata": {},
   "outputs": [
    {
     "name": "stdout",
     "output_type": "stream",
     "text": [
      "<class 'pandas.core.frame.DataFrame'>\n",
      "RangeIndex: 500 entries, 0 to 499\n",
      "Data columns (total 9 columns):\n",
      " #   Column           Non-Null Count  Dtype         \n",
      "---  ------           --------------  -----         \n",
      " 0   user_id          500 non-null    int64         \n",
      " 1   first_name       500 non-null    object        \n",
      " 2   last_name        500 non-null    object        \n",
      " 3   age              500 non-null    int64         \n",
      " 4   city             500 non-null    object        \n",
      " 5   reg_date         500 non-null    datetime64[ns]\n",
      " 6   plan             500 non-null    object        \n",
      " 7   churn_date       34 non-null     datetime64[ns]\n",
      " 8   churn_date_2018  500 non-null    datetime64[ns]\n",
      "dtypes: datetime64[ns](3), int64(2), object(4)\n",
      "memory usage: 35.3+ KB\n"
     ]
    }
   ],
   "source": [
    "# Print the general/summary information about the users' DataFrame\n",
    "df_users.info()\n"
   ]
  },
  {
   "cell_type": "code",
   "execution_count": 29,
   "metadata": {},
   "outputs": [
    {
     "data": {
      "text/html": [
       "<div>\n",
       "<style scoped>\n",
       "    .dataframe tbody tr th:only-of-type {\n",
       "        vertical-align: middle;\n",
       "    }\n",
       "\n",
       "    .dataframe tbody tr th {\n",
       "        vertical-align: top;\n",
       "    }\n",
       "\n",
       "    .dataframe thead th {\n",
       "        text-align: right;\n",
       "    }\n",
       "</style>\n",
       "<table border=\"1\" class=\"dataframe\">\n",
       "  <thead>\n",
       "    <tr style=\"text-align: right;\">\n",
       "      <th></th>\n",
       "      <th>user_id</th>\n",
       "      <th>first_name</th>\n",
       "      <th>last_name</th>\n",
       "      <th>age</th>\n",
       "      <th>city</th>\n",
       "      <th>reg_date</th>\n",
       "      <th>plan</th>\n",
       "      <th>churn_date</th>\n",
       "      <th>churn_date_2018</th>\n",
       "    </tr>\n",
       "  </thead>\n",
       "  <tbody>\n",
       "    <tr>\n",
       "      <th>0</th>\n",
       "      <td>1000</td>\n",
       "      <td>Anamaria</td>\n",
       "      <td>Bauer</td>\n",
       "      <td>45</td>\n",
       "      <td>Atlanta-Sandy Springs-Roswell, GA MSA</td>\n",
       "      <td>2018-12-24</td>\n",
       "      <td>ultimate</td>\n",
       "      <td>NaT</td>\n",
       "      <td>2018-12-31</td>\n",
       "    </tr>\n",
       "    <tr>\n",
       "      <th>1</th>\n",
       "      <td>1001</td>\n",
       "      <td>Mickey</td>\n",
       "      <td>Wilkerson</td>\n",
       "      <td>28</td>\n",
       "      <td>Seattle-Tacoma-Bellevue, WA MSA</td>\n",
       "      <td>2018-08-13</td>\n",
       "      <td>surf</td>\n",
       "      <td>NaT</td>\n",
       "      <td>2018-12-31</td>\n",
       "    </tr>\n",
       "    <tr>\n",
       "      <th>2</th>\n",
       "      <td>1002</td>\n",
       "      <td>Carlee</td>\n",
       "      <td>Hoffman</td>\n",
       "      <td>36</td>\n",
       "      <td>Las Vegas-Henderson-Paradise, NV MSA</td>\n",
       "      <td>2018-10-21</td>\n",
       "      <td>surf</td>\n",
       "      <td>NaT</td>\n",
       "      <td>2018-12-31</td>\n",
       "    </tr>\n",
       "    <tr>\n",
       "      <th>3</th>\n",
       "      <td>1003</td>\n",
       "      <td>Reynaldo</td>\n",
       "      <td>Jenkins</td>\n",
       "      <td>52</td>\n",
       "      <td>Tulsa, OK MSA</td>\n",
       "      <td>2018-01-28</td>\n",
       "      <td>surf</td>\n",
       "      <td>NaT</td>\n",
       "      <td>2018-12-31</td>\n",
       "    </tr>\n",
       "    <tr>\n",
       "      <th>4</th>\n",
       "      <td>1004</td>\n",
       "      <td>Leonila</td>\n",
       "      <td>Thompson</td>\n",
       "      <td>40</td>\n",
       "      <td>Seattle-Tacoma-Bellevue, WA MSA</td>\n",
       "      <td>2018-05-23</td>\n",
       "      <td>surf</td>\n",
       "      <td>NaT</td>\n",
       "      <td>2018-12-31</td>\n",
       "    </tr>\n",
       "    <tr>\n",
       "      <th>...</th>\n",
       "      <td>...</td>\n",
       "      <td>...</td>\n",
       "      <td>...</td>\n",
       "      <td>...</td>\n",
       "      <td>...</td>\n",
       "      <td>...</td>\n",
       "      <td>...</td>\n",
       "      <td>...</td>\n",
       "      <td>...</td>\n",
       "    </tr>\n",
       "    <tr>\n",
       "      <th>490</th>\n",
       "      <td>1490</td>\n",
       "      <td>Shane</td>\n",
       "      <td>Cortez</td>\n",
       "      <td>42</td>\n",
       "      <td>Sacramento–Roseville–Folsom, CA MSA</td>\n",
       "      <td>2018-01-20</td>\n",
       "      <td>ultimate</td>\n",
       "      <td>NaT</td>\n",
       "      <td>2018-12-31</td>\n",
       "    </tr>\n",
       "    <tr>\n",
       "      <th>491</th>\n",
       "      <td>1491</td>\n",
       "      <td>Terina</td>\n",
       "      <td>Jensen</td>\n",
       "      <td>22</td>\n",
       "      <td>Grand Rapids-Kentwood, MI MSA</td>\n",
       "      <td>2018-04-27</td>\n",
       "      <td>surf</td>\n",
       "      <td>2018-09-18</td>\n",
       "      <td>2018-09-18</td>\n",
       "    </tr>\n",
       "    <tr>\n",
       "      <th>492</th>\n",
       "      <td>1492</td>\n",
       "      <td>Elvie</td>\n",
       "      <td>Jones</td>\n",
       "      <td>63</td>\n",
       "      <td>Portland-Vancouver-Hillsboro, OR-WA MSA</td>\n",
       "      <td>2018-03-07</td>\n",
       "      <td>surf</td>\n",
       "      <td>NaT</td>\n",
       "      <td>2018-12-31</td>\n",
       "    </tr>\n",
       "    <tr>\n",
       "      <th>493</th>\n",
       "      <td>1493</td>\n",
       "      <td>Cicely</td>\n",
       "      <td>Wynn</td>\n",
       "      <td>18</td>\n",
       "      <td>Boston-Cambridge-Newton, MA-NH MSA</td>\n",
       "      <td>2018-03-06</td>\n",
       "      <td>ultimate</td>\n",
       "      <td>NaT</td>\n",
       "      <td>2018-12-31</td>\n",
       "    </tr>\n",
       "    <tr>\n",
       "      <th>494</th>\n",
       "      <td>1494</td>\n",
       "      <td>Preston</td>\n",
       "      <td>Downs</td>\n",
       "      <td>70</td>\n",
       "      <td>New York-Newark-Jersey City, NY-NJ-PA MSA</td>\n",
       "      <td>2018-04-19</td>\n",
       "      <td>surf</td>\n",
       "      <td>NaT</td>\n",
       "      <td>2018-12-31</td>\n",
       "    </tr>\n",
       "  </tbody>\n",
       "</table>\n",
       "<p>495 rows × 9 columns</p>\n",
       "</div>"
      ],
      "text/plain": [
       "     user_id first_name  last_name  age  \\\n",
       "0       1000   Anamaria      Bauer   45   \n",
       "1       1001     Mickey  Wilkerson   28   \n",
       "2       1002     Carlee    Hoffman   36   \n",
       "3       1003   Reynaldo    Jenkins   52   \n",
       "4       1004    Leonila   Thompson   40   \n",
       "..       ...        ...        ...  ...   \n",
       "490     1490      Shane     Cortez   42   \n",
       "491     1491     Terina     Jensen   22   \n",
       "492     1492      Elvie      Jones   63   \n",
       "493     1493     Cicely       Wynn   18   \n",
       "494     1494    Preston      Downs   70   \n",
       "\n",
       "                                          city   reg_date      plan  \\\n",
       "0        Atlanta-Sandy Springs-Roswell, GA MSA 2018-12-24  ultimate   \n",
       "1              Seattle-Tacoma-Bellevue, WA MSA 2018-08-13      surf   \n",
       "2         Las Vegas-Henderson-Paradise, NV MSA 2018-10-21      surf   \n",
       "3                                Tulsa, OK MSA 2018-01-28      surf   \n",
       "4              Seattle-Tacoma-Bellevue, WA MSA 2018-05-23      surf   \n",
       "..                                         ...        ...       ...   \n",
       "490        Sacramento–Roseville–Folsom, CA MSA 2018-01-20  ultimate   \n",
       "491              Grand Rapids-Kentwood, MI MSA 2018-04-27      surf   \n",
       "492    Portland-Vancouver-Hillsboro, OR-WA MSA 2018-03-07      surf   \n",
       "493         Boston-Cambridge-Newton, MA-NH MSA 2018-03-06  ultimate   \n",
       "494  New York-Newark-Jersey City, NY-NJ-PA MSA 2018-04-19      surf   \n",
       "\n",
       "    churn_date churn_date_2018  \n",
       "0          NaT      2018-12-31  \n",
       "1          NaT      2018-12-31  \n",
       "2          NaT      2018-12-31  \n",
       "3          NaT      2018-12-31  \n",
       "4          NaT      2018-12-31  \n",
       "..         ...             ...  \n",
       "490        NaT      2018-12-31  \n",
       "491 2018-09-18      2018-09-18  \n",
       "492        NaT      2018-12-31  \n",
       "493        NaT      2018-12-31  \n",
       "494        NaT      2018-12-31  \n",
       "\n",
       "[495 rows x 9 columns]"
      ]
     },
     "execution_count": 29,
     "metadata": {},
     "output_type": "execute_result"
    }
   ],
   "source": [
    "# Print a sample of data for users\n",
    "df_users.head(-5)\n"
   ]
  },
  {
   "cell_type": "markdown",
   "metadata": {},
   "source": [
    "### Fix and Enrich Data"
   ]
  },
  {
   "cell_type": "markdown",
   "metadata": {},
   "source": [
    "We can enhance the data by calulating how long users have been customers, and then calculate their monthy fee. <br>"
   ]
  },
  {
   "cell_type": "code",
   "execution_count": 30,
   "metadata": {},
   "outputs": [
    {
     "data": {
      "text/plain": [
       "user_id                     int64\n",
       "first_name                 object\n",
       "last_name                  object\n",
       "age                         int64\n",
       "city                       object\n",
       "reg_date           datetime64[ns]\n",
       "plan                       object\n",
       "churn_date         datetime64[ns]\n",
       "churn_date_2018    datetime64[ns]\n",
       "dtype: object"
      ]
     },
     "execution_count": 30,
     "metadata": {},
     "output_type": "execute_result"
    }
   ],
   "source": [
    "df_users.dtypes\n"
   ]
  },
  {
   "cell_type": "code",
   "execution_count": 31,
   "metadata": {},
   "outputs": [
    {
     "name": "stdout",
     "output_type": "stream",
     "text": [
      "<class 'pandas.core.frame.DataFrame'>\n",
      "RangeIndex: 500 entries, 0 to 499\n",
      "Data columns (total 9 columns):\n",
      " #   Column           Non-Null Count  Dtype         \n",
      "---  ------           --------------  -----         \n",
      " 0   user_id          500 non-null    int64         \n",
      " 1   first_name       500 non-null    object        \n",
      " 2   last_name        500 non-null    object        \n",
      " 3   age              500 non-null    int64         \n",
      " 4   city             500 non-null    object        \n",
      " 5   reg_date         500 non-null    datetime64[ns]\n",
      " 6   plan             500 non-null    object        \n",
      " 7   churn_date       34 non-null     datetime64[ns]\n",
      " 8   churn_date_2018  500 non-null    datetime64[ns]\n",
      "dtypes: datetime64[ns](3), int64(2), object(4)\n",
      "memory usage: 35.3+ KB\n"
     ]
    }
   ],
   "source": [
    "df_users.info()"
   ]
  },
  {
   "cell_type": "code",
   "execution_count": 32,
   "metadata": {},
   "outputs": [],
   "source": [
    "# Def a funtion to calculate the monthly plan fee for each user\n",
    "# It needs to first determine the number of months the user was a customer\n",
    "# Which plan the user was enrolled on\n",
    "# The monthly fee for the plan\n",
    "\n",
    "def monthly_plan_fee(row):\n",
    "    # Calculate the number of months the user was a customer\n",
    "    # If the user churned, the number of months will be the number of months between the registration date and the churn date\n",
    "    # If the user did not churn, the number of months will be the number of months between the registration date and the date the data was retrieved\n",
    "    # If the user registered in the middle of the month, we will round up the number of months to the next whole number\n",
    "    if row['churn_date_2018'] > row['reg_date']:\n",
    "        months = (row['churn_date_2018'] - row['reg_date']).days / 30\n",
    "        if months % 1 > 0:\n",
    "            months = math.ceil(months)\n",
    "    else:\n",
    "        months = (pd.to_datetime('2018-12-31') - row['reg_date']).days / 30\n",
    "        if months % 1 > 0:\n",
    "            months = math.ceil(months)\n",
    "    # Determine the plan the user was enrolled on\n",
    "    if row['plan'] == 'surf':\n",
    "        plan_fee = 20\n",
    "    elif row['plan'] == 'ultimate':\n",
    "        plan_fee = 70\n",
    "    # Calculate the monthly plan fee\n",
    "    monthly_plan_fee = plan_fee * months\n",
    "    return monthly_plan_fee\n",
    "\n"
   ]
  },
  {
   "cell_type": "code",
   "execution_count": 33,
   "metadata": {},
   "outputs": [],
   "source": [
    "# Apply the monthly_plan_fee function to the users DataFrame\n",
    "df_users['monthly_plan_fee_total'] = df_users.apply(monthly_plan_fee, axis=1)"
   ]
  },
  {
   "cell_type": "code",
   "execution_count": 34,
   "metadata": {},
   "outputs": [],
   "source": [
    "#  move the reg_date column to the left of the churn_date column In the df_users dataframe\n",
    "\n",
    "# Create a list of the columns in the order we want\n",
    "cols = list(df_users.columns.values)\n",
    "# Move the column reg_date to the left of the column churn_date\n",
    "cols.insert(6, cols.pop(cols.index('reg_date')))\n",
    "# Reassign the columns in the DataFrame\n",
    "df_users = df_users.loc[:, cols]\n",
    "\n",
    "# Print a sample of data for users\n",
    "# df_users.head(-5)"
   ]
  },
  {
   "cell_type": "code",
   "execution_count": 35,
   "metadata": {},
   "outputs": [
    {
     "data": {
      "text/plain": [
       "466"
      ]
     },
     "execution_count": 35,
     "metadata": {},
     "output_type": "execute_result"
    }
   ],
   "source": [
    "# check for null in churn_date\n",
    "df_users['churn_date'].isnull().sum()"
   ]
  },
  {
   "cell_type": "markdown",
   "metadata": {},
   "source": [
    "## Calls"
   ]
  },
  {
   "cell_type": "code",
   "execution_count": 36,
   "metadata": {},
   "outputs": [
    {
     "name": "stdout",
     "output_type": "stream",
     "text": [
      "<class 'pandas.core.frame.DataFrame'>\n",
      "RangeIndex: 137735 entries, 0 to 137734\n",
      "Data columns (total 4 columns):\n",
      " #   Column     Non-Null Count   Dtype         \n",
      "---  ------     --------------   -----         \n",
      " 0   id         137735 non-null  object        \n",
      " 1   user_id    137735 non-null  int64         \n",
      " 2   call_date  137735 non-null  datetime64[ns]\n",
      " 3   duration   137735 non-null  float64       \n",
      "dtypes: datetime64[ns](1), float64(1), int64(1), object(1)\n",
      "memory usage: 4.2+ MB\n"
     ]
    }
   ],
   "source": [
    "# Print the general/summary information about the calls' DataFrame\n",
    "df_calls.info()\n"
   ]
  },
  {
   "cell_type": "code",
   "execution_count": 37,
   "metadata": {},
   "outputs": [],
   "source": [
    "# Print a sample of data for calls\n",
    "# df_calls.head(-5)\n",
    "\n",
    "# check for missing data\n",
    "# df_calls.isnull().sum()\n"
   ]
  },
  {
   "cell_type": "markdown",
   "metadata": {},
   "source": [
    "We've already fixed the datetime data type and sorted out the missing data - "
   ]
  },
  {
   "cell_type": "markdown",
   "metadata": {},
   "source": [
    "### Fix and Enrich data"
   ]
  },
  {
   "cell_type": "code",
   "execution_count": 38,
   "metadata": {},
   "outputs": [],
   "source": [
    "# Round up the duration of calls to the nearest minute\n",
    "df_calls['duration_round'] = df_calls['duration'].apply(np.ceil)"
   ]
  },
  {
   "cell_type": "markdown",
   "metadata": {},
   "source": [
    "<div class=\"alert alert-block alert-success\", div style=\"border:solid yellow 2px; padding: 20px\">\n",
    "    \n",
    "Great job! Good that you added data rounding. Also, great choice of np.ceil() method.\n",
    "\n",
    "Btw you can use np.ceil() directly to the column in your data in the following way:\n",
    "\n",
    "```\n",
    "calls['duration'] = np.ceil(calls['duration'])\n",
    "```"
   ]
  },
  {
   "cell_type": "markdown",
   "metadata": {},
   "source": [
    "<div class=\"alert alert-block alert-info\", div style=\"border:solid blue 2px; padding: 20px\">\n",
    "\n",
    "Thanks, in this case I didn't want to overwrite the original data, although I guess it would be appropriate to do so, given our use case for the data set.\n",
    "    "
   ]
  },
  {
   "cell_type": "code",
   "execution_count": 39,
   "metadata": {},
   "outputs": [],
   "source": [
    "# Createa a columb indicating the month a call was made\n",
    "df_calls['month'] = df_calls['call_date'].dt.month"
   ]
  },
  {
   "cell_type": "code",
   "execution_count": 40,
   "metadata": {},
   "outputs": [
    {
     "data": {
      "text/html": [
       "<div>\n",
       "<style scoped>\n",
       "    .dataframe tbody tr th:only-of-type {\n",
       "        vertical-align: middle;\n",
       "    }\n",
       "\n",
       "    .dataframe tbody tr th {\n",
       "        vertical-align: top;\n",
       "    }\n",
       "\n",
       "    .dataframe thead th {\n",
       "        text-align: right;\n",
       "    }\n",
       "</style>\n",
       "<table border=\"1\" class=\"dataframe\">\n",
       "  <thead>\n",
       "    <tr style=\"text-align: right;\">\n",
       "      <th></th>\n",
       "      <th>id</th>\n",
       "      <th>user_id</th>\n",
       "      <th>call_date</th>\n",
       "      <th>duration</th>\n",
       "      <th>duration_round</th>\n",
       "      <th>month</th>\n",
       "      <th>telcom_type</th>\n",
       "    </tr>\n",
       "  </thead>\n",
       "  <tbody>\n",
       "    <tr>\n",
       "      <th>0</th>\n",
       "      <td>1000_93</td>\n",
       "      <td>1000</td>\n",
       "      <td>2018-12-27</td>\n",
       "      <td>8.52</td>\n",
       "      <td>9.0</td>\n",
       "      <td>12</td>\n",
       "      <td>calls</td>\n",
       "    </tr>\n",
       "    <tr>\n",
       "      <th>1</th>\n",
       "      <td>1000_145</td>\n",
       "      <td>1000</td>\n",
       "      <td>2018-12-27</td>\n",
       "      <td>13.66</td>\n",
       "      <td>14.0</td>\n",
       "      <td>12</td>\n",
       "      <td>calls</td>\n",
       "    </tr>\n",
       "    <tr>\n",
       "      <th>2</th>\n",
       "      <td>1000_247</td>\n",
       "      <td>1000</td>\n",
       "      <td>2018-12-27</td>\n",
       "      <td>14.48</td>\n",
       "      <td>15.0</td>\n",
       "      <td>12</td>\n",
       "      <td>calls</td>\n",
       "    </tr>\n",
       "    <tr>\n",
       "      <th>3</th>\n",
       "      <td>1000_309</td>\n",
       "      <td>1000</td>\n",
       "      <td>2018-12-28</td>\n",
       "      <td>5.76</td>\n",
       "      <td>6.0</td>\n",
       "      <td>12</td>\n",
       "      <td>calls</td>\n",
       "    </tr>\n",
       "    <tr>\n",
       "      <th>4</th>\n",
       "      <td>1000_380</td>\n",
       "      <td>1000</td>\n",
       "      <td>2018-12-30</td>\n",
       "      <td>4.22</td>\n",
       "      <td>5.0</td>\n",
       "      <td>12</td>\n",
       "      <td>calls</td>\n",
       "    </tr>\n",
       "    <tr>\n",
       "      <th>...</th>\n",
       "      <td>...</td>\n",
       "      <td>...</td>\n",
       "      <td>...</td>\n",
       "      <td>...</td>\n",
       "      <td>...</td>\n",
       "      <td>...</td>\n",
       "      <td>...</td>\n",
       "    </tr>\n",
       "    <tr>\n",
       "      <th>137725</th>\n",
       "      <td>1499_194</td>\n",
       "      <td>1499</td>\n",
       "      <td>2018-10-31</td>\n",
       "      <td>0.00</td>\n",
       "      <td>0.0</td>\n",
       "      <td>10</td>\n",
       "      <td>calls</td>\n",
       "    </tr>\n",
       "    <tr>\n",
       "      <th>137726</th>\n",
       "      <td>1499_195</td>\n",
       "      <td>1499</td>\n",
       "      <td>2018-09-16</td>\n",
       "      <td>1.39</td>\n",
       "      <td>2.0</td>\n",
       "      <td>9</td>\n",
       "      <td>calls</td>\n",
       "    </tr>\n",
       "    <tr>\n",
       "      <th>137727</th>\n",
       "      <td>1499_196</td>\n",
       "      <td>1499</td>\n",
       "      <td>2018-11-22</td>\n",
       "      <td>0.27</td>\n",
       "      <td>1.0</td>\n",
       "      <td>11</td>\n",
       "      <td>calls</td>\n",
       "    </tr>\n",
       "    <tr>\n",
       "      <th>137728</th>\n",
       "      <td>1499_197</td>\n",
       "      <td>1499</td>\n",
       "      <td>2018-12-27</td>\n",
       "      <td>8.36</td>\n",
       "      <td>9.0</td>\n",
       "      <td>12</td>\n",
       "      <td>calls</td>\n",
       "    </tr>\n",
       "    <tr>\n",
       "      <th>137729</th>\n",
       "      <td>1499_198</td>\n",
       "      <td>1499</td>\n",
       "      <td>2018-10-26</td>\n",
       "      <td>6.41</td>\n",
       "      <td>7.0</td>\n",
       "      <td>10</td>\n",
       "      <td>calls</td>\n",
       "    </tr>\n",
       "  </tbody>\n",
       "</table>\n",
       "<p>137730 rows × 7 columns</p>\n",
       "</div>"
      ],
      "text/plain": [
       "              id  user_id  call_date  duration  duration_round  month  \\\n",
       "0        1000_93     1000 2018-12-27      8.52             9.0     12   \n",
       "1       1000_145     1000 2018-12-27     13.66            14.0     12   \n",
       "2       1000_247     1000 2018-12-27     14.48            15.0     12   \n",
       "3       1000_309     1000 2018-12-28      5.76             6.0     12   \n",
       "4       1000_380     1000 2018-12-30      4.22             5.0     12   \n",
       "...          ...      ...        ...       ...             ...    ...   \n",
       "137725  1499_194     1499 2018-10-31      0.00             0.0     10   \n",
       "137726  1499_195     1499 2018-09-16      1.39             2.0      9   \n",
       "137727  1499_196     1499 2018-11-22      0.27             1.0     11   \n",
       "137728  1499_197     1499 2018-12-27      8.36             9.0     12   \n",
       "137729  1499_198     1499 2018-10-26      6.41             7.0     10   \n",
       "\n",
       "       telcom_type  \n",
       "0            calls  \n",
       "1            calls  \n",
       "2            calls  \n",
       "3            calls  \n",
       "4            calls  \n",
       "...            ...  \n",
       "137725       calls  \n",
       "137726       calls  \n",
       "137727       calls  \n",
       "137728       calls  \n",
       "137729       calls  \n",
       "\n",
       "[137730 rows x 7 columns]"
      ]
     },
     "execution_count": 40,
     "metadata": {},
     "output_type": "execute_result"
    }
   ],
   "source": [
    "# Add a column for telcom type\n",
    "df_calls['telcom_type'] = 'calls'\n",
    "\n",
    "df_calls.head(-5)"
   ]
  },
  {
   "cell_type": "markdown",
   "metadata": {},
   "source": [
    "## Messages"
   ]
  },
  {
   "cell_type": "code",
   "execution_count": 41,
   "metadata": {},
   "outputs": [
    {
     "name": "stdout",
     "output_type": "stream",
     "text": [
      "<class 'pandas.core.frame.DataFrame'>\n",
      "RangeIndex: 76051 entries, 0 to 76050\n",
      "Data columns (total 3 columns):\n",
      " #   Column        Non-Null Count  Dtype         \n",
      "---  ------        --------------  -----         \n",
      " 0   id            76051 non-null  object        \n",
      " 1   user_id       76051 non-null  int64         \n",
      " 2   message_date  76051 non-null  datetime64[ns]\n",
      "dtypes: datetime64[ns](1), int64(1), object(1)\n",
      "memory usage: 1.7+ MB\n"
     ]
    }
   ],
   "source": [
    "# Print the general/summary information about the messages' DataFrame\n",
    "df_messages.info()\n"
   ]
  },
  {
   "cell_type": "code",
   "execution_count": 42,
   "metadata": {},
   "outputs": [
    {
     "data": {
      "text/html": [
       "<div>\n",
       "<style scoped>\n",
       "    .dataframe tbody tr th:only-of-type {\n",
       "        vertical-align: middle;\n",
       "    }\n",
       "\n",
       "    .dataframe tbody tr th {\n",
       "        vertical-align: top;\n",
       "    }\n",
       "\n",
       "    .dataframe thead th {\n",
       "        text-align: right;\n",
       "    }\n",
       "</style>\n",
       "<table border=\"1\" class=\"dataframe\">\n",
       "  <thead>\n",
       "    <tr style=\"text-align: right;\">\n",
       "      <th></th>\n",
       "      <th>id</th>\n",
       "      <th>user_id</th>\n",
       "      <th>message_date</th>\n",
       "    </tr>\n",
       "  </thead>\n",
       "  <tbody>\n",
       "    <tr>\n",
       "      <th>0</th>\n",
       "      <td>1000_125</td>\n",
       "      <td>1000</td>\n",
       "      <td>2018-12-27</td>\n",
       "    </tr>\n",
       "    <tr>\n",
       "      <th>1</th>\n",
       "      <td>1000_160</td>\n",
       "      <td>1000</td>\n",
       "      <td>2018-12-31</td>\n",
       "    </tr>\n",
       "    <tr>\n",
       "      <th>2</th>\n",
       "      <td>1000_223</td>\n",
       "      <td>1000</td>\n",
       "      <td>2018-12-31</td>\n",
       "    </tr>\n",
       "    <tr>\n",
       "      <th>3</th>\n",
       "      <td>1000_251</td>\n",
       "      <td>1000</td>\n",
       "      <td>2018-12-27</td>\n",
       "    </tr>\n",
       "    <tr>\n",
       "      <th>4</th>\n",
       "      <td>1000_255</td>\n",
       "      <td>1000</td>\n",
       "      <td>2018-12-26</td>\n",
       "    </tr>\n",
       "    <tr>\n",
       "      <th>5</th>\n",
       "      <td>1000_346</td>\n",
       "      <td>1000</td>\n",
       "      <td>2018-12-29</td>\n",
       "    </tr>\n",
       "    <tr>\n",
       "      <th>6</th>\n",
       "      <td>1000_386</td>\n",
       "      <td>1000</td>\n",
       "      <td>2018-12-30</td>\n",
       "    </tr>\n",
       "    <tr>\n",
       "      <th>7</th>\n",
       "      <td>1000_413</td>\n",
       "      <td>1000</td>\n",
       "      <td>2018-12-31</td>\n",
       "    </tr>\n",
       "    <tr>\n",
       "      <th>8</th>\n",
       "      <td>1000_502</td>\n",
       "      <td>1000</td>\n",
       "      <td>2018-12-27</td>\n",
       "    </tr>\n",
       "    <tr>\n",
       "      <th>9</th>\n",
       "      <td>1000_525</td>\n",
       "      <td>1000</td>\n",
       "      <td>2018-12-28</td>\n",
       "    </tr>\n",
       "    <tr>\n",
       "      <th>10</th>\n",
       "      <td>1000_567</td>\n",
       "      <td>1000</td>\n",
       "      <td>2018-12-25</td>\n",
       "    </tr>\n",
       "    <tr>\n",
       "      <th>11</th>\n",
       "      <td>1001_1</td>\n",
       "      <td>1001</td>\n",
       "      <td>2018-11-14</td>\n",
       "    </tr>\n",
       "    <tr>\n",
       "      <th>12</th>\n",
       "      <td>1001_2</td>\n",
       "      <td>1001</td>\n",
       "      <td>2018-08-17</td>\n",
       "    </tr>\n",
       "    <tr>\n",
       "      <th>13</th>\n",
       "      <td>1001_5</td>\n",
       "      <td>1001</td>\n",
       "      <td>2018-12-05</td>\n",
       "    </tr>\n",
       "    <tr>\n",
       "      <th>14</th>\n",
       "      <td>1001_7</td>\n",
       "      <td>1001</td>\n",
       "      <td>2018-11-28</td>\n",
       "    </tr>\n",
       "  </tbody>\n",
       "</table>\n",
       "</div>"
      ],
      "text/plain": [
       "          id  user_id message_date\n",
       "0   1000_125     1000   2018-12-27\n",
       "1   1000_160     1000   2018-12-31\n",
       "2   1000_223     1000   2018-12-31\n",
       "3   1000_251     1000   2018-12-27\n",
       "4   1000_255     1000   2018-12-26\n",
       "5   1000_346     1000   2018-12-29\n",
       "6   1000_386     1000   2018-12-30\n",
       "7   1000_413     1000   2018-12-31\n",
       "8   1000_502     1000   2018-12-27\n",
       "9   1000_525     1000   2018-12-28\n",
       "10  1000_567     1000   2018-12-25\n",
       "11    1001_1     1001   2018-11-14\n",
       "12    1001_2     1001   2018-08-17\n",
       "13    1001_5     1001   2018-12-05\n",
       "14    1001_7     1001   2018-11-28"
      ]
     },
     "execution_count": 42,
     "metadata": {},
     "output_type": "execute_result"
    }
   ],
   "source": [
    "# Print a sample of data for messages\n",
    "df_messages.head(15)\n"
   ]
  },
  {
   "cell_type": "markdown",
   "metadata": {},
   "source": [
    "### Fix and Enrich data"
   ]
  },
  {
   "cell_type": "markdown",
   "metadata": {},
   "source": [
    "We've already fixed the datetime data type and missing data issues. <br>\n",
    "We will enhance the data so we can summarize the users messages my month and in total."
   ]
  },
  {
   "cell_type": "code",
   "execution_count": 43,
   "metadata": {},
   "outputs": [
    {
     "data": {
      "text/html": [
       "<div>\n",
       "<style scoped>\n",
       "    .dataframe tbody tr th:only-of-type {\n",
       "        vertical-align: middle;\n",
       "    }\n",
       "\n",
       "    .dataframe tbody tr th {\n",
       "        vertical-align: top;\n",
       "    }\n",
       "\n",
       "    .dataframe thead th {\n",
       "        text-align: right;\n",
       "    }\n",
       "</style>\n",
       "<table border=\"1\" class=\"dataframe\">\n",
       "  <thead>\n",
       "    <tr style=\"text-align: right;\">\n",
       "      <th></th>\n",
       "      <th>user_id</th>\n",
       "      <th>messages_total</th>\n",
       "    </tr>\n",
       "  </thead>\n",
       "  <tbody>\n",
       "    <tr>\n",
       "      <th>0</th>\n",
       "      <td>1000</td>\n",
       "      <td>11</td>\n",
       "    </tr>\n",
       "    <tr>\n",
       "      <th>1</th>\n",
       "      <td>1001</td>\n",
       "      <td>207</td>\n",
       "    </tr>\n",
       "    <tr>\n",
       "      <th>2</th>\n",
       "      <td>1002</td>\n",
       "      <td>88</td>\n",
       "    </tr>\n",
       "    <tr>\n",
       "      <th>3</th>\n",
       "      <td>1003</td>\n",
       "      <td>50</td>\n",
       "    </tr>\n",
       "    <tr>\n",
       "      <th>4</th>\n",
       "      <td>1004</td>\n",
       "      <td>177</td>\n",
       "    </tr>\n",
       "  </tbody>\n",
       "</table>\n",
       "</div>"
      ],
      "text/plain": [
       "   user_id  messages_total\n",
       "0     1000              11\n",
       "1     1001             207\n",
       "2     1002              88\n",
       "3     1003              50\n",
       "4     1004             177"
      ]
     },
     "execution_count": 43,
     "metadata": {},
     "output_type": "execute_result"
    }
   ],
   "source": [
    "# Sum messages total by user_id\n",
    "df_messages_total = df_messages.groupby('user_id')['id'].count().reset_index()\n",
    "df_messages_total.columns = ['user_id', 'messages_total']\n",
    "df_messages_total.head()\n"
   ]
  },
  {
   "cell_type": "code",
   "execution_count": 44,
   "metadata": {},
   "outputs": [
    {
     "data": {
      "text/html": [
       "<div>\n",
       "<style scoped>\n",
       "    .dataframe tbody tr th:only-of-type {\n",
       "        vertical-align: middle;\n",
       "    }\n",
       "\n",
       "    .dataframe tbody tr th {\n",
       "        vertical-align: top;\n",
       "    }\n",
       "\n",
       "    .dataframe thead th {\n",
       "        text-align: right;\n",
       "    }\n",
       "</style>\n",
       "<table border=\"1\" class=\"dataframe\">\n",
       "  <thead>\n",
       "    <tr style=\"text-align: right;\">\n",
       "      <th></th>\n",
       "      <th>id</th>\n",
       "      <th>user_id</th>\n",
       "      <th>message_date</th>\n",
       "      <th>month</th>\n",
       "      <th>telcom_type</th>\n",
       "    </tr>\n",
       "  </thead>\n",
       "  <tbody>\n",
       "    <tr>\n",
       "      <th>0</th>\n",
       "      <td>1000_125</td>\n",
       "      <td>1000</td>\n",
       "      <td>2018-12-27</td>\n",
       "      <td>12</td>\n",
       "      <td>messages</td>\n",
       "    </tr>\n",
       "    <tr>\n",
       "      <th>1</th>\n",
       "      <td>1000_160</td>\n",
       "      <td>1000</td>\n",
       "      <td>2018-12-31</td>\n",
       "      <td>12</td>\n",
       "      <td>messages</td>\n",
       "    </tr>\n",
       "    <tr>\n",
       "      <th>2</th>\n",
       "      <td>1000_223</td>\n",
       "      <td>1000</td>\n",
       "      <td>2018-12-31</td>\n",
       "      <td>12</td>\n",
       "      <td>messages</td>\n",
       "    </tr>\n",
       "    <tr>\n",
       "      <th>3</th>\n",
       "      <td>1000_251</td>\n",
       "      <td>1000</td>\n",
       "      <td>2018-12-27</td>\n",
       "      <td>12</td>\n",
       "      <td>messages</td>\n",
       "    </tr>\n",
       "    <tr>\n",
       "      <th>4</th>\n",
       "      <td>1000_255</td>\n",
       "      <td>1000</td>\n",
       "      <td>2018-12-26</td>\n",
       "      <td>12</td>\n",
       "      <td>messages</td>\n",
       "    </tr>\n",
       "  </tbody>\n",
       "</table>\n",
       "</div>"
      ],
      "text/plain": [
       "         id  user_id message_date  month telcom_type\n",
       "0  1000_125     1000   2018-12-27     12    messages\n",
       "1  1000_160     1000   2018-12-31     12    messages\n",
       "2  1000_223     1000   2018-12-31     12    messages\n",
       "3  1000_251     1000   2018-12-27     12    messages\n",
       "4  1000_255     1000   2018-12-26     12    messages"
      ]
     },
     "execution_count": 44,
     "metadata": {},
     "output_type": "execute_result"
    }
   ],
   "source": [
    "# Create a columb for the month\n",
    "df_messages['month'] = df_messages['message_date'].dt.month\n",
    "\n",
    "# Add a column for telcom type\n",
    "df_messages['telcom_type'] = 'messages'\n",
    "\n",
    "df_messages.head(5) "
   ]
  },
  {
   "cell_type": "markdown",
   "metadata": {},
   "source": [
    "<div class=\"alert alert-block alert-warning\"><div style=\"border:solid yellow 2px; padding: 20px\">\n",
    "<b>Reviewer's comment v1:</b>\n",
    "    \n",
    "Everything is correct here but usually, it is always helpful to double-check whether we indeed have data within one year/time period. If not then selecting and aggregating data by the month number/name will cause an issue. So here it is safer to use datetime64[M] which provides a complete date. "
   ]
  },
  {
   "cell_type": "code",
   "execution_count": 45,
   "metadata": {},
   "outputs": [
    {
     "data": {
      "text/html": [
       "<div>\n",
       "<style scoped>\n",
       "    .dataframe tbody tr th:only-of-type {\n",
       "        vertical-align: middle;\n",
       "    }\n",
       "\n",
       "    .dataframe tbody tr th {\n",
       "        vertical-align: top;\n",
       "    }\n",
       "\n",
       "    .dataframe thead th {\n",
       "        text-align: right;\n",
       "    }\n",
       "</style>\n",
       "<table border=\"1\" class=\"dataframe\">\n",
       "  <thead>\n",
       "    <tr style=\"text-align: right;\">\n",
       "      <th></th>\n",
       "      <th>id</th>\n",
       "      <th>user_id</th>\n",
       "      <th>message_date</th>\n",
       "      <th>month</th>\n",
       "      <th>telcom_type</th>\n",
       "      <th>messages_total</th>\n",
       "    </tr>\n",
       "  </thead>\n",
       "  <tbody>\n",
       "    <tr>\n",
       "      <th>0</th>\n",
       "      <td>1000_125</td>\n",
       "      <td>1000</td>\n",
       "      <td>2018-12-27</td>\n",
       "      <td>12</td>\n",
       "      <td>messages</td>\n",
       "      <td>11</td>\n",
       "    </tr>\n",
       "    <tr>\n",
       "      <th>1</th>\n",
       "      <td>1000_160</td>\n",
       "      <td>1000</td>\n",
       "      <td>2018-12-31</td>\n",
       "      <td>12</td>\n",
       "      <td>messages</td>\n",
       "      <td>11</td>\n",
       "    </tr>\n",
       "    <tr>\n",
       "      <th>2</th>\n",
       "      <td>1000_223</td>\n",
       "      <td>1000</td>\n",
       "      <td>2018-12-31</td>\n",
       "      <td>12</td>\n",
       "      <td>messages</td>\n",
       "      <td>11</td>\n",
       "    </tr>\n",
       "    <tr>\n",
       "      <th>3</th>\n",
       "      <td>1000_251</td>\n",
       "      <td>1000</td>\n",
       "      <td>2018-12-27</td>\n",
       "      <td>12</td>\n",
       "      <td>messages</td>\n",
       "      <td>11</td>\n",
       "    </tr>\n",
       "    <tr>\n",
       "      <th>4</th>\n",
       "      <td>1000_255</td>\n",
       "      <td>1000</td>\n",
       "      <td>2018-12-26</td>\n",
       "      <td>12</td>\n",
       "      <td>messages</td>\n",
       "      <td>11</td>\n",
       "    </tr>\n",
       "    <tr>\n",
       "      <th>...</th>\n",
       "      <td>...</td>\n",
       "      <td>...</td>\n",
       "      <td>...</td>\n",
       "      <td>...</td>\n",
       "      <td>...</td>\n",
       "      <td>...</td>\n",
       "    </tr>\n",
       "    <tr>\n",
       "      <th>76041</th>\n",
       "      <td>1497_502</td>\n",
       "      <td>1497</td>\n",
       "      <td>2018-12-30</td>\n",
       "      <td>12</td>\n",
       "      <td>messages</td>\n",
       "      <td>50</td>\n",
       "    </tr>\n",
       "    <tr>\n",
       "      <th>76042</th>\n",
       "      <td>1497_503</td>\n",
       "      <td>1497</td>\n",
       "      <td>2018-12-29</td>\n",
       "      <td>12</td>\n",
       "      <td>messages</td>\n",
       "      <td>50</td>\n",
       "    </tr>\n",
       "    <tr>\n",
       "      <th>76043</th>\n",
       "      <td>1497_507</td>\n",
       "      <td>1497</td>\n",
       "      <td>2018-12-23</td>\n",
       "      <td>12</td>\n",
       "      <td>messages</td>\n",
       "      <td>50</td>\n",
       "    </tr>\n",
       "    <tr>\n",
       "      <th>76044</th>\n",
       "      <td>1497_517</td>\n",
       "      <td>1497</td>\n",
       "      <td>2018-12-17</td>\n",
       "      <td>12</td>\n",
       "      <td>messages</td>\n",
       "      <td>50</td>\n",
       "    </tr>\n",
       "    <tr>\n",
       "      <th>76045</th>\n",
       "      <td>1497_524</td>\n",
       "      <td>1497</td>\n",
       "      <td>2018-12-12</td>\n",
       "      <td>12</td>\n",
       "      <td>messages</td>\n",
       "      <td>50</td>\n",
       "    </tr>\n",
       "  </tbody>\n",
       "</table>\n",
       "<p>76046 rows × 6 columns</p>\n",
       "</div>"
      ],
      "text/plain": [
       "             id  user_id message_date  month telcom_type  messages_total\n",
       "0      1000_125     1000   2018-12-27     12    messages              11\n",
       "1      1000_160     1000   2018-12-31     12    messages              11\n",
       "2      1000_223     1000   2018-12-31     12    messages              11\n",
       "3      1000_251     1000   2018-12-27     12    messages              11\n",
       "4      1000_255     1000   2018-12-26     12    messages              11\n",
       "...         ...      ...          ...    ...         ...             ...\n",
       "76041  1497_502     1497   2018-12-30     12    messages              50\n",
       "76042  1497_503     1497   2018-12-29     12    messages              50\n",
       "76043  1497_507     1497   2018-12-23     12    messages              50\n",
       "76044  1497_517     1497   2018-12-17     12    messages              50\n",
       "76045  1497_524     1497   2018-12-12     12    messages              50\n",
       "\n",
       "[76046 rows x 6 columns]"
      ]
     },
     "execution_count": 45,
     "metadata": {},
     "output_type": "execute_result"
    }
   ],
   "source": [
    "# merge the messages_total column to the df_messages dataframe\n",
    "df_messages = df_messages.merge(df_messages_total, on='user_id', how='left')\n",
    "\n",
    "df_messages.head(-5)"
   ]
  },
  {
   "cell_type": "code",
   "execution_count": 46,
   "metadata": {},
   "outputs": [
    {
     "data": {
      "text/html": [
       "<div>\n",
       "<style scoped>\n",
       "    .dataframe tbody tr th:only-of-type {\n",
       "        vertical-align: middle;\n",
       "    }\n",
       "\n",
       "    .dataframe tbody tr th {\n",
       "        vertical-align: top;\n",
       "    }\n",
       "\n",
       "    .dataframe thead th {\n",
       "        text-align: right;\n",
       "    }\n",
       "</style>\n",
       "<table border=\"1\" class=\"dataframe\">\n",
       "  <thead>\n",
       "    <tr style=\"text-align: right;\">\n",
       "      <th></th>\n",
       "      <th>messages_jan</th>\n",
       "      <th>messages_feb</th>\n",
       "      <th>messages_mar</th>\n",
       "      <th>messages_apr</th>\n",
       "      <th>messages_may</th>\n",
       "      <th>messages_jun</th>\n",
       "      <th>messages_jul</th>\n",
       "      <th>messages_aug</th>\n",
       "      <th>messages_sep</th>\n",
       "      <th>messages_oct</th>\n",
       "      <th>messages_nov</th>\n",
       "      <th>messages_dec</th>\n",
       "    </tr>\n",
       "    <tr>\n",
       "      <th>user_id</th>\n",
       "      <th></th>\n",
       "      <th></th>\n",
       "      <th></th>\n",
       "      <th></th>\n",
       "      <th></th>\n",
       "      <th></th>\n",
       "      <th></th>\n",
       "      <th></th>\n",
       "      <th></th>\n",
       "      <th></th>\n",
       "      <th></th>\n",
       "      <th></th>\n",
       "    </tr>\n",
       "  </thead>\n",
       "  <tbody>\n",
       "    <tr>\n",
       "      <th>1000</th>\n",
       "      <td>0</td>\n",
       "      <td>0</td>\n",
       "      <td>0</td>\n",
       "      <td>0</td>\n",
       "      <td>0</td>\n",
       "      <td>0</td>\n",
       "      <td>0</td>\n",
       "      <td>0</td>\n",
       "      <td>0</td>\n",
       "      <td>0</td>\n",
       "      <td>0</td>\n",
       "      <td>11</td>\n",
       "    </tr>\n",
       "    <tr>\n",
       "      <th>1001</th>\n",
       "      <td>0</td>\n",
       "      <td>0</td>\n",
       "      <td>0</td>\n",
       "      <td>0</td>\n",
       "      <td>0</td>\n",
       "      <td>0</td>\n",
       "      <td>0</td>\n",
       "      <td>30</td>\n",
       "      <td>44</td>\n",
       "      <td>53</td>\n",
       "      <td>36</td>\n",
       "      <td>44</td>\n",
       "    </tr>\n",
       "    <tr>\n",
       "      <th>1002</th>\n",
       "      <td>0</td>\n",
       "      <td>0</td>\n",
       "      <td>0</td>\n",
       "      <td>0</td>\n",
       "      <td>0</td>\n",
       "      <td>0</td>\n",
       "      <td>0</td>\n",
       "      <td>0</td>\n",
       "      <td>0</td>\n",
       "      <td>15</td>\n",
       "      <td>32</td>\n",
       "      <td>41</td>\n",
       "    </tr>\n",
       "    <tr>\n",
       "      <th>1003</th>\n",
       "      <td>0</td>\n",
       "      <td>0</td>\n",
       "      <td>0</td>\n",
       "      <td>0</td>\n",
       "      <td>0</td>\n",
       "      <td>0</td>\n",
       "      <td>0</td>\n",
       "      <td>0</td>\n",
       "      <td>0</td>\n",
       "      <td>0</td>\n",
       "      <td>0</td>\n",
       "      <td>50</td>\n",
       "    </tr>\n",
       "    <tr>\n",
       "      <th>1004</th>\n",
       "      <td>0</td>\n",
       "      <td>0</td>\n",
       "      <td>0</td>\n",
       "      <td>0</td>\n",
       "      <td>7</td>\n",
       "      <td>18</td>\n",
       "      <td>26</td>\n",
       "      <td>25</td>\n",
       "      <td>21</td>\n",
       "      <td>24</td>\n",
       "      <td>25</td>\n",
       "      <td>31</td>\n",
       "    </tr>\n",
       "    <tr>\n",
       "      <th>1005</th>\n",
       "      <td>0</td>\n",
       "      <td>0</td>\n",
       "      <td>0</td>\n",
       "      <td>0</td>\n",
       "      <td>0</td>\n",
       "      <td>0</td>\n",
       "      <td>0</td>\n",
       "      <td>0</td>\n",
       "      <td>0</td>\n",
       "      <td>0</td>\n",
       "      <td>0</td>\n",
       "      <td>11</td>\n",
       "    </tr>\n",
       "    <tr>\n",
       "      <th>1006</th>\n",
       "      <td>0</td>\n",
       "      <td>0</td>\n",
       "      <td>0</td>\n",
       "      <td>0</td>\n",
       "      <td>0</td>\n",
       "      <td>0</td>\n",
       "      <td>0</td>\n",
       "      <td>0</td>\n",
       "      <td>0</td>\n",
       "      <td>0</td>\n",
       "      <td>15</td>\n",
       "      <td>139</td>\n",
       "    </tr>\n",
       "    <tr>\n",
       "      <th>1007</th>\n",
       "      <td>0</td>\n",
       "      <td>0</td>\n",
       "      <td>0</td>\n",
       "      <td>0</td>\n",
       "      <td>0</td>\n",
       "      <td>0</td>\n",
       "      <td>0</td>\n",
       "      <td>51</td>\n",
       "      <td>47</td>\n",
       "      <td>59</td>\n",
       "      <td>48</td>\n",
       "      <td>50</td>\n",
       "    </tr>\n",
       "    <tr>\n",
       "      <th>1008</th>\n",
       "      <td>0</td>\n",
       "      <td>0</td>\n",
       "      <td>0</td>\n",
       "      <td>0</td>\n",
       "      <td>0</td>\n",
       "      <td>0</td>\n",
       "      <td>0</td>\n",
       "      <td>0</td>\n",
       "      <td>0</td>\n",
       "      <td>21</td>\n",
       "      <td>37</td>\n",
       "      <td>26</td>\n",
       "    </tr>\n",
       "    <tr>\n",
       "      <th>1011</th>\n",
       "      <td>0</td>\n",
       "      <td>0</td>\n",
       "      <td>0</td>\n",
       "      <td>0</td>\n",
       "      <td>0</td>\n",
       "      <td>21</td>\n",
       "      <td>53</td>\n",
       "      <td>54</td>\n",
       "      <td>60</td>\n",
       "      <td>64</td>\n",
       "      <td>58</td>\n",
       "      <td>61</td>\n",
       "    </tr>\n",
       "    <tr>\n",
       "      <th>1013</th>\n",
       "      <td>0</td>\n",
       "      <td>0</td>\n",
       "      <td>0</td>\n",
       "      <td>0</td>\n",
       "      <td>0</td>\n",
       "      <td>0</td>\n",
       "      <td>0</td>\n",
       "      <td>0</td>\n",
       "      <td>0</td>\n",
       "      <td>0</td>\n",
       "      <td>0</td>\n",
       "      <td>16</td>\n",
       "    </tr>\n",
       "    <tr>\n",
       "      <th>1014</th>\n",
       "      <td>0</td>\n",
       "      <td>0</td>\n",
       "      <td>0</td>\n",
       "      <td>0</td>\n",
       "      <td>0</td>\n",
       "      <td>0</td>\n",
       "      <td>0</td>\n",
       "      <td>0</td>\n",
       "      <td>0</td>\n",
       "      <td>0</td>\n",
       "      <td>9</td>\n",
       "      <td>64</td>\n",
       "    </tr>\n",
       "    <tr>\n",
       "      <th>1015</th>\n",
       "      <td>0</td>\n",
       "      <td>0</td>\n",
       "      <td>0</td>\n",
       "      <td>0</td>\n",
       "      <td>0</td>\n",
       "      <td>0</td>\n",
       "      <td>0</td>\n",
       "      <td>0</td>\n",
       "      <td>0</td>\n",
       "      <td>0</td>\n",
       "      <td>0</td>\n",
       "      <td>68</td>\n",
       "    </tr>\n",
       "    <tr>\n",
       "      <th>1016</th>\n",
       "      <td>0</td>\n",
       "      <td>0</td>\n",
       "      <td>0</td>\n",
       "      <td>0</td>\n",
       "      <td>0</td>\n",
       "      <td>0</td>\n",
       "      <td>0</td>\n",
       "      <td>0</td>\n",
       "      <td>0</td>\n",
       "      <td>11</td>\n",
       "      <td>46</td>\n",
       "      <td>38</td>\n",
       "    </tr>\n",
       "    <tr>\n",
       "      <th>1017</th>\n",
       "      <td>0</td>\n",
       "      <td>0</td>\n",
       "      <td>0</td>\n",
       "      <td>0</td>\n",
       "      <td>0</td>\n",
       "      <td>0</td>\n",
       "      <td>0</td>\n",
       "      <td>5</td>\n",
       "      <td>41</td>\n",
       "      <td>35</td>\n",
       "      <td>29</td>\n",
       "      <td>42</td>\n",
       "    </tr>\n",
       "  </tbody>\n",
       "</table>\n",
       "</div>"
      ],
      "text/plain": [
       "         messages_jan  messages_feb  messages_mar  messages_apr  messages_may  \\\n",
       "user_id                                                                         \n",
       "1000                0             0             0             0             0   \n",
       "1001                0             0             0             0             0   \n",
       "1002                0             0             0             0             0   \n",
       "1003                0             0             0             0             0   \n",
       "1004                0             0             0             0             7   \n",
       "1005                0             0             0             0             0   \n",
       "1006                0             0             0             0             0   \n",
       "1007                0             0             0             0             0   \n",
       "1008                0             0             0             0             0   \n",
       "1011                0             0             0             0             0   \n",
       "1013                0             0             0             0             0   \n",
       "1014                0             0             0             0             0   \n",
       "1015                0             0             0             0             0   \n",
       "1016                0             0             0             0             0   \n",
       "1017                0             0             0             0             0   \n",
       "\n",
       "         messages_jun  messages_jul  messages_aug  messages_sep  messages_oct  \\\n",
       "user_id                                                                         \n",
       "1000                0             0             0             0             0   \n",
       "1001                0             0            30            44            53   \n",
       "1002                0             0             0             0            15   \n",
       "1003                0             0             0             0             0   \n",
       "1004               18            26            25            21            24   \n",
       "1005                0             0             0             0             0   \n",
       "1006                0             0             0             0             0   \n",
       "1007                0             0            51            47            59   \n",
       "1008                0             0             0             0            21   \n",
       "1011               21            53            54            60            64   \n",
       "1013                0             0             0             0             0   \n",
       "1014                0             0             0             0             0   \n",
       "1015                0             0             0             0             0   \n",
       "1016                0             0             0             0            11   \n",
       "1017                0             0             5            41            35   \n",
       "\n",
       "         messages_nov  messages_dec  \n",
       "user_id                              \n",
       "1000                0            11  \n",
       "1001               36            44  \n",
       "1002               32            41  \n",
       "1003                0            50  \n",
       "1004               25            31  \n",
       "1005                0            11  \n",
       "1006               15           139  \n",
       "1007               48            50  \n",
       "1008               37            26  \n",
       "1011               58            61  \n",
       "1013                0            16  \n",
       "1014                9            64  \n",
       "1015                0            68  \n",
       "1016               46            38  \n",
       "1017               29            42  "
      ]
     },
     "execution_count": 46,
     "metadata": {},
     "output_type": "execute_result"
    }
   ],
   "source": [
    "# Create a Pivot Table : the index is the user_id, the columns are the months, the values are the number of messages\n",
    "df_messages_pivot = df_messages.pivot_table(index='user_id', columns='month', values='id', aggfunc='count')\n",
    "df_messages_pivot.columns = ['messages_jan', 'messages_feb', 'messages_mar', 'messages_apr', 'messages_may', 'messages_jun', 'messages_jul', 'messages_aug', 'messages_sep', 'messages_oct', 'messages_nov', 'messages_dec']\n",
    "# Drop NaN values\n",
    "df_messages_pivot = df_messages_pivot.fillna(0)\n",
    "# Convert the values to integers\n",
    "df_messages_pivot = df_messages_pivot.astype('int')\n",
    "# Create a style for the pivot table showing non zero values in green\n",
    "# df_messages_pivot.style.applymap(lambda x: 'background-color: #00FF00' if x > 0 else '')\n",
    "\n",
    "df_messages_pivot.head(15)\n",
    "\n"
   ]
  },
  {
   "cell_type": "code",
   "execution_count": 47,
   "metadata": {},
   "outputs": [
    {
     "name": "stdout",
     "output_type": "stream",
     "text": [
      "Number of messages in January:  83\n",
      "Number of messages in December:  19071\n"
     ]
    }
   ],
   "source": [
    "# print the number of messages in January and December\n",
    "print('Number of messages in January: ', df_messages_pivot['messages_jan'].sum())\n",
    "print('Number of messages in December: ', df_messages_pivot['messages_dec'].sum())\n",
    "\n"
   ]
  },
  {
   "cell_type": "markdown",
   "metadata": {},
   "source": [
    "## Internet"
   ]
  },
  {
   "cell_type": "code",
   "execution_count": 48,
   "metadata": {},
   "outputs": [
    {
     "name": "stdout",
     "output_type": "stream",
     "text": [
      "<class 'pandas.core.frame.DataFrame'>\n",
      "RangeIndex: 104825 entries, 0 to 104824\n",
      "Data columns (total 4 columns):\n",
      " #   Column        Non-Null Count   Dtype         \n",
      "---  ------        --------------   -----         \n",
      " 0   id            104825 non-null  object        \n",
      " 1   user_id       104825 non-null  int64         \n",
      " 2   session_date  104825 non-null  datetime64[ns]\n",
      " 3   mb_used       104825 non-null  float64       \n",
      "dtypes: datetime64[ns](1), float64(1), int64(1), object(1)\n",
      "memory usage: 3.2+ MB\n"
     ]
    }
   ],
   "source": [
    "# Print the general/summary information about the internet DataFrame\n",
    "df_internet.info()"
   ]
  },
  {
   "cell_type": "code",
   "execution_count": 49,
   "metadata": {},
   "outputs": [
    {
     "data": {
      "text/html": [
       "<div>\n",
       "<style scoped>\n",
       "    .dataframe tbody tr th:only-of-type {\n",
       "        vertical-align: middle;\n",
       "    }\n",
       "\n",
       "    .dataframe tbody tr th {\n",
       "        vertical-align: top;\n",
       "    }\n",
       "\n",
       "    .dataframe thead th {\n",
       "        text-align: right;\n",
       "    }\n",
       "</style>\n",
       "<table border=\"1\" class=\"dataframe\">\n",
       "  <thead>\n",
       "    <tr style=\"text-align: right;\">\n",
       "      <th></th>\n",
       "      <th>id</th>\n",
       "      <th>user_id</th>\n",
       "      <th>session_date</th>\n",
       "      <th>mb_used</th>\n",
       "      <th>telcom_type</th>\n",
       "    </tr>\n",
       "  </thead>\n",
       "  <tbody>\n",
       "    <tr>\n",
       "      <th>0</th>\n",
       "      <td>1000_13</td>\n",
       "      <td>1000</td>\n",
       "      <td>2018-12-29</td>\n",
       "      <td>89.86</td>\n",
       "      <td>internet</td>\n",
       "    </tr>\n",
       "    <tr>\n",
       "      <th>1</th>\n",
       "      <td>1000_204</td>\n",
       "      <td>1000</td>\n",
       "      <td>2018-12-31</td>\n",
       "      <td>0.00</td>\n",
       "      <td>internet</td>\n",
       "    </tr>\n",
       "    <tr>\n",
       "      <th>2</th>\n",
       "      <td>1000_379</td>\n",
       "      <td>1000</td>\n",
       "      <td>2018-12-28</td>\n",
       "      <td>660.40</td>\n",
       "      <td>internet</td>\n",
       "    </tr>\n",
       "    <tr>\n",
       "      <th>3</th>\n",
       "      <td>1000_413</td>\n",
       "      <td>1000</td>\n",
       "      <td>2018-12-26</td>\n",
       "      <td>270.99</td>\n",
       "      <td>internet</td>\n",
       "    </tr>\n",
       "    <tr>\n",
       "      <th>4</th>\n",
       "      <td>1000_442</td>\n",
       "      <td>1000</td>\n",
       "      <td>2018-12-27</td>\n",
       "      <td>880.22</td>\n",
       "      <td>internet</td>\n",
       "    </tr>\n",
       "    <tr>\n",
       "      <th>...</th>\n",
       "      <td>...</td>\n",
       "      <td>...</td>\n",
       "      <td>...</td>\n",
       "      <td>...</td>\n",
       "      <td>...</td>\n",
       "    </tr>\n",
       "    <tr>\n",
       "      <th>104815</th>\n",
       "      <td>1499_210</td>\n",
       "      <td>1499</td>\n",
       "      <td>2018-11-30</td>\n",
       "      <td>191.92</td>\n",
       "      <td>internet</td>\n",
       "    </tr>\n",
       "    <tr>\n",
       "      <th>104816</th>\n",
       "      <td>1499_211</td>\n",
       "      <td>1499</td>\n",
       "      <td>2018-09-26</td>\n",
       "      <td>0.00</td>\n",
       "      <td>internet</td>\n",
       "    </tr>\n",
       "    <tr>\n",
       "      <th>104817</th>\n",
       "      <td>1499_212</td>\n",
       "      <td>1499</td>\n",
       "      <td>2018-09-11</td>\n",
       "      <td>0.00</td>\n",
       "      <td>internet</td>\n",
       "    </tr>\n",
       "    <tr>\n",
       "      <th>104818</th>\n",
       "      <td>1499_213</td>\n",
       "      <td>1499</td>\n",
       "      <td>2018-10-15</td>\n",
       "      <td>430.27</td>\n",
       "      <td>internet</td>\n",
       "    </tr>\n",
       "    <tr>\n",
       "      <th>104819</th>\n",
       "      <td>1499_214</td>\n",
       "      <td>1499</td>\n",
       "      <td>2018-10-18</td>\n",
       "      <td>261.13</td>\n",
       "      <td>internet</td>\n",
       "    </tr>\n",
       "  </tbody>\n",
       "</table>\n",
       "<p>104820 rows × 5 columns</p>\n",
       "</div>"
      ],
      "text/plain": [
       "              id  user_id session_date  mb_used telcom_type\n",
       "0        1000_13     1000   2018-12-29    89.86    internet\n",
       "1       1000_204     1000   2018-12-31     0.00    internet\n",
       "2       1000_379     1000   2018-12-28   660.40    internet\n",
       "3       1000_413     1000   2018-12-26   270.99    internet\n",
       "4       1000_442     1000   2018-12-27   880.22    internet\n",
       "...          ...      ...          ...      ...         ...\n",
       "104815  1499_210     1499   2018-11-30   191.92    internet\n",
       "104816  1499_211     1499   2018-09-26     0.00    internet\n",
       "104817  1499_212     1499   2018-09-11     0.00    internet\n",
       "104818  1499_213     1499   2018-10-15   430.27    internet\n",
       "104819  1499_214     1499   2018-10-18   261.13    internet\n",
       "\n",
       "[104820 rows x 5 columns]"
      ]
     },
     "execution_count": 49,
     "metadata": {},
     "output_type": "execute_result"
    }
   ],
   "source": [
    "# Add a column for telcom typle\n",
    "df_internet['telcom_type'] = 'internet'\n",
    "\n",
    "# Print a sample of data for the internet traffic\n",
    "df_internet.head(-5)\n"
   ]
  },
  {
   "cell_type": "markdown",
   "metadata": {},
   "source": [
    "### Fix and Enrich data"
   ]
  },
  {
   "cell_type": "code",
   "execution_count": 50,
   "metadata": {},
   "outputs": [],
   "source": [
    "# Round up megabytes used to the nearest gigabyte\n",
    "# 1 gigabyte = 1024 megabytes\n",
    "# 1 megabyte = 0.0009765625 gigabytes\n",
    "\n",
    "# Create a function to round up megabytes used to the nearest gigabyte\n",
    "def mb_to_gb(mb):\n",
    "    gb = mb * 0.0009765625\n",
    "    return gb"
   ]
  },
  {
   "cell_type": "code",
   "execution_count": 51,
   "metadata": {},
   "outputs": [
    {
     "data": {
      "text/html": [
       "<div>\n",
       "<style scoped>\n",
       "    .dataframe tbody tr th:only-of-type {\n",
       "        vertical-align: middle;\n",
       "    }\n",
       "\n",
       "    .dataframe tbody tr th {\n",
       "        vertical-align: top;\n",
       "    }\n",
       "\n",
       "    .dataframe thead th {\n",
       "        text-align: right;\n",
       "    }\n",
       "</style>\n",
       "<table border=\"1\" class=\"dataframe\">\n",
       "  <thead>\n",
       "    <tr style=\"text-align: right;\">\n",
       "      <th></th>\n",
       "      <th>id</th>\n",
       "      <th>user_id</th>\n",
       "      <th>session_date</th>\n",
       "      <th>mb_used</th>\n",
       "      <th>telcom_type</th>\n",
       "      <th>month</th>\n",
       "    </tr>\n",
       "  </thead>\n",
       "  <tbody>\n",
       "    <tr>\n",
       "      <th>0</th>\n",
       "      <td>1000_13</td>\n",
       "      <td>1000</td>\n",
       "      <td>2018-12-29</td>\n",
       "      <td>89.86</td>\n",
       "      <td>internet</td>\n",
       "      <td>12</td>\n",
       "    </tr>\n",
       "    <tr>\n",
       "      <th>1</th>\n",
       "      <td>1000_204</td>\n",
       "      <td>1000</td>\n",
       "      <td>2018-12-31</td>\n",
       "      <td>0.00</td>\n",
       "      <td>internet</td>\n",
       "      <td>12</td>\n",
       "    </tr>\n",
       "    <tr>\n",
       "      <th>2</th>\n",
       "      <td>1000_379</td>\n",
       "      <td>1000</td>\n",
       "      <td>2018-12-28</td>\n",
       "      <td>660.40</td>\n",
       "      <td>internet</td>\n",
       "      <td>12</td>\n",
       "    </tr>\n",
       "    <tr>\n",
       "      <th>3</th>\n",
       "      <td>1000_413</td>\n",
       "      <td>1000</td>\n",
       "      <td>2018-12-26</td>\n",
       "      <td>270.99</td>\n",
       "      <td>internet</td>\n",
       "      <td>12</td>\n",
       "    </tr>\n",
       "    <tr>\n",
       "      <th>4</th>\n",
       "      <td>1000_442</td>\n",
       "      <td>1000</td>\n",
       "      <td>2018-12-27</td>\n",
       "      <td>880.22</td>\n",
       "      <td>internet</td>\n",
       "      <td>12</td>\n",
       "    </tr>\n",
       "  </tbody>\n",
       "</table>\n",
       "</div>"
      ],
      "text/plain": [
       "         id  user_id session_date  mb_used telcom_type  month\n",
       "0   1000_13     1000   2018-12-29    89.86    internet     12\n",
       "1  1000_204     1000   2018-12-31     0.00    internet     12\n",
       "2  1000_379     1000   2018-12-28   660.40    internet     12\n",
       "3  1000_413     1000   2018-12-26   270.99    internet     12\n",
       "4  1000_442     1000   2018-12-27   880.22    internet     12"
      ]
     },
     "execution_count": 51,
     "metadata": {},
     "output_type": "execute_result"
    }
   ],
   "source": [
    "# Create a columb for the month\n",
    "df_internet['month'] = df_internet['session_date'].dt.month\n",
    "df_internet.head(5)"
   ]
  },
  {
   "cell_type": "code",
   "execution_count": 52,
   "metadata": {},
   "outputs": [
    {
     "data": {
      "text/html": [
       "<div>\n",
       "<style scoped>\n",
       "    .dataframe tbody tr th:only-of-type {\n",
       "        vertical-align: middle;\n",
       "    }\n",
       "\n",
       "    .dataframe tbody tr th {\n",
       "        vertical-align: top;\n",
       "    }\n",
       "\n",
       "    .dataframe thead th {\n",
       "        text-align: right;\n",
       "    }\n",
       "</style>\n",
       "<table border=\"1\" class=\"dataframe\">\n",
       "  <thead>\n",
       "    <tr style=\"text-align: right;\">\n",
       "      <th></th>\n",
       "      <th>internet_jan</th>\n",
       "      <th>internet_feb</th>\n",
       "      <th>internet_mar</th>\n",
       "      <th>internet_apr</th>\n",
       "      <th>internet_may</th>\n",
       "      <th>internet_jun</th>\n",
       "      <th>internet_jul</th>\n",
       "      <th>internet_aug</th>\n",
       "      <th>internet_sep</th>\n",
       "      <th>internet_oct</th>\n",
       "      <th>internet_nov</th>\n",
       "      <th>internet_dec</th>\n",
       "    </tr>\n",
       "    <tr>\n",
       "      <th>user_id</th>\n",
       "      <th></th>\n",
       "      <th></th>\n",
       "      <th></th>\n",
       "      <th></th>\n",
       "      <th></th>\n",
       "      <th></th>\n",
       "      <th></th>\n",
       "      <th></th>\n",
       "      <th></th>\n",
       "      <th></th>\n",
       "      <th></th>\n",
       "      <th></th>\n",
       "    </tr>\n",
       "  </thead>\n",
       "  <tbody>\n",
       "    <tr>\n",
       "      <th>1000</th>\n",
       "      <td>0</td>\n",
       "      <td>0</td>\n",
       "      <td>0</td>\n",
       "      <td>0</td>\n",
       "      <td>0</td>\n",
       "      <td>0</td>\n",
       "      <td>0</td>\n",
       "      <td>0</td>\n",
       "      <td>0</td>\n",
       "      <td>0</td>\n",
       "      <td>0</td>\n",
       "      <td>2</td>\n",
       "    </tr>\n",
       "    <tr>\n",
       "      <th>1001</th>\n",
       "      <td>0</td>\n",
       "      <td>0</td>\n",
       "      <td>0</td>\n",
       "      <td>0</td>\n",
       "      <td>0</td>\n",
       "      <td>0</td>\n",
       "      <td>0</td>\n",
       "      <td>7</td>\n",
       "      <td>14</td>\n",
       "      <td>22</td>\n",
       "      <td>19</td>\n",
       "      <td>19</td>\n",
       "    </tr>\n",
       "    <tr>\n",
       "      <th>1002</th>\n",
       "      <td>0</td>\n",
       "      <td>0</td>\n",
       "      <td>0</td>\n",
       "      <td>0</td>\n",
       "      <td>0</td>\n",
       "      <td>0</td>\n",
       "      <td>0</td>\n",
       "      <td>0</td>\n",
       "      <td>0</td>\n",
       "      <td>7</td>\n",
       "      <td>19</td>\n",
       "      <td>15</td>\n",
       "    </tr>\n",
       "    <tr>\n",
       "      <th>1003</th>\n",
       "      <td>0</td>\n",
       "      <td>0</td>\n",
       "      <td>0</td>\n",
       "      <td>0</td>\n",
       "      <td>0</td>\n",
       "      <td>0</td>\n",
       "      <td>0</td>\n",
       "      <td>0</td>\n",
       "      <td>0</td>\n",
       "      <td>0</td>\n",
       "      <td>0</td>\n",
       "      <td>27</td>\n",
       "    </tr>\n",
       "    <tr>\n",
       "      <th>1004</th>\n",
       "      <td>0</td>\n",
       "      <td>0</td>\n",
       "      <td>0</td>\n",
       "      <td>0</td>\n",
       "      <td>7</td>\n",
       "      <td>21</td>\n",
       "      <td>24</td>\n",
       "      <td>28</td>\n",
       "      <td>19</td>\n",
       "      <td>15</td>\n",
       "      <td>22</td>\n",
       "      <td>21</td>\n",
       "    </tr>\n",
       "    <tr>\n",
       "      <th>1005</th>\n",
       "      <td>0</td>\n",
       "      <td>0</td>\n",
       "      <td>0</td>\n",
       "      <td>0</td>\n",
       "      <td>0</td>\n",
       "      <td>0</td>\n",
       "      <td>0</td>\n",
       "      <td>0</td>\n",
       "      <td>0</td>\n",
       "      <td>0</td>\n",
       "      <td>0</td>\n",
       "      <td>17</td>\n",
       "    </tr>\n",
       "    <tr>\n",
       "      <th>1006</th>\n",
       "      <td>0</td>\n",
       "      <td>0</td>\n",
       "      <td>0</td>\n",
       "      <td>0</td>\n",
       "      <td>0</td>\n",
       "      <td>0</td>\n",
       "      <td>0</td>\n",
       "      <td>0</td>\n",
       "      <td>0</td>\n",
       "      <td>0</td>\n",
       "      <td>3</td>\n",
       "      <td>32</td>\n",
       "    </tr>\n",
       "    <tr>\n",
       "      <th>1007</th>\n",
       "      <td>0</td>\n",
       "      <td>0</td>\n",
       "      <td>0</td>\n",
       "      <td>0</td>\n",
       "      <td>0</td>\n",
       "      <td>0</td>\n",
       "      <td>0</td>\n",
       "      <td>24</td>\n",
       "      <td>28</td>\n",
       "      <td>37</td>\n",
       "      <td>24</td>\n",
       "      <td>29</td>\n",
       "    </tr>\n",
       "    <tr>\n",
       "      <th>1008</th>\n",
       "      <td>0</td>\n",
       "      <td>0</td>\n",
       "      <td>0</td>\n",
       "      <td>0</td>\n",
       "      <td>0</td>\n",
       "      <td>0</td>\n",
       "      <td>0</td>\n",
       "      <td>0</td>\n",
       "      <td>0</td>\n",
       "      <td>17</td>\n",
       "      <td>24</td>\n",
       "      <td>15</td>\n",
       "    </tr>\n",
       "    <tr>\n",
       "      <th>1009</th>\n",
       "      <td>0</td>\n",
       "      <td>0</td>\n",
       "      <td>0</td>\n",
       "      <td>0</td>\n",
       "      <td>20</td>\n",
       "      <td>19</td>\n",
       "      <td>30</td>\n",
       "      <td>24</td>\n",
       "      <td>21</td>\n",
       "      <td>23</td>\n",
       "      <td>25</td>\n",
       "      <td>24</td>\n",
       "    </tr>\n",
       "    <tr>\n",
       "      <th>1010</th>\n",
       "      <td>0</td>\n",
       "      <td>0</td>\n",
       "      <td>11</td>\n",
       "      <td>20</td>\n",
       "      <td>16</td>\n",
       "      <td>17</td>\n",
       "      <td>13</td>\n",
       "      <td>20</td>\n",
       "      <td>17</td>\n",
       "      <td>17</td>\n",
       "      <td>8</td>\n",
       "      <td>0</td>\n",
       "    </tr>\n",
       "    <tr>\n",
       "      <th>1011</th>\n",
       "      <td>0</td>\n",
       "      <td>0</td>\n",
       "      <td>0</td>\n",
       "      <td>0</td>\n",
       "      <td>0</td>\n",
       "      <td>7</td>\n",
       "      <td>21</td>\n",
       "      <td>21</td>\n",
       "      <td>17</td>\n",
       "      <td>24</td>\n",
       "      <td>22</td>\n",
       "      <td>20</td>\n",
       "    </tr>\n",
       "    <tr>\n",
       "      <th>1012</th>\n",
       "      <td>0</td>\n",
       "      <td>0</td>\n",
       "      <td>0</td>\n",
       "      <td>0</td>\n",
       "      <td>0</td>\n",
       "      <td>0</td>\n",
       "      <td>0</td>\n",
       "      <td>0</td>\n",
       "      <td>0</td>\n",
       "      <td>0</td>\n",
       "      <td>14</td>\n",
       "      <td>12</td>\n",
       "    </tr>\n",
       "    <tr>\n",
       "      <th>1013</th>\n",
       "      <td>0</td>\n",
       "      <td>0</td>\n",
       "      <td>0</td>\n",
       "      <td>0</td>\n",
       "      <td>0</td>\n",
       "      <td>0</td>\n",
       "      <td>0</td>\n",
       "      <td>0</td>\n",
       "      <td>0</td>\n",
       "      <td>0</td>\n",
       "      <td>0</td>\n",
       "      <td>20</td>\n",
       "    </tr>\n",
       "    <tr>\n",
       "      <th>1014</th>\n",
       "      <td>0</td>\n",
       "      <td>0</td>\n",
       "      <td>0</td>\n",
       "      <td>0</td>\n",
       "      <td>0</td>\n",
       "      <td>0</td>\n",
       "      <td>0</td>\n",
       "      <td>0</td>\n",
       "      <td>0</td>\n",
       "      <td>0</td>\n",
       "      <td>2</td>\n",
       "      <td>8</td>\n",
       "    </tr>\n",
       "  </tbody>\n",
       "</table>\n",
       "</div>"
      ],
      "text/plain": [
       "         internet_jan  internet_feb  internet_mar  internet_apr  internet_may  \\\n",
       "user_id                                                                         \n",
       "1000                0             0             0             0             0   \n",
       "1001                0             0             0             0             0   \n",
       "1002                0             0             0             0             0   \n",
       "1003                0             0             0             0             0   \n",
       "1004                0             0             0             0             7   \n",
       "1005                0             0             0             0             0   \n",
       "1006                0             0             0             0             0   \n",
       "1007                0             0             0             0             0   \n",
       "1008                0             0             0             0             0   \n",
       "1009                0             0             0             0            20   \n",
       "1010                0             0            11            20            16   \n",
       "1011                0             0             0             0             0   \n",
       "1012                0             0             0             0             0   \n",
       "1013                0             0             0             0             0   \n",
       "1014                0             0             0             0             0   \n",
       "\n",
       "         internet_jun  internet_jul  internet_aug  internet_sep  internet_oct  \\\n",
       "user_id                                                                         \n",
       "1000                0             0             0             0             0   \n",
       "1001                0             0             7            14            22   \n",
       "1002                0             0             0             0             7   \n",
       "1003                0             0             0             0             0   \n",
       "1004               21            24            28            19            15   \n",
       "1005                0             0             0             0             0   \n",
       "1006                0             0             0             0             0   \n",
       "1007                0             0            24            28            37   \n",
       "1008                0             0             0             0            17   \n",
       "1009               19            30            24            21            23   \n",
       "1010               17            13            20            17            17   \n",
       "1011                7            21            21            17            24   \n",
       "1012                0             0             0             0             0   \n",
       "1013                0             0             0             0             0   \n",
       "1014                0             0             0             0             0   \n",
       "\n",
       "         internet_nov  internet_dec  \n",
       "user_id                              \n",
       "1000                0             2  \n",
       "1001               19            19  \n",
       "1002               19            15  \n",
       "1003                0            27  \n",
       "1004               22            21  \n",
       "1005                0            17  \n",
       "1006                3            32  \n",
       "1007               24            29  \n",
       "1008               24            15  \n",
       "1009               25            24  \n",
       "1010                8             0  \n",
       "1011               22            20  \n",
       "1012               14            12  \n",
       "1013                0            20  \n",
       "1014                2             8  "
      ]
     },
     "execution_count": 52,
     "metadata": {},
     "output_type": "execute_result"
    }
   ],
   "source": [
    "# Create a Pivot Table : the index is the user_id, the columns are the months, the values are the number of messages\n",
    "df_internet_pivot = df_internet.pivot_table(index='user_id', columns='month', values='mb_used', aggfunc='sum')\n",
    "df_internet_pivot.columns = ['internet_jan', 'internet_feb', 'internet_mar', 'internet_apr', 'internet_may', 'internet_jun', 'internet_jul', 'internet_aug', 'internet_sep', 'internet_oct', 'internet_nov', 'internet_dec']\n",
    "# Drop NaN values\n",
    "df_internet_pivot = df_internet_pivot.fillna(0)\n",
    "# Roud up megabytes used to the nearest gigabyte\n",
    "df_internet_pivot = df_internet_pivot.applymap(mb_to_gb)\n",
    "# Round values up to the nearest integer\n",
    "df_internet_pivot = df_internet_pivot.applymap(np.ceil)\n",
    "# Convert the values to integers\n",
    "df_internet_pivot = df_internet_pivot.astype('int')\n",
    "\n",
    "df_internet_pivot.head(15)\n"
   ]
  },
  {
   "cell_type": "markdown",
   "metadata": {},
   "source": [
    "### Study plan conditions"
   ]
  },
  {
   "cell_type": "markdown",
   "metadata": {},
   "source": [
    "Description of the plans: <br>\n",
    "Note: Megaline rounds seconds up to minutes, and megabytes to gigabytes. For calls, each individual call is rounded up: even if the call lasted just one second, it will be counted as one minute. For web traffic, individual web sessions are not rounded up. Instead, the total for the month is rounded up. If someone uses 1025 megabytes this month, they will be charged for 2 gigabytes. <br>\n",
    "### Surf <br>\n",
    "Monthly charge: $20 <br>\n",
    "500 monthly minutes, 50 texts, and 15 GB of data <br>\n",
    "After exceeding the package limits: <br>\n",
    "1 minute: 3 cents <br>\n",
    "1 text message: 3 cents <br>\n",
    "1 GB of data: $10 <br>\n",
    "### Ultimate <br>\n",
    "Monthly charge: $70 <br>\n",
    "3000 monthly minutes, 1000 text messages, and 30 GB of data <br>\n",
    "After exceeding the package limits: <br>\n",
    "1 minute: 1 cent <br>\n",
    "1 text message: 1 cent <br>\n",
    "1 GB of data: $7 <br>"
   ]
  },
  {
   "cell_type": "code",
   "execution_count": 53,
   "metadata": {},
   "outputs": [
    {
     "data": {
      "text/html": [
       "<div>\n",
       "<style scoped>\n",
       "    .dataframe tbody tr th:only-of-type {\n",
       "        vertical-align: middle;\n",
       "    }\n",
       "\n",
       "    .dataframe tbody tr th {\n",
       "        vertical-align: top;\n",
       "    }\n",
       "\n",
       "    .dataframe thead th {\n",
       "        text-align: right;\n",
       "    }\n",
       "</style>\n",
       "<table border=\"1\" class=\"dataframe\">\n",
       "  <thead>\n",
       "    <tr style=\"text-align: right;\">\n",
       "      <th></th>\n",
       "      <th>messages_included</th>\n",
       "      <th>mb_per_month_included</th>\n",
       "      <th>minutes_included</th>\n",
       "      <th>usd_monthly_pay</th>\n",
       "      <th>usd_per_gb</th>\n",
       "      <th>usd_per_message</th>\n",
       "      <th>usd_per_minute</th>\n",
       "      <th>plan_name</th>\n",
       "    </tr>\n",
       "  </thead>\n",
       "  <tbody>\n",
       "    <tr>\n",
       "      <th>0</th>\n",
       "      <td>50</td>\n",
       "      <td>15360</td>\n",
       "      <td>500</td>\n",
       "      <td>20</td>\n",
       "      <td>10</td>\n",
       "      <td>0.03</td>\n",
       "      <td>0.03</td>\n",
       "      <td>surf</td>\n",
       "    </tr>\n",
       "    <tr>\n",
       "      <th>1</th>\n",
       "      <td>1000</td>\n",
       "      <td>30720</td>\n",
       "      <td>3000</td>\n",
       "      <td>70</td>\n",
       "      <td>7</td>\n",
       "      <td>0.01</td>\n",
       "      <td>0.01</td>\n",
       "      <td>ultimate</td>\n",
       "    </tr>\n",
       "  </tbody>\n",
       "</table>\n",
       "</div>"
      ],
      "text/plain": [
       "   messages_included  mb_per_month_included  minutes_included  \\\n",
       "0                 50                  15360               500   \n",
       "1               1000                  30720              3000   \n",
       "\n",
       "   usd_monthly_pay  usd_per_gb  usd_per_message  usd_per_minute plan_name  \n",
       "0               20          10             0.03            0.03      surf  \n",
       "1               70           7             0.01            0.01  ultimate  "
      ]
     },
     "execution_count": 53,
     "metadata": {},
     "output_type": "execute_result"
    }
   ],
   "source": [
    "# Print out the plan conditions and make sure they are clear for you\n",
    "df_plans.head(5)\n"
   ]
  },
  {
   "cell_type": "markdown",
   "metadata": {},
   "source": [
    "## Aggregate data per user"
   ]
  },
  {
   "cell_type": "code",
   "execution_count": 54,
   "metadata": {},
   "outputs": [],
   "source": [
    "# Calculate the number of calls made by each user per month. Save the result.\n",
    "df_calls_pivot = df_calls.pivot_table(index='user_id', columns='month', values='id', aggfunc='count')\n",
    "df_calls_pivot.columns = ['calls_jan', 'calls_feb', 'calls_mar', 'calls_apr', 'calls_may', 'calls_jun', 'calls_jul', 'calls_aug', 'calls_sep', 'calls_oct', 'calls_nov', 'calls_dec']\n",
    "# Drop NaN values\n",
    "df_calls_pivot = df_calls_pivot.fillna(0)\n",
    "# Convert the values to integers\n",
    "df_calls_pivot = df_calls_pivot.astype('int')\n",
    "# df_calls_pivot.head(-5)\n",
    "\n"
   ]
  },
  {
   "cell_type": "code",
   "execution_count": 55,
   "metadata": {},
   "outputs": [],
   "source": [
    "# Calculate the amount of minutes spent by each user per month. Save the result.\n",
    "df_minutes_pivot = df_calls.pivot_table(index='user_id', columns='month', values='duration_round', aggfunc='sum')\n",
    "df_minutes_pivot.columns = ['minutes_jan', 'minutes_feb', 'minutes_mar', 'minutes_apr', 'minutes_may', 'minutes_jun', 'minutes_jul', 'minutes_aug', 'minutes_sep', 'minutes_oct', 'minutes_nov', 'minutes_dec']\n",
    "# Drop NaN values\n",
    "df_minutes_pivot = df_minutes_pivot.fillna(0)\n",
    "# Convert the values to integers\n",
    "df_minutes_pivot = df_minutes_pivot.astype('int')\n",
    "# df_minutes_pivot.head(-5)\n",
    "\n"
   ]
  },
  {
   "cell_type": "markdown",
   "metadata": {},
   "source": [
    "<div style=\"border:solid yellow 2px; padding: 20px\">\n",
    "<div class=\"alert alert-block alert-warning\">\n",
    "<b>Reviewer's comment v1:</b>\n",
    "\n",
    "In pivot_table or groupby it is possible to pass multiple arguments, so here, you can create an aggregated table in one go like this:\n",
    "\n",
    "data_calls.groupby(['user_id','month']).agg({'duration' : ('count','sum')}).reset_index()\n",
    "\n",
    "or \n",
    "\n",
    "data_calls.groupby(['user_id','month']).agg({'duration' : ('count','sum')}).reset_index()"
   ]
  },
  {
   "cell_type": "code",
   "execution_count": 56,
   "metadata": {},
   "outputs": [],
   "source": [
    "# Calculate the number of messages sent by each user per month. Save the result.\n",
    "df_messages_pivot = df_messages.pivot_table(index='user_id', columns='month', values='id', aggfunc='count')\n",
    "df_messages_pivot.columns = ['messages_jan', 'messages_feb', 'messages_mar', 'messages_apr', 'messages_may', 'messages_jun', 'messages_jul', 'messages_aug', 'messages_sep', 'messages_oct', 'messages_nov', 'messages_dec']\n",
    "# Drop NaN values\n",
    "df_messages_pivot = df_messages_pivot.fillna(0)\n",
    "# Convert the values to integers\n",
    "df_messages_pivot = df_messages_pivot.astype('int')\n",
    "# df_messages_pivot.head(-5)\n",
    "\n"
   ]
  },
  {
   "cell_type": "code",
   "execution_count": 57,
   "metadata": {},
   "outputs": [],
   "source": [
    "# Calculate the volume of internet traffic used by each user per month. Save the result.\n",
    "df_internet_pivot = df_internet.pivot_table(index='user_id', columns='month', values='mb_used', aggfunc='sum')\n",
    "df_internet_pivot.columns = ['internet_jan', 'internet_feb', 'internet_mar', 'internet_apr', 'internet_may', 'internet_jun', 'internet_jul', 'internet_aug', 'internet_sep', 'internet_oct', 'internet_nov', 'internet_dec']\n",
    "# Drop NaN values\n",
    "df_internet_pivot = df_internet_pivot.fillna(0)\n",
    "# Roud up megabytes used to the nearest gigabyte\n",
    "df_internet_pivot = df_internet_pivot.applymap(mb_to_gb)\n",
    "# Round values up to the nearest integer\n",
    "df_internet_pivot = df_internet_pivot.applymap(np.ceil)\n",
    "# Convert the values to integers\n",
    "df_internet_pivot = df_internet_pivot.astype('int')\n",
    "# df_internet_pivot.head(-5)\n",
    "\n"
   ]
  },
  {
   "cell_type": "code",
   "execution_count": 58,
   "metadata": {},
   "outputs": [
    {
     "data": {
      "text/html": [
       "<div>\n",
       "<style scoped>\n",
       "    .dataframe tbody tr th:only-of-type {\n",
       "        vertical-align: middle;\n",
       "    }\n",
       "\n",
       "    .dataframe tbody tr th {\n",
       "        vertical-align: top;\n",
       "    }\n",
       "\n",
       "    .dataframe thead th {\n",
       "        text-align: right;\n",
       "    }\n",
       "</style>\n",
       "<table border=\"1\" class=\"dataframe\">\n",
       "  <thead>\n",
       "    <tr style=\"text-align: right;\">\n",
       "      <th></th>\n",
       "      <th>id</th>\n",
       "      <th>user_id</th>\n",
       "      <th>call_date</th>\n",
       "      <th>duration</th>\n",
       "      <th>duration_round</th>\n",
       "      <th>month</th>\n",
       "      <th>telcom_type</th>\n",
       "      <th>call_month</th>\n",
       "    </tr>\n",
       "  </thead>\n",
       "  <tbody>\n",
       "    <tr>\n",
       "      <th>0</th>\n",
       "      <td>1000_93</td>\n",
       "      <td>1000</td>\n",
       "      <td>2018-12-27</td>\n",
       "      <td>8.52</td>\n",
       "      <td>9.0</td>\n",
       "      <td>12</td>\n",
       "      <td>calls</td>\n",
       "      <td>12</td>\n",
       "    </tr>\n",
       "    <tr>\n",
       "      <th>1</th>\n",
       "      <td>1000_145</td>\n",
       "      <td>1000</td>\n",
       "      <td>2018-12-27</td>\n",
       "      <td>13.66</td>\n",
       "      <td>14.0</td>\n",
       "      <td>12</td>\n",
       "      <td>calls</td>\n",
       "      <td>12</td>\n",
       "    </tr>\n",
       "    <tr>\n",
       "      <th>2</th>\n",
       "      <td>1000_247</td>\n",
       "      <td>1000</td>\n",
       "      <td>2018-12-27</td>\n",
       "      <td>14.48</td>\n",
       "      <td>15.0</td>\n",
       "      <td>12</td>\n",
       "      <td>calls</td>\n",
       "      <td>12</td>\n",
       "    </tr>\n",
       "    <tr>\n",
       "      <th>3</th>\n",
       "      <td>1000_309</td>\n",
       "      <td>1000</td>\n",
       "      <td>2018-12-28</td>\n",
       "      <td>5.76</td>\n",
       "      <td>6.0</td>\n",
       "      <td>12</td>\n",
       "      <td>calls</td>\n",
       "      <td>12</td>\n",
       "    </tr>\n",
       "    <tr>\n",
       "      <th>4</th>\n",
       "      <td>1000_380</td>\n",
       "      <td>1000</td>\n",
       "      <td>2018-12-30</td>\n",
       "      <td>4.22</td>\n",
       "      <td>5.0</td>\n",
       "      <td>12</td>\n",
       "      <td>calls</td>\n",
       "      <td>12</td>\n",
       "    </tr>\n",
       "  </tbody>\n",
       "</table>\n",
       "</div>"
      ],
      "text/plain": [
       "         id  user_id  call_date  duration  duration_round  month telcom_type  \\\n",
       "0   1000_93     1000 2018-12-27      8.52             9.0     12       calls   \n",
       "1  1000_145     1000 2018-12-27     13.66            14.0     12       calls   \n",
       "2  1000_247     1000 2018-12-27     14.48            15.0     12       calls   \n",
       "3  1000_309     1000 2018-12-28      5.76             6.0     12       calls   \n",
       "4  1000_380     1000 2018-12-30      4.22             5.0     12       calls   \n",
       "\n",
       "   call_month  \n",
       "0          12  \n",
       "1          12  \n",
       "2          12  \n",
       "3          12  \n",
       "4          12  "
      ]
     },
     "execution_count": 58,
     "metadata": {},
     "output_type": "execute_result"
    }
   ],
   "source": [
    "# Merge the aggregate data together into one DataFrame so that one record in it would represent what an unique user consumed in a given month.\n",
    "\n",
    "# Merge the data for calls, minutes, messages, internet based on user_id and month\n",
    "\n",
    "# Create a column for the month in df_calls\n",
    "df_calls['call_month'] = df_calls['call_date'].dt.month\n",
    "\n",
    "# Create a column for the month in df_messages\n",
    "df_messages['message_month'] = df_messages['message_date'].dt.month\n",
    "\n",
    "# Create a column for the month in df_internet\n",
    "df_internet['_internet_month'] = df_internet['session_date'].dt.month\n",
    "\n",
    "# Merge the data for calls, minutes, messages, internet based on user_id \n",
    "# and month (revering to not month, it breaks the code)\n",
    "\n",
    "df_merged = df_calls_pivot.merge(df_minutes_pivot, on='user_id', how='outer')\n",
    "df_merged = df_merged.merge(df_messages_pivot, on='user_id', how='outer')\n",
    "df_merged = df_merged.merge(df_internet_pivot, on='user_id', how='outer')\n",
    "df_merged = df_calls_pivot.merge(df_minutes_pivot, on='user_id')\n",
    "df_merged = df_merged.merge(df_messages_pivot, on='user_id')\n",
    "df_merged = df_merged.merge(df_internet_pivot, on='user_id')\n",
    "\n",
    "\n",
    "df_calls.head()"
   ]
  },
  {
   "cell_type": "code",
   "execution_count": 59,
   "metadata": {},
   "outputs": [],
   "source": [
    "# df_messages.head()"
   ]
  },
  {
   "cell_type": "code",
   "execution_count": 60,
   "metadata": {},
   "outputs": [],
   "source": [
    "# df_internet.head()"
   ]
  },
  {
   "cell_type": "code",
   "execution_count": 61,
   "metadata": {},
   "outputs": [
    {
     "data": {
      "text/html": [
       "<div>\n",
       "<style scoped>\n",
       "    .dataframe tbody tr th:only-of-type {\n",
       "        vertical-align: middle;\n",
       "    }\n",
       "\n",
       "    .dataframe tbody tr th {\n",
       "        vertical-align: top;\n",
       "    }\n",
       "\n",
       "    .dataframe thead th {\n",
       "        text-align: right;\n",
       "    }\n",
       "</style>\n",
       "<table border=\"1\" class=\"dataframe\">\n",
       "  <thead>\n",
       "    <tr style=\"text-align: right;\">\n",
       "      <th></th>\n",
       "      <th>user_id</th>\n",
       "      <th>calls_jan</th>\n",
       "      <th>calls_feb</th>\n",
       "      <th>calls_mar</th>\n",
       "      <th>calls_apr</th>\n",
       "      <th>calls_may</th>\n",
       "      <th>calls_jun</th>\n",
       "      <th>calls_jul</th>\n",
       "      <th>calls_aug</th>\n",
       "      <th>calls_sep</th>\n",
       "      <th>...</th>\n",
       "      <th>internet_dec</th>\n",
       "      <th>first_name</th>\n",
       "      <th>last_name</th>\n",
       "      <th>age</th>\n",
       "      <th>city</th>\n",
       "      <th>plan</th>\n",
       "      <th>reg_date</th>\n",
       "      <th>churn_date</th>\n",
       "      <th>churn_date_2018</th>\n",
       "      <th>monthly_plan_fee_total</th>\n",
       "    </tr>\n",
       "  </thead>\n",
       "  <tbody>\n",
       "    <tr>\n",
       "      <th>0</th>\n",
       "      <td>1000</td>\n",
       "      <td>0.0</td>\n",
       "      <td>0.0</td>\n",
       "      <td>0.0</td>\n",
       "      <td>0.0</td>\n",
       "      <td>0.0</td>\n",
       "      <td>0.0</td>\n",
       "      <td>0.0</td>\n",
       "      <td>0.0</td>\n",
       "      <td>0.0</td>\n",
       "      <td>...</td>\n",
       "      <td>2.0</td>\n",
       "      <td>Anamaria</td>\n",
       "      <td>Bauer</td>\n",
       "      <td>45</td>\n",
       "      <td>Atlanta-Sandy Springs-Roswell, GA MSA</td>\n",
       "      <td>ultimate</td>\n",
       "      <td>2018-12-24</td>\n",
       "      <td>NaT</td>\n",
       "      <td>2018-12-31</td>\n",
       "      <td>70.0</td>\n",
       "    </tr>\n",
       "    <tr>\n",
       "      <th>1</th>\n",
       "      <td>1001</td>\n",
       "      <td>0.0</td>\n",
       "      <td>0.0</td>\n",
       "      <td>0.0</td>\n",
       "      <td>0.0</td>\n",
       "      <td>0.0</td>\n",
       "      <td>0.0</td>\n",
       "      <td>0.0</td>\n",
       "      <td>27.0</td>\n",
       "      <td>49.0</td>\n",
       "      <td>...</td>\n",
       "      <td>19.0</td>\n",
       "      <td>Mickey</td>\n",
       "      <td>Wilkerson</td>\n",
       "      <td>28</td>\n",
       "      <td>Seattle-Tacoma-Bellevue, WA MSA</td>\n",
       "      <td>surf</td>\n",
       "      <td>2018-08-13</td>\n",
       "      <td>NaT</td>\n",
       "      <td>2018-12-31</td>\n",
       "      <td>100.0</td>\n",
       "    </tr>\n",
       "    <tr>\n",
       "      <th>2</th>\n",
       "      <td>1002</td>\n",
       "      <td>0.0</td>\n",
       "      <td>0.0</td>\n",
       "      <td>0.0</td>\n",
       "      <td>0.0</td>\n",
       "      <td>0.0</td>\n",
       "      <td>0.0</td>\n",
       "      <td>0.0</td>\n",
       "      <td>0.0</td>\n",
       "      <td>0.0</td>\n",
       "      <td>...</td>\n",
       "      <td>15.0</td>\n",
       "      <td>Carlee</td>\n",
       "      <td>Hoffman</td>\n",
       "      <td>36</td>\n",
       "      <td>Las Vegas-Henderson-Paradise, NV MSA</td>\n",
       "      <td>surf</td>\n",
       "      <td>2018-10-21</td>\n",
       "      <td>NaT</td>\n",
       "      <td>2018-12-31</td>\n",
       "      <td>60.0</td>\n",
       "    </tr>\n",
       "    <tr>\n",
       "      <th>3</th>\n",
       "      <td>1003</td>\n",
       "      <td>0.0</td>\n",
       "      <td>0.0</td>\n",
       "      <td>0.0</td>\n",
       "      <td>0.0</td>\n",
       "      <td>0.0</td>\n",
       "      <td>0.0</td>\n",
       "      <td>0.0</td>\n",
       "      <td>0.0</td>\n",
       "      <td>0.0</td>\n",
       "      <td>...</td>\n",
       "      <td>27.0</td>\n",
       "      <td>Reynaldo</td>\n",
       "      <td>Jenkins</td>\n",
       "      <td>52</td>\n",
       "      <td>Tulsa, OK MSA</td>\n",
       "      <td>surf</td>\n",
       "      <td>2018-01-28</td>\n",
       "      <td>NaT</td>\n",
       "      <td>2018-12-31</td>\n",
       "      <td>240.0</td>\n",
       "    </tr>\n",
       "    <tr>\n",
       "      <th>4</th>\n",
       "      <td>1004</td>\n",
       "      <td>0.0</td>\n",
       "      <td>0.0</td>\n",
       "      <td>0.0</td>\n",
       "      <td>0.0</td>\n",
       "      <td>21.0</td>\n",
       "      <td>44.0</td>\n",
       "      <td>49.0</td>\n",
       "      <td>49.0</td>\n",
       "      <td>42.0</td>\n",
       "      <td>...</td>\n",
       "      <td>21.0</td>\n",
       "      <td>Leonila</td>\n",
       "      <td>Thompson</td>\n",
       "      <td>40</td>\n",
       "      <td>Seattle-Tacoma-Bellevue, WA MSA</td>\n",
       "      <td>surf</td>\n",
       "      <td>2018-05-23</td>\n",
       "      <td>NaT</td>\n",
       "      <td>2018-12-31</td>\n",
       "      <td>160.0</td>\n",
       "    </tr>\n",
       "  </tbody>\n",
       "</table>\n",
       "<p>5 rows × 58 columns</p>\n",
       "</div>"
      ],
      "text/plain": [
       "   user_id  calls_jan  calls_feb  calls_mar  calls_apr  calls_may  calls_jun  \\\n",
       "0     1000        0.0        0.0        0.0        0.0        0.0        0.0   \n",
       "1     1001        0.0        0.0        0.0        0.0        0.0        0.0   \n",
       "2     1002        0.0        0.0        0.0        0.0        0.0        0.0   \n",
       "3     1003        0.0        0.0        0.0        0.0        0.0        0.0   \n",
       "4     1004        0.0        0.0        0.0        0.0       21.0       44.0   \n",
       "\n",
       "   calls_jul  calls_aug  calls_sep  ...  internet_dec  first_name  last_name  \\\n",
       "0        0.0        0.0        0.0  ...           2.0    Anamaria      Bauer   \n",
       "1        0.0       27.0       49.0  ...          19.0      Mickey  Wilkerson   \n",
       "2        0.0        0.0        0.0  ...          15.0      Carlee    Hoffman   \n",
       "3        0.0        0.0        0.0  ...          27.0    Reynaldo    Jenkins   \n",
       "4       49.0       49.0       42.0  ...          21.0     Leonila   Thompson   \n",
       "\n",
       "   age                                   city      plan   reg_date  \\\n",
       "0   45  Atlanta-Sandy Springs-Roswell, GA MSA  ultimate 2018-12-24   \n",
       "1   28        Seattle-Tacoma-Bellevue, WA MSA      surf 2018-08-13   \n",
       "2   36   Las Vegas-Henderson-Paradise, NV MSA      surf 2018-10-21   \n",
       "3   52                          Tulsa, OK MSA      surf 2018-01-28   \n",
       "4   40        Seattle-Tacoma-Bellevue, WA MSA      surf 2018-05-23   \n",
       "\n",
       "   churn_date  churn_date_2018  monthly_plan_fee_total  \n",
       "0         NaT       2018-12-31                    70.0  \n",
       "1         NaT       2018-12-31                   100.0  \n",
       "2         NaT       2018-12-31                    60.0  \n",
       "3         NaT       2018-12-31                   240.0  \n",
       "4         NaT       2018-12-31                   160.0  \n",
       "\n",
       "[5 rows x 58 columns]"
      ]
     },
     "execution_count": 61,
     "metadata": {},
     "output_type": "execute_result"
    }
   ],
   "source": [
    "# Add the plan information\n",
    "df_merged = df_merged.merge(df_users, on='user_id', how='outer')\n",
    "df_merged.head(5)"
   ]
  },
  {
   "cell_type": "code",
   "execution_count": 62,
   "metadata": {},
   "outputs": [],
   "source": [
    "#Calculate the monthly revenue from each user (subtract the free package limit from the total number of calls, text messages, and data; multiply the result by the calling plan value; add the monthly charge depending on the calling plan). N.B. This might not be as trivial as just a couple of lines given the plan conditions! So, it's okay to spend some time on it.\n",
    "\n",
    "\n",
    "def calculate_revenue(row):\n",
    "    revenue = 0\n",
    "    # Calculate the revenue from calls\n",
    "    if row['plan'] == 'ultimate':\n",
    "        if row['minutes_jan'] > 3000:\n",
    "            revenue += (row['minutes_jan'] - 3000) * 0.01\n",
    "        if row['minutes_feb'] > 3000:\n",
    "            revenue += (row['minutes_feb'] - 3000) * 0.01\n",
    "        if row['minutes_mar'] > 3000:\n",
    "            revenue += (row['minutes_mar'] - 3000) * 0.01\n",
    "        if row['minutes_apr'] > 3000:\n",
    "            revenue += (row['minutes_apr'] - 3000) * 0.01\n",
    "        if row['minutes_may'] > 3000:\n",
    "            revenue += (row['minutes_may'] - 3000) * 0.01\n",
    "        if row['minutes_jun'] > 3000:\n",
    "            revenue += (row['minutes_jun'] - 3000) * 0.01\n",
    "        if row['minutes_jul'] > 3000:\n",
    "            revenue += (row['minutes_jul'] - 3000) * 0.01\n",
    "        if row['minutes_aug'] > 3000:\n",
    "            revenue += (row['minutes_aug'] - 3000) * 0.01\n",
    "        if row['minutes_sep'] > 3000:\n",
    "            revenue += (row['minutes_sep'] - 3000) * 0.01\n",
    "        if row['minutes_oct'] > 3000:\n",
    "            revenue += (row['minutes_oct'] - 3000) * 0.01\n",
    "        if row['minutes_nov'] > 3000:\n",
    "            revenue += (row['minutes_nov'] - 3000) * 0.01\n",
    "        if row['minutes_dec'] > 3000:\n",
    "            revenue += (row['minutes_dec'] - 3000) * 0.01\n",
    "    elif row['plan'] == 'surf':\n",
    "        if row['minutes_jan'] > 500:\n",
    "            revenue += (row['minutes_jan'] - 500) * 0.03\n",
    "        if row['minutes_feb'] > 500:\n",
    "            revenue += (row['minutes_feb'] - 500) * 0.03\n",
    "        if row['minutes_mar'] > 500:\n",
    "            revenue += (row['minutes_mar'] - 500) * 0.03\n",
    "        if row['minutes_apr'] > 500:\n",
    "            revenue += (row['minutes_apr'] - 500) * 0.03\n",
    "        if row['minutes_may'] > 500:\n",
    "            revenue += (row['minutes_may'] - 500) * 0.03\n",
    "        if row['minutes_jun'] > 500:\n",
    "            revenue += (row['minutes_jun'] - 500) * 0.03\n",
    "        if row['minutes_jul'] > 500:\n",
    "            revenue += (row['minutes_jul'] - 500) * 0.03\n",
    "        if row['minutes_aug'] > 500:\n",
    "            revenue += (row['minutes_aug'] - 500) * 0.03\n",
    "        if row['minutes_sep'] > 500:\n",
    "            revenue += (row['minutes_sep'] - 500) * 0.03\n",
    "        if row['minutes_oct'] > 500:\n",
    "            revenue += (row['minutes_oct'] - 500) * 0.03\n",
    "        if row['minutes_nov'] > 500:\n",
    "            revenue += (row['minutes_nov'] - 500) * 0.03\n",
    "        if row['minutes_dec'] > 500:\n",
    "            revenue += (row['minutes_dec'] - 500) * 0.03\n",
    "    # Calculate the revenue from messages\n",
    "    if row['plan'] == 'ultimate':\n",
    "        if row['messages_jan'] > 1000:\n",
    "            revenue += (row['messages_jan'] - 1000) * 0.01\n",
    "        if row['messages_feb'] > 1000:\n",
    "            revenue += (row['messages_feb'] - 1000) * 0.01\n",
    "        if row['messages_mar'] > 1000:\n",
    "            revenue += (row['messages_mar'] - 1000) * 0.01\n",
    "        if row['messages_apr'] > 1000:\n",
    "            revenue += (row['messages_apr'] - 1000) * 0.01\n",
    "        if row['messages_may'] > 1000:\n",
    "            revenue += (row['messages_may'] - 1000) * 0.01\n",
    "        if row['messages_jun'] > 1000:\n",
    "            revenue += (row['messages_jun'] - 1000) * 0.01\n",
    "        if row['messages_jul'] > 1000:\n",
    "            revenue += (row['messages_jul'] - 1000) * 0.01\n",
    "        if row['messages_aug'] > 1000:\n",
    "            revenue += (row['messages_aug'] - 1000) * 0.01\n",
    "        if row['messages_sep'] > 1000:\n",
    "            revenue += (row['messages_sep'] - 1000) * 0.01\n",
    "        if row['messages_oct'] > 1000:\n",
    "            revenue += (row['messages_oct'] - 1000) * 0.01\n",
    "        if row['messages_nov'] > 1000:\n",
    "            revenue += (row['messages_nov'] - 1000) * 0.01\n",
    "        if row['messages_dec'] > 1000:\n",
    "            revenue += (row['messages_dec'] - 1000) * 0.01\n",
    "    elif row['plan'] == 'surf':\n",
    "        if row['messages_jan'] > 50:\n",
    "            revenue += (row['messages_jan'] - 50) * 0.03\n",
    "        if row['messages_feb'] > 50:\n",
    "            revenue += (row['messages_feb'] - 50) * 0.03\n",
    "        if row['messages_mar'] > 50:\n",
    "            revenue += (row['messages_mar'] - 50) * 0.03\n",
    "        if row['messages_apr'] > 50:\n",
    "            revenue += (row['messages_apr'] - 50) * 0.03\n",
    "        if row['messages_may'] > 50:\n",
    "            revenue += (row['messages_may'] - 50) * 0.03\n",
    "        if row['messages_jun'] > 50:\n",
    "            revenue += (row['messages_jun'] - 50) * 0.03\n",
    "        if row['messages_jul'] > 50:\n",
    "            revenue += (row['messages_jul'] - 50) * 0.03\n",
    "        if row['messages_aug'] > 50:\n",
    "            revenue += (row['messages_aug'] - 50) * 0.03\n",
    "        if row['messages_sep'] > 50:\n",
    "            revenue += (row['messages_sep'] - 50) * 0.03\n",
    "        if row['messages_oct'] > 50:\n",
    "            revenue += (row['messages_oct'] - 50) * 0.03\n",
    "        if row['messages_nov'] > 50:\n",
    "            revenue += (row['messages_nov'] - 50) * 0.03\n",
    "        if row['messages_dec'] > 50:\n",
    "            revenue += (row['messages_dec'] - 50) * 0.03\n",
    "    # Calculate the revenue from internet\n",
    "    if row['plan'] == 'ultimate':\n",
    "        if row['internet_jan'] > 30720:\n",
    "            revenue += (row['internet_jan'] - 30720) * 0.01\n",
    "        if row['internet_feb'] > 30720:\n",
    "            revenue += (row['internet_feb'] - 30720) * 0.01\n",
    "        if row['internet_mar'] > 30720:\n",
    "            revenue += (row['internet_mar'] - 30720) * 0.01\n",
    "        if row['internet_apr'] > 30720:\n",
    "            revenue += (row['internet_apr'] - 30720) * 0.01\n",
    "        if row['internet_may'] > 30720:\n",
    "            revenue += (row['internet_may'] - 30720) * 0.01\n",
    "        if row['internet_jun'] > 30720:\n",
    "            revenue += (row['internet_jun'] - 30720) * 0.01\n",
    "        if row['internet_jul'] > 30720:\n",
    "            revenue += (row['internet_jul'] - 30720) * 0.01\n",
    "        if row['internet_aug'] > 30720:\n",
    "            revenue += (row['internet_aug'] - 30720) * 0.01\n",
    "        if row['internet_sep'] > 30720:\n",
    "            revenue += (row['internet_sep'] - 30720) * 0.01\n",
    "        if row['internet_oct'] > 30720:\n",
    "            revenue += (row['internet_oct'] - 30720) * 0.01\n",
    "        if row['internet_nov'] > 30720:\n",
    "            revenue += (row['internet_nov'] - 30720) * 0.01\n",
    "        if row['internet_dec'] > 30720:\n",
    "            revenue += (row['internet_dec'] - 30720) * 0.01\n",
    "    elif row['plan'] == 'surf':\n",
    "        if row['internet_jan'] > 15360:\n",
    "            revenue += (row['internet_jan'] - 15360) * 0.03\n",
    "        if row['internet_feb'] > 15360:\n",
    "            revenue += (row['internet_feb'] - 15360) * 0.03\n",
    "        if row['internet_mar'] > 15360:\n",
    "            revenue += (row['internet_mar'] - 15360) * 0.03\n",
    "        if row['internet_apr'] > 15360:\n",
    "            revenue += (row['internet_apr'] - 15360) * 0.03\n",
    "        if row['internet_may'] > 15360:\n",
    "            revenue += (row['internet_may'] - 15360) * 0.03\n",
    "        if row['internet_jun'] > 15360:\n",
    "            revenue += (row['internet_jun'] - 15360) * 0.03\n",
    "        if row['internet_jul'] > 15360:\n",
    "            revenue += (row['internet_jul'] - 15360) * 0.03\n",
    "        if row['internet_aug'] > 15360:\n",
    "            revenue += (row['internet_aug'] - 15360) * 0.03\n",
    "        if row['internet_sep'] > 15360:\n",
    "            revenue += (row['internet_sep'] - 15360) * 0.03\n",
    "        if row['internet_oct'] > 15360:\n",
    "            revenue += (row['internet_oct'] - 15360) * 0.03\n",
    "        if row['internet_nov'] > 15360:\n",
    "            revenue += (row['internet_nov'] - 15360) * 0.03\n",
    "        if row['internet_dec'] > 15360:\n",
    "            revenue += (row['internet_dec'] - 15360) * 0.03\n",
    "    return revenue\n",
    "\n"
   ]
  },
  {
   "cell_type": "code",
   "execution_count": 63,
   "metadata": {},
   "outputs": [],
   "source": [
    "# Calculate the monthly revenue for each user using df_merged\n",
    "df_merged['revenue'] = df_merged.apply(calculate_revenue, axis=1)\n",
    "\n",
    "# Calculate the total revenue for each user\n",
    "df_merged['total_revenue'] = df_merged['revenue'] + df_merged['monthly_plan_fee_total']\n",
    "\n",
    "# df_merged.head()"
   ]
  },
  {
   "cell_type": "markdown",
   "metadata": {},
   "source": [
    "<div style=\"border:solid red 2px; padding: 20px\"><div class=\"alert alert-block alert-danger\">\n",
    "<b>Reviewer's comment v1:</b>\n",
    "    \n",
    "Based on the project description, it has been asked to calculate a monthly revenue from each user. To achieve that, you need during merge use both user_id and month, so that in the dataframe we will get information per each user and month.\n",
    "\n",
    "Can you please update that?\n",
    "    \n",
    "PS: during the data joining please pay attention to the merging method (outer/left/right)."
   ]
  },
  {
   "cell_type": "markdown",
   "metadata": {},
   "source": [
    "<div style=\"border:solid Blue 2px; padding: 20px\">\n",
    "<b>Student comment v1:</b>\n",
    "    \n",
    "The challenge I ran into merging on both user_id AND month is that the dataset contains info for internet, messages, and calls, each of which contributes to varying amounts for additional fees for every user, every month. Thus merging on month would cause some of the nuance of the rest of the dataset to get lost. If that isn't the case, I couldn't find a way around it. Thus I created columns for message month, inernet month, and calls month, and then ran the formula over each column to come up with a summarized total revenue for each user.\n",
    "\n",
    "I had to do some backflips in the notebook later to sort this all out, but I think I eventually came to the correct conclusions. <br>\n",
    "<br>\n",
    "Added how='outer' to the data frame merge code blocks above"
   ]
  },
  {
   "cell_type": "markdown",
   "metadata": {},
   "source": [
    "<div class=\"alert alert-success\">\n",
    "<b>Reviewer's comment v2:</b>\n",
    "    \n",
    "Everything is correct now! \n",
    "    \n",
    "Btw it is also possible to make the calculation of revenue a little bit differently using np.where - [https://numpy.org/doc/stable/reference/generated/numpy.where.html](https://numpy.org/doc/stable/reference/generated/numpy.where.html)\n",
    "\n",
    "```\n",
    "  np.where ('condition: if exceeding the package limit', 'multiply the difference by the price of additional services', '0')\n",
    "```\n",
    "    \n",
    "Also, it is better to avoid hard-coding in your functions of all values from the data plans. These values could be frequently updated and it will be annoyingly inconvenient to update them once again in the function. I would recommend using an actual table with values or create a separate data dictionary - https://towardsdatascience.com/12-examples-to-master-python-dictionaries-5a8bcd688c6d \n",
    "    \n",
    "Great thing about python is that there are so many libraries and ready-to-use functions. For example, this task can also be solved using `.clip()` (a useful method in many tasks). You can read about it here: [https://www.pythonpool.com/numpy-clip/](https://www.pythonpool.com/numpy-clip/)\n",
    "\n",
    "    total5['gb_surcharge'] = (total5['gb_used'] - total5['gb_per_month_included']).clip(0) * total5['usd_per_gb']"
   ]
  },
  {
   "attachments": {
    "image.png": {
     "image/png": "[encoded data removed]"
    }
   },
   "cell_type": "markdown",
   "metadata": {},
   "source": [
    "<div class=\"alert alert-warning\">\n",
    "<b>Reviewer's comment v2:</b>\n",
    "    \n",
    "Overall I can advise to keep this data in the following format (multiple rows for the same user): \n",
    "    \n",
    "![image.png](attachment:image.png)  \n",
    "    \n",
    "In that way it is easier to go through rows and make required calculations. You can create this dataframe by joining it by user_id and month in the following way: \n",
    "    \n",
    "     from functools import reduce\n",
    "    data_frames = [calls_agg, texts_agg, internet_agg]\n",
    "    df_merged = reduce(lambda  left,right: pd.merge(left,right,on=['user_id','call_month'],how='outer'), data_frames)\n",
    "    \n",
    "    # To fill cells with NaN values when user did not use this service.\n",
    "    df_merged = df_merged.fillna(0)"
   ]
  },
  {
   "cell_type": "code",
   "execution_count": 64,
   "metadata": {},
   "outputs": [],
   "source": [
    "# Check the result\n",
    "# df_merged.head(5)"
   ]
  },
  {
   "cell_type": "markdown",
   "metadata": {},
   "source": [
    "## Study user behaviour"
   ]
  },
  {
   "cell_type": "markdown",
   "metadata": {},
   "source": [
    "We will Calculate useful descriptive statistics for the aggregated and merged data, <br>\n",
    "which will reveal an overall picture of the data. <br> \n",
    "Draw useful plots to help the understanding. <br>\n",
    "We will stucture the statistics and the plots on a per-plan basis to better inform our hypothesis."
   ]
  },
  {
   "cell_type": "markdown",
   "metadata": {},
   "source": [
    "### Calls"
   ]
  },
  {
   "cell_type": "code",
   "execution_count": 65,
   "metadata": {},
   "outputs": [
    {
     "data": {
      "text/plain": [
       "count    500.000000\n",
       "mean     246.585960\n",
       "std      212.723527\n",
       "min        0.000000\n",
       "25%      100.000000\n",
       "50%      180.000000\n",
       "75%      280.305000\n",
       "max      910.000000\n",
       "Name: total_revenue, dtype: float64"
      ]
     },
     "metadata": {},
     "output_type": "display_data"
    }
   ],
   "source": [
    "display(df_merged['total_revenue'].describe())"
   ]
  },
  {
   "cell_type": "code",
   "execution_count": 66,
   "metadata": {},
   "outputs": [
    {
     "data": {
      "text/html": [
       "<div>\n",
       "<style scoped>\n",
       "    .dataframe tbody tr th:only-of-type {\n",
       "        vertical-align: middle;\n",
       "    }\n",
       "\n",
       "    .dataframe tbody tr th {\n",
       "        vertical-align: top;\n",
       "    }\n",
       "\n",
       "    .dataframe thead th {\n",
       "        text-align: right;\n",
       "    }\n",
       "</style>\n",
       "<table border=\"1\" class=\"dataframe\">\n",
       "  <thead>\n",
       "    <tr style=\"text-align: right;\">\n",
       "      <th></th>\n",
       "      <th>messages_included</th>\n",
       "      <th>mb_per_month_included</th>\n",
       "      <th>minutes_included</th>\n",
       "      <th>usd_monthly_pay</th>\n",
       "      <th>usd_per_gb</th>\n",
       "      <th>usd_per_message</th>\n",
       "      <th>usd_per_minute</th>\n",
       "      <th>plan_name</th>\n",
       "    </tr>\n",
       "  </thead>\n",
       "  <tbody>\n",
       "    <tr>\n",
       "      <th>0</th>\n",
       "      <td>50</td>\n",
       "      <td>15360</td>\n",
       "      <td>500</td>\n",
       "      <td>20</td>\n",
       "      <td>10</td>\n",
       "      <td>0.03</td>\n",
       "      <td>0.03</td>\n",
       "      <td>surf</td>\n",
       "    </tr>\n",
       "    <tr>\n",
       "      <th>1</th>\n",
       "      <td>1000</td>\n",
       "      <td>30720</td>\n",
       "      <td>3000</td>\n",
       "      <td>70</td>\n",
       "      <td>7</td>\n",
       "      <td>0.01</td>\n",
       "      <td>0.01</td>\n",
       "      <td>ultimate</td>\n",
       "    </tr>\n",
       "  </tbody>\n",
       "</table>\n",
       "</div>"
      ],
      "text/plain": [
       "   messages_included  mb_per_month_included  minutes_included  \\\n",
       "0                 50                  15360               500   \n",
       "1               1000                  30720              3000   \n",
       "\n",
       "   usd_monthly_pay  usd_per_gb  usd_per_message  usd_per_minute plan_name  \n",
       "0               20          10             0.03            0.03      surf  \n",
       "1               70           7             0.01            0.01  ultimate  "
      ]
     },
     "execution_count": 66,
     "metadata": {},
     "output_type": "execute_result"
    }
   ],
   "source": [
    "df_plans.head()"
   ]
  },
  {
   "cell_type": "code",
   "execution_count": 67,
   "metadata": {},
   "outputs": [
    {
     "data": {
      "image/png": "[encoded data removed]",
      "text/plain": [
       "<Figure size 432x288 with 1 Axes>"
      ]
     },
     "metadata": {
      "needs_background": "light"
     },
     "output_type": "display_data"
    }
   ],
   "source": [
    "# Compare average duration of calls per each plan per each distinct month. Plot a bar plat to visualize it.\n",
    "\n",
    "# Createa a new dataframe\n",
    "# merge df_calls and df_users on 'user_id'\n",
    "df_calls_with_user_plans = df_calls.merge(df_users, on='user_id', how='left')\n",
    "\n",
    "# Create a new column called 'month' and extract the month from the 'call_date' column\n",
    "df_calls_with_user_plans['month'] = pd.DatetimeIndex(df_calls_with_user_plans['call_date']).month\n",
    "\n",
    "# Create a column called 'duration_per_month' and group by 'user_id', 'month' and 'plan' and calculate the mean of the 'duration' column\n",
    "df_calls_with_user_plans['duration_per_month'] = df_calls_with_user_plans.groupby(['user_id', 'month', 'plan'])['duration'].transform('mean')\n",
    "\n",
    "# createa a column referencing the numerical month number with the month name\n",
    "df_calls_with_user_plans['month_name'] = df_calls_with_user_plans['month'].apply(lambda x: calendar.month_abbr[x])\n",
    "\n",
    "# Drop the duplicates\n",
    "df_calls_with_user_plans = df_calls_with_user_plans.drop_duplicates(subset=['user_id', 'month', 'plan'])\n",
    "\n",
    "# Plot a bar plot to visualize it\n",
    "sns.barplot(x='month_name', y='duration_per_month', hue='plan', data=df_calls_with_user_plans)\n",
    "plt.title('Average duration of calls per each plan per each distinct month')\n",
    "plt.xlabel('Month')\n",
    "plt.ylabel('Average duration of calls')\n",
    "plt.show()"
   ]
  },
  {
   "cell_type": "code",
   "execution_count": 68,
   "metadata": {},
   "outputs": [
    {
     "data": {
      "image/png": "[encoded data removed]",
      "text/plain": [
       "<Figure size 432x288 with 1 Axes>"
      ]
     },
     "metadata": {
      "needs_background": "light"
     },
     "output_type": "display_data"
    }
   ],
   "source": [
    " # Compare the number of total minutes users of each plan require each month. Plot a histogram.\n",
    "\n",
    "# Create a new column called 'duration_per_month' and group by 'user_id', 'month' and 'plan' and calculate the sum of the 'duration' column\n",
    "df_calls_with_user_plans['duration_per_month'] = df_calls_with_user_plans.groupby(['user_id', 'month', 'plan'])['duration'].transform('sum')\n",
    "\n",
    "# Drop the duplicates\n",
    "df_calls_with_user_plans = df_calls_with_user_plans.drop_duplicates(subset=['user_id', 'month', 'plan'])\n",
    "\n",
    "# Plot a histogram to visualize it\n",
    "# The x axis is month name and the y axis is the sum of the duration of calls per month\n",
    "sns.histplot(x='month_name', y='duration_per_month', hue='plan', data=df_calls_with_user_plans,)\n",
    "# Display x axis labels for each bar\n",
    "plt.xticks(np.arange(1, 13, 1), calendar.month_abbr[1:13])\n",
    "# align the x axis labels to the center of the bar\n",
    "plt.xticks(rotation=0, ha='center')\n",
    "plt.title('Number of minutes users of each plan require each month')\n",
    "plt.xlabel('Month')\n",
    "plt.ylabel('Number of minutes')\n",
    "plt.show()"
   ]
  },
  {
   "cell_type": "code",
   "execution_count": 69,
   "metadata": {},
   "outputs": [
    {
     "data": {
      "text/plain": [
       "12"
      ]
     },
     "execution_count": 69,
     "metadata": {},
     "output_type": "execute_result"
    }
   ],
   "source": [
    "# How many months are in the dataset?\n",
    "df_calls_with_user_plans['month'].nunique()"
   ]
  },
  {
   "cell_type": "code",
   "execution_count": 70,
   "metadata": {},
   "outputs": [
    {
     "name": "stdout",
     "output_type": "stream",
     "text": [
      "Mean:  6.681191319751993\n",
      "Variance:  33.553369913757145\n",
      "Standard deviation:  5.792527074926551\n"
     ]
    }
   ],
   "source": [
    "# Calculate the mean and the variance of the monthly call duration\n",
    "mean = df_calls_with_user_plans['duration_per_month'].mean()\n",
    "variance = df_calls_with_user_plans['duration_per_month'].var()\n",
    "std = df_calls_with_user_plans['duration_per_month'].std()\n",
    "print('Mean: ', mean)\n",
    "print('Variance: ', variance)\n",
    "print('Standard deviation: ', std)\n"
   ]
  },
  {
   "cell_type": "markdown",
   "metadata": {},
   "source": [
    "<div class=\"alert alert-warning\"><div style=\"border:solid Yellow 2px; padding: 20px\">\n",
    "<b>Reviewer's comment v1:</b>\n",
    "    \n",
    "It's great that you managed to calculate all the necessary metrics.\n",
    "\n",
    "There is also a way to display all statistical metrics in one table (you can pass all metrics to aggfunc at once.), using, for example, pivot_table:\n",
    "\n",
    "`data.pivot_table(index= 'tariff', values= '...', aggfunc= ['mean', 'var','std', 'median'])`"
   ]
  },
  {
   "cell_type": "code",
   "execution_count": 71,
   "metadata": {},
   "outputs": [
    {
     "data": {
      "image/png": "[encoded data removed]",
      "text/plain": [
       "<Figure size 432x288 with 1 Axes>"
      ]
     },
     "metadata": {
      "needs_background": "light"
     },
     "output_type": "display_data"
    }
   ],
   "source": [
    "# Plot a boxplot to visualize the distribution of the monthly call duration by plan\n",
    "\n",
    "# Create a new column called 'duration_per_month' and group by 'user_id', 'month' and 'plan' and calculate the sum of the 'duration' column\n",
    "df_calls_with_user_plans['duration_per_month'] = df_calls_with_user_plans.groupby(['user_id', 'month', 'plan'])['duration'].transform('sum')\n",
    "\n",
    "# Drop the duplicates\n",
    "df_calls_with_user_plans = df_calls_with_user_plans.drop_duplicates(subset=['user_id', 'month', 'plan'])\n",
    "\n",
    "# Plot a boxplot to visualize it\n",
    "# disntiguish between Plan type for each month\n",
    "sns.boxplot(x=df_calls_with_user_plans['month_name'], y=df_calls_with_user_plans['duration_per_month'], hue=df_calls_with_user_plans['plan'])\n",
    "plt.title('Distribution of the monthly call duration by plan')\n",
    "# Display x axis month names in calindar order\n",
    "plt.xticks(np.arange(1, 13, 1), calendar.month_abbr[1:13])\n",
    "# align the x axis labels to the center of the bar\n",
    "plt.xticks(rotation=0, ha='center')\n",
    "plt.xlabel('Month')\n",
    "plt.ylabel('Number of minutes')\n",
    "plt.show()\n"
   ]
  },
  {
   "cell_type": "code",
   "execution_count": 72,
   "metadata": {},
   "outputs": [
    {
     "data": {
      "image/png": "[encoded data removed]",
      "text/plain": [
       "<Figure size 432x288 with 2 Axes>"
      ]
     },
     "metadata": {
      "needs_background": "light"
     },
     "output_type": "display_data"
    }
   ],
   "source": [
    "df_calls_with_user_plans_archive = df_calls_with_user_plans\n",
    "\n",
    "# Calculate the corrilation between call durration and plan type for each month\n",
    "\n",
    "df_calls_with_user_plans['duration_per_month'] = df_calls_with_user_plans.groupby(['user_id', 'month', 'plan'])['duration'].transform('sum')\n",
    "df_calls_with_user_plans = df_calls_with_user_plans.drop_duplicates(subset=['user_id', 'month', 'plan'])\n",
    "\n",
    "# Create a copy of the dataframe\n",
    "df_calls_with_user_plans_corr = df_calls_with_user_plans.copy()\n",
    "# drop columns that are not needed\n",
    "df_calls_with_user_plans_corr = df_calls_with_user_plans_corr.drop(['user_id', 'month', 'duration', 'month_name', 'monthly_plan_fee_total', 'age'], axis=1)\n",
    "\n",
    "# Plot a heatmap to visualize the correlation between call duration and plan type for each month\n",
    "sns.heatmap(df_calls_with_user_plans_corr.corr(), annot=True, fmt='.2f', linewidths=1, cmap='Blues')\n",
    "plt.xticks(rotation=90)\n",
    "plt.yticks(rotation=0)\n",
    "plt.title('Correlation between call duration and plan type for each month')\n",
    "plt.show()\n",
    "\n",
    "# Well that was a lot of work to generate a completly useless graph...\n",
    "# Clearly that is not correct... I need to find a way to calculate the correlation between call duration and plan type for each month\n",
    "\n"
   ]
  },
  {
   "cell_type": "code",
   "execution_count": 73,
   "metadata": {},
   "outputs": [
    {
     "data": {
      "text/html": [
       "<div>\n",
       "<style scoped>\n",
       "    .dataframe tbody tr th:only-of-type {\n",
       "        vertical-align: middle;\n",
       "    }\n",
       "\n",
       "    .dataframe tbody tr th {\n",
       "        vertical-align: top;\n",
       "    }\n",
       "\n",
       "    .dataframe thead th {\n",
       "        text-align: right;\n",
       "    }\n",
       "</style>\n",
       "<table border=\"1\" class=\"dataframe\">\n",
       "  <thead>\n",
       "    <tr style=\"text-align: right;\">\n",
       "      <th></th>\n",
       "      <th>duration_round</th>\n",
       "      <th>call_month</th>\n",
       "      <th>duration_per_month</th>\n",
       "    </tr>\n",
       "  </thead>\n",
       "  <tbody>\n",
       "    <tr>\n",
       "      <th>duration_round</th>\n",
       "      <td>1.000000</td>\n",
       "      <td>0.001834</td>\n",
       "      <td>0.998627</td>\n",
       "    </tr>\n",
       "    <tr>\n",
       "      <th>call_month</th>\n",
       "      <td>0.001834</td>\n",
       "      <td>1.000000</td>\n",
       "      <td>0.003108</td>\n",
       "    </tr>\n",
       "    <tr>\n",
       "      <th>duration_per_month</th>\n",
       "      <td>0.998627</td>\n",
       "      <td>0.003108</td>\n",
       "      <td>1.000000</td>\n",
       "    </tr>\n",
       "  </tbody>\n",
       "</table>\n",
       "</div>"
      ],
      "text/plain": [
       "                    duration_round  call_month  duration_per_month\n",
       "duration_round            1.000000    0.001834            0.998627\n",
       "call_month                0.001834    1.000000            0.003108\n",
       "duration_per_month        0.998627    0.003108            1.000000"
      ]
     },
     "execution_count": 73,
     "metadata": {},
     "output_type": "execute_result"
    }
   ],
   "source": [
    "df_calls_with_user_plans_corr.corr()\n",
    "\n",
    "# .... shrug"
   ]
  },
  {
   "cell_type": "code",
   "execution_count": 74,
   "metadata": {},
   "outputs": [
    {
     "data": {
      "image/png": "[encoded data removed]",
      "text/plain": [
       "<Figure size 432x288 with 1 Axes>"
      ]
     },
     "metadata": {
      "needs_background": "light"
     },
     "output_type": "display_data"
    }
   ],
   "source": [
    "# df_calls_with_user_plans_archive .head(-5)\n",
    "\n",
    "# Calculate the total volume of calls per month for each plan type, save it to a new dataframe and plot a bar chart to visualize it\n",
    "df_calls_with_user_plans_total = df_calls_with_user_plans.groupby(['month', 'plan'])[['duration']].sum()\n",
    "df_calls_with_user_plans_total = df_calls_with_user_plans_total.reset_index()\n",
    "df_calls_with_user_plans_total['month_name'] = df_calls_with_user_plans_total['month'].apply(lambda x: calendar.month_abbr[x])\n",
    "# Plot a bar chart to visualize it\n",
    "sns.barplot(x='month_name', y='duration', hue='plan', data=df_calls_with_user_plans_total)\n",
    "plt.title('Total volume of calls per month for each plan type')\n",
    "# Display x axis month names in calindar order\n",
    "plt.xticks(np.arange(1, 13, 1), calendar.month_abbr[1:13])\n",
    "# align the x axis labels to the center of the bar\n",
    "plt.xticks(rotation=0, ha='center')\n",
    "plt.xlabel('Month')\n",
    "plt.ylabel('Number of minutes')\n",
    "plt.show()\n",
    "\n",
    "\n"
   ]
  },
  {
   "cell_type": "code",
   "execution_count": 75,
   "metadata": {},
   "outputs": [
    {
     "data": {
      "image/png": "[encoded data removed]",
      "text/plain": [
       "<Figure size 432x288 with 1 Axes>"
      ]
     },
     "metadata": {
      "needs_background": "light"
     },
     "output_type": "display_data"
    }
   ],
   "source": [
    "# Calculate the monthly call volume per plan\n",
    "df_calls_with_user_plans['duration_per_month'] = df_calls_with_user_plans.groupby(['user_id', 'month', 'plan'])['duration'].transform('sum')\n",
    "df_calls_with_user_plans = df_calls_with_user_plans.drop_duplicates(subset=['user_id', 'month', 'plan'])\n",
    "df_calls_with_user_plans['plan'] = df_calls_with_user_plans['plan'].apply(lambda x: 1 if x == 'surf' else 0)\n",
    "df_calls_with_user_plans['month_name'] = df_calls_with_user_plans['month'].apply(lambda x: calendar.month_abbr[x])\n",
    "df_calls_with_user_plans['month_name'] = df_calls_with_user_plans['month_name'].apply(lambda x: 1 if x == 'Jan' else 2 if x == 'Feb' else 3 if x == 'Mar' else 4 if x == 'Apr' else 5 if x == 'May' else 6 if x == 'Jun' else 7 if x == 'Jul' else 8 if x == 'Aug' else 9 if x == 'Sep' else 10 if x == 'Oct' else 11 if x == 'Nov' else 12)\n",
    "\n",
    "#graph the monthly call volume per plan\n",
    "sns.barplot(x=df_calls_with_user_plans['month_name'], y=df_calls_with_user_plans['duration_per_month'], hue=df_calls_with_user_plans['plan'])\n",
    "plt.title('Monthly call volume per plan')\n",
    "# Display x axis month names in calindar order\n",
    "plt.xticks(np.arange(1, 13, 1), calendar.month_abbr[1:13])\n",
    "# align the x axis labels to the center of the bar\n",
    "plt.xticks(rotation=0, ha='center')\n",
    "plt.xlabel('Month')\n",
    "plt.ylabel('Number of minutes')\n",
    "plt.show()\n"
   ]
  },
  {
   "cell_type": "markdown",
   "metadata": {},
   "source": [
    "Surf plans have a longer mean durration in December\n",
    "Ultimate plans have a longer mean plan in August\n",
    " "
   ]
  },
  {
   "cell_type": "markdown",
   "metadata": {},
   "source": [
    "### Messages"
   ]
  },
  {
   "cell_type": "code",
   "execution_count": 76,
   "metadata": {},
   "outputs": [],
   "source": [
    "# Compare the number of messages users of each plan tend to send each month\n",
    "\n",
    "# create a new dataframe called 'df_messages_with_user_plans' and merge 'df_messages' and 'df_users' on 'user_id'\n",
    "df_messages_with_user_plans = df_messages.merge(df_users, on='user_id')\n",
    "\n",
    "# Create a new column called 'message_count_per_month' and group by 'user_id', 'month' and 'plan' and calculate the sum of the 'duration' column\n",
    "df_messages_with_user_plans['message_count_per_month'] = df_messages_with_user_plans.groupby(['user_id', 'month', 'plan'])['message_date'].transform('count')"
   ]
  },
  {
   "cell_type": "code",
   "execution_count": 77,
   "metadata": {},
   "outputs": [],
   "source": [
    "# Drop the duplicates\n",
    "df_messages_with_user_plans = df_messages_with_user_plans.drop_duplicates(subset=['user_id', 'month', 'plan'])"
   ]
  },
  {
   "cell_type": "code",
   "execution_count": 78,
   "metadata": {},
   "outputs": [],
   "source": [
    "# Create a Pivot Table, sum the number of messages each plan type sent each month\n",
    "df_messages_with_user_plans_pivot = df_messages_with_user_plans.pivot_table(index=['plan', 'month',], values='message_count_per_month', aggfunc='sum')\n",
    "\n",
    "# move all surf plan data to the bottom of the table\n",
    "df_messages_with_user_plans_pivot = df_messages_with_user_plans_pivot.reindex(['ultimate', 'surf'], level=0)"
   ]
  },
  {
   "cell_type": "code",
   "execution_count": 79,
   "metadata": {},
   "outputs": [
    {
     "data": {
      "image/png": "[encoded data removed]",
      "text/plain": [
       "<Figure size 720x432 with 1 Axes>"
      ]
     },
     "metadata": {
      "needs_background": "light"
     },
     "output_type": "display_data"
    }
   ],
   "source": [
    "# Createa a side by side graph of df_messages_with_user_plans_pivot\n",
    "# Use a different color for each plan typle -  surf and ultimate\n",
    "df_messages_with_user_plans_pivot.unstack('plan').plot(kind='bar', color=['orange', 'blue'], grid=True, figsize=(10, 6))\n",
    "# Display x axis month names in calindar order\n",
    "plt.xticks(np.arange(1, 13, 1), calendar.month_abbr[1:13])\n",
    "# align the x axis labels to the center of the bar and rotate 45 degrees\n",
    "plt.xticks(rotation=45, ha='center')\n",
    "plt.title('Number of messages sent by each plan type per month')\n",
    "plt.ylabel('Number of messages')\n",
    "plt.xlabel('Month')\n",
    "plt.show()"
   ]
  },
  {
   "cell_type": "code",
   "execution_count": 80,
   "metadata": {},
   "outputs": [
    {
     "name": "stdout",
     "output_type": "stream",
     "text": [
      "Mean:  42.110188261351055\n",
      "Variance:  1097.1285720421004\n",
      "Standard deviation:  33.122931211505126\n"
     ]
    }
   ],
   "source": [
    "# Calculate the mean and the variance of the monthly message count by plan\n",
    "mean = df_messages_with_user_plans['message_count_per_month'].mean()\n",
    "variance = df_messages_with_user_plans['message_count_per_month'].var()\n",
    "std = df_messages_with_user_plans['message_count_per_month'].std()\n",
    "print('Mean: ', mean)\n",
    "print('Variance: ', variance)\n",
    "print('Standard deviation: ', std)"
   ]
  },
  {
   "cell_type": "markdown",
   "metadata": {},
   "source": [
    "Why is useage only going up month over month? <br>\n",
    "<br>\n",
    "Surf plan users seem to message a lot more than Ultimate plan users <br>\n",
    "Hypyotheses: perhaps this is because texting is a more cost effecent form of communication for people with limited bandwith on their plans."
   ]
  },
  {
   "cell_type": "markdown",
   "metadata": {},
   "source": [
    "<div class=\"alert alert-warning\"><h1 style=\"color: yellow; margin-bottom:20px\"></h1> <div style=\"border:solid yellow 2px; padding: 20px\">\n",
    "<b>Reviewer's comment v1:</b>\n",
    "    \n",
    "Interesting question. Can you share any hypotheses why we could see this?"
   ]
  },
  {
   "cell_type": "markdown",
   "metadata": {},
   "source": [
    "<div class=\"alert alert-info\"><h1 style=\"color:blue; margin-bottom:20px\"></h1> <div style=\"border:solid blue 2px; padding: 20px\">\n",
    "<b>Students's comment v1:</b>\n",
    "<br>\n",
    "Hypyotheses: perhaps this is because texting is a more cost effecent form of communication for people with limited bandwith on their plans.\n",
    "\n",
    "    "
   ]
  },
  {
   "cell_type": "markdown",
   "metadata": {},
   "source": [
    "### Internet"
   ]
  },
  {
   "cell_type": "code",
   "execution_count": 81,
   "metadata": {},
   "outputs": [
    {
     "data": {
      "image/png": "[encoded data removed]",
      "text/plain": [
       "<Figure size 720x432 with 1 Axes>"
      ]
     },
     "metadata": {
      "needs_background": "light"
     },
     "output_type": "display_data"
    }
   ],
   "source": [
    "# Compare the amount of internet traffic consumed by users per plan\n",
    "\n",
    "# create a new dataframe called 'df_internet_with_user_plans' and merge 'df_internet' and 'df_users' on 'user_id'\n",
    "df_internet_with_user_plans = df_internet.merge(df_users, on='user_id')\n",
    "\n",
    "# Create a new column called 'internet_traffic_per_month' and group by 'user_id', 'month' and 'plan' and calculate the sum of the 'mb_used' column\n",
    "df_internet_with_user_plans['internet_traffic_per_month'] = df_internet_with_user_plans.groupby(['user_id', 'month', 'plan'])['mb_used'].transform('sum')\n",
    "\n",
    "# Round the 'internet_traffic_per_month' column to the nearest gigabyte\n",
    "df_internet_with_user_plans['internet_traffic_per_month'] = df_internet_with_user_plans['internet_traffic_per_month'].apply(lambda x: round(x / 1024, 0))\n",
    "\n",
    "df_internet_with_user_plans['internet_traffic_per_month'].head(15)\n",
    "\n",
    "# Drop the duplicates\n",
    "df_internet_with_user_plans = df_internet_with_user_plans.drop_duplicates(subset=['user_id', 'month', 'plan'])\n",
    "\n",
    "# Create a Pivot Table, sum the amount of internet traffic each plan type consumed each month\n",
    "df_internet_with_user_plans_pivot = df_internet_with_user_plans.pivot_table(index=['plan', 'month',], values='internet_traffic_per_month', aggfunc='sum')\n",
    "\n",
    "# move all surf plan data to the bottom of the table\n",
    "df_internet_with_user_plans_pivot = df_internet_with_user_plans_pivot.reindex(['ultimate', 'surf'], level=0)\n",
    "\n",
    "# Createa a side by side graph of df_internet_with_user_plans_pivot\n",
    "# Use a different color for each plan typle -  surf and ultimate\n",
    "df_internet_with_user_plans_pivot.unstack('plan').plot(kind='bar', color=['orange', 'blue'], grid=True, figsize=(10, 6))\n",
    "# Display x axis month names in calindar order\n",
    "plt.xticks(np.arange(1, 13, 1), calendar.month_abbr[1:13])\n",
    "# align the x axis labels to the center of the bar and rotate 45 degrees\n",
    "plt.xticks(rotation=45, ha='center')\n",
    "plt.title('Amount of internet traffic consumed by each plan type per month')\n",
    "plt.ylabel('Amount of internet traffic in Gigabytes')\n",
    "plt.xlabel('Month')\n",
    "plt.show()\n",
    "\n"
   ]
  },
  {
   "cell_type": "code",
   "execution_count": 82,
   "metadata": {},
   "outputs": [
    {
     "name": "stdout",
     "output_type": "stream",
     "text": [
      "Mean:  16.481335090030743\n",
      "Variance:  59.04677361218204\n",
      "Standard deviation:  7.684189847484381\n"
     ]
    }
   ],
   "source": [
    "# Calculate the mean and the variance of the monthly internet traffic by plan\n",
    "mean = df_internet_with_user_plans['internet_traffic_per_month'].mean()\n",
    "variance = df_internet_with_user_plans['internet_traffic_per_month'].var()\n",
    "std = df_internet_with_user_plans['internet_traffic_per_month'].std()\n",
    "print('Mean: ', mean)\n",
    "print('Variance: ', variance)\n",
    "print('Standard deviation: ', std)"
   ]
  },
  {
   "cell_type": "markdown",
   "metadata": {},
   "source": [
    "Surf users consume dramatically more data"
   ]
  },
  {
   "cell_type": "markdown",
   "metadata": {},
   "source": [
    "## Revenue"
   ]
  },
  {
   "cell_type": "code",
   "execution_count": 83,
   "metadata": {},
   "outputs": [
    {
     "data": {
      "image/png": "[encoded data removed]",
      "text/plain": [
       "<Figure size 720x432 with 1 Axes>"
      ]
     },
     "metadata": {
      "needs_background": "light"
     },
     "output_type": "display_data"
    }
   ],
   "source": [
    "# Compare the amount of revenue per plan\n",
    "\n",
    "# sum the amount of revenue for each plan type using total_revenue\n",
    "df_total_revenue = df_merged.pivot_table(index='plan', values='total_revenue', aggfunc='sum')\n",
    "\n",
    "# graph the total revenue for each plan type\n",
    "# ultimate plan is orange and surf plan is blue -- ????\n",
    "df_total_revenue.plot(kind='bar', color=['orange', 'blue'], grid=True, figsize=(10, 6))\n",
    "# rotate the x axis labels to 0 degrees\n",
    "plt.xticks(rotation=0, ha='center')\n",
    "plt.title('Total revenue for each plan type')\n",
    "plt.ylabel('Total revenue')\n",
    "plt.xlabel('Plan type')\n",
    "plt.show()"
   ]
  },
  {
   "cell_type": "code",
   "execution_count": 84,
   "metadata": {},
   "outputs": [
    {
     "data": {
      "text/html": [
       "<div>\n",
       "<style scoped>\n",
       "    .dataframe tbody tr th:only-of-type {\n",
       "        vertical-align: middle;\n",
       "    }\n",
       "\n",
       "    .dataframe tbody tr th {\n",
       "        vertical-align: top;\n",
       "    }\n",
       "\n",
       "    .dataframe thead th {\n",
       "        text-align: right;\n",
       "    }\n",
       "</style>\n",
       "<table border=\"1\" class=\"dataframe\">\n",
       "  <thead>\n",
       "    <tr style=\"text-align: right;\">\n",
       "      <th></th>\n",
       "      <th>total_revenue</th>\n",
       "    </tr>\n",
       "    <tr>\n",
       "      <th>plan</th>\n",
       "      <th></th>\n",
       "    </tr>\n",
       "  </thead>\n",
       "  <tbody>\n",
       "    <tr>\n",
       "      <th>surf</th>\n",
       "      <td>140.893746</td>\n",
       "    </tr>\n",
       "    <tr>\n",
       "      <th>ultimate</th>\n",
       "      <td>469.130435</td>\n",
       "    </tr>\n",
       "  </tbody>\n",
       "</table>\n",
       "</div>"
      ],
      "text/plain": [
       "          total_revenue\n",
       "plan                   \n",
       "surf         140.893746\n",
       "ultimate     469.130435"
      ]
     },
     "execution_count": 84,
     "metadata": {},
     "output_type": "execute_result"
    }
   ],
   "source": [
    "# calculate the revenue per user for each plan type devided by the number of users\n",
    "df_total_revenue_per_user = df_merged.pivot_table(index='plan', values='total_revenue', aggfunc='mean')\n",
    "\n",
    "df_total_revenue_per_user.head()\n"
   ]
  },
  {
   "cell_type": "code",
   "execution_count": 85,
   "metadata": {},
   "outputs": [
    {
     "data": {
      "text/plain": [
       "<AxesSubplot:ylabel='Frequency'>"
      ]
     },
     "execution_count": 85,
     "metadata": {},
     "output_type": "execute_result"
    },
    {
     "data": {
      "image/png": "[encoded data removed]",
      "text/plain": [
       "<Figure size 1152x360 with 2 Axes>"
      ]
     },
     "metadata": {
      "needs_background": "light"
     },
     "output_type": "display_data"
    }
   ],
   "source": [
    "#display two charts (histogram and a box plot) using a two-column subplot.\n",
    "\n",
    "# Create one row with 2 columns\n",
    "fig, axes = plt.subplots(nrows=1, ncols=2, figsize=(16, 5))\n",
    "#fig, axes = plt.subplots(1, 2, figsize=(16, 5))\n",
    "\n",
    "# Create a histogram for the surf plan\n",
    "df_merged[df_merged['plan'] == 'surf']['total_revenue'].plot(kind='hist', bins=20, ax=axes[0], grid=True, color='blue')\n",
    "#sns.distplot(... ax=axes[0])\n",
    "\n",
    "# Create a histogram for the second plan\n",
    "df_merged[df_merged['plan'] == 'ultimate']['total_revenue'].plot(kind='hist', bins=20, ax=axes[1], grid=True, color='orange')\n",
    "\t\n",
    "\n"
   ]
  },
  {
   "cell_type": "markdown",
   "metadata": {},
   "source": [
    "In contrast with my initial expectations The Ultimate plan generates considerably more revenue while the Surf plan has much higher utilization. <br>\n",
    "Assuming the unit cost are similar for calls, messages, and data between the two plans, the Ultimate plan will produce quite a bit more profit for the company. <br>"
   ]
  },
  {
   "cell_type": "markdown",
   "metadata": {},
   "source": [
    "<div class=\"alert alert-success\"><h1 style=\"color:green; margin-bottom:20px\"></h1> <div style=\"border:solid green 2px; padding: 20px\">\n",
    "<b>Reviewer's comment v1:</b>\n",
    "    \n",
    "- I will write overall thoughts about the data analysis section:\n",
    "- Very nice visualization of the data. Great that you used different graph types to check available data.\n",
    "- Also nice that you managed to add both plans on one graph. \n",
    "- If you have time and willing to practice, you can display two charts (histogram and a box plot) using a two-column subplot.\n",
    "\n",
    "```\n",
    "    # Create one row with 2 columns\n",
    "\t  fig, axes = plt.subplots(1, 2, figsize=(16, 5))\n",
    "\n",
    "\t  # Create a histogram for the surf plan\n",
    "\t  sns.distplot(... ax=axes[0])\n",
    "\t  # Create a histogram for the second plan\n",
    "\t  sns.distplot(... ax=axes[0])\n",
    "\t\n",
    "\t  # Create a boxplot for both plans\n",
    "\t  sns.boxplot(... ax=axes[1])\n",
    "```"
   ]
  },
  {
   "cell_type": "markdown",
   "metadata": {},
   "source": [
    "## Test statistical hypotheses"
   ]
  },
  {
   "cell_type": "markdown",
   "metadata": {},
   "source": [
    "Formulate the null and the alternative hypotheses <br>\n",
    "choose the statistical test, decide on the alpha value <br.>"
   ]
  },
  {
   "cell_type": "code",
   "execution_count": 86,
   "metadata": {},
   "outputs": [
    {
     "name": "stdout",
     "output_type": "stream",
     "text": [
      "Mean Ultimate:  469.1304347826087\n",
      "Mean Surf:  140.89374631268436\n",
      "Standard Deviation Ultimate:  234.7668825248459\n",
      "Standard Deviation Surf:  76.94827906657974\n",
      "Standard Error of the Mean Ultimate:  18.50222231581435\n",
      "Standard Error of the Mean Surf:  4.179256843264266\n",
      "Difference in means:  328.23668846992433\n",
      "Standard Error of the Difference:  18.968353075208974\n",
      "t-statistic:  17.30443793240643\n",
      "degrees of freedom:  498\n",
      "p-value test 1:  0.0\n",
      "p-value test 2:  7.098767565002516e-53\n",
      "p-value test 3:  7.1788113343781965e-40\n"
     ]
    }
   ],
   "source": [
    "# The Null Hypothesis is that the average revenue from users of Ultimate and Surf calling plans are the same.\n",
    "\n",
    "# The alternative hypothesis is that the average revenue from users of Ultimate and Surf calling plans are different.\n",
    "\n",
    "# Test the hypotheses using the 2 sample t-test\n",
    "\n",
    "#decide on the alpha value\n",
    "alpha = 0.05\n",
    "\n",
    "# create a new dataframe called 'df_merged_ultimate' and filter the 'df_merged' dataframe for 'plan' == 'ultimate'\n",
    "df_merged_ultimate = df_merged.query('plan == \"ultimate\"')\n",
    "df_merged_surf = df_merged.query('plan == \"surf\"')\n",
    "\n",
    "# calculate the mean and standard deviation of the 'total_revenue' column for 'df_merged_ultimate'\n",
    "mean_ultimate = df_merged_ultimate['total_revenue'].mean()\n",
    "std_ultimate = df_merged_ultimate['total_revenue'].std()\n",
    "\n",
    "# calculate the mean and standard deviation of the 'total_revenue' column for 'df_merged_surf'\n",
    "mean_surf = df_merged_surf['total_revenue'].mean()\n",
    "std_surf = df_merged_surf['total_revenue'].std()\n",
    "\n",
    "# calculate the standard error of the mean for 'df_merged_ultimate'\n",
    "sem_ultimate = std_ultimate / np.sqrt(len(df_merged_ultimate['total_revenue']))\n",
    "\n",
    "# calculate the standard error of the mean for 'df_merged_surf'\n",
    "sem_surf = std_surf / np.sqrt(len(df_merged_surf['total_revenue']))\n",
    "\n",
    "# calculate the difference between the means of 'df_merged_ultimate' and 'df_merged_surf'\n",
    "mean_difference = mean_ultimate - mean_surf\n",
    "\n",
    "# calculate the standard error of the difference between the means of 'df_merged_ultimate' and 'df_merged_surf'\n",
    "sem_difference = np.sqrt(sem_ultimate**2 + sem_surf**2)\n",
    "\n",
    "# calculate the t-statistic\n",
    "t_statistic = mean_difference / sem_difference\n",
    "\n",
    "# calculate the degrees of freedom\n",
    "degrees_of_freedom = len(df_merged_ultimate['total_revenue']) + len(df_merged_surf['total_revenue']) - 2\n",
    "\n",
    "\n",
    "# calculate the p-value\n",
    "p_value_test_1 = 2 * (1 - stats.t.cdf(t_statistic, df=degrees_of_freedom))\n",
    "\n",
    "# calculate the p-value\n",
    "p_value_test_2 = stats.t.sf(np.abs(t_statistic), df=degrees_of_freedom) * 2\n",
    "\n",
    "# calculate the p-value\n",
    "p_value_test_3 = stats.ttest_ind(df_merged_ultimate['total_revenue'], df_merged_surf['total_revenue'], equal_var=False)[1]\n",
    "\n",
    "\n",
    "# print the results\n",
    "print('Mean Ultimate: ', mean_ultimate)\n",
    "print('Mean Surf: ', mean_surf)\n",
    "print('Standard Deviation Ultimate: ', std_ultimate)\n",
    "print('Standard Deviation Surf: ', std_surf)\n",
    "print('Standard Error of the Mean Ultimate: ', sem_ultimate)\n",
    "print('Standard Error of the Mean Surf: ', sem_surf)\n",
    "print('Difference in means: ', mean_difference)\n",
    "print('Standard Error of the Difference: ', sem_difference)\n",
    "print('t-statistic: ', t_statistic)\n",
    "print('degrees of freedom: ', degrees_of_freedom)\n",
    "# print('p-value: ', p_value)\n",
    "print('p-value test 1: ', p_value_test_1)\n",
    "print('p-value test 2: ', p_value_test_2)\n",
    "print('p-value test 3: ', p_value_test_3)\n",
    "\n",
    "\n"
   ]
  },
  {
   "cell_type": "markdown",
   "metadata": {},
   "source": [
    "interim conclusions regarding the test results: <br>\n",
    "Based on the mean Revenue for the Ultimate and Surf Plans, Ultimate plan users bring in $339 more dollars anually. <br>\n",
    "We are confident of the significance of these results because our P Value is very close to zero, which is much lower than the alpha of .05 we initially set for our threshold significance. <br>\n",
    "In practical terms this means that we are HIGHLY confident that our two different plans are bringing in very different amounts of revenue. <br>\n"
   ]
  },
  {
   "cell_type": "markdown",
   "metadata": {},
   "source": [
    "<div class=\"alert alert-danger\"><h1 style=\"color:red; margin-bottom:20px\"></h1> <div style=\"border:solid red 2px; padding: 20px\">\n",
    "<b>Reviewer's comment v1:</b>\n",
    "    \n",
    "Can you please add a short interim conclusions regarding the test results? \n",
    "\n",
    "What does this mean for the business? "
   ]
  },
  {
   "cell_type": "markdown",
   "metadata": {},
   "source": [
    "<div class=\"alert info\"><h1 style=\"color:blue; margin-bottom:20px\"></h1> <div style=\"border:solid blue 2px; padding: 20px\">\n",
    "<b>Student's comment v1:</b>\n",
    "<br>\n",
    "Thx, added interim conclusions above <br>\n",
    "<br>\n",
    "The truth is, I'm not entirely sure. <br>\n",
    "The significance of the mean revenue is obveous, but the significance of the standard deviation , Standard Error, and t-Statistic... less so. <br>\n",
    "If we we're trying to prove that the plans are not the same, that's pretty obveous. Beyond that, the implications to me are less clear... <br>\n",
    "Thanks in advance for any advise you can shaare on this. <br>"
   ]
  },
  {
   "cell_type": "code",
   "execution_count": 87,
   "metadata": {},
   "outputs": [],
   "source": [
    "# Should the P Value be that close to zero?  I am not sure if I am doing something wrong or if the P Value is correct."
   ]
  },
  {
   "cell_type": "markdown",
   "metadata": {},
   "source": [
    "<div class=\"alert alert-warning\"> <h1 style=\"color:yellow; margin-bottom:20px\"></h1> <div style=\"border:solid yellow 2px; padding: 20px\">\n",
    "<b>Reviewer's comment v1:</b>\n",
    "    \n",
    "Very small number in the p-value metric is absolutely normal; however, zero value shows potential issues with the sample (e.g. missing values)."
   ]
  },
  {
   "cell_type": "markdown",
   "metadata": {},
   "source": [
    "<div class=\"alert info\"><h1 style=\"color:blue; margin-bottom:20px\"></h1> <div style=\"border:solid blue 2px; padding: 20px\">\n",
    "<b>Student's comment v1:</b> <br>\n",
    "<br>\n",
    "Thx, noted"
   ]
  },
  {
   "cell_type": "markdown",
   "metadata": {},
   "source": [
    "Test the hypothesis that the average revenue from users in the NY-NJ area is different from that of the users from the other regions."
   ]
  },
  {
   "cell_type": "code",
   "execution_count": 88,
   "metadata": {},
   "outputs": [
    {
     "name": "stdout",
     "output_type": "stream",
     "text": [
      "Mean NY-NJ:  219.3255\n",
      "Mean Other:  251.77842857142858\n",
      "Standard Deviation NY-NJ:  185.98212591332668\n",
      "Standard Deviation Other:  217.25706426311297\n",
      "Standard Error of the Mean NY-NJ:  20.79343380710618\n",
      "Standard Error of the Mean Other:  10.601059243147805\n",
      "Difference in means:  -32.45292857142857\n",
      "Standard Error of the Difference:  23.33986603576027\n",
      "t-statistic:  -1.3904505073724795\n",
      "degrees of freedom:  498\n",
      "p-value test 1:  1.8349868185722695\n",
      "p-value test 2:  0.16501318142773047\n",
      "p-value test 3:  0.1668861472226111\n"
     ]
    }
   ],
   "source": [
    "# The Null Hypothesis is that the average revenue from users in the NY-NJ area is the same as the average revenue from users from the other regions.\n",
    "\n",
    "# The alternative hypothesis is that the average revenue from users in the NY-NJ area is different from the average revenue from users from the other regions.\n",
    "\n",
    "# Test the hypotheses using the 2 sample t-test\n",
    "\n",
    "#decide on the alpha value\n",
    "alpha = 0.05\n",
    "\n",
    "# create a new dataframe called 'df_merged_ny_nj' and filter the 'df_merged' dataframe for 'city' == 'New York-Newark-Jersey City, NY-NJ-PA MSA'\n",
    "df_merged_ny_nj = df_merged.query('city == \"New York-Newark-Jersey City, NY-NJ-PA MSA\"')\n",
    "df_merged_other = df_merged.query('city != \"New York-Newark-Jersey City, NY-NJ-PA MSA\"')\n",
    "\n",
    "# calculate the mean and standard deviation of the 'total_revenue' column for 'df_merged_ny_nj'\n",
    "mean_ny_nj = df_merged_ny_nj['total_revenue'].mean()\n",
    "std_ny_nj = df_merged_ny_nj['total_revenue'].std()\n",
    "\n",
    "# calculate the mean and standard deviation of the 'total_revenue' column for 'df_merged_other'\n",
    "mean_other = df_merged_other['total_revenue'].mean()\n",
    "std_other = df_merged_other['total_revenue'].std()\n",
    "\n",
    "# calculate the standard error of the mean for 'df_merged_ny_nj'\n",
    "sem_ny_nj = std_ny_nj / np.sqrt(len(df_merged_ny_nj['total_revenue']))\n",
    "\n",
    "# calculate the standard error of the mean for 'df_merged_other'\n",
    "sem_other = std_other / np.sqrt(len(df_merged_other['total_revenue']))\n",
    "\n",
    "# calculate the difference between the means of 'df_merged_ny_nj' and 'df_merged_other'\n",
    "mean_difference = mean_ny_nj - mean_other\n",
    "\n",
    "# calculate the standard error of the difference between the means of 'df_merged_ny_nj' and 'df_merged_other'\n",
    "sem_difference = np.sqrt(sem_ny_nj**2 + sem_other**2)\n",
    "\n",
    "# calculate the t-statistic\n",
    "t_statistic = mean_difference / sem_difference\n",
    "\n",
    "# calculate the degrees of freedom\n",
    "degrees_of_freedom = len(df_merged_ny_nj['total_revenue']) + len(df_merged_other['total_revenue']) - 2\n",
    "\n",
    "# calculate the p-value\n",
    "ny_p_value_test_1 = 2 * (1 - stats.t.cdf(t_statistic, df=degrees_of_freedom))\n",
    "\n",
    "# calculate the p-value\n",
    "ny_p_value_test_2 = stats.t.sf(np.abs(t_statistic), df=degrees_of_freedom) * 2\n",
    "\n",
    "# calculate the p-value\n",
    "ny_p_value_test_3 = stats.ttest_ind(df_merged_ny_nj['total_revenue'], df_merged_other['total_revenue'], equal_var=False)[1]\n",
    "\n",
    "# print the results\n",
    "print('Mean NY-NJ: ', mean_ny_nj)\n",
    "print('Mean Other: ', mean_other)\n",
    "print('Standard Deviation NY-NJ: ', std_ny_nj)\n",
    "print('Standard Deviation Other: ', std_other)\n",
    "print('Standard Error of the Mean NY-NJ: ', sem_ny_nj)\n",
    "print('Standard Error of the Mean Other: ', sem_other)\n",
    "print('Difference in means: ', mean_difference)\n",
    "print('Standard Error of the Difference: ', sem_difference)\n",
    "print('t-statistic: ', t_statistic)\n",
    "print('degrees of freedom: ', degrees_of_freedom)\n",
    "# print('p-value: ', p_value)\n",
    "print('p-value test 1: ', ny_p_value_test_1)\n",
    "print('p-value test 2: ', ny_p_value_test_2)\n",
    "print('p-value test 3: ', ny_p_value_test_3)"
   ]
  },
  {
   "cell_type": "markdown",
   "metadata": {},
   "source": [
    "<div class=\"alert alert-success\"> <h1 style=\"color:green; margin-bottom:20px\"></h1> <div style=\"border:solid green 2px; padding: 20px\">\n",
    "<b>Reviewer's comment v1:</b>\n",
    "    \n",
    "- Overall great job! Hypotheses have been formulated and tested correctly. \n",
    "- Your conclusions based on the results are also correct. \n",
    "- You can also additionally compare the variances using Levene's statistic test (https://docs.scipy.org/doc/scipy/reference/generated/scipy.stats.levene.html) or Barlett's test (https: //docs.scipy .org / doc / scipy / reference / generated / scipy.stats.bartlett.html # scipy.stats.bartlett)"
   ]
  },
  {
   "cell_type": "markdown",
   "metadata": {},
   "source": [
    "<div class=\"alert info\"><h1 style=\"color:blue; margin-bottom:20px\"></h1> <div style=\"border:solid blue 2px; padding: 20px\">\n",
    "<b>Student's comment v1:</b> <br>\n",
    "<br>\n",
    "In the above NY-NJ test set, the formula for p-value test one would fail to be significant, but test 2 and 3 would be significant. <br>\n",
    "Which is the best test for our data set? <br>\n",
    "In our case, is Lavene's test, Barlett's test, or a differnet one preferable. <br>\n",
    "<br>\n",
    "Clearly I'm working with concepts that are just a pinch beyond my understanding, thanks in advance."
   ]
  },
  {
   "cell_type": "markdown",
   "metadata": {},
   "source": [
    "<div class=\"alert alert-success\" role=\"alert\">\n",
    "<b>Reviewer's comment v2:</b>\n",
    "    \n",
    "So our goal is to check whether there is a significant difference between samples of two groups. To achieve that we can use Student's t-test (https://docs.scipy.org/doc/scipy/reference/generated/scipy.stats.ttest_ind.html). Your conclusions for the first questions are correct (p_value from the stats.ttest_ind < 0.05 alpha threshold). For the second question this value > 0.05, so we can't reject our null hypothesis. \n",
    "    \n",
    "Levene's or Barlett's tests could be only used to assess the equality of variances. And equality of variances is a parameter in the Student's t-test.\n",
    "     \n",
    "You can read a nice article about hypothesis testing here: https://medium.com/analytics-vidhya/a-beginners-guide-to-hypothesis-testing-f34d6332c1cc"
   ]
  },
  {
   "cell_type": "markdown",
   "metadata": {},
   "source": [
    "<div style=\"border:solid blue 2px; padding: 20px\">\n",
    "\n",
    "## General conclusion\n",
    "\n",
    "Our analysis of the data showed that the Ultimate plan is more profitable than the Surf plan, and that the company should focus on the Ultimate plan in the future. <br>\n",
    "<br>\n",
    "\n",
    "\n",
    "## Assumptions\n",
    "There are Lots of Messages, calls, and internet usage at the end of the year in December... <br>\n",
    "and very few in Jan, <br> \n",
    "This suggest strong month over month growth for the company.<br>\n",
    "\n",
    "## Process and analysis\n",
    "We summarized the value created for each user based on the fees that their plan generated, and any overage fees that they might of earned for going beyond their plans alloted allocation of calls, messages, and internet data. <br>\n",
    "<br>\n",
    "We then confirmed via statistical alanysis that the Ultimate plan is dramatically more profitable. <br>\n",
    "And Finally as a unit test, we confirmed that a subset of the data - the users located in NY and NJ - also had similar statisticall significant findings. <br>\n"
   ]
  },
  {
   "cell_type": "markdown",
   "metadata": {},
   "source": [
    "How will my project be evaluated? <br>\n",
    "We’ve put together some project assessment criteria. Read over them carefully before you get to work.\n",
    "Here’s what project reviewers will look at when assessing your project: <br>\n",
    "* How you explain the problems identified in the data <br>\n",
    "* How you prepare the data for analysis <br>\n",
    "* What graphs you plot for distributions <br>\n",
    "* How you interpret the resulting graphs <br>\n",
    "* How you calculate the standard deviation and variance <br>\n",
    "* Whether you formulate the alternative and null hypotheses <br>\n",
    "* What methods you use to test hypotheses <br>\n",
    "* Whether you interpret the results of your hypothesis tests <br>\n",
    "* Whether you follow the project structure and keep the code tidy <br>\n",
    "* The conclusions you come to <br>\n",
    "* Whether you leave comments at each step <br> "
   ]
  },
  {
   "cell_type": "markdown",
   "metadata": {},
   "source": [
    "<div class=\"alert alert-warning\"><h1 style=\"color:yellow; margin-bottom:20px\"></h1> <div style=\"border:solid yellow 2px; padding: 20px\">\n",
    "<b>Reviewer's comment v1:</b>\n",
    "<b>Reviewer's comment v1:</b>\n",
    "    \n",
    "- Overall you conducted great research with correct interim findings, clean code and nice visualisation.\n",
    "- Nevertheless, general conclusions represent the overall work progress that you achieved. On a real project, this is probably the only thing the business stakeholders will read. Therefore, it is crucial to indicate in a structured way all conclusions that you made on each step in the project. It is also important to provide explanations and interpretations that will be interesting for business based on your analysis (a detailed description of the average user per each plan, which client group brings more additional revenue, which group brings more revenue in the total revenue)."
   ]
  },
  {
   "cell_type": "markdown",
   "metadata": {},
   "source": [
    "<div style=\"border:solid blue 2px; padding: 20px\"><br>\n",
    "<br>\n",
    "Added to the general conclusion section <br>\n"
   ]
  },
  {
   "cell_type": "markdown",
   "metadata": {},
   "source": [
    "<div class=\"alert alert-success\" role=\"alert\">\n",
    "<b>Reviewer's comment v2:</b>\n",
    "    \n",
    "Thank you for adding corrections and extending overall conclusions. "
   ]
  }
 ],
 "metadata": {
  "ExecuteTimeLog": [
   {
    "duration": 828,
    "start_time": "2021-11-16T09:21:11.304Z"
   },
   {
    "duration": 893,
    "start_time": "2021-11-16T09:21:17.728Z"
   },
   {
    "duration": 1150,
    "start_time": "2021-11-16T09:21:29.568Z"
   },
   {
    "duration": 3,
    "start_time": "2021-11-16T09:24:14.495Z"
   },
   {
    "duration": 120,
    "start_time": "2021-11-16T09:24:46.630Z"
   },
   {
    "duration": 3,
    "start_time": "2021-11-16T09:28:27.882Z"
   },
   {
    "duration": 4,
    "start_time": "2021-11-16T09:29:54.281Z"
   },
   {
    "duration": 3,
    "start_time": "2021-11-16T09:30:45.936Z"
   },
   {
    "duration": 4,
    "start_time": "2021-11-16T09:31:06.300Z"
   },
   {
    "duration": 113,
    "start_time": "2021-11-16T09:31:37.208Z"
   },
   {
    "duration": 143,
    "start_time": "2021-11-16T09:31:48.656Z"
   },
   {
    "duration": 98,
    "start_time": "2021-11-16T09:31:55.678Z"
   },
   {
    "duration": 3,
    "start_time": "2021-11-16T09:32:08.535Z"
   },
   {
    "duration": 111,
    "start_time": "2021-11-16T09:32:10.120Z"
   },
   {
    "duration": 3,
    "start_time": "2021-11-16T09:32:15.732Z"
   },
   {
    "duration": 4,
    "start_time": "2021-11-16T09:32:29.423Z"
   },
   {
    "duration": 3,
    "start_time": "2021-11-16T10:03:03.074Z"
   },
   {
    "duration": 3,
    "start_time": "2021-11-16T10:10:01.288Z"
   },
   {
    "duration": 3,
    "start_time": "2021-11-16T10:10:46.923Z"
   },
   {
    "duration": 121,
    "start_time": "2021-11-16T10:37:46.494Z"
   },
   {
    "duration": 125,
    "start_time": "2021-11-16T10:38:20.632Z"
   },
   {
    "duration": 112,
    "start_time": "2021-11-16T10:46:53.001Z"
   },
   {
    "duration": 110,
    "start_time": "2021-11-16T10:48:25.775Z"
   },
   {
    "duration": 3,
    "start_time": "2021-11-16T10:50:18.720Z"
   },
   {
    "duration": 4,
    "start_time": "2021-11-16T10:50:37.649Z"
   },
   {
    "duration": 2,
    "start_time": "2021-11-16T10:50:51.884Z"
   },
   {
    "duration": 3,
    "start_time": "2021-11-16T10:51:56.237Z"
   },
   {
    "duration": 101,
    "start_time": "2021-11-16T10:53:13.791Z"
   },
   {
    "duration": 3,
    "start_time": "2021-11-16T10:55:59.186Z"
   },
   {
    "duration": 3,
    "start_time": "2021-11-16T10:56:10.751Z"
   },
   {
    "duration": 3,
    "start_time": "2021-11-16T10:56:49.038Z"
   },
   {
    "duration": 3,
    "start_time": "2021-11-16T10:56:49.174Z"
   },
   {
    "duration": 4,
    "start_time": "2021-11-16T10:56:49.414Z"
   },
   {
    "duration": 3,
    "start_time": "2021-11-16T10:56:49.680Z"
   },
   {
    "duration": 3,
    "start_time": "2021-11-16T10:56:50.370Z"
   },
   {
    "duration": 114,
    "start_time": "2021-11-16T10:59:34.518Z"
   },
   {
    "duration": 3,
    "start_time": "2021-11-16T11:01:41.201Z"
   },
   {
    "duration": 116,
    "start_time": "2021-11-16T11:01:48.754Z"
   },
   {
    "duration": 3,
    "start_time": "2021-11-16T11:02:16.685Z"
   },
   {
    "duration": 3,
    "start_time": "2021-11-16T11:02:19.479Z"
   },
   {
    "duration": 3,
    "start_time": "2021-11-16T11:02:47.067Z"
   },
   {
    "duration": 3,
    "start_time": "2021-11-16T11:02:49.353Z"
   },
   {
    "duration": 3,
    "start_time": "2021-11-16T11:03:07.835Z"
   },
   {
    "duration": 3,
    "start_time": "2021-11-16T11:03:07.953Z"
   },
   {
    "duration": 112,
    "start_time": "2021-11-16T11:07:52.072Z"
   },
   {
    "duration": 187,
    "start_time": "2021-11-16T11:09:23.468Z"
   },
   {
    "duration": 4,
    "start_time": "2021-11-16T11:10:01.455Z"
   },
   {
    "duration": 3,
    "start_time": "2021-11-16T11:10:05.069Z"
   },
   {
    "duration": 4,
    "start_time": "2021-11-16T11:10:13.376Z"
   },
   {
    "duration": 3,
    "start_time": "2021-11-16T11:10:14.434Z"
   },
   {
    "duration": 3,
    "start_time": "2021-11-16T11:10:22.853Z"
   },
   {
    "duration": 4,
    "start_time": "2021-11-16T11:27:29.279Z"
   },
   {
    "duration": 4,
    "start_time": "2021-11-16T11:29:08.919Z"
   },
   {
    "duration": 118,
    "start_time": "2021-11-16T11:29:46.703Z"
   },
   {
    "duration": 437,
    "start_time": "2021-11-16T11:36:02.181Z"
   },
   {
    "duration": 157,
    "start_time": "2021-11-16T11:36:14.388Z"
   },
   {
    "duration": 207,
    "start_time": "2021-11-16T11:47:15.898Z"
   },
   {
    "duration": 3,
    "start_time": "2021-11-16T11:53:52.092Z"
   },
   {
    "duration": 3,
    "start_time": "2021-11-16T11:53:52.236Z"
   },
   {
    "duration": 3,
    "start_time": "2021-11-16T11:59:12.005Z"
   },
   {
    "duration": 112,
    "start_time": "2021-11-16T12:00:33.446Z"
   },
   {
    "duration": 3,
    "start_time": "2021-11-16T12:02:14.453Z"
   },
   {
    "duration": 3,
    "start_time": "2021-11-16T12:02:39.512Z"
   },
   {
    "duration": 106,
    "start_time": "2021-11-16T12:03:03.460Z"
   },
   {
    "duration": 3,
    "start_time": "2021-11-17T20:37:21.139Z"
   },
   {
    "duration": 3,
    "start_time": "2021-11-17T20:37:22.229Z"
   },
   {
    "duration": 3,
    "start_time": "2021-11-17T20:38:38.806Z"
   },
   {
    "duration": 3,
    "start_time": "2021-11-17T20:38:41.958Z"
   },
   {
    "duration": 3,
    "start_time": "2021-11-17T20:43:46.551Z"
   },
   {
    "duration": 4,
    "start_time": "2021-11-17T20:58:21.835Z"
   },
   {
    "duration": 3,
    "start_time": "2021-11-17T20:59:21.872Z"
   },
   {
    "duration": 4,
    "start_time": "2021-11-17T20:59:45.352Z"
   },
   {
    "duration": 4,
    "start_time": "2021-11-17T20:59:49.646Z"
   },
   {
    "duration": 159,
    "start_time": "2021-11-17T21:02:26.949Z"
   },
   {
    "duration": 3,
    "start_time": "2021-11-17T21:03:53.461Z"
   },
   {
    "duration": 3,
    "start_time": "2021-11-17T21:03:53.694Z"
   },
   {
    "duration": 3,
    "start_time": "2021-11-17T21:05:28.145Z"
   },
   {
    "duration": 116,
    "start_time": "2021-11-17T21:05:57.787Z"
   },
   {
    "duration": 3,
    "start_time": "2021-11-17T21:06:37.993Z"
   },
   {
    "duration": 3,
    "start_time": "2021-11-17T21:06:38.261Z"
   },
   {
    "duration": 3,
    "start_time": "2021-11-17T21:11:54.358Z"
   },
   {
    "duration": 3,
    "start_time": "2021-11-17T21:12:43.846Z"
   },
   {
    "duration": 4,
    "start_time": "2021-11-17T21:13:08.773Z"
   },
   {
    "duration": 3,
    "start_time": "2021-11-17T21:14:44.441Z"
   },
   {
    "duration": 3,
    "start_time": "2021-11-17T21:15:42.059Z"
   },
   {
    "duration": 4,
    "start_time": "2021-11-17T21:15:51.995Z"
   },
   {
    "duration": 3,
    "start_time": "2021-11-17T21:15:53.923Z"
   },
   {
    "duration": 3,
    "start_time": "2021-11-17T21:15:55.282Z"
   },
   {
    "duration": 3,
    "start_time": "2021-11-17T21:16:28.492Z"
   },
   {
    "duration": 3,
    "start_time": "2021-11-17T21:16:32.603Z"
   },
   {
    "duration": 3,
    "start_time": "2021-11-17T21:17:06.941Z"
   },
   {
    "duration": 98,
    "start_time": "2021-11-17T21:18:05.733Z"
   },
   {
    "duration": 4,
    "start_time": "2021-11-17T21:21:35.255Z"
   },
   {
    "duration": 3,
    "start_time": "2021-11-17T21:21:37.804Z"
   },
   {
    "duration": 4,
    "start_time": "2021-11-17T21:23:06.071Z"
   },
   {
    "duration": 3,
    "start_time": "2021-11-17T21:23:24.799Z"
   },
   {
    "duration": 3,
    "start_time": "2021-11-17T21:23:32.591Z"
   },
   {
    "duration": 98,
    "start_time": "2021-11-17T21:28:31.559Z"
   },
   {
    "duration": 3,
    "start_time": "2021-11-17T21:28:45.448Z"
   },
   {
    "duration": 3,
    "start_time": "2021-11-17T21:29:17.303Z"
   },
   {
    "duration": 3,
    "start_time": "2021-11-17T21:29:29.617Z"
   },
   {
    "duration": 3,
    "start_time": "2021-11-17T21:29:32.681Z"
   },
   {
    "duration": 3,
    "start_time": "2021-11-17T21:36:11.474Z"
   },
   {
    "duration": 3,
    "start_time": "2021-11-17T21:36:14.791Z"
   },
   {
    "duration": 3,
    "start_time": "2021-11-17T21:36:53.943Z"
   },
   {
    "duration": 3,
    "start_time": "2021-11-17T21:36:56.165Z"
   },
   {
    "duration": 4,
    "start_time": "2021-11-17T21:37:16.590Z"
   },
   {
    "duration": 3,
    "start_time": "2021-11-17T21:37:22.702Z"
   },
   {
    "duration": 4,
    "start_time": "2021-11-17T21:38:03.479Z"
   },
   {
    "duration": 3,
    "start_time": "2021-11-17T21:38:08.601Z"
   },
   {
    "duration": 3,
    "start_time": "2021-11-17T21:38:12.928Z"
   },
   {
    "duration": 3,
    "start_time": "2021-11-17T21:38:48.896Z"
   },
   {
    "duration": 2,
    "start_time": "2021-11-17T21:38:49.171Z"
   },
   {
    "duration": 4,
    "start_time": "2021-11-17T21:39:57.889Z"
   },
   {
    "duration": 3,
    "start_time": "2021-11-17T21:39:58.057Z"
   },
   {
    "duration": 3,
    "start_time": "2021-11-17T21:41:20.108Z"
   },
   {
    "duration": 3,
    "start_time": "2021-11-17T21:41:20.629Z"
   },
   {
    "duration": 3,
    "start_time": "2021-11-17T21:42:49.136Z"
   },
   {
    "duration": 3,
    "start_time": "2021-11-17T21:43:15.137Z"
   },
   {
    "duration": 4,
    "start_time": "2021-11-17T21:43:16.766Z"
   },
   {
    "duration": 4,
    "start_time": "2021-11-17T21:43:31.711Z"
   },
   {
    "duration": 3,
    "start_time": "2021-11-17T21:43:36.312Z"
   },
   {
    "duration": 4,
    "start_time": "2021-11-17T21:45:08.825Z"
   },
   {
    "duration": 4,
    "start_time": "2021-11-17T21:45:10.119Z"
   },
   {
    "duration": 4,
    "start_time": "2021-11-17T21:45:13.748Z"
   },
   {
    "duration": 3,
    "start_time": "2021-11-17T21:45:22.219Z"
   },
   {
    "duration": 3,
    "start_time": "2021-11-17T21:45:33.412Z"
   },
   {
    "duration": 2,
    "start_time": "2021-11-17T21:46:01.885Z"
   },
   {
    "duration": 3,
    "start_time": "2021-11-17T21:46:03.628Z"
   },
   {
    "duration": 107,
    "start_time": "2021-11-17T21:47:32.512Z"
   },
   {
    "duration": 103,
    "start_time": "2021-11-17T21:50:36.243Z"
   },
   {
    "duration": 3,
    "start_time": "2021-11-18T06:28:31.440Z"
   },
   {
    "duration": 3,
    "start_time": "2021-11-18T06:29:00.168Z"
   },
   {
    "duration": 3,
    "start_time": "2021-11-18T06:31:27.008Z"
   },
   {
    "duration": 2,
    "start_time": "2021-11-18T06:35:34.288Z"
   },
   {
    "duration": 2,
    "start_time": "2021-11-18T06:38:04.527Z"
   }
  ],
  "kernelspec": {
   "display_name": "Python 3 (ipykernel)",
   "language": "python",
   "name": "python3"
  },
  "language_info": {
   "codemirror_mode": {
    "name": "ipython",
    "version": 3
   },
   "file_extension": ".py",
   "mimetype": "text/x-python",
   "name": "python",
   "nbconvert_exporter": "python",
   "pygments_lexer": "ipython3",
   "version": "3.8.8 (default, Apr 13 2021, 12:59:45) \n[Clang 10.0.0 ]"
  },
  "toc": {
   "base_numbering": 1,
   "nav_menu": {},
   "number_sections": true,
   "sideBar": true,
   "skip_h1_title": false,
   "title_cell": "Table of Contents",
   "title_sidebar": "Contents",
   "toc_cell": false,
   "toc_position": {},
   "toc_section_display": true,
   "toc_window_display": false
  },
  "vscode": {
   "interpreter": {
    "hash": "ee2acf17696e022703a304c9cc2028b187948ca514c1a7cfe3ada4aba7a20c97"
   }
  }
 },
 "nbformat": 4,
 "nbformat_minor": 2
}
